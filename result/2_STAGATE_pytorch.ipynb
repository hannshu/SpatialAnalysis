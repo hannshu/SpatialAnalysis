{
 "cells": [
  {
   "cell_type": "code",
   "execution_count": 1,
   "metadata": {},
   "outputs": [],
   "source": [
    "from dataset import *\n",
    "from tools import evaluate\n",
    "import STAGATE_pyG as STAGATE\n",
    "\n",
    "from sklearn.metrics import adjusted_rand_score\n",
    "\n",
    "result = []"
   ]
  },
  {
   "cell_type": "markdown",
   "metadata": {},
   "source": [
    "# human breast cancer"
   ]
  },
  {
   "cell_type": "code",
   "execution_count": 2,
   "metadata": {},
   "outputs": [
    {
     "name": "stderr",
     "output_type": "stream",
     "text": [
      "/mnt/5280e/twang/.conda/envs/torch+pyg/lib/python3.8/site-packages/anndata/_core/anndata.py:1830: UserWarning: Variable names are not unique. To make them unique, call `.var_names_make_unique`.\n",
      "  utils.warn_names_duplicates(\"var\")\n"
     ]
    },
    {
     "name": "stdout",
     "output_type": "stream",
     "text": [
      ">>> dataset name: human_breast_cancer, size: (3798, 36601), cluster: 20.\n",
      "------Calculating spatial graph...\n",
      "The graph contains 22064 edges, 3798 cells.\n",
      "5.8094 neighbors per cell on average.\n",
      "Size of Input:  (3798, 3000)\n"
     ]
    },
    {
     "name": "stderr",
     "output_type": "stream",
     "text": [
      "100%|██████████| 1000/1000 [00:35<00:00, 28.02it/s]\n",
      "R[write to console]:                    __           __ \n",
      "   ____ ___  _____/ /_  _______/ /_\n",
      "  / __ `__ \\/ ___/ / / / / ___/ __/\n",
      " / / / / / / /__/ / /_/ (__  ) /_  \n",
      "/_/ /_/ /_/\\___/_/\\__,_/____/\\__/   version 5.4.10\n",
      "Type 'citation(\"mclust\")' for citing this R package in publications.\n",
      "\n"
     ]
    },
    {
     "name": "stdout",
     "output_type": "stream",
     "text": [
      "fitting ...\n",
      "  |======================================================================| 100%\n",
      "Adjusted rand index = 46.7438\n"
     ]
    }
   ],
   "source": [
    "adata, n_cluster = get_human_breast_cancer_data()\n",
    "STAGATE.Cal_Spatial_Net(adata, rad_cutoff=350)\n",
    "adata = STAGATE.train_STAGATE(adata)\n",
    "adata = STAGATE.mclust_R(adata, used_obsm='STAGATE', num_cluster=n_cluster)\n",
    "obs_df = adata.obs.dropna()\n",
    "ARI = adjusted_rand_score(obs_df['mclust'], obs_df['cluster'])*100\n",
    "print('Adjusted rand index = %.4f' %ARI)\n",
    "result.append(ARI)"
   ]
  },
  {
   "cell_type": "markdown",
   "metadata": {},
   "source": [
    "# DLPFC"
   ]
  },
  {
   "cell_type": "code",
   "execution_count": 3,
   "metadata": {},
   "outputs": [
    {
     "name": "stderr",
     "output_type": "stream",
     "text": [
      "/mnt/5280e/twang/.conda/envs/torch+pyg/lib/python3.8/site-packages/anndata/_core/anndata.py:1830: UserWarning: Variable names are not unique. To make them unique, call `.var_names_make_unique`.\n",
      "  utils.warn_names_duplicates(\"var\")\n"
     ]
    },
    {
     "name": "stdout",
     "output_type": "stream",
     "text": [
      ">>> dataset name: dlpfc, slice id: 151507, size: (4226, 33538), cluster: 7.\n",
      "------Calculating spatial graph...\n",
      "The graph contains 24770 edges, 4226 cells.\n",
      "5.8613 neighbors per cell on average.\n",
      "Size of Input:  (4226, 3000)\n"
     ]
    },
    {
     "name": "stderr",
     "output_type": "stream",
     "text": [
      "100%|██████████| 1000/1000 [00:38<00:00, 25.97it/s]\n"
     ]
    },
    {
     "name": "stdout",
     "output_type": "stream",
     "text": [
      "fitting ...\n",
      "  |======================================================================| 100%\n",
      "Adjusted rand index = 55.2090\n"
     ]
    },
    {
     "name": "stderr",
     "output_type": "stream",
     "text": [
      "/mnt/5280e/twang/.conda/envs/torch+pyg/lib/python3.8/site-packages/anndata/_core/anndata.py:1830: UserWarning: Variable names are not unique. To make them unique, call `.var_names_make_unique`.\n",
      "  utils.warn_names_duplicates(\"var\")\n"
     ]
    },
    {
     "name": "stdout",
     "output_type": "stream",
     "text": [
      ">>> dataset name: dlpfc, slice id: 151508, size: (4384, 33538), cluster: 7.\n",
      "------Calculating spatial graph...\n",
      "The graph contains 25698 edges, 4384 cells.\n",
      "5.8618 neighbors per cell on average.\n",
      "Size of Input:  (4384, 3000)\n"
     ]
    },
    {
     "name": "stderr",
     "output_type": "stream",
     "text": [
      "100%|██████████| 1000/1000 [00:42<00:00, 23.44it/s]\n"
     ]
    },
    {
     "name": "stdout",
     "output_type": "stream",
     "text": [
      "fitting ...\n",
      "  |======================================================================| 100%\n",
      "Adjusted rand index = 47.8281\n"
     ]
    },
    {
     "name": "stderr",
     "output_type": "stream",
     "text": [
      "/mnt/5280e/twang/.conda/envs/torch+pyg/lib/python3.8/site-packages/anndata/_core/anndata.py:1830: UserWarning: Variable names are not unique. To make them unique, call `.var_names_make_unique`.\n",
      "  utils.warn_names_duplicates(\"var\")\n"
     ]
    },
    {
     "name": "stdout",
     "output_type": "stream",
     "text": [
      ">>> dataset name: dlpfc, slice id: 151509, size: (4789, 33538), cluster: 7.\n",
      "------Calculating spatial graph...\n",
      "The graph contains 28172 edges, 4789 cells.\n",
      "5.8826 neighbors per cell on average.\n",
      "Size of Input:  (4789, 3000)\n"
     ]
    },
    {
     "name": "stderr",
     "output_type": "stream",
     "text": [
      "100%|██████████| 1000/1000 [00:44<00:00, 22.31it/s]\n"
     ]
    },
    {
     "name": "stdout",
     "output_type": "stream",
     "text": [
      "fitting ...\n",
      "  |======================================================================| 100%\n",
      "Adjusted rand index = 47.8717\n"
     ]
    },
    {
     "name": "stderr",
     "output_type": "stream",
     "text": [
      "/mnt/5280e/twang/.conda/envs/torch+pyg/lib/python3.8/site-packages/anndata/_core/anndata.py:1830: UserWarning: Variable names are not unique. To make them unique, call `.var_names_make_unique`.\n",
      "  utils.warn_names_duplicates(\"var\")\n"
     ]
    },
    {
     "name": "stdout",
     "output_type": "stream",
     "text": [
      ">>> dataset name: dlpfc, slice id: 151510, size: (4634, 33538), cluster: 7.\n",
      "------Calculating spatial graph...\n",
      "The graph contains 27198 edges, 4634 cells.\n",
      "5.8692 neighbors per cell on average.\n",
      "Size of Input:  (4634, 3000)\n"
     ]
    },
    {
     "name": "stderr",
     "output_type": "stream",
     "text": [
      "100%|██████████| 1000/1000 [00:41<00:00, 24.29it/s]\n"
     ]
    },
    {
     "name": "stdout",
     "output_type": "stream",
     "text": [
      "fitting ...\n",
      "  |======================================================================| 100%\n",
      "Adjusted rand index = 47.7877\n"
     ]
    },
    {
     "name": "stderr",
     "output_type": "stream",
     "text": [
      "/mnt/5280e/twang/.conda/envs/torch+pyg/lib/python3.8/site-packages/anndata/_core/anndata.py:1830: UserWarning: Variable names are not unique. To make them unique, call `.var_names_make_unique`.\n",
      "  utils.warn_names_duplicates(\"var\")\n"
     ]
    },
    {
     "name": "stdout",
     "output_type": "stream",
     "text": [
      ">>> dataset name: dlpfc, slice id: 151669, size: (3661, 33538), cluster: 5.\n",
      "------Calculating spatial graph...\n",
      "The graph contains 21194 edges, 3661 cells.\n",
      "5.7891 neighbors per cell on average.\n",
      "Size of Input:  (3661, 3000)\n"
     ]
    },
    {
     "name": "stderr",
     "output_type": "stream",
     "text": [
      "100%|██████████| 1000/1000 [00:37<00:00, 26.59it/s]\n"
     ]
    },
    {
     "name": "stdout",
     "output_type": "stream",
     "text": [
      "fitting ...\n",
      "  |======================================================================| 100%\n",
      "Adjusted rand index = 37.4743\n"
     ]
    },
    {
     "name": "stderr",
     "output_type": "stream",
     "text": [
      "/mnt/5280e/twang/.conda/envs/torch+pyg/lib/python3.8/site-packages/anndata/_core/anndata.py:1830: UserWarning: Variable names are not unique. To make them unique, call `.var_names_make_unique`.\n",
      "  utils.warn_names_duplicates(\"var\")\n"
     ]
    },
    {
     "name": "stdout",
     "output_type": "stream",
     "text": [
      ">>> dataset name: dlpfc, slice id: 151670, size: (3498, 33538), cluster: 5.\n",
      "------Calculating spatial graph...\n",
      "The graph contains 20370 edges, 3498 cells.\n",
      "5.8233 neighbors per cell on average.\n",
      "Size of Input:  (3498, 3000)\n"
     ]
    },
    {
     "name": "stderr",
     "output_type": "stream",
     "text": [
      "100%|██████████| 1000/1000 [00:32<00:00, 30.59it/s]\n"
     ]
    },
    {
     "name": "stdout",
     "output_type": "stream",
     "text": [
      "fitting ...\n",
      "  |======================================================================| 100%\n",
      "Adjusted rand index = 24.5567\n"
     ]
    },
    {
     "name": "stderr",
     "output_type": "stream",
     "text": [
      "/mnt/5280e/twang/.conda/envs/torch+pyg/lib/python3.8/site-packages/anndata/_core/anndata.py:1830: UserWarning: Variable names are not unique. To make them unique, call `.var_names_make_unique`.\n",
      "  utils.warn_names_duplicates(\"var\")\n"
     ]
    },
    {
     "name": "stdout",
     "output_type": "stream",
     "text": [
      ">>> dataset name: dlpfc, slice id: 151671, size: (4110, 33538), cluster: 5.\n",
      "------Calculating spatial graph...\n",
      "The graph contains 24052 edges, 4110 cells.\n",
      "5.8521 neighbors per cell on average.\n",
      "Size of Input:  (4110, 3000)\n"
     ]
    },
    {
     "name": "stderr",
     "output_type": "stream",
     "text": [
      "100%|██████████| 1000/1000 [00:35<00:00, 27.80it/s]"
     ]
    },
    {
     "name": "stdout",
     "output_type": "stream",
     "text": [
      "fitting ...\n",
      "  |                                                                      |   0%"
     ]
    },
    {
     "name": "stderr",
     "output_type": "stream",
     "text": [
      "\n"
     ]
    },
    {
     "name": "stdout",
     "output_type": "stream",
     "text": [
      "  |======================================================================| 100%\n",
      "Adjusted rand index = 60.9129\n"
     ]
    },
    {
     "name": "stderr",
     "output_type": "stream",
     "text": [
      "/mnt/5280e/twang/.conda/envs/torch+pyg/lib/python3.8/site-packages/anndata/_core/anndata.py:1830: UserWarning: Variable names are not unique. To make them unique, call `.var_names_make_unique`.\n",
      "  utils.warn_names_duplicates(\"var\")\n"
     ]
    },
    {
     "name": "stdout",
     "output_type": "stream",
     "text": [
      ">>> dataset name: dlpfc, slice id: 151672, size: (4015, 33538), cluster: 5.\n",
      "------Calculating spatial graph...\n",
      "The graph contains 23382 edges, 4015 cells.\n",
      "5.8237 neighbors per cell on average.\n",
      "Size of Input:  (4015, 3000)\n"
     ]
    },
    {
     "name": "stderr",
     "output_type": "stream",
     "text": [
      "100%|██████████| 1000/1000 [00:33<00:00, 30.24it/s]\n"
     ]
    },
    {
     "name": "stdout",
     "output_type": "stream",
     "text": [
      "fitting ...\n",
      "  |======================================================================| 100%\n",
      "Adjusted rand index = 57.0030\n"
     ]
    },
    {
     "name": "stderr",
     "output_type": "stream",
     "text": [
      "/mnt/5280e/twang/.conda/envs/torch+pyg/lib/python3.8/site-packages/anndata/_core/anndata.py:1830: UserWarning: Variable names are not unique. To make them unique, call `.var_names_make_unique`.\n",
      "  utils.warn_names_duplicates(\"var\")\n"
     ]
    },
    {
     "name": "stdout",
     "output_type": "stream",
     "text": [
      ">>> dataset name: dlpfc, slice id: 151673, size: (3639, 33538), cluster: 7.\n",
      "------Calculating spatial graph...\n",
      "The graph contains 21124 edges, 3639 cells.\n",
      "5.8049 neighbors per cell on average.\n",
      "Size of Input:  (3639, 3000)\n"
     ]
    },
    {
     "name": "stderr",
     "output_type": "stream",
     "text": [
      "100%|██████████| 1000/1000 [00:34<00:00, 29.05it/s]\n"
     ]
    },
    {
     "name": "stdout",
     "output_type": "stream",
     "text": [
      "fitting ...\n",
      "  |======================================================================| 100%\n",
      "Adjusted rand index = 58.3672\n"
     ]
    },
    {
     "name": "stderr",
     "output_type": "stream",
     "text": [
      "/mnt/5280e/twang/.conda/envs/torch+pyg/lib/python3.8/site-packages/anndata/_core/anndata.py:1830: UserWarning: Variable names are not unique. To make them unique, call `.var_names_make_unique`.\n",
      "  utils.warn_names_duplicates(\"var\")\n"
     ]
    },
    {
     "name": "stdout",
     "output_type": "stream",
     "text": [
      ">>> dataset name: dlpfc, slice id: 151674, size: (3673, 33538), cluster: 7.\n",
      "------Calculating spatial graph...\n",
      "The graph contains 21258 edges, 3673 cells.\n",
      "5.7876 neighbors per cell on average.\n",
      "Size of Input:  (3673, 3000)\n"
     ]
    },
    {
     "name": "stderr",
     "output_type": "stream",
     "text": [
      "100%|██████████| 1000/1000 [00:36<00:00, 27.63it/s]\n"
     ]
    },
    {
     "name": "stdout",
     "output_type": "stream",
     "text": [
      "fitting ...\n",
      "  |======================================================================| 100%\n",
      "Adjusted rand index = 62.8042\n"
     ]
    },
    {
     "name": "stderr",
     "output_type": "stream",
     "text": [
      "/mnt/5280e/twang/.conda/envs/torch+pyg/lib/python3.8/site-packages/anndata/_core/anndata.py:1830: UserWarning: Variable names are not unique. To make them unique, call `.var_names_make_unique`.\n",
      "  utils.warn_names_duplicates(\"var\")\n"
     ]
    },
    {
     "name": "stdout",
     "output_type": "stream",
     "text": [
      ">>> dataset name: dlpfc, slice id: 151675, size: (3592, 33538), cluster: 7.\n",
      "------Calculating spatial graph...\n",
      "The graph contains 20762 edges, 3592 cells.\n",
      "5.7801 neighbors per cell on average.\n",
      "Size of Input:  (3592, 3000)\n"
     ]
    },
    {
     "name": "stderr",
     "output_type": "stream",
     "text": [
      "100%|██████████| 1000/1000 [00:34<00:00, 28.66it/s]\n"
     ]
    },
    {
     "name": "stdout",
     "output_type": "stream",
     "text": [
      "fitting ...\n",
      "  |======================================================================| 100%\n",
      "Adjusted rand index = 59.9510\n"
     ]
    },
    {
     "name": "stderr",
     "output_type": "stream",
     "text": [
      "/mnt/5280e/twang/.conda/envs/torch+pyg/lib/python3.8/site-packages/anndata/_core/anndata.py:1830: UserWarning: Variable names are not unique. To make them unique, call `.var_names_make_unique`.\n",
      "  utils.warn_names_duplicates(\"var\")\n"
     ]
    },
    {
     "name": "stdout",
     "output_type": "stream",
     "text": [
      ">>> dataset name: dlpfc, slice id: 151676, size: (3460, 33538), cluster: 7.\n",
      "------Calculating spatial graph...\n",
      "The graph contains 20052 edges, 3460 cells.\n",
      "5.7954 neighbors per cell on average.\n",
      "Size of Input:  (3460, 3000)\n"
     ]
    },
    {
     "name": "stderr",
     "output_type": "stream",
     "text": [
      "100%|██████████| 1000/1000 [00:34<00:00, 28.95it/s]\n"
     ]
    },
    {
     "name": "stdout",
     "output_type": "stream",
     "text": [
      "fitting ...\n",
      "  |======================================================================| 100%\n",
      "Adjusted rand index = 59.9974\n"
     ]
    }
   ],
   "source": [
    "for i in range(12):\n",
    "    adata, n_cluster = get_dlpfc_data(i)\n",
    "    STAGATE.Cal_Spatial_Net(adata, rad_cutoff=150)\n",
    "    adata = STAGATE.train_STAGATE(adata)\n",
    "    adata = STAGATE.mclust_R(adata, used_obsm='STAGATE', num_cluster=n_cluster)\n",
    "    obs_df = adata.obs.dropna()\n",
    "    ARI = adjusted_rand_score(obs_df['mclust'], obs_df['cluster'])*100\n",
    "    print('Adjusted rand index = %.4f' %ARI)\n",
    "    result.append(ARI)"
   ]
  },
  {
   "cell_type": "markdown",
   "metadata": {},
   "source": [
    "# 10x Visium H&E"
   ]
  },
  {
   "cell_type": "code",
   "execution_count": 4,
   "metadata": {},
   "outputs": [
    {
     "name": "stderr",
     "output_type": "stream",
     "text": [
      "/mnt/5280e/twang/.conda/envs/torch+pyg/lib/python3.8/site-packages/scanpy/preprocessing/_highly_variable_genes.py:62: UserWarning: `flavor='seurat_v3'` expects raw count data, but non-integers were found.\n",
      "  warnings.warn(\n"
     ]
    },
    {
     "name": "stdout",
     "output_type": "stream",
     "text": [
      ">>> dataset name: visium_hne, size: (2688, 18078), cluster: 15.\n",
      "------Calculating spatial graph...\n",
      "The graph contains 15580 edges, 2688 cells.\n",
      "5.7961 neighbors per cell on average.\n",
      "Size of Input:  (2688, 3000)\n"
     ]
    },
    {
     "name": "stderr",
     "output_type": "stream",
     "text": [
      "100%|██████████| 1000/1000 [00:29<00:00, 33.46it/s]\n"
     ]
    },
    {
     "name": "stdout",
     "output_type": "stream",
     "text": [
      "fitting ...\n",
      "  |======================================================================| 100%\n",
      "Adjusted rand index = 53.4418\n"
     ]
    }
   ],
   "source": [
    "adata, n_cluster = get_visium_hne_data()\n",
    "STAGATE.Cal_Spatial_Net(adata, rad_cutoff=150)\n",
    "adata = STAGATE.train_STAGATE(adata)\n",
    "adata = STAGATE.mclust_R(adata, used_obsm='STAGATE', num_cluster=n_cluster)\n",
    "obs_df = adata.obs.dropna()\n",
    "ARI = adjusted_rand_score(obs_df['mclust'], obs_df['cluster'])*100\n",
    "print('Adjusted rand index = %.4f' %ARI)\n",
    "result.append(ARI)"
   ]
  },
  {
   "cell_type": "markdown",
   "metadata": {},
   "source": [
    "# 10x Visium fluo"
   ]
  },
  {
   "cell_type": "code",
   "execution_count": 5,
   "metadata": {},
   "outputs": [
    {
     "name": "stderr",
     "output_type": "stream",
     "text": [
      "/mnt/5280e/twang/.conda/envs/torch+pyg/lib/python3.8/site-packages/scanpy/preprocessing/_highly_variable_genes.py:62: UserWarning: `flavor='seurat_v3'` expects raw count data, but non-integers were found.\n",
      "  warnings.warn(\n"
     ]
    },
    {
     "name": "stdout",
     "output_type": "stream",
     "text": [
      ">>> dataset name: visium_fluo, size: (2800, 16562), cluster: 15.\n",
      "------Calculating spatial graph...\n",
      "The graph contains 16328 edges, 2800 cells.\n",
      "5.8314 neighbors per cell on average.\n",
      "Size of Input:  (2800, 3000)\n"
     ]
    },
    {
     "name": "stderr",
     "output_type": "stream",
     "text": [
      "100%|██████████| 1000/1000 [00:30<00:00, 32.34it/s]\n"
     ]
    },
    {
     "name": "stdout",
     "output_type": "stream",
     "text": [
      "fitting ...\n",
      "  |======================================================================| 100%\n",
      "Adjusted rand index = 53.8305\n"
     ]
    }
   ],
   "source": [
    "adata, n_cluster = get_visium_fluo_data()\n",
    "STAGATE.Cal_Spatial_Net(adata, rad_cutoff=300)\n",
    "adata = STAGATE.train_STAGATE(adata)\n",
    "adata = STAGATE.mclust_R(adata, used_obsm='STAGATE', num_cluster=n_cluster)\n",
    "obs_df = adata.obs.dropna()\n",
    "ARI = adjusted_rand_score(obs_df['mclust'], obs_df['cluster'])*100\n",
    "print('Adjusted rand index = %.4f' %ARI)\n",
    "result.append(ARI)"
   ]
  },
  {
   "cell_type": "code",
   "execution_count": 6,
   "metadata": {},
   "outputs": [
    {
     "name": "stdout",
     "output_type": "stream",
     "text": [
      "[46.74375183 55.20903489 47.82812943 47.87170539 47.78771607 37.47427214\n",
      " 24.55665914 60.91285028 57.00303477 58.36715924 62.80420067 59.9509719\n",
      " 59.9973721  53.44183139 53.83049794]\n"
     ]
    }
   ],
   "source": [
    "import numpy as np\n",
    "\n",
    "print(np.array(result))"
   ]
  }
 ],
 "metadata": {
  "kernelspec": {
   "display_name": "torch+pyg",
   "language": "python",
   "name": "python3"
  },
  "language_info": {
   "codemirror_mode": {
    "name": "ipython",
    "version": 3
   },
   "file_extension": ".py",
   "mimetype": "text/x-python",
   "name": "python",
   "nbconvert_exporter": "python",
   "pygments_lexer": "ipython3",
   "version": "3.8.13"
  },
  "orig_nbformat": 4,
  "vscode": {
   "interpreter": {
    "hash": "a0f855fec34ed1739858563e3b94d8ba36be9c5a95173b69288904bab1233695"
   }
  }
 },
 "nbformat": 4,
 "nbformat_minor": 2
}
