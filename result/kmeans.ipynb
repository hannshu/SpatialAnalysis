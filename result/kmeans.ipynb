{
 "cells": [
  {
   "cell_type": "code",
   "execution_count": 1,
   "metadata": {},
   "outputs": [],
   "source": [
    "from dataset import *\n",
    "from sklearn.cluster import KMeans\n",
    "from sklearn import metrics\n",
    "from sklearn.preprocessing import LabelEncoder "
   ]
  },
  {
   "cell_type": "markdown",
   "metadata": {},
   "source": [
    "# human breast cancer"
   ]
  },
  {
   "cell_type": "code",
   "execution_count": 2,
   "metadata": {},
   "outputs": [
    {
     "name": "stderr",
     "output_type": "stream",
     "text": [
      "/mnt/5280e/twang/.conda/envs/torch+pyg/lib/python3.8/site-packages/anndata/_core/anndata.py:1830: UserWarning: Variable names are not unique. To make them unique, call `.var_names_make_unique`.\n",
      "  utils.warn_names_duplicates(\"var\")\n"
     ]
    },
    {
     "name": "stdout",
     "output_type": "stream",
     "text": [
      ">>> dataset name: human_breast_cancer, size: (3798, 36601), cluster: 20.\n"
     ]
    },
    {
     "name": "stderr",
     "output_type": "stream",
     "text": [
      "/tmp/ipykernel_366751/3351386068.py:3: ImplicitModificationWarning: Trying to modify attribute `.obs` of view, initializing view as actual.\n",
      "  adata.obs['kmeans'] = KMeans(n_clusters=n_cluster, random_state=2022).fit_predict(adata.X)\n"
     ]
    },
    {
     "name": "stdout",
     "output_type": "stream",
     "text": [
      "KMeans:  46.92472805992364\n"
     ]
    }
   ],
   "source": [
    "adata, n_cluster = get_human_breast_cancer_data()\n",
    "adata = adata[:, adata.var['highly_variable']]\n",
    "adata.obs['kmeans'] = KMeans(n_clusters=n_cluster, random_state=2022).fit_predict(adata.X)\n",
    "\n",
    "obs_df = adata.obs.dropna()\n",
    "label = LabelEncoder().fit_transform(adata.obs['cluster'])\n",
    "print('KMeans: ', metrics.adjusted_rand_score(label, LabelEncoder().fit_transform(obs_df['kmeans'] )) * 100)"
   ]
  },
  {
   "cell_type": "markdown",
   "metadata": {},
   "source": [
    "# DLPFC"
   ]
  },
  {
   "cell_type": "code",
   "execution_count": 3,
   "metadata": {},
   "outputs": [
    {
     "name": "stderr",
     "output_type": "stream",
     "text": [
      "/mnt/5280e/twang/.conda/envs/torch+pyg/lib/python3.8/site-packages/anndata/_core/anndata.py:1830: UserWarning: Variable names are not unique. To make them unique, call `.var_names_make_unique`.\n",
      "  utils.warn_names_duplicates(\"var\")\n"
     ]
    },
    {
     "name": "stdout",
     "output_type": "stream",
     "text": [
      ">>> dataset name: dlpfc, slice id: 151507, size: (4226, 33538), cluster: 7.\n"
     ]
    },
    {
     "name": "stderr",
     "output_type": "stream",
     "text": [
      "/tmp/ipykernel_366751/1390050857.py:4: ImplicitModificationWarning: Trying to modify attribute `.obs` of view, initializing view as actual.\n",
      "  adata.obs['kmeans'] = KMeans(n_clusters=n_cluster, random_state=2022).fit_predict(adata.X)\n"
     ]
    },
    {
     "name": "stdout",
     "output_type": "stream",
     "text": [
      "KMeans:  25.23771359821147\n"
     ]
    },
    {
     "name": "stderr",
     "output_type": "stream",
     "text": [
      "/mnt/5280e/twang/.conda/envs/torch+pyg/lib/python3.8/site-packages/anndata/_core/anndata.py:1830: UserWarning: Variable names are not unique. To make them unique, call `.var_names_make_unique`.\n",
      "  utils.warn_names_duplicates(\"var\")\n"
     ]
    },
    {
     "name": "stdout",
     "output_type": "stream",
     "text": [
      ">>> dataset name: dlpfc, slice id: 151508, size: (4384, 33538), cluster: 7.\n"
     ]
    },
    {
     "name": "stderr",
     "output_type": "stream",
     "text": [
      "/tmp/ipykernel_366751/1390050857.py:4: ImplicitModificationWarning: Trying to modify attribute `.obs` of view, initializing view as actual.\n",
      "  adata.obs['kmeans'] = KMeans(n_clusters=n_cluster, random_state=2022).fit_predict(adata.X)\n"
     ]
    },
    {
     "name": "stdout",
     "output_type": "stream",
     "text": [
      "KMeans:  26.630456186001737\n"
     ]
    },
    {
     "name": "stderr",
     "output_type": "stream",
     "text": [
      "/mnt/5280e/twang/.conda/envs/torch+pyg/lib/python3.8/site-packages/anndata/_core/anndata.py:1830: UserWarning: Variable names are not unique. To make them unique, call `.var_names_make_unique`.\n",
      "  utils.warn_names_duplicates(\"var\")\n"
     ]
    },
    {
     "name": "stdout",
     "output_type": "stream",
     "text": [
      ">>> dataset name: dlpfc, slice id: 151509, size: (4789, 33538), cluster: 7.\n"
     ]
    },
    {
     "name": "stderr",
     "output_type": "stream",
     "text": [
      "/tmp/ipykernel_366751/1390050857.py:4: ImplicitModificationWarning: Trying to modify attribute `.obs` of view, initializing view as actual.\n",
      "  adata.obs['kmeans'] = KMeans(n_clusters=n_cluster, random_state=2022).fit_predict(adata.X)\n"
     ]
    },
    {
     "name": "stdout",
     "output_type": "stream",
     "text": [
      "KMeans:  24.660245410083505\n"
     ]
    },
    {
     "name": "stderr",
     "output_type": "stream",
     "text": [
      "/mnt/5280e/twang/.conda/envs/torch+pyg/lib/python3.8/site-packages/anndata/_core/anndata.py:1830: UserWarning: Variable names are not unique. To make them unique, call `.var_names_make_unique`.\n",
      "  utils.warn_names_duplicates(\"var\")\n"
     ]
    },
    {
     "name": "stdout",
     "output_type": "stream",
     "text": [
      ">>> dataset name: dlpfc, slice id: 151510, size: (4634, 33538), cluster: 7.\n"
     ]
    },
    {
     "name": "stderr",
     "output_type": "stream",
     "text": [
      "/tmp/ipykernel_366751/1390050857.py:4: ImplicitModificationWarning: Trying to modify attribute `.obs` of view, initializing view as actual.\n",
      "  adata.obs['kmeans'] = KMeans(n_clusters=n_cluster, random_state=2022).fit_predict(adata.X)\n"
     ]
    },
    {
     "name": "stdout",
     "output_type": "stream",
     "text": [
      "KMeans:  21.883425289152484\n"
     ]
    },
    {
     "name": "stderr",
     "output_type": "stream",
     "text": [
      "/mnt/5280e/twang/.conda/envs/torch+pyg/lib/python3.8/site-packages/anndata/_core/anndata.py:1830: UserWarning: Variable names are not unique. To make them unique, call `.var_names_make_unique`.\n",
      "  utils.warn_names_duplicates(\"var\")\n"
     ]
    },
    {
     "name": "stdout",
     "output_type": "stream",
     "text": [
      ">>> dataset name: dlpfc, slice id: 151669, size: (3661, 33538), cluster: 5.\n"
     ]
    },
    {
     "name": "stderr",
     "output_type": "stream",
     "text": [
      "/tmp/ipykernel_366751/1390050857.py:4: ImplicitModificationWarning: Trying to modify attribute `.obs` of view, initializing view as actual.\n",
      "  adata.obs['kmeans'] = KMeans(n_clusters=n_cluster, random_state=2022).fit_predict(adata.X)\n"
     ]
    },
    {
     "name": "stdout",
     "output_type": "stream",
     "text": [
      "KMeans:  15.459204605029047\n"
     ]
    },
    {
     "name": "stderr",
     "output_type": "stream",
     "text": [
      "/mnt/5280e/twang/.conda/envs/torch+pyg/lib/python3.8/site-packages/anndata/_core/anndata.py:1830: UserWarning: Variable names are not unique. To make them unique, call `.var_names_make_unique`.\n",
      "  utils.warn_names_duplicates(\"var\")\n"
     ]
    },
    {
     "name": "stdout",
     "output_type": "stream",
     "text": [
      ">>> dataset name: dlpfc, slice id: 151670, size: (3498, 33538), cluster: 5.\n"
     ]
    },
    {
     "name": "stderr",
     "output_type": "stream",
     "text": [
      "/tmp/ipykernel_366751/1390050857.py:4: ImplicitModificationWarning: Trying to modify attribute `.obs` of view, initializing view as actual.\n",
      "  adata.obs['kmeans'] = KMeans(n_clusters=n_cluster, random_state=2022).fit_predict(adata.X)\n"
     ]
    },
    {
     "name": "stdout",
     "output_type": "stream",
     "text": [
      "KMeans:  17.07343126156883\n"
     ]
    },
    {
     "name": "stderr",
     "output_type": "stream",
     "text": [
      "/mnt/5280e/twang/.conda/envs/torch+pyg/lib/python3.8/site-packages/anndata/_core/anndata.py:1830: UserWarning: Variable names are not unique. To make them unique, call `.var_names_make_unique`.\n",
      "  utils.warn_names_duplicates(\"var\")\n"
     ]
    },
    {
     "name": "stdout",
     "output_type": "stream",
     "text": [
      ">>> dataset name: dlpfc, slice id: 151671, size: (4110, 33538), cluster: 5.\n"
     ]
    },
    {
     "name": "stderr",
     "output_type": "stream",
     "text": [
      "/tmp/ipykernel_366751/1390050857.py:4: ImplicitModificationWarning: Trying to modify attribute `.obs` of view, initializing view as actual.\n",
      "  adata.obs['kmeans'] = KMeans(n_clusters=n_cluster, random_state=2022).fit_predict(adata.X)\n"
     ]
    },
    {
     "name": "stdout",
     "output_type": "stream",
     "text": [
      "KMeans:  18.400079359226833\n"
     ]
    },
    {
     "name": "stderr",
     "output_type": "stream",
     "text": [
      "/mnt/5280e/twang/.conda/envs/torch+pyg/lib/python3.8/site-packages/anndata/_core/anndata.py:1830: UserWarning: Variable names are not unique. To make them unique, call `.var_names_make_unique`.\n",
      "  utils.warn_names_duplicates(\"var\")\n"
     ]
    },
    {
     "name": "stdout",
     "output_type": "stream",
     "text": [
      ">>> dataset name: dlpfc, slice id: 151672, size: (4015, 33538), cluster: 5.\n"
     ]
    },
    {
     "name": "stderr",
     "output_type": "stream",
     "text": [
      "/tmp/ipykernel_366751/1390050857.py:4: ImplicitModificationWarning: Trying to modify attribute `.obs` of view, initializing view as actual.\n",
      "  adata.obs['kmeans'] = KMeans(n_clusters=n_cluster, random_state=2022).fit_predict(adata.X)\n"
     ]
    },
    {
     "name": "stdout",
     "output_type": "stream",
     "text": [
      "KMeans:  15.085441594107962\n"
     ]
    },
    {
     "name": "stderr",
     "output_type": "stream",
     "text": [
      "/mnt/5280e/twang/.conda/envs/torch+pyg/lib/python3.8/site-packages/anndata/_core/anndata.py:1830: UserWarning: Variable names are not unique. To make them unique, call `.var_names_make_unique`.\n",
      "  utils.warn_names_duplicates(\"var\")\n"
     ]
    },
    {
     "name": "stdout",
     "output_type": "stream",
     "text": [
      ">>> dataset name: dlpfc, slice id: 151673, size: (3639, 33538), cluster: 7.\n"
     ]
    },
    {
     "name": "stderr",
     "output_type": "stream",
     "text": [
      "/tmp/ipykernel_366751/1390050857.py:4: ImplicitModificationWarning: Trying to modify attribute `.obs` of view, initializing view as actual.\n",
      "  adata.obs['kmeans'] = KMeans(n_clusters=n_cluster, random_state=2022).fit_predict(adata.X)\n"
     ]
    },
    {
     "name": "stdout",
     "output_type": "stream",
     "text": [
      "KMeans:  24.85521230303192\n"
     ]
    },
    {
     "name": "stderr",
     "output_type": "stream",
     "text": [
      "/mnt/5280e/twang/.conda/envs/torch+pyg/lib/python3.8/site-packages/anndata/_core/anndata.py:1830: UserWarning: Variable names are not unique. To make them unique, call `.var_names_make_unique`.\n",
      "  utils.warn_names_duplicates(\"var\")\n"
     ]
    },
    {
     "name": "stdout",
     "output_type": "stream",
     "text": [
      ">>> dataset name: dlpfc, slice id: 151674, size: (3673, 33538), cluster: 7.\n"
     ]
    },
    {
     "name": "stderr",
     "output_type": "stream",
     "text": [
      "/tmp/ipykernel_366751/1390050857.py:4: ImplicitModificationWarning: Trying to modify attribute `.obs` of view, initializing view as actual.\n",
      "  adata.obs['kmeans'] = KMeans(n_clusters=n_cluster, random_state=2022).fit_predict(adata.X)\n"
     ]
    },
    {
     "name": "stdout",
     "output_type": "stream",
     "text": [
      "KMeans:  23.297213816265945\n"
     ]
    },
    {
     "name": "stderr",
     "output_type": "stream",
     "text": [
      "/mnt/5280e/twang/.conda/envs/torch+pyg/lib/python3.8/site-packages/anndata/_core/anndata.py:1830: UserWarning: Variable names are not unique. To make them unique, call `.var_names_make_unique`.\n",
      "  utils.warn_names_duplicates(\"var\")\n"
     ]
    },
    {
     "name": "stdout",
     "output_type": "stream",
     "text": [
      ">>> dataset name: dlpfc, slice id: 151675, size: (3592, 33538), cluster: 7.\n"
     ]
    },
    {
     "name": "stderr",
     "output_type": "stream",
     "text": [
      "/tmp/ipykernel_366751/1390050857.py:4: ImplicitModificationWarning: Trying to modify attribute `.obs` of view, initializing view as actual.\n",
      "  adata.obs['kmeans'] = KMeans(n_clusters=n_cluster, random_state=2022).fit_predict(adata.X)\n"
     ]
    },
    {
     "name": "stdout",
     "output_type": "stream",
     "text": [
      "KMeans:  25.338415703105916\n"
     ]
    },
    {
     "name": "stderr",
     "output_type": "stream",
     "text": [
      "/mnt/5280e/twang/.conda/envs/torch+pyg/lib/python3.8/site-packages/anndata/_core/anndata.py:1830: UserWarning: Variable names are not unique. To make them unique, call `.var_names_make_unique`.\n",
      "  utils.warn_names_duplicates(\"var\")\n"
     ]
    },
    {
     "name": "stdout",
     "output_type": "stream",
     "text": [
      ">>> dataset name: dlpfc, slice id: 151676, size: (3460, 33538), cluster: 7.\n"
     ]
    },
    {
     "name": "stderr",
     "output_type": "stream",
     "text": [
      "/tmp/ipykernel_366751/1390050857.py:4: ImplicitModificationWarning: Trying to modify attribute `.obs` of view, initializing view as actual.\n",
      "  adata.obs['kmeans'] = KMeans(n_clusters=n_cluster, random_state=2022).fit_predict(adata.X)\n"
     ]
    },
    {
     "name": "stdout",
     "output_type": "stream",
     "text": [
      "KMeans:  24.840852558376945\n"
     ]
    }
   ],
   "source": [
    "for i in range(12):\n",
    "    adata, n_cluster = get_dlpfc_data(i)\n",
    "    adata = adata[:, adata.var['highly_variable']]\n",
    "    adata.obs['kmeans'] = KMeans(n_clusters=n_cluster, random_state=2022).fit_predict(adata.X)\n",
    "    \n",
    "    obs_df = adata.obs.dropna()\n",
    "    label = LabelEncoder().fit_transform(obs_df['cluster'])\n",
    "    print('KMeans: ', metrics.adjusted_rand_score(label, LabelEncoder().fit_transform(obs_df['kmeans'] )) * 100)"
   ]
  },
  {
   "cell_type": "markdown",
   "metadata": {},
   "source": [
    "# 10x Visium H&E"
   ]
  },
  {
   "cell_type": "code",
   "execution_count": 4,
   "metadata": {},
   "outputs": [
    {
     "name": "stderr",
     "output_type": "stream",
     "text": [
      "/mnt/5280e/twang/.conda/envs/torch+pyg/lib/python3.8/site-packages/scanpy/preprocessing/_highly_variable_genes.py:62: UserWarning: `flavor='seurat_v3'` expects raw count data, but non-integers were found.\n",
      "  warnings.warn(\n"
     ]
    },
    {
     "name": "stdout",
     "output_type": "stream",
     "text": [
      ">>> dataset name: visium_hne, size: (2688, 18078), cluster: 15.\n"
     ]
    },
    {
     "name": "stderr",
     "output_type": "stream",
     "text": [
      "/tmp/ipykernel_366751/3216415976.py:3: ImplicitModificationWarning: Trying to modify attribute `.obs` of view, initializing view as actual.\n",
      "  adata.obs['kmeans'] = KMeans(n_clusters=n_cluster, random_state=2022).fit_predict(adata.X)\n"
     ]
    },
    {
     "name": "stdout",
     "output_type": "stream",
     "text": [
      "KMeans:  60.130576689962744\n"
     ]
    }
   ],
   "source": [
    "adata, n_cluster = get_visium_hne_data()\n",
    "adata = adata[:, adata.var['highly_variable']]\n",
    "adata.obs['kmeans'] = KMeans(n_clusters=n_cluster, random_state=2022).fit_predict(adata.X)\n",
    "\n",
    "obs_df = adata.obs.dropna()\n",
    "label = LabelEncoder().fit_transform(adata.obs['cluster'])\n",
    "print('KMeans: ', metrics.adjusted_rand_score(label, LabelEncoder().fit_transform(obs_df['kmeans'] )) * 100)"
   ]
  },
  {
   "cell_type": "markdown",
   "metadata": {},
   "source": [
    "# 10x Visium fluo"
   ]
  },
  {
   "cell_type": "code",
   "execution_count": 5,
   "metadata": {},
   "outputs": [
    {
     "name": "stderr",
     "output_type": "stream",
     "text": [
      "/mnt/5280e/twang/.conda/envs/torch+pyg/lib/python3.8/site-packages/scanpy/preprocessing/_highly_variable_genes.py:62: UserWarning: `flavor='seurat_v3'` expects raw count data, but non-integers were found.\n",
      "  warnings.warn(\n"
     ]
    },
    {
     "name": "stdout",
     "output_type": "stream",
     "text": [
      ">>> dataset name: visium_fluo, size: (2800, 16562), cluster: 15.\n"
     ]
    },
    {
     "name": "stderr",
     "output_type": "stream",
     "text": [
      "/tmp/ipykernel_366751/1310932498.py:3: ImplicitModificationWarning: Trying to modify attribute `.obs` of view, initializing view as actual.\n",
      "  adata.obs['kmeans'] = KMeans(n_clusters=n_cluster, random_state=2022).fit_predict(adata.X)\n"
     ]
    },
    {
     "name": "stdout",
     "output_type": "stream",
     "text": [
      "KMeans:  58.73865829939032\n"
     ]
    }
   ],
   "source": [
    "adata, n_cluster = get_visium_fluo_data()\n",
    "adata = adata[:, adata.var['highly_variable']]\n",
    "adata.obs['kmeans'] = KMeans(n_clusters=n_cluster, random_state=2022).fit_predict(adata.X)\n",
    "\n",
    "obs_df = adata.obs.dropna()\n",
    "label = LabelEncoder().fit_transform(adata.obs['cluster'])\n",
    "print('KMeans: ', metrics.adjusted_rand_score(label, LabelEncoder().fit_transform(obs_df['kmeans'] )) * 100)"
   ]
  }
 ],
 "metadata": {
  "kernelspec": {
   "display_name": "Python 3.8.13 ('torch+pyg')",
   "language": "python",
   "name": "python3"
  },
  "language_info": {
   "codemirror_mode": {
    "name": "ipython",
    "version": 3
   },
   "file_extension": ".py",
   "mimetype": "text/x-python",
   "name": "python",
   "nbconvert_exporter": "python",
   "pygments_lexer": "ipython3",
   "version": "3.8.13"
  },
  "orig_nbformat": 4,
  "vscode": {
   "interpreter": {
    "hash": "a0f855fec34ed1739858563e3b94d8ba36be9c5a95173b69288904bab1233695"
   }
  }
 },
 "nbformat": 4,
 "nbformat_minor": 2
}
