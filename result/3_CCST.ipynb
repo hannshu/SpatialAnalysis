{
 "cells": [
  {
   "cell_type": "code",
   "execution_count": 1,
   "metadata": {},
   "outputs": [],
   "source": [
    "from c_CCST.run import train\n",
    "from dataset import *\n",
    "from tools import evaluate"
   ]
  },
  {
   "cell_type": "markdown",
   "metadata": {},
   "source": [
    "# human breast cancer"
   ]
  },
  {
   "cell_type": "code",
   "execution_count": 2,
   "metadata": {},
   "outputs": [
    {
     "name": "stderr",
     "output_type": "stream",
     "text": [
      "/mnt/5280e/twang/.conda/envs/torch+pyg/lib/python3.8/site-packages/anndata/_core/anndata.py:1830: UserWarning: Variable names are not unique. To make them unique, call `.var_names_make_unique`.\n",
      "  utils.warn_names_duplicates(\"var\")\n"
     ]
    },
    {
     "name": "stdout",
     "output_type": "stream",
     "text": [
      ">>> dataset name: human_breast_cancer, size: (3798, 36601), cluster: 20.\n",
      "===== Preprocessing Data \n",
      "calculating distance matrix, it takes a while\n",
      "300 22064 2.9046866771985256\n"
     ]
    },
    {
     "name": "stderr",
     "output_type": "stream",
     "text": [
      "/mnt/5280e/twang/.conda/envs/torch+pyg/lib/python3.8/site-packages/torch_geometric/deprecation.py:12: UserWarning: 'data.DataLoader' is deprecated, use 'loader.DataLoader' instead\n",
      "  warnings.warn(out)\n"
     ]
    },
    {
     "name": "stdout",
     "output_type": "stream",
     "text": [
      ">>> graph contains 22064 edges, 5.809373354397051 edges per node\n",
      ">>> begin to train DGI, shape: (3798, 300)\n"
     ]
    },
    {
     "name": "stderr",
     "output_type": "stream",
     "text": [
      "100%|██████████| 5000/5000 [02:32<00:00, 32.87it/s]\n"
     ]
    },
    {
     "name": "stdout",
     "output_type": "stream",
     "text": [
      "Training time in seconds:  152\n",
      "Shape of data to PCA: (3798, 256)\n",
      "Shape of data output by PCA: (3798, 50)\n",
      "PCA recover: 0.9633152\n",
      ">>> CCST: 55.1065\n",
      ">>> CCST_pca: 54.9832\n"
     ]
    }
   ],
   "source": [
    "adata, n_cluster = get_human_breast_cancer_data()\n",
    "train(adata, 300, n_cluster)\n",
    "evaluate(adata, pred_list=['CCST', 'CCST_pca'])"
   ]
  },
  {
   "cell_type": "markdown",
   "metadata": {},
   "source": [
    "# DLPFC"
   ]
  },
  {
   "cell_type": "code",
   "execution_count": 3,
   "metadata": {},
   "outputs": [
    {
     "name": "stderr",
     "output_type": "stream",
     "text": [
      "/mnt/5280e/twang/.conda/envs/torch+pyg/lib/python3.8/site-packages/anndata/_core/anndata.py:1830: UserWarning: Variable names are not unique. To make them unique, call `.var_names_make_unique`.\n",
      "  utils.warn_names_duplicates(\"var\")\n"
     ]
    },
    {
     "name": "stdout",
     "output_type": "stream",
     "text": [
      ">>> dataset name: dlpfc, slice id: 151507, size: (4226, 33538), cluster: 7.\n",
      "===== Preprocessing Data \n",
      "calculating distance matrix, it takes a while\n",
      "150 24770 2.930667297681022\n"
     ]
    },
    {
     "name": "stderr",
     "output_type": "stream",
     "text": [
      "/mnt/5280e/twang/.conda/envs/torch+pyg/lib/python3.8/site-packages/torch_geometric/deprecation.py:12: UserWarning: 'data.DataLoader' is deprecated, use 'loader.DataLoader' instead\n",
      "  warnings.warn(out)\n"
     ]
    },
    {
     "name": "stdout",
     "output_type": "stream",
     "text": [
      ">>> graph contains 24770 edges, 5.861334595362044 edges per node\n",
      ">>> begin to train DGI, shape: (4226, 300)\n"
     ]
    },
    {
     "name": "stderr",
     "output_type": "stream",
     "text": [
      "100%|██████████| 5000/5000 [01:57<00:00, 42.54it/s]\n"
     ]
    },
    {
     "name": "stdout",
     "output_type": "stream",
     "text": [
      "Training time in seconds:  117\n",
      "Shape of data to PCA: (4226, 256)\n",
      "Shape of data output by PCA: (4226, 50)\n",
      "PCA recover: 0.93152565\n",
      ">>> CCST: 43.5038\n",
      ">>> CCST_pca: 44.4209\n"
     ]
    },
    {
     "name": "stderr",
     "output_type": "stream",
     "text": [
      "/mnt/5280e/twang/.conda/envs/torch+pyg/lib/python3.8/site-packages/anndata/_core/anndata.py:1830: UserWarning: Variable names are not unique. To make them unique, call `.var_names_make_unique`.\n",
      "  utils.warn_names_duplicates(\"var\")\n"
     ]
    },
    {
     "name": "stdout",
     "output_type": "stream",
     "text": [
      ">>> dataset name: dlpfc, slice id: 151508, size: (4384, 33538), cluster: 7.\n",
      "===== Preprocessing Data \n",
      "calculating distance matrix, it takes a while\n",
      "150 25698 2.9308850364963503\n"
     ]
    },
    {
     "name": "stderr",
     "output_type": "stream",
     "text": [
      "/mnt/5280e/twang/.conda/envs/torch+pyg/lib/python3.8/site-packages/torch_geometric/deprecation.py:12: UserWarning: 'data.DataLoader' is deprecated, use 'loader.DataLoader' instead\n",
      "  warnings.warn(out)\n"
     ]
    },
    {
     "name": "stdout",
     "output_type": "stream",
     "text": [
      ">>> graph contains 25698 edges, 5.861770072992701 edges per node\n",
      ">>> begin to train DGI, shape: (4384, 300)\n"
     ]
    },
    {
     "name": "stderr",
     "output_type": "stream",
     "text": [
      "100%|██████████| 5000/5000 [02:20<00:00, 35.69it/s]\n"
     ]
    },
    {
     "name": "stdout",
     "output_type": "stream",
     "text": [
      "Training time in seconds:  140\n",
      "Shape of data to PCA: (4384, 256)\n",
      "Shape of data output by PCA: (4384, 50)\n",
      "PCA recover: 0.9285291\n",
      ">>> CCST: 34.7862\n",
      ">>> CCST_pca: 34.8912\n"
     ]
    },
    {
     "name": "stderr",
     "output_type": "stream",
     "text": [
      "/mnt/5280e/twang/.conda/envs/torch+pyg/lib/python3.8/site-packages/anndata/_core/anndata.py:1830: UserWarning: Variable names are not unique. To make them unique, call `.var_names_make_unique`.\n",
      "  utils.warn_names_duplicates(\"var\")\n"
     ]
    },
    {
     "name": "stdout",
     "output_type": "stream",
     "text": [
      ">>> dataset name: dlpfc, slice id: 151509, size: (4789, 33538), cluster: 7.\n",
      "===== Preprocessing Data \n",
      "calculating distance matrix, it takes a while\n",
      "150 28172 2.9413238671956567\n"
     ]
    },
    {
     "name": "stderr",
     "output_type": "stream",
     "text": [
      "/mnt/5280e/twang/.conda/envs/torch+pyg/lib/python3.8/site-packages/torch_geometric/deprecation.py:12: UserWarning: 'data.DataLoader' is deprecated, use 'loader.DataLoader' instead\n",
      "  warnings.warn(out)\n"
     ]
    },
    {
     "name": "stdout",
     "output_type": "stream",
     "text": [
      ">>> graph contains 28172 edges, 5.8826477343913135 edges per node\n",
      ">>> begin to train DGI, shape: (4789, 300)\n"
     ]
    },
    {
     "name": "stderr",
     "output_type": "stream",
     "text": [
      "100%|██████████| 5000/5000 [02:38<00:00, 31.62it/s]\n"
     ]
    },
    {
     "name": "stdout",
     "output_type": "stream",
     "text": [
      "Training time in seconds:  158\n",
      "Shape of data to PCA: (4789, 256)\n",
      "Shape of data output by PCA: (4789, 50)\n",
      "PCA recover: 0.9368418\n",
      ">>> CCST: 41.1022\n",
      ">>> CCST_pca: 41.1401\n"
     ]
    },
    {
     "name": "stderr",
     "output_type": "stream",
     "text": [
      "/mnt/5280e/twang/.conda/envs/torch+pyg/lib/python3.8/site-packages/anndata/_core/anndata.py:1830: UserWarning: Variable names are not unique. To make them unique, call `.var_names_make_unique`.\n",
      "  utils.warn_names_duplicates(\"var\")\n"
     ]
    },
    {
     "name": "stdout",
     "output_type": "stream",
     "text": [
      ">>> dataset name: dlpfc, slice id: 151510, size: (4634, 33538), cluster: 7.\n",
      "===== Preprocessing Data \n"
     ]
    },
    {
     "name": "stderr",
     "output_type": "stream",
     "text": [
      "/mnt/5280e/twang/.conda/envs/torch+pyg/lib/python3.8/site-packages/scanpy/preprocessing/_normalization.py:197: UserWarning: Some cells have zero counts\n",
      "  warn(UserWarning('Some cells have zero counts'))\n"
     ]
    },
    {
     "name": "stdout",
     "output_type": "stream",
     "text": [
      "calculating distance matrix, it takes a while\n",
      "150 27198 2.934613724643936\n"
     ]
    },
    {
     "name": "stderr",
     "output_type": "stream",
     "text": [
      "/mnt/5280e/twang/.conda/envs/torch+pyg/lib/python3.8/site-packages/torch_geometric/deprecation.py:12: UserWarning: 'data.DataLoader' is deprecated, use 'loader.DataLoader' instead\n",
      "  warnings.warn(out)\n"
     ]
    },
    {
     "name": "stdout",
     "output_type": "stream",
     "text": [
      ">>> graph contains 27198 edges, 5.869227449287872 edges per node\n",
      ">>> begin to train DGI, shape: (4634, 300)\n"
     ]
    },
    {
     "name": "stderr",
     "output_type": "stream",
     "text": [
      "100%|██████████| 5000/5000 [02:39<00:00, 31.40it/s]\n"
     ]
    },
    {
     "name": "stdout",
     "output_type": "stream",
     "text": [
      "Training time in seconds:  159\n",
      "Shape of data to PCA: (4634, 256)\n",
      "Shape of data output by PCA: (4634, 50)\n",
      "PCA recover: 0.93112034\n",
      ">>> CCST: 32.8011\n",
      ">>> CCST_pca: 32.7713\n"
     ]
    },
    {
     "name": "stderr",
     "output_type": "stream",
     "text": [
      "/mnt/5280e/twang/.conda/envs/torch+pyg/lib/python3.8/site-packages/anndata/_core/anndata.py:1830: UserWarning: Variable names are not unique. To make them unique, call `.var_names_make_unique`.\n",
      "  utils.warn_names_duplicates(\"var\")\n"
     ]
    },
    {
     "name": "stdout",
     "output_type": "stream",
     "text": [
      ">>> dataset name: dlpfc, slice id: 151669, size: (3661, 33538), cluster: 5.\n",
      "===== Preprocessing Data \n",
      "calculating distance matrix, it takes a while\n",
      "150 21194 2.8945643266866976\n"
     ]
    },
    {
     "name": "stderr",
     "output_type": "stream",
     "text": [
      "/mnt/5280e/twang/.conda/envs/torch+pyg/lib/python3.8/site-packages/torch_geometric/deprecation.py:12: UserWarning: 'data.DataLoader' is deprecated, use 'loader.DataLoader' instead\n",
      "  warnings.warn(out)\n"
     ]
    },
    {
     "name": "stdout",
     "output_type": "stream",
     "text": [
      ">>> graph contains 21194 edges, 5.789128653373395 edges per node\n",
      ">>> begin to train DGI, shape: (3661, 300)\n"
     ]
    },
    {
     "name": "stderr",
     "output_type": "stream",
     "text": [
      "100%|██████████| 5000/5000 [02:25<00:00, 34.28it/s]\n"
     ]
    },
    {
     "name": "stdout",
     "output_type": "stream",
     "text": [
      "Training time in seconds:  145\n",
      "Shape of data to PCA: (3661, 256)\n",
      "Shape of data output by PCA: (3661, 50)\n",
      "PCA recover: 0.93202275\n",
      ">>> CCST: 34.9959\n",
      ">>> CCST_pca: 34.3235\n"
     ]
    },
    {
     "name": "stderr",
     "output_type": "stream",
     "text": [
      "/mnt/5280e/twang/.conda/envs/torch+pyg/lib/python3.8/site-packages/anndata/_core/anndata.py:1830: UserWarning: Variable names are not unique. To make them unique, call `.var_names_make_unique`.\n",
      "  utils.warn_names_duplicates(\"var\")\n"
     ]
    },
    {
     "name": "stdout",
     "output_type": "stream",
     "text": [
      ">>> dataset name: dlpfc, slice id: 151670, size: (3498, 33538), cluster: 5.\n",
      "===== Preprocessing Data \n",
      "calculating distance matrix, it takes a while\n",
      "150 20370 2.911663807890223\n"
     ]
    },
    {
     "name": "stderr",
     "output_type": "stream",
     "text": [
      "/mnt/5280e/twang/.conda/envs/torch+pyg/lib/python3.8/site-packages/torch_geometric/deprecation.py:12: UserWarning: 'data.DataLoader' is deprecated, use 'loader.DataLoader' instead\n",
      "  warnings.warn(out)\n"
     ]
    },
    {
     "name": "stdout",
     "output_type": "stream",
     "text": [
      ">>> graph contains 20370 edges, 5.823327615780446 edges per node\n",
      ">>> begin to train DGI, shape: (3498, 300)\n"
     ]
    },
    {
     "name": "stderr",
     "output_type": "stream",
     "text": [
      "100%|██████████| 5000/5000 [02:12<00:00, 37.60it/s]\n"
     ]
    },
    {
     "name": "stdout",
     "output_type": "stream",
     "text": [
      "Training time in seconds:  132\n",
      "Shape of data to PCA: (3498, 256)\n",
      "Shape of data output by PCA: (3498, 50)\n",
      "PCA recover: 0.9389343\n",
      ">>> CCST: 30.3927\n",
      ">>> CCST_pca: 30.3713\n"
     ]
    },
    {
     "name": "stderr",
     "output_type": "stream",
     "text": [
      "/mnt/5280e/twang/.conda/envs/torch+pyg/lib/python3.8/site-packages/anndata/_core/anndata.py:1830: UserWarning: Variable names are not unique. To make them unique, call `.var_names_make_unique`.\n",
      "  utils.warn_names_duplicates(\"var\")\n"
     ]
    },
    {
     "name": "stdout",
     "output_type": "stream",
     "text": [
      ">>> dataset name: dlpfc, slice id: 151671, size: (4110, 33538), cluster: 5.\n",
      "===== Preprocessing Data \n",
      "calculating distance matrix, it takes a while\n",
      "150 24052 2.9260340632603405\n"
     ]
    },
    {
     "name": "stderr",
     "output_type": "stream",
     "text": [
      "/mnt/5280e/twang/.conda/envs/torch+pyg/lib/python3.8/site-packages/torch_geometric/deprecation.py:12: UserWarning: 'data.DataLoader' is deprecated, use 'loader.DataLoader' instead\n",
      "  warnings.warn(out)\n"
     ]
    },
    {
     "name": "stdout",
     "output_type": "stream",
     "text": [
      ">>> graph contains 24052 edges, 5.852068126520681 edges per node\n",
      ">>> begin to train DGI, shape: (4110, 300)\n"
     ]
    },
    {
     "name": "stderr",
     "output_type": "stream",
     "text": [
      "100%|██████████| 5000/5000 [03:21<00:00, 24.85it/s]\n"
     ]
    },
    {
     "name": "stdout",
     "output_type": "stream",
     "text": [
      "Training time in seconds:  201\n",
      "Shape of data to PCA: (4110, 256)\n",
      "Shape of data output by PCA: (4110, 50)\n",
      "PCA recover: 0.95227885\n",
      ">>> CCST: 43.7495\n",
      ">>> CCST_pca: 43.5052\n"
     ]
    },
    {
     "name": "stderr",
     "output_type": "stream",
     "text": [
      "/mnt/5280e/twang/.conda/envs/torch+pyg/lib/python3.8/site-packages/anndata/_core/anndata.py:1830: UserWarning: Variable names are not unique. To make them unique, call `.var_names_make_unique`.\n",
      "  utils.warn_names_duplicates(\"var\")\n"
     ]
    },
    {
     "name": "stdout",
     "output_type": "stream",
     "text": [
      ">>> dataset name: dlpfc, slice id: 151672, size: (4015, 33538), cluster: 5.\n",
      "===== Preprocessing Data \n",
      "calculating distance matrix, it takes a while\n",
      "150 23382 2.9118306351183065\n"
     ]
    },
    {
     "name": "stderr",
     "output_type": "stream",
     "text": [
      "/mnt/5280e/twang/.conda/envs/torch+pyg/lib/python3.8/site-packages/torch_geometric/deprecation.py:12: UserWarning: 'data.DataLoader' is deprecated, use 'loader.DataLoader' instead\n",
      "  warnings.warn(out)\n"
     ]
    },
    {
     "name": "stdout",
     "output_type": "stream",
     "text": [
      ">>> graph contains 23382 edges, 5.823661270236613 edges per node\n",
      ">>> begin to train DGI, shape: (4015, 300)\n"
     ]
    },
    {
     "name": "stderr",
     "output_type": "stream",
     "text": [
      "100%|██████████| 5000/5000 [03:07<00:00, 26.66it/s]\n"
     ]
    },
    {
     "name": "stdout",
     "output_type": "stream",
     "text": [
      "Training time in seconds:  187\n",
      "Shape of data to PCA: (4015, 256)\n",
      "Shape of data output by PCA: (4015, 50)\n",
      "PCA recover: 0.9548632\n",
      ">>> CCST: 43.4520\n",
      ">>> CCST_pca: 43.5981\n"
     ]
    },
    {
     "name": "stderr",
     "output_type": "stream",
     "text": [
      "/mnt/5280e/twang/.conda/envs/torch+pyg/lib/python3.8/site-packages/anndata/_core/anndata.py:1830: UserWarning: Variable names are not unique. To make them unique, call `.var_names_make_unique`.\n",
      "  utils.warn_names_duplicates(\"var\")\n"
     ]
    },
    {
     "name": "stdout",
     "output_type": "stream",
     "text": [
      ">>> dataset name: dlpfc, slice id: 151673, size: (3639, 33538), cluster: 7.\n",
      "===== Preprocessing Data \n",
      "calculating distance matrix, it takes a while\n",
      "150 21124 2.9024457268480353\n"
     ]
    },
    {
     "name": "stderr",
     "output_type": "stream",
     "text": [
      "/mnt/5280e/twang/.conda/envs/torch+pyg/lib/python3.8/site-packages/torch_geometric/deprecation.py:12: UserWarning: 'data.DataLoader' is deprecated, use 'loader.DataLoader' instead\n",
      "  warnings.warn(out)\n"
     ]
    },
    {
     "name": "stdout",
     "output_type": "stream",
     "text": [
      ">>> graph contains 21124 edges, 5.8048914536960705 edges per node\n",
      ">>> begin to train DGI, shape: (3639, 300)\n"
     ]
    },
    {
     "name": "stderr",
     "output_type": "stream",
     "text": [
      "100%|██████████| 5000/5000 [02:26<00:00, 34.20it/s]\n"
     ]
    },
    {
     "name": "stdout",
     "output_type": "stream",
     "text": [
      "Training time in seconds:  146\n",
      "Shape of data to PCA: (3639, 256)\n",
      "Shape of data output by PCA: (3639, 50)\n",
      "PCA recover: 0.94348085\n",
      ">>> CCST: 36.0805\n",
      ">>> CCST_pca: 36.0774\n"
     ]
    },
    {
     "name": "stderr",
     "output_type": "stream",
     "text": [
      "/mnt/5280e/twang/.conda/envs/torch+pyg/lib/python3.8/site-packages/anndata/_core/anndata.py:1830: UserWarning: Variable names are not unique. To make them unique, call `.var_names_make_unique`.\n",
      "  utils.warn_names_duplicates(\"var\")\n"
     ]
    },
    {
     "name": "stdout",
     "output_type": "stream",
     "text": [
      ">>> dataset name: dlpfc, slice id: 151674, size: (3673, 33538), cluster: 7.\n",
      "===== Preprocessing Data \n",
      "calculating distance matrix, it takes a while\n",
      "150 21258 2.893819765858971\n"
     ]
    },
    {
     "name": "stderr",
     "output_type": "stream",
     "text": [
      "/mnt/5280e/twang/.conda/envs/torch+pyg/lib/python3.8/site-packages/torch_geometric/deprecation.py:12: UserWarning: 'data.DataLoader' is deprecated, use 'loader.DataLoader' instead\n",
      "  warnings.warn(out)\n"
     ]
    },
    {
     "name": "stdout",
     "output_type": "stream",
     "text": [
      ">>> graph contains 21258 edges, 5.787639531717942 edges per node\n",
      ">>> begin to train DGI, shape: (3673, 300)\n"
     ]
    },
    {
     "name": "stderr",
     "output_type": "stream",
     "text": [
      "100%|██████████| 5000/5000 [02:00<00:00, 41.59it/s]\n"
     ]
    },
    {
     "name": "stdout",
     "output_type": "stream",
     "text": [
      "Training time in seconds:  120\n",
      "Shape of data to PCA: (3673, 256)\n",
      "Shape of data output by PCA: (3673, 50)\n",
      "PCA recover: 0.938682\n",
      ">>> CCST: 35.5339\n",
      ">>> CCST_pca: 35.8466\n"
     ]
    },
    {
     "name": "stderr",
     "output_type": "stream",
     "text": [
      "/mnt/5280e/twang/.conda/envs/torch+pyg/lib/python3.8/site-packages/anndata/_core/anndata.py:1830: UserWarning: Variable names are not unique. To make them unique, call `.var_names_make_unique`.\n",
      "  utils.warn_names_duplicates(\"var\")\n"
     ]
    },
    {
     "name": "stdout",
     "output_type": "stream",
     "text": [
      ">>> dataset name: dlpfc, slice id: 151675, size: (3592, 33538), cluster: 7.\n",
      "===== Preprocessing Data \n",
      "calculating distance matrix, it takes a while\n",
      "150 20762 2.8900334075723833\n"
     ]
    },
    {
     "name": "stderr",
     "output_type": "stream",
     "text": [
      "/mnt/5280e/twang/.conda/envs/torch+pyg/lib/python3.8/site-packages/torch_geometric/deprecation.py:12: UserWarning: 'data.DataLoader' is deprecated, use 'loader.DataLoader' instead\n",
      "  warnings.warn(out)\n"
     ]
    },
    {
     "name": "stdout",
     "output_type": "stream",
     "text": [
      ">>> graph contains 20762 edges, 5.7800668151447665 edges per node\n",
      ">>> begin to train DGI, shape: (3592, 300)\n"
     ]
    },
    {
     "name": "stderr",
     "output_type": "stream",
     "text": [
      "100%|██████████| 5000/5000 [02:17<00:00, 36.45it/s]\n"
     ]
    },
    {
     "name": "stdout",
     "output_type": "stream",
     "text": [
      "Training time in seconds:  137\n",
      "Shape of data to PCA: (3592, 256)\n",
      "Shape of data output by PCA: (3592, 50)\n",
      "PCA recover: 0.931958\n",
      ">>> CCST: 37.1157\n",
      ">>> CCST_pca: 36.2039\n"
     ]
    },
    {
     "name": "stderr",
     "output_type": "stream",
     "text": [
      "/mnt/5280e/twang/.conda/envs/torch+pyg/lib/python3.8/site-packages/anndata/_core/anndata.py:1830: UserWarning: Variable names are not unique. To make them unique, call `.var_names_make_unique`.\n",
      "  utils.warn_names_duplicates(\"var\")\n"
     ]
    },
    {
     "name": "stdout",
     "output_type": "stream",
     "text": [
      ">>> dataset name: dlpfc, slice id: 151676, size: (3460, 33538), cluster: 7.\n",
      "===== Preprocessing Data \n",
      "calculating distance matrix, it takes a while\n",
      "150 20052 2.897687861271676\n"
     ]
    },
    {
     "name": "stderr",
     "output_type": "stream",
     "text": [
      "/mnt/5280e/twang/.conda/envs/torch+pyg/lib/python3.8/site-packages/torch_geometric/deprecation.py:12: UserWarning: 'data.DataLoader' is deprecated, use 'loader.DataLoader' instead\n",
      "  warnings.warn(out)\n"
     ]
    },
    {
     "name": "stdout",
     "output_type": "stream",
     "text": [
      ">>> graph contains 20052 edges, 5.795375722543352 edges per node\n",
      ">>> begin to train DGI, shape: (3460, 300)\n"
     ]
    },
    {
     "name": "stderr",
     "output_type": "stream",
     "text": [
      "100%|██████████| 5000/5000 [04:58<00:00, 16.77it/s]\n"
     ]
    },
    {
     "name": "stdout",
     "output_type": "stream",
     "text": [
      "Training time in seconds:  298\n",
      "Shape of data to PCA: (3460, 256)\n",
      "Shape of data output by PCA: (3460, 50)\n",
      "PCA recover: 0.93161464\n",
      ">>> CCST: 34.4886\n",
      ">>> CCST_pca: 45.5323\n"
     ]
    }
   ],
   "source": [
    "for i in range(12):\n",
    "    adata, n_cluster = get_dlpfc_data(i)\n",
    "    train(adata, 150, n_cluster)\n",
    "    evaluate(adata, pred_list=['CCST', 'CCST_pca'])"
   ]
  },
  {
   "cell_type": "markdown",
   "metadata": {},
   "source": [
    "# 10x Visium H&E"
   ]
  },
  {
   "cell_type": "code",
   "execution_count": 4,
   "metadata": {},
   "outputs": [
    {
     "name": "stderr",
     "output_type": "stream",
     "text": [
      "/mnt/5280e/twang/.conda/envs/torch+pyg/lib/python3.8/site-packages/scanpy/preprocessing/_highly_variable_genes.py:62: UserWarning: `flavor='seurat_v3'` expects raw count data, but non-integers were found.\n",
      "  warnings.warn(\n"
     ]
    },
    {
     "name": "stdout",
     "output_type": "stream",
     "text": [
      ">>> dataset name: visium_hne, size: (2688, 18078), cluster: 15.\n",
      "===== Preprocessing Data \n",
      "calculating distance matrix, it takes a while\n",
      "150 15580 2.8980654761904763\n"
     ]
    },
    {
     "name": "stderr",
     "output_type": "stream",
     "text": [
      "/mnt/5280e/twang/.conda/envs/torch+pyg/lib/python3.8/site-packages/torch_geometric/deprecation.py:12: UserWarning: 'data.DataLoader' is deprecated, use 'loader.DataLoader' instead\n",
      "  warnings.warn(out)\n"
     ]
    },
    {
     "name": "stdout",
     "output_type": "stream",
     "text": [
      ">>> graph contains 15580 edges, 5.7961309523809526 edges per node\n",
      ">>> begin to train DGI, shape: (2688, 300)\n"
     ]
    },
    {
     "name": "stderr",
     "output_type": "stream",
     "text": [
      "100%|██████████| 5000/5000 [03:24<00:00, 24.45it/s]\n"
     ]
    },
    {
     "name": "stdout",
     "output_type": "stream",
     "text": [
      "Training time in seconds:  204\n",
      "Shape of data to PCA: (2688, 256)\n",
      "Shape of data output by PCA: (2688, 50)\n",
      "PCA recover: 0.959036\n",
      ">>> CCST: 44.4479\n",
      ">>> CCST_pca: 46.6081\n"
     ]
    }
   ],
   "source": [
    "adata, n_cluster = get_visium_hne_data()\n",
    "train(adata, 150, n_cluster)\n",
    "evaluate(adata, pred_list=['CCST', 'CCST_pca'])"
   ]
  },
  {
   "cell_type": "markdown",
   "metadata": {},
   "source": [
    "# 10x Visium fluo"
   ]
  },
  {
   "cell_type": "code",
   "execution_count": 5,
   "metadata": {},
   "outputs": [
    {
     "name": "stderr",
     "output_type": "stream",
     "text": [
      "/mnt/5280e/twang/.conda/envs/torch+pyg/lib/python3.8/site-packages/scanpy/preprocessing/_highly_variable_genes.py:62: UserWarning: `flavor='seurat_v3'` expects raw count data, but non-integers were found.\n",
      "  warnings.warn(\n"
     ]
    },
    {
     "name": "stdout",
     "output_type": "stream",
     "text": [
      ">>> dataset name: visium_fluo, size: (2800, 16562), cluster: 15.\n",
      "===== Preprocessing Data \n",
      "calculating distance matrix, it takes a while\n",
      "350 16328 2.915714285714286\n"
     ]
    },
    {
     "name": "stderr",
     "output_type": "stream",
     "text": [
      "/mnt/5280e/twang/.conda/envs/torch+pyg/lib/python3.8/site-packages/torch_geometric/deprecation.py:12: UserWarning: 'data.DataLoader' is deprecated, use 'loader.DataLoader' instead\n",
      "  warnings.warn(out)\n"
     ]
    },
    {
     "name": "stdout",
     "output_type": "stream",
     "text": [
      ">>> graph contains 16328 edges, 5.831428571428572 edges per node\n",
      ">>> begin to train DGI, shape: (2800, 300)\n"
     ]
    },
    {
     "name": "stderr",
     "output_type": "stream",
     "text": [
      "100%|██████████| 5000/5000 [04:32<00:00, 18.35it/s]\n"
     ]
    },
    {
     "name": "stdout",
     "output_type": "stream",
     "text": [
      "Training time in seconds:  272\n",
      "Shape of data to PCA: (2800, 256)\n",
      "Shape of data output by PCA: (2800, 50)\n",
      "PCA recover: 0.9548298\n",
      ">>> CCST: 46.7046\n",
      ">>> CCST_pca: 47.2109\n"
     ]
    }
   ],
   "source": [
    "adata, n_cluster = get_visium_fluo_data()\n",
    "train(adata, 350, n_cluster)\n",
    "evaluate(adata, pred_list=['CCST', 'CCST_pca'])"
   ]
  }
 ],
 "metadata": {
  "kernelspec": {
   "display_name": "Python 3.8.13 ('torch+pyg')",
   "language": "python",
   "name": "python3"
  },
  "language_info": {
   "codemirror_mode": {
    "name": "ipython",
    "version": 3
   },
   "file_extension": ".py",
   "mimetype": "text/x-python",
   "name": "python",
   "nbconvert_exporter": "python",
   "pygments_lexer": "ipython3",
   "version": "3.8.13"
  },
  "orig_nbformat": 4,
  "vscode": {
   "interpreter": {
    "hash": "a0f855fec34ed1739858563e3b94d8ba36be9c5a95173b69288904bab1233695"
   }
  }
 },
 "nbformat": 4,
 "nbformat_minor": 2
}
