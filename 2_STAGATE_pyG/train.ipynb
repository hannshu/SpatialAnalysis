{
 "cells": [
  {
   "cell_type": "code",
   "execution_count": null,
   "metadata": {},
   "outputs": [],
   "source": [
    "from Train_STAGATE import train_STAGATE\n",
    "from utils import mclust_R, Stats_Spatial_Net, Cal_Spatial_Net\n",
    "import squidpy as sq\n",
    "import scanpy as sc\n",
    "import numpy as np\n",
    "import pandas as pd\n",
    "import os\n",
    "from sklearn import metrics\n",
    "from sklearn.preprocessing import LabelEncoder \n",
    "\n",
    "seed = 2022"
   ]
  },
  {
   "cell_type": "markdown",
   "metadata": {},
   "source": [
    "# 对squidpy中集成的10X Visium数据集进行处理"
   ]
  },
  {
   "cell_type": "code",
   "execution_count": null,
   "metadata": {},
   "outputs": [],
   "source": [
    "adata = sq.datasets.visium_hne_adata(path='../dataset/visium_hne.h5ad')"
   ]
  },
  {
   "cell_type": "code",
   "execution_count": null,
   "metadata": {},
   "outputs": [],
   "source": [
    "sc.pp.highly_variable_genes(adata, flavor=\"seurat_v3\", n_top_genes=3000)\n",
    "sc.pp.normalize_total(adata, target_sum=1e4)\n",
    "sc.pp.log1p(adata)"
   ]
  },
  {
   "cell_type": "code",
   "execution_count": null,
   "metadata": {},
   "outputs": [],
   "source": [
    "Cal_Spatial_Net(adata, k_cutoff=6, model='KNN') # 生成网络，保存在.uns['Spatial_Net'】中 \n",
    "adata = train_STAGATE(adata, n_epochs=30, random_seed=seed)\n",
    "adata.obsm['STAGATE']"
   ]
  },
  {
   "cell_type": "code",
   "execution_count": null,
   "metadata": {},
   "outputs": [],
   "source": [
    "adata = mclust_R(adata, 15) # 对embedding进行聚类，聚类结果保存在.obs['mclust']中\n",
    "sc.pl.spatial(adata, color=['mclust'])  # 绘制图"
   ]
  },
  {
   "cell_type": "code",
   "execution_count": null,
   "metadata": {},
   "outputs": [],
   "source": [
    "label = LabelEncoder().fit_transform(adata.obs['cluster'])\n",
    "pred = LabelEncoder().fit_transform(adata.obs['mclust'])\n",
    "metrics.adjusted_rand_score(label, pred)    # 计算预测值与真实值之间的兰德系数"
   ]
  },
  {
   "cell_type": "code",
   "execution_count": null,
   "metadata": {},
   "outputs": [],
   "source": [
    "sc.pl.umap(adata, color=[\"mclust\"])\n",
    "sc.tl.paga(adata)\n",
    "sc.pl.paga_compare(adata)"
   ]
  },
  {
   "cell_type": "markdown",
   "metadata": {},
   "source": [
    "# 处理DLPFC数据"
   ]
  },
  {
   "cell_type": "code",
   "execution_count": null,
   "metadata": {},
   "outputs": [],
   "source": [
    "id = '151507'\n",
    "adata = sc.read_visium(path='../dataset/DLPFC/' + id)\n",
    "adata.var_names_make_unique()"
   ]
  },
  {
   "cell_type": "code",
   "execution_count": null,
   "metadata": {},
   "outputs": [],
   "source": [
    "#Normalization\n",
    "sc.pp.highly_variable_genes(adata, flavor=\"seurat_v3\", n_top_genes=3000)\n",
    "sc.pp.normalize_total(adata, target_sum=1e4)\n",
    "sc.pp.log1p(adata)"
   ]
  },
  {
   "cell_type": "code",
   "execution_count": null,
   "metadata": {},
   "outputs": [],
   "source": [
    "# read the annotation\n",
    "Ann_df = pd.read_csv(os.path.join('../dataset', 'DLPFC', '151507', 'ground_truth.txt'), sep='\\t', header=None, index_col=0)\n",
    "Ann_df.columns = ['Ground Truth']\n",
    "adata.obs['Ground Truth'] = Ann_df.loc[adata.obs_names, 'Ground Truth']\n",
    "sc.pl.spatial(adata, color=['Ground Truth'])"
   ]
  },
  {
   "cell_type": "code",
   "execution_count": null,
   "metadata": {},
   "outputs": [],
   "source": [
    "Cal_Spatial_Net(adata, k_cutoff=6, model='KNN') # 生成网络，保存在.uns['Spatial_Net']中 \n",
    "adata = train_STAGATE(adata, n_epochs=50, random_seed=seed)\n",
    "adata.obsm['STAGATE']"
   ]
  },
  {
   "cell_type": "code",
   "execution_count": null,
   "metadata": {},
   "outputs": [],
   "source": [
    "adata = mclust_R(adata, 7) # 对embedding进行聚类，聚类结果保存在.obs['mclust']中\n",
    "sc.pl.spatial(adata, color=['mclust'])  # 绘制图"
   ]
  },
  {
   "cell_type": "code",
   "execution_count": null,
   "metadata": {},
   "outputs": [],
   "source": [
    "label = LabelEncoder().fit_transform(adata.obs['Ground Truth'])\n",
    "pred = LabelEncoder().fit_transform(adata.obs['mclust'])\n",
    "metrics.adjusted_rand_score(label, pred)    # 计算预测值与真实值之间的兰德系数"
   ]
  },
  {
   "cell_type": "code",
   "execution_count": null,
   "metadata": {},
   "outputs": [],
   "source": [
    "sc.pp.neighbors(adata, use_rep='STAGATE')\n",
    "sc.tl.umap(adata)\n",
    "sc.pl.umap(adata, color=[\"mclust\"])\n",
    "sc.tl.paga(adata, groups='mclust')\n",
    "sc.pl.paga_compare(adata)"
   ]
  },
  {
   "cell_type": "markdown",
   "metadata": {},
   "source": [
    "# 处理成年老鼠大脑切片数据集"
   ]
  },
  {
   "cell_type": "code",
   "execution_count": null,
   "metadata": {},
   "outputs": [],
   "source": [
    "adata = sc.read_visium(path=os.path.join('..', 'dataset', 'Adult_Mouse_Brain_Section_1'))\n",
    "adata.var_names_make_unique()"
   ]
  },
  {
   "cell_type": "code",
   "execution_count": null,
   "metadata": {},
   "outputs": [],
   "source": [
    "#Normalization\n",
    "sc.pp.highly_variable_genes(adata, flavor=\"seurat_v3\", n_top_genes=3000)\n",
    "sc.pp.normalize_total(adata, target_sum=1e4)\n",
    "sc.pp.log1p(adata)"
   ]
  },
  {
   "cell_type": "code",
   "execution_count": null,
   "metadata": {},
   "outputs": [],
   "source": [
    "Cal_Spatial_Net(adata, rad_cutoff=300)\n",
    "adata = train_STAGATE(adata, n_epochs=30, random_seed=seed)\n",
    "adata.obsm['STAGATE']"
   ]
  },
  {
   "cell_type": "code",
   "execution_count": null,
   "metadata": {},
   "outputs": [],
   "source": [
    "adata = mclust_R(adata, 22) # 对embedding进行聚类，聚类结果保存在.obs['mclust']中\n",
    "sc.pl.spatial(adata, color=['mclust'])  # 绘制图"
   ]
  },
  {
   "cell_type": "code",
   "execution_count": null,
   "metadata": {},
   "outputs": [],
   "source": [
    "sc.pp.neighbors(adata, use_rep='STAGATE')\n",
    "sc.tl.umap(adata)\n",
    "sc.pl.umap(adata, color=[\"mclust\"])\n",
    "sc.tl.paga(adata, groups='mclust')\n",
    "sc.pl.paga_compare(adata)"
   ]
  },
  {
   "cell_type": "markdown",
   "metadata": {},
   "source": [
    "# Slide-seqV2 mouse olfactory bulb"
   ]
  },
  {
   "cell_type": "code",
   "execution_count": null,
   "metadata": {},
   "outputs": [],
   "source": [
    "counts = pd.read_csv(os.path.join('..', 'dataset', 'Slide-seqV2_MoB', 'data', 'Puck_200127_15.digital_expression.txt'), sep='\\t', index_col=0)\n",
    "coor_df = pd.read_csv(os.path.join('..', 'dataset', 'Slide-seqV2_MoB', 'data', 'Puck_200127_15_bead_locations.csv'), index_col=0)\n",
    "\n",
    "adata = sc.AnnData(counts.T)\n",
    "adata.var_names_make_unique()\n",
    "coor_df = coor_df.loc[adata.obs_names, ['xcoord', 'ycoord']]\n",
    "adata.obsm[\"spatial\"] = coor_df.to_numpy()\n",
    "\n",
    "used_barcode = pd.read_csv(os.path.join('..', 'dataset', 'Slide-seqV2_MoB', 'used_barcodes.txt'), sep='\\t', header=None)\n",
    "adata = adata[used_barcode[0],]"
   ]
  },
  {
   "cell_type": "code",
   "execution_count": null,
   "metadata": {},
   "outputs": [],
   "source": [
    "#Normalization\n",
    "sc.pp.highly_variable_genes(adata, flavor=\"seurat_v3\", n_top_genes=3000)\n",
    "sc.pp.normalize_total(adata, target_sum=1e4)\n",
    "sc.pp.log1p(adata)"
   ]
  },
  {
   "cell_type": "code",
   "execution_count": null,
   "metadata": {},
   "outputs": [],
   "source": [
    "Cal_Spatial_Net(adata, rad_cutoff=300)\n",
    "adata = train_STAGATE(adata, n_epochs=30, random_seed=seed)\n",
    "adata.obsm['STAGATE']"
   ]
  },
  {
   "cell_type": "code",
   "execution_count": null,
   "metadata": {},
   "outputs": [],
   "source": [
    "adata = mclust_R(adata, 9) # 对embedding进行聚类，聚类结果保存在.obs['mclust']中\n",
    "sc.pl.spatial(adata, color=['mclust'])  # 绘制图"
   ]
  },
  {
   "cell_type": "code",
   "execution_count": null,
   "metadata": {},
   "outputs": [],
   "source": [
    "sc.pp.neighbors(adata, use_rep='STAGATE')\n",
    "sc.tl.umap(adata)\n",
    "sc.pl.umap(adata, color=[\"mclust\"])\n",
    "sc.tl.paga(adata, groups='mclust')\n",
    "sc.pl.paga_compare(adata)"
   ]
  }
 ],
 "metadata": {
  "kernelspec": {
   "display_name": "Python 3.8.10 64-bit",
   "language": "python",
   "name": "python3"
  },
  "language_info": {
   "codemirror_mode": {
    "name": "ipython",
    "version": 3
   },
   "file_extension": ".py",
   "mimetype": "text/x-python",
   "name": "python",
   "nbconvert_exporter": "python",
   "pygments_lexer": "ipython3",
   "version": "3.8.10"
  },
  "orig_nbformat": 4,
  "vscode": {
   "interpreter": {
    "hash": "e7370f93d1d0cde622a1f8e1c04877d8463912d04d973331ad4851f04de6915a"
   }
  }
 },
 "nbformat": 4,
 "nbformat_minor": 2
}
