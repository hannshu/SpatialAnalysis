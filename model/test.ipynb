{
 "cells": [
  {
   "cell_type": "code",
   "execution_count": 1,
   "metadata": {},
   "outputs": [
    {
     "name": "stderr",
     "output_type": "stream",
     "text": [
      "/home/ubuntu/.local/lib/python3.8/site-packages/tqdm/auto.py:22: TqdmWarning: IProgress not found. Please update jupyter and ipywidgets. See https://ipywidgets.readthedocs.io/en/stable/user_install.html\n",
      "  from .autonotebook import tqdm as notebook_tqdm\n"
     ]
    }
   ],
   "source": [
    "from sklearn import metrics\n",
    "from sklearn.preprocessing import LabelEncoder \n",
    "from sklearn.cluster import KMeans\n",
    "from torch_geometric.datasets import Planetoid\n",
    "from tqdm import tqdm"
   ]
  },
  {
   "cell_type": "code",
   "execution_count": 2,
   "metadata": {},
   "outputs": [],
   "source": [
    "dataset = Planetoid(root='./dataset/', name='Cora')"
   ]
  },
  {
   "cell_type": "markdown",
   "metadata": {},
   "source": [
    "## 使用标准的GCN训练Cora数据集"
   ]
  },
  {
   "cell_type": "code",
   "execution_count": 3,
   "metadata": {},
   "outputs": [],
   "source": [
    "import torch\n",
    "import torch.nn.functional as F\n",
    "from torch_geometric.nn import GCNConv\n",
    "\n",
    "class GCN(torch.nn.Module):\n",
    "    def __init__(self):\n",
    "        super().__init__()\n",
    "        self.conv1 = GCNConv(dataset.num_node_features, 16)\n",
    "        self.conv2 = GCNConv(16, dataset.num_classes)\n",
    "\n",
    "    def forward(self, data):\n",
    "        x, edge_index = data.x, data.edge_index\n",
    "\n",
    "        x = self.conv1(x, edge_index)\n",
    "        x = F.relu(x)\n",
    "        x = F.dropout(x, training=self.training)\n",
    "        y = self.conv2(x, edge_index)\n",
    "\n",
    "        return x, F.log_softmax(y, dim=1)"
   ]
  },
  {
   "cell_type": "code",
   "execution_count": 4,
   "metadata": {},
   "outputs": [
    {
     "name": "stdout",
     "output_type": "stream",
     "text": [
      "Accuracy: 0.8124\n"
     ]
    }
   ],
   "source": [
    "device = torch.device('cuda' if torch.cuda.is_available() else 'cpu')\n",
    "model = GCN().to(device)\n",
    "data = dataset[0].to(device)\n",
    "optimizer = torch.optim.Adam(model.parameters(), lr=0.01, weight_decay=5e-4)\n",
    "\n",
    "model.train()\n",
    "for epoch in range(200):\n",
    "    optimizer.zero_grad()\n",
    "    _, out = model(data)\n",
    "    loss = F.nll_loss(out[data.train_mask], data.y[data.train_mask])\n",
    "    loss.backward()\n",
    "    optimizer.step()\n",
    "\n",
    "model.eval()\n",
    "_, pred = model(data)\n",
    "pred = pred.argmax(dim=1)\n",
    "correct = (pred == data.y).sum()\n",
    "acc = int(correct) / int(len(data.y))\n",
    "print(f'Accuracy: {acc:.4f}')\n",
    "embed, _ = model(data)"
   ]
  },
  {
   "cell_type": "markdown",
   "metadata": {},
   "source": [
    "## 使用自建的模型训练Cora数据集"
   ]
  },
  {
   "cell_type": "code",
   "execution_count": 5,
   "metadata": {},
   "outputs": [
    {
     "name": "stderr",
     "output_type": "stream",
     "text": [
      "100%|██████████| 100/100 [00:51<00:00,  1.95it/s]\n"
     ]
    }
   ],
   "source": [
    "from models import my_loss, my_model\n",
    "from sklearn.decomposition import PCA\n",
    "import numpy as np\n",
    "\n",
    "components = 800\n",
    "out_features = 16\n",
    "seed = 2022\n",
    "cluster = 7\n",
    "lr = 1e-3\n",
    "epochs = 100\n",
    "\n",
    "pca = PCA(n_components=components).fit(data.x.detach().numpy()).transform(data.x.detach().numpy())\n",
    "data.x = torch.FloatTensor(pca)\n",
    "\n",
    "torch.manual_seed(seed)\n",
    "labels = np.array([int(x) for x in data.y])\n",
    "model_1 = my_model(components, out_features).to(device)\n",
    "loss_func = my_loss(cluster, seed, device).to(device)\n",
    "optim = torch.optim.Adam(model_1.parameters(), lr=lr, weight_decay=5e-4)\n",
    "\n",
    "model_1.train()\n",
    "for _ in tqdm(range(epochs)):\n",
    "    optim.zero_grad()\n",
    "    output = model_1(data)\n",
    "    loss = loss_func(output, labels)\n",
    "    loss.backward()\n",
    "    optim.step()\n",
    "\n",
    "model_1.eval()\n",
    "with torch.no_grad():\n",
    "    output = model_1(data)"
   ]
  },
  {
   "cell_type": "markdown",
   "metadata": {},
   "source": [
    "## 比较两种方法学习得到的embedding的聚类效果"
   ]
  },
  {
   "cell_type": "code",
   "execution_count": 6,
   "metadata": {},
   "outputs": [
    {
     "name": "stdout",
     "output_type": "stream",
     "text": [
      "pred: 0.6007630968264628\n",
      "pred_embed: 0.543857211164327\n"
     ]
    }
   ],
   "source": [
    "k_means = KMeans(n_clusters=cluster).fit(output.detach().numpy()).predict(output.detach().numpy())\n",
    "pred = LabelEncoder().fit_transform(k_means)\n",
    "k_means_embed = KMeans(n_clusters=cluster).fit(embed.detach().numpy()).predict(embed.detach().numpy())\n",
    "pred_embed = LabelEncoder().fit_transform(k_means_embed)\n",
    "print('pred:', metrics.adjusted_rand_score(labels, pred))\n",
    "print('pred_embed:', metrics.adjusted_rand_score(labels, pred_embed))"
   ]
  }
 ],
 "metadata": {
  "kernelspec": {
   "display_name": "Python 3.8.10 64-bit",
   "language": "python",
   "name": "python3"
  },
  "language_info": {
   "codemirror_mode": {
    "name": "ipython",
    "version": 3
   },
   "file_extension": ".py",
   "mimetype": "text/x-python",
   "name": "python",
   "nbconvert_exporter": "python",
   "pygments_lexer": "ipython3",
   "version": "3.8.10"
  },
  "orig_nbformat": 4,
  "vscode": {
   "interpreter": {
    "hash": "e7370f93d1d0cde622a1f8e1c04877d8463912d04d973331ad4851f04de6915a"
   }
  }
 },
 "nbformat": 4,
 "nbformat_minor": 2
}
