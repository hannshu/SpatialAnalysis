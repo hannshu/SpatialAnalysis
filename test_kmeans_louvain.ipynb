{
 "cells": [
  {
   "cell_type": "code",
   "execution_count": null,
   "metadata": {},
   "outputs": [],
   "source": [
    "from model.test import train\n",
    "from model.utilities import *\n",
    "from dataset import *\n",
    "from tools import evaluate\n",
    "\n",
    "from sklearn import metrics\n",
    "from sklearn.preprocessing import LabelEncoder \n",
    "from sklearn.cluster import KMeans, BisectingKMeans, Birch, SpectralClustering, AgglomerativeClustering, FeatureAgglomeration\n",
    "\n",
    "result = [[[], [], []], [[], [], []], [[], [], []]]\n",
    "sectionid = '151675'"
   ]
  },
  {
   "cell_type": "code",
   "execution_count": null,
   "metadata": {},
   "outputs": [],
   "source": [
    "adata, n_cluster = get_dlpfc_data(sectionid)\n",
    "# train(adata, lr=1e-3, radius=150, node2vec_p=4, node2vec_q=.25, louvain_resolution=.4, components_features=30, walk_length=25)\n",
    "\n",
    "data_spatial = build_spatial_graph(adata, 3000, 150)\n",
    "adata = adata[:, adata.var['highly_variable']]\n",
    "sc.pp.neighbors(adata, random_state=2022)\n",
    "sc.tl.louvain(adata, resolution=.6, key_added='pre_trained_louvain_label', random_state=2022)\n",
    "adata.obs['pre_trained_louvain_label'] = [str(x) for x in LabelEncoder().fit_transform(adata.obs['pre_trained_louvain_label'])]\n",
    "# print('>>> finish louvain, begin to purne graph')\n",
    "\n",
    "# sc.pl.spatial(adata, color=['pre_trained_louvain_label'])\n",
    "\n",
    "\n",
    "label = LabelEncoder().fit_transform(adata.obs['cluster'])\n",
    "pred = LabelEncoder().fit_transform([str(x) for x in KMeans(n_clusters=n_cluster).fit(adata.X).predict(adata.X)])\n",
    "ari_score = metrics.adjusted_rand_score(label, pred) * 100\n",
    "print('>>> %s: %.4f' % ('kmeans', ari_score))\n",
    "\n",
    "ari_score = metrics.adjusted_rand_score(label, adata.obs['pre_trained_louvain_label']) * 100\n",
    "print('>>> %s: %.4f' % ('louvain', ari_score))\n",
    "\n",
    "# result[0][0].append(ari_score)\n",
    "# adata.obs['kmeans'] = pred\n",
    "\n",
    "# sc.pl.spatial(adata, color=['cluster', 'kmeans'])"
   ]
  },
  {
   "cell_type": "code",
   "execution_count": 1,
   "metadata": {},
   "outputs": [],
   "source": [
    "from model.run import _train, train\n",
    "from model.utilities import *\n",
    "from dataset import *\n",
    "from tools import evaluate\n",
    "\n",
    "sectionid = '151675'"
   ]
  },
  {
   "cell_type": "code",
   "execution_count": 2,
   "metadata": {},
   "outputs": [
    {
     "name": "stderr",
     "output_type": "stream",
     "text": [
      "/mnt/5280e/twang/.conda/envs/torch+pyg/lib/python3.8/site-packages/anndata/_core/anndata.py:1830: UserWarning: Variable names are not unique. To make them unique, call `.var_names_make_unique`.\n",
      "  utils.warn_names_duplicates(\"var\")\n"
     ]
    },
    {
     "name": "stdout",
     "output_type": "stream",
     "text": [
      ">>> dataset name: dlpfc, slice id: 151675, size: (3592, 33538), cluster: 7.\n",
      ">>> The graph contains 24354 edges, average 6.7800668151447665 edges per node.\n",
      ">>> Building spatial graph success!\n",
      ">>> use louvain to modify spatial graph\n",
      "WARNING: You’re trying to run this on 3000 dimensions of `.X`, if you really want this, set `use_rep='X'`.\n",
      "         Falling back to preprocessing with `sc.pp.pca` and default params.\n",
      ">>> finish louvain, begin to prune graph\n",
      ">>> pruned graph contains 19698 edges, average 5.483853006681515 edges per node.\n"
     ]
    },
    {
     "name": "stderr",
     "output_type": "stream",
     "text": [
      ">>> node2vec: 100%|██████████| 200/200 [10:58<00:00,  3.29s/it]\n"
     ]
    },
    {
     "name": "stdout",
     "output_type": "stream",
     "text": [
      ">>> spatial model data size: (3592, 3000)\n"
     ]
    },
    {
     "name": "stderr",
     "output_type": "stream",
     "text": [
      ">>> training spatial model: 100%|██████████| 500/500 [00:05<00:00, 85.97it/s] \n"
     ]
    }
   ],
   "source": [
    "adata, n_cluster = get_dlpfc_data(sectionid)\n",
    "_train(adata, lr=1e-3, radius=150, node2vec_p=.25, node2vec_q=4, louvain_resolution=.4, components_features=30, walk_length=35)"
   ]
  },
  {
   "cell_type": "code",
   "execution_count": 3,
   "metadata": {},
   "outputs": [
    {
     "name": "stdout",
     "output_type": "stream",
     "text": [
      ">>> Birch: 37.2930\n"
     ]
    }
   ],
   "source": [
    "from sklearn import metrics\n",
    "from sklearn.preprocessing import LabelEncoder \n",
    "from sklearn.cluster import KMeans, BisectingKMeans, Birch, SpectralClustering, AgglomerativeClustering, FeatureAgglomeration\n",
    "\n",
    "label = LabelEncoder().fit_transform(adata.obs['cluster'])\n",
    "# pred = LabelEncoder().fit_transform([str(x) for x in KMeans(n_clusters=n_cluster, random_state=2022).fit(adata.X).predict(adata.X)])\n",
    "pred = LabelEncoder().fit_transform([str(x) for x in Birch(n_clusters=n_cluster).fit(adata.obsm['embedding']).predict(adata.obsm['embedding'])])\n",
    "ari_score = metrics.adjusted_rand_score(label, pred) * 100\n",
    "print('>>> %s: %.4f' % ('Birch', ari_score))"
   ]
  },
  {
   "cell_type": "code",
   "execution_count": 4,
   "metadata": {},
   "outputs": [
    {
     "name": "stderr",
     "output_type": "stream",
     "text": [
      "/mnt/5280e/twang/.conda/envs/torch+pyg/lib/python3.8/site-packages/anndata/_core/anndata.py:1830: UserWarning: Variable names are not unique. To make them unique, call `.var_names_make_unique`.\n",
      "  utils.warn_names_duplicates(\"var\")\n"
     ]
    },
    {
     "name": "stdout",
     "output_type": "stream",
     "text": [
      ">>> dataset name: dlpfc, slice id: 151675, size: (3592, 33538), cluster: 7.\n",
      ">>> The graph contains 24354 edges, average 6.7800668151447665 edges per node.\n",
      ">>> Building spatial graph success!\n",
      ">>> use louvain to modify spatial graph\n",
      "WARNING: You’re trying to run this on 3000 dimensions of `.X`, if you really want this, set `use_rep='X'`.\n",
      "         Falling back to preprocessing with `sc.pp.pca` and default params.\n",
      ">>> finish louvain, begin to prune graph\n",
      ">>> pruned graph contains 19474 edges, average 5.421492204899777 edges per node.\n"
     ]
    },
    {
     "name": "stderr",
     "output_type": "stream",
     "text": [
      ">>> node2vec: 100%|██████████| 200/200 [10:49<00:00,  3.25s/it]\n"
     ]
    },
    {
     "name": "stdout",
     "output_type": "stream",
     "text": [
      ">>> spatial model data size: (3592, 3000)\n"
     ]
    },
    {
     "name": "stderr",
     "output_type": "stream",
     "text": [
      ">>> training spatial model: 100%|██████████| 500/500 [00:04<00:00, 107.22it/s]\n"
     ]
    }
   ],
   "source": [
    "adata, n_cluster = get_dlpfc_data(sectionid)\n",
    "train(adata, lr=1e-3, radius=150, node2vec_p=.25, node2vec_q=4, louvain_resolution=.4, components_features=30, walk_length=35)"
   ]
  },
  {
   "cell_type": "code",
   "execution_count": 5,
   "metadata": {},
   "outputs": [
    {
     "name": "stdout",
     "output_type": "stream",
     "text": [
      ">>> Birch: 28.5230\n"
     ]
    }
   ],
   "source": [
    "# pred = LabelEncoder().fit_transform([str(x) for x in KMeans(n_clusters=n_cluster, random_state=2022).fit(adata.X).predict(adata.X)])\n",
    "pred = LabelEncoder().fit_transform([str(x) for x in Birch(n_clusters=n_cluster).fit(adata.obsm['embedding']).predict(adata.obsm['embedding'])])\n",
    "ari_score = metrics.adjusted_rand_score(label, pred) * 100\n",
    "print('>>> %s: %.4f' % ('Birch', ari_score))"
   ]
  }
 ],
 "metadata": {
  "kernelspec": {
   "display_name": "Python 3.8.13 ('torch+pyg')",
   "language": "python",
   "name": "python3"
  },
  "language_info": {
   "codemirror_mode": {
    "name": "ipython",
    "version": 3
   },
   "file_extension": ".py",
   "mimetype": "text/x-python",
   "name": "python",
   "nbconvert_exporter": "python",
   "pygments_lexer": "ipython3",
   "version": "3.8.13"
  },
  "orig_nbformat": 4,
  "vscode": {
   "interpreter": {
    "hash": "a0f855fec34ed1739858563e3b94d8ba36be9c5a95173b69288904bab1233695"
   }
  }
 },
 "nbformat": 4,
 "nbformat_minor": 2
}
