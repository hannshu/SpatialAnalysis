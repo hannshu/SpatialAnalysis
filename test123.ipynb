{
 "cells": [
  {
   "cell_type": "code",
   "execution_count": null,
   "metadata": {},
   "outputs": [],
   "source": [
    "from d_SpaGCN.run import train, train_spg\n",
    "from dataset import *\n",
    "from tools import evaluate"
   ]
  },
  {
   "cell_type": "code",
   "execution_count": null,
   "metadata": {},
   "outputs": [],
   "source": [
    "adata, n_cluster = get_human_breast_cancer_data()\n",
    "train_spg(adata, n_cluster)\n",
    "evaluate(adata, pred_list=['pred', 'refined_pred'])"
   ]
  }
 ],
 "metadata": {
  "kernelspec": {
   "display_name": "Python 3.8.13 ('torch+pyg')",
   "language": "python",
   "name": "python3"
  },
  "language_info": {
   "name": "python",
   "version": "3.8.13"
  },
  "orig_nbformat": 4,
  "vscode": {
   "interpreter": {
    "hash": "a0f855fec34ed1739858563e3b94d8ba36be9c5a95173b69288904bab1233695"
   }
  }
 },
 "nbformat": 4,
 "nbformat_minor": 2
}
