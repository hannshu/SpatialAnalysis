{
 "cells": [
  {
   "cell_type": "code",
   "execution_count": 1,
   "metadata": {},
   "outputs": [],
   "source": [
    "from model.test import train\n",
    "from dataset import *\n",
    "from tools import evaluate\n",
    "\n",
    "from sklearn import metrics\n",
    "from sklearn.preprocessing import LabelEncoder \n",
    "from sklearn.cluster import KMeans, BisectingKMeans, Birch, SpectralClustering, AgglomerativeClustering, FeatureAgglomeration\n",
    "\n",
    "result = [[[], [], []], [[], [], []], [[], [], []]]\n",
    "sectionid = '151510'"
   ]
  },
  {
   "cell_type": "code",
   "execution_count": 2,
   "metadata": {},
   "outputs": [
    {
     "name": "stderr",
     "output_type": "stream",
     "text": [
      "/mnt/5280e/twang/.conda/envs/torch+pyg/lib/python3.8/site-packages/anndata/_core/anndata.py:1830: UserWarning: Variable names are not unique. To make them unique, call `.var_names_make_unique`.\n",
      "  utils.warn_names_duplicates(\"var\")\n"
     ]
    },
    {
     "name": "stdout",
     "output_type": "stream",
     "text": [
      ">>> dataset name: dlpfc, slice id: 151510, size: (4634, 33538), cluster: 7.\n",
      ">>> The graph contains 31832 edges, average 6.869227449287872 edges per node.\n",
      ">>> Building spatial graph success!\n",
      ">>> use louvain to modify spatial graph\n",
      "WARNING: You’re trying to run this on 3000 dimensions of `.X`, if you really want this, set `use_rep='X'`.\n",
      "         Falling back to preprocessing with `sc.pp.pca` and default params.\n"
     ]
    },
    {
     "name": "stderr",
     "output_type": "stream",
     "text": [
      "2022-10-19 23:45:14.656834: I tensorflow/core/platform/cpu_feature_guard.cc:193] This TensorFlow binary is optimized with oneAPI Deep Neural Network Library (oneDNN) to use the following CPU instructions in performance-critical operations:  AVX2 AVX512F AVX512_VNNI FMA\n",
      "To enable them in other operations, rebuild TensorFlow with the appropriate compiler flags.\n"
     ]
    },
    {
     "name": "stdout",
     "output_type": "stream",
     "text": [
      ">>> finish louvain, begin to prune graph\n",
      ">>> pruned graph contains 30000 edges, average 6.473888649115235 edges per node.\n"
     ]
    },
    {
     "name": "stderr",
     "output_type": "stream",
     "text": [
      "2022-10-19 23:45:14.860747: I tensorflow/core/util/util.cc:169] oneDNN custom operations are on. You may see slightly different numerical results due to floating-point round-off errors from different computation orders. To turn them off, set the environment variable `TF_ENABLE_ONEDNN_OPTS=0`.\n",
      ">>> node2vec: 100%|██████████| 200/200 [05:04<00:00,  1.52s/it]\n"
     ]
    },
    {
     "name": "stdout",
     "output_type": "stream",
     "text": [
      ">>> spatial model data(features) size: (4634, 3000)\n"
     ]
    },
    {
     "name": "stderr",
     "output_type": "stream",
     "text": [
      ">>> training spatial model: 100%|██████████| 500/500 [00:08<00:00, 58.86it/s]\n"
     ]
    },
    {
     "name": "stdout",
     "output_type": "stream",
     "text": [
      ">>> Birch: 39.9191\n"
     ]
    }
   ],
   "source": [
    "adata, n_cluster = get_dlpfc_data(sectionid)\n",
    "train(adata, lr=1e-3, radius=150, node2vec_p=4, node2vec_q=.25, louvain_resolution=.4, components_features=30, walk_length=25)\n",
    "\n",
    "label = LabelEncoder().fit_transform(adata.obs['cluster'])\n",
    "pred = LabelEncoder().fit_transform([str(x) for x in Birch(n_clusters=n_cluster).fit(adata.obsm['embedding']).predict(adata.obsm['embedding'])])\n",
    "ari_score = metrics.adjusted_rand_score(label, pred) * 100\n",
    "print('>>> %s: %.4f' % ('Birch', ari_score))\n",
    "result[0][0].append(ari_score)"
   ]
  },
  {
   "cell_type": "code",
   "execution_count": 3,
   "metadata": {},
   "outputs": [
    {
     "name": "stderr",
     "output_type": "stream",
     "text": [
      "/mnt/5280e/twang/.conda/envs/torch+pyg/lib/python3.8/site-packages/anndata/_core/anndata.py:1830: UserWarning: Variable names are not unique. To make them unique, call `.var_names_make_unique`.\n",
      "  utils.warn_names_duplicates(\"var\")\n"
     ]
    },
    {
     "name": "stdout",
     "output_type": "stream",
     "text": [
      ">>> dataset name: dlpfc, slice id: 151510, size: (4634, 33538), cluster: 7.\n",
      ">>> The graph contains 31832 edges, average 6.869227449287872 edges per node.\n",
      ">>> Building spatial graph success!\n",
      ">>> use louvain to modify spatial graph\n",
      "WARNING: You’re trying to run this on 3000 dimensions of `.X`, if you really want this, set `use_rep='X'`.\n",
      "         Falling back to preprocessing with `sc.pp.pca` and default params.\n",
      ">>> finish louvain, begin to prune graph\n",
      ">>> pruned graph contains 22378 edges, average 4.829089339663358 edges per node.\n"
     ]
    },
    {
     "name": "stderr",
     "output_type": "stream",
     "text": [
      ">>> node2vec: 100%|██████████| 200/200 [05:18<00:00,  1.59s/it]\n"
     ]
    },
    {
     "name": "stdout",
     "output_type": "stream",
     "text": [
      ">>> spatial model data(features) size: (4634, 3000)\n"
     ]
    },
    {
     "name": "stderr",
     "output_type": "stream",
     "text": [
      ">>> training spatial model: 100%|██████████| 500/500 [00:12<00:00, 38.94it/s]\n"
     ]
    },
    {
     "name": "stdout",
     "output_type": "stream",
     "text": [
      ">>> Birch: 40.3436\n"
     ]
    }
   ],
   "source": [
    "adata, n_cluster = get_dlpfc_data(sectionid)\n",
    "train(adata, lr=1e-3, radius=150, node2vec_p=4, node2vec_q=.25, louvain_resolution=.6, components_features=30, walk_length=25)\n",
    "\n",
    "label = LabelEncoder().fit_transform(adata.obs['cluster'])\n",
    "pred = LabelEncoder().fit_transform([str(x) for x in Birch(n_clusters=n_cluster).fit(adata.obsm['embedding']).predict(adata.obsm['embedding'])])\n",
    "ari_score = metrics.adjusted_rand_score(label, pred) * 100\n",
    "print('>>> %s: %.4f' % ('Birch', ari_score))\n",
    "result[1][0].append(ari_score)"
   ]
  },
  {
   "cell_type": "code",
   "execution_count": 4,
   "metadata": {},
   "outputs": [
    {
     "name": "stderr",
     "output_type": "stream",
     "text": [
      "/mnt/5280e/twang/.conda/envs/torch+pyg/lib/python3.8/site-packages/anndata/_core/anndata.py:1830: UserWarning: Variable names are not unique. To make them unique, call `.var_names_make_unique`.\n",
      "  utils.warn_names_duplicates(\"var\")\n"
     ]
    },
    {
     "name": "stdout",
     "output_type": "stream",
     "text": [
      ">>> dataset name: dlpfc, slice id: 151510, size: (4634, 33538), cluster: 7.\n",
      ">>> The graph contains 31832 edges, average 6.869227449287872 edges per node.\n",
      ">>> Building spatial graph success!\n",
      ">>> use louvain to modify spatial graph\n",
      "WARNING: You’re trying to run this on 3000 dimensions of `.X`, if you really want this, set `use_rep='X'`.\n",
      "         Falling back to preprocessing with `sc.pp.pca` and default params.\n",
      ">>> finish louvain, begin to prune graph\n",
      ">>> pruned graph contains 22470 edges, average 4.848942598187311 edges per node.\n"
     ]
    },
    {
     "name": "stderr",
     "output_type": "stream",
     "text": [
      ">>> node2vec: 100%|██████████| 200/200 [05:13<00:00,  1.57s/it]\n"
     ]
    },
    {
     "name": "stdout",
     "output_type": "stream",
     "text": [
      ">>> spatial model data(features) size: (4634, 3000)\n"
     ]
    },
    {
     "name": "stderr",
     "output_type": "stream",
     "text": [
      ">>> training spatial model: 100%|██████████| 500/500 [00:08<00:00, 59.91it/s]\n"
     ]
    },
    {
     "name": "stdout",
     "output_type": "stream",
     "text": [
      ">>> Birch: 44.3098\n"
     ]
    }
   ],
   "source": [
    "adata, n_cluster = get_dlpfc_data(sectionid)\n",
    "train(adata, lr=1e-3, radius=150, node2vec_p=4, node2vec_q=.25, louvain_resolution=.8, components_features=30, walk_length=25)\n",
    "\n",
    "label = LabelEncoder().fit_transform(adata.obs['cluster'])\n",
    "pred = LabelEncoder().fit_transform([str(x) for x in Birch(n_clusters=n_cluster).fit(adata.obsm['embedding']).predict(adata.obsm['embedding'])])\n",
    "ari_score = metrics.adjusted_rand_score(label, pred) * 100\n",
    "print('>>> %s: %.4f' % ('Birch', ari_score))\n",
    "result[2][0].append(ari_score)"
   ]
  },
  {
   "cell_type": "code",
   "execution_count": 5,
   "metadata": {},
   "outputs": [
    {
     "name": "stderr",
     "output_type": "stream",
     "text": [
      "/mnt/5280e/twang/.conda/envs/torch+pyg/lib/python3.8/site-packages/anndata/_core/anndata.py:1830: UserWarning: Variable names are not unique. To make them unique, call `.var_names_make_unique`.\n",
      "  utils.warn_names_duplicates(\"var\")\n"
     ]
    },
    {
     "name": "stdout",
     "output_type": "stream",
     "text": [
      ">>> dataset name: dlpfc, slice id: 151510, size: (4634, 33538), cluster: 7.\n",
      ">>> The graph contains 31832 edges, average 6.869227449287872 edges per node.\n",
      ">>> Building spatial graph success!\n",
      ">>> use louvain to modify spatial graph\n",
      "WARNING: You’re trying to run this on 3000 dimensions of `.X`, if you really want this, set `use_rep='X'`.\n",
      "         Falling back to preprocessing with `sc.pp.pca` and default params.\n",
      ">>> finish louvain, begin to prune graph\n",
      ">>> pruned graph contains 30000 edges, average 6.473888649115235 edges per node.\n"
     ]
    },
    {
     "name": "stderr",
     "output_type": "stream",
     "text": [
      ">>> node2vec: 100%|██████████| 200/200 [04:50<00:00,  1.45s/it]\n"
     ]
    },
    {
     "name": "stdout",
     "output_type": "stream",
     "text": [
      ">>> spatial model data(features) size: (4634, 3000)\n"
     ]
    },
    {
     "name": "stderr",
     "output_type": "stream",
     "text": [
      ">>> training spatial model: 100%|██████████| 500/500 [00:07<00:00, 64.45it/s]\n"
     ]
    },
    {
     "name": "stdout",
     "output_type": "stream",
     "text": [
      ">>> Birch: 37.4618\n"
     ]
    }
   ],
   "source": [
    "adata, n_cluster = get_dlpfc_data(sectionid)\n",
    "train(adata, lr=1e-3, radius=150, node2vec_p=1, node2vec_q=1, louvain_resolution=.4, components_features=30, walk_length=25)\n",
    "\n",
    "label = LabelEncoder().fit_transform(adata.obs['cluster'])\n",
    "pred = LabelEncoder().fit_transform([str(x) for x in Birch(n_clusters=n_cluster).fit(adata.obsm['embedding']).predict(adata.obsm['embedding'])])\n",
    "ari_score = metrics.adjusted_rand_score(label, pred) * 100\n",
    "print('>>> %s: %.4f' % ('Birch', ari_score))\n",
    "result[0][0].append(ari_score)"
   ]
  },
  {
   "cell_type": "code",
   "execution_count": 6,
   "metadata": {},
   "outputs": [
    {
     "name": "stderr",
     "output_type": "stream",
     "text": [
      "/mnt/5280e/twang/.conda/envs/torch+pyg/lib/python3.8/site-packages/anndata/_core/anndata.py:1830: UserWarning: Variable names are not unique. To make them unique, call `.var_names_make_unique`.\n",
      "  utils.warn_names_duplicates(\"var\")\n"
     ]
    },
    {
     "name": "stdout",
     "output_type": "stream",
     "text": [
      ">>> dataset name: dlpfc, slice id: 151510, size: (4634, 33538), cluster: 7.\n",
      ">>> The graph contains 31832 edges, average 6.869227449287872 edges per node.\n",
      ">>> Building spatial graph success!\n",
      ">>> use louvain to modify spatial graph\n",
      "WARNING: You’re trying to run this on 3000 dimensions of `.X`, if you really want this, set `use_rep='X'`.\n",
      "         Falling back to preprocessing with `sc.pp.pca` and default params.\n",
      ">>> finish louvain, begin to prune graph\n",
      ">>> pruned graph contains 22378 edges, average 4.829089339663358 edges per node.\n"
     ]
    },
    {
     "name": "stderr",
     "output_type": "stream",
     "text": [
      ">>> node2vec: 100%|██████████| 200/200 [04:40<00:00,  1.40s/it]\n"
     ]
    },
    {
     "name": "stdout",
     "output_type": "stream",
     "text": [
      ">>> spatial model data(features) size: (4634, 3000)\n"
     ]
    },
    {
     "name": "stderr",
     "output_type": "stream",
     "text": [
      ">>> training spatial model: 100%|██████████| 500/500 [00:13<00:00, 36.11it/s]\n"
     ]
    },
    {
     "name": "stdout",
     "output_type": "stream",
     "text": [
      ">>> Birch: 36.3764\n"
     ]
    }
   ],
   "source": [
    "adata, n_cluster = get_dlpfc_data(sectionid)\n",
    "train(adata, lr=1e-3, radius=150, node2vec_p=1, node2vec_q=1, louvain_resolution=.6, components_features=30, walk_length=25)\n",
    "\n",
    "label = LabelEncoder().fit_transform(adata.obs['cluster'])\n",
    "pred = LabelEncoder().fit_transform([str(x) for x in Birch(n_clusters=n_cluster).fit(adata.obsm['embedding']).predict(adata.obsm['embedding'])])\n",
    "ari_score = metrics.adjusted_rand_score(label, pred) * 100\n",
    "print('>>> %s: %.4f' % ('Birch', ari_score))\n",
    "result[1][0].append(ari_score)"
   ]
  },
  {
   "cell_type": "code",
   "execution_count": 7,
   "metadata": {},
   "outputs": [
    {
     "name": "stderr",
     "output_type": "stream",
     "text": [
      "/mnt/5280e/twang/.conda/envs/torch+pyg/lib/python3.8/site-packages/anndata/_core/anndata.py:1830: UserWarning: Variable names are not unique. To make them unique, call `.var_names_make_unique`.\n",
      "  utils.warn_names_duplicates(\"var\")\n"
     ]
    },
    {
     "name": "stdout",
     "output_type": "stream",
     "text": [
      ">>> dataset name: dlpfc, slice id: 151510, size: (4634, 33538), cluster: 7.\n",
      ">>> The graph contains 31832 edges, average 6.869227449287872 edges per node.\n",
      ">>> Building spatial graph success!\n",
      ">>> use louvain to modify spatial graph\n",
      "WARNING: You’re trying to run this on 3000 dimensions of `.X`, if you really want this, set `use_rep='X'`.\n",
      "         Falling back to preprocessing with `sc.pp.pca` and default params.\n",
      ">>> finish louvain, begin to prune graph\n",
      ">>> pruned graph contains 22444 edges, average 4.843331894691412 edges per node.\n"
     ]
    },
    {
     "name": "stderr",
     "output_type": "stream",
     "text": [
      ">>> node2vec: 100%|██████████| 200/200 [04:40<00:00,  1.40s/it]\n"
     ]
    },
    {
     "name": "stdout",
     "output_type": "stream",
     "text": [
      ">>> spatial model data(features) size: (4634, 3000)\n"
     ]
    },
    {
     "name": "stderr",
     "output_type": "stream",
     "text": [
      ">>> training spatial model: 100%|██████████| 500/500 [00:08<00:00, 58.56it/s]\n"
     ]
    },
    {
     "name": "stdout",
     "output_type": "stream",
     "text": [
      ">>> Birch: 53.0616\n"
     ]
    }
   ],
   "source": [
    "adata, n_cluster = get_dlpfc_data(sectionid)\n",
    "train(adata, lr=1e-3, radius=150, node2vec_p=1, node2vec_q=1, louvain_resolution=.8, components_features=30, walk_length=25)\n",
    "\n",
    "label = LabelEncoder().fit_transform(adata.obs['cluster'])\n",
    "pred = LabelEncoder().fit_transform([str(x) for x in Birch(n_clusters=n_cluster).fit(adata.obsm['embedding']).predict(adata.obsm['embedding'])])\n",
    "ari_score = metrics.adjusted_rand_score(label, pred) * 100\n",
    "print('>>> %s: %.4f' % ('Birch', ari_score))\n",
    "result[2][0].append(ari_score)"
   ]
  },
  {
   "cell_type": "code",
   "execution_count": 8,
   "metadata": {},
   "outputs": [
    {
     "name": "stderr",
     "output_type": "stream",
     "text": [
      "/mnt/5280e/twang/.conda/envs/torch+pyg/lib/python3.8/site-packages/anndata/_core/anndata.py:1830: UserWarning: Variable names are not unique. To make them unique, call `.var_names_make_unique`.\n",
      "  utils.warn_names_duplicates(\"var\")\n"
     ]
    },
    {
     "name": "stdout",
     "output_type": "stream",
     "text": [
      ">>> dataset name: dlpfc, slice id: 151510, size: (4634, 33538), cluster: 7.\n",
      ">>> The graph contains 31832 edges, average 6.869227449287872 edges per node.\n",
      ">>> Building spatial graph success!\n",
      ">>> use louvain to modify spatial graph\n",
      "WARNING: You’re trying to run this on 3000 dimensions of `.X`, if you really want this, set `use_rep='X'`.\n",
      "         Falling back to preprocessing with `sc.pp.pca` and default params.\n",
      ">>> finish louvain, begin to prune graph\n",
      ">>> pruned graph contains 29964 edges, average 6.466119982736297 edges per node.\n"
     ]
    },
    {
     "name": "stderr",
     "output_type": "stream",
     "text": [
      ">>> node2vec: 100%|██████████| 200/200 [05:11<00:00,  1.56s/it]\n"
     ]
    },
    {
     "name": "stdout",
     "output_type": "stream",
     "text": [
      ">>> spatial model data(features) size: (4634, 3000)\n"
     ]
    },
    {
     "name": "stderr",
     "output_type": "stream",
     "text": [
      ">>> training spatial model: 100%|██████████| 500/500 [00:08<00:00, 59.71it/s]\n"
     ]
    },
    {
     "name": "stdout",
     "output_type": "stream",
     "text": [
      ">>> Birch: 45.3015\n"
     ]
    }
   ],
   "source": [
    "adata, n_cluster = get_dlpfc_data(sectionid)\n",
    "train(adata, lr=1e-3, radius=150, node2vec_p=.25, node2vec_q=4, louvain_resolution=.4, components_features=30, walk_length=25)\n",
    "\n",
    "label = LabelEncoder().fit_transform(adata.obs['cluster'])\n",
    "pred = LabelEncoder().fit_transform([str(x) for x in Birch(n_clusters=n_cluster).fit(adata.obsm['embedding']).predict(adata.obsm['embedding'])])\n",
    "ari_score = metrics.adjusted_rand_score(label, pred) * 100\n",
    "print('>>> %s: %.4f' % ('Birch', ari_score))\n",
    "result[0][0].append(ari_score)"
   ]
  },
  {
   "cell_type": "code",
   "execution_count": 9,
   "metadata": {},
   "outputs": [
    {
     "name": "stderr",
     "output_type": "stream",
     "text": [
      "/mnt/5280e/twang/.conda/envs/torch+pyg/lib/python3.8/site-packages/anndata/_core/anndata.py:1830: UserWarning: Variable names are not unique. To make them unique, call `.var_names_make_unique`.\n",
      "  utils.warn_names_duplicates(\"var\")\n"
     ]
    },
    {
     "name": "stdout",
     "output_type": "stream",
     "text": [
      ">>> dataset name: dlpfc, slice id: 151510, size: (4634, 33538), cluster: 7.\n",
      ">>> The graph contains 31832 edges, average 6.869227449287872 edges per node.\n",
      ">>> Building spatial graph success!\n",
      ">>> use louvain to modify spatial graph\n",
      "WARNING: You’re trying to run this on 3000 dimensions of `.X`, if you really want this, set `use_rep='X'`.\n",
      "         Falling back to preprocessing with `sc.pp.pca` and default params.\n",
      ">>> finish louvain, begin to prune graph\n",
      ">>> pruned graph contains 22368 edges, average 4.826931376780319 edges per node.\n"
     ]
    },
    {
     "name": "stderr",
     "output_type": "stream",
     "text": [
      ">>> node2vec: 100%|██████████| 200/200 [05:06<00:00,  1.53s/it]\n"
     ]
    },
    {
     "name": "stdout",
     "output_type": "stream",
     "text": [
      ">>> spatial model data(features) size: (4634, 3000)\n"
     ]
    },
    {
     "name": "stderr",
     "output_type": "stream",
     "text": [
      ">>> training spatial model: 100%|██████████| 500/500 [00:08<00:00, 60.61it/s]\n"
     ]
    },
    {
     "name": "stdout",
     "output_type": "stream",
     "text": [
      ">>> Birch: 29.8464\n"
     ]
    }
   ],
   "source": [
    "adata, n_cluster = get_dlpfc_data(sectionid)\n",
    "train(adata, lr=1e-3, radius=150, node2vec_p=.25, node2vec_q=4, louvain_resolution=.6, components_features=30, walk_length=25)\n",
    "\n",
    "label = LabelEncoder().fit_transform(adata.obs['cluster'])\n",
    "pred = LabelEncoder().fit_transform([str(x) for x in Birch(n_clusters=n_cluster).fit(adata.obsm['embedding']).predict(adata.obsm['embedding'])])\n",
    "ari_score = metrics.adjusted_rand_score(label, pred) * 100\n",
    "print('>>> %s: %.4f' % ('Birch', ari_score))\n",
    "result[1][0].append(ari_score)"
   ]
  },
  {
   "cell_type": "code",
   "execution_count": 10,
   "metadata": {},
   "outputs": [
    {
     "name": "stderr",
     "output_type": "stream",
     "text": [
      "/mnt/5280e/twang/.conda/envs/torch+pyg/lib/python3.8/site-packages/anndata/_core/anndata.py:1830: UserWarning: Variable names are not unique. To make them unique, call `.var_names_make_unique`.\n",
      "  utils.warn_names_duplicates(\"var\")\n"
     ]
    },
    {
     "name": "stdout",
     "output_type": "stream",
     "text": [
      ">>> dataset name: dlpfc, slice id: 151510, size: (4634, 33538), cluster: 7.\n",
      ">>> The graph contains 31832 edges, average 6.869227449287872 edges per node.\n",
      ">>> Building spatial graph success!\n",
      ">>> use louvain to modify spatial graph\n",
      "WARNING: You’re trying to run this on 3000 dimensions of `.X`, if you really want this, set `use_rep='X'`.\n",
      "         Falling back to preprocessing with `sc.pp.pca` and default params.\n",
      ">>> finish louvain, begin to prune graph\n",
      ">>> pruned graph contains 22470 edges, average 4.848942598187311 edges per node.\n"
     ]
    },
    {
     "name": "stderr",
     "output_type": "stream",
     "text": [
      ">>> node2vec: 100%|██████████| 200/200 [05:09<00:00,  1.55s/it]\n"
     ]
    },
    {
     "name": "stdout",
     "output_type": "stream",
     "text": [
      ">>> spatial model data(features) size: (4634, 3000)\n"
     ]
    },
    {
     "name": "stderr",
     "output_type": "stream",
     "text": [
      ">>> training spatial model: 100%|██████████| 500/500 [00:08<00:00, 60.01it/s]\n"
     ]
    },
    {
     "name": "stdout",
     "output_type": "stream",
     "text": [
      ">>> Birch: 40.0672\n"
     ]
    }
   ],
   "source": [
    "adata, n_cluster = get_dlpfc_data(sectionid)\n",
    "train(adata, lr=1e-3, radius=150, node2vec_p=.25, node2vec_q=4, louvain_resolution=.8, components_features=30, walk_length=25)\n",
    "\n",
    "label = LabelEncoder().fit_transform(adata.obs['cluster'])\n",
    "pred = LabelEncoder().fit_transform([str(x) for x in Birch(n_clusters=n_cluster).fit(adata.obsm['embedding']).predict(adata.obsm['embedding'])])\n",
    "ari_score = metrics.adjusted_rand_score(label, pred) * 100\n",
    "print('>>> %s: %.4f' % ('Birch', ari_score))\n",
    "result[2][0].append(ari_score)"
   ]
  },
  {
   "cell_type": "code",
   "execution_count": 11,
   "metadata": {},
   "outputs": [
    {
     "name": "stderr",
     "output_type": "stream",
     "text": [
      "/mnt/5280e/twang/.conda/envs/torch+pyg/lib/python3.8/site-packages/anndata/_core/anndata.py:1830: UserWarning: Variable names are not unique. To make them unique, call `.var_names_make_unique`.\n",
      "  utils.warn_names_duplicates(\"var\")\n"
     ]
    },
    {
     "name": "stdout",
     "output_type": "stream",
     "text": [
      ">>> dataset name: dlpfc, slice id: 151510, size: (4634, 33538), cluster: 7.\n",
      ">>> The graph contains 31832 edges, average 6.869227449287872 edges per node.\n",
      ">>> Building spatial graph success!\n",
      ">>> use louvain to modify spatial graph\n",
      "WARNING: You’re trying to run this on 3000 dimensions of `.X`, if you really want this, set `use_rep='X'`.\n",
      "         Falling back to preprocessing with `sc.pp.pca` and default params.\n",
      ">>> finish louvain, begin to prune graph\n",
      ">>> pruned graph contains 29960 edges, average 6.4652567975830815 edges per node.\n"
     ]
    },
    {
     "name": "stderr",
     "output_type": "stream",
     "text": [
      ">>> node2vec: 100%|██████████| 200/200 [08:58<00:00,  2.69s/it]\n"
     ]
    },
    {
     "name": "stdout",
     "output_type": "stream",
     "text": [
      ">>> spatial model data(features) size: (4634, 3000)\n"
     ]
    },
    {
     "name": "stderr",
     "output_type": "stream",
     "text": [
      ">>> training spatial model: 100%|██████████| 500/500 [00:07<00:00, 66.22it/s]\n"
     ]
    },
    {
     "name": "stdout",
     "output_type": "stream",
     "text": [
      ">>> Birch: 47.6435\n"
     ]
    }
   ],
   "source": [
    "adata, n_cluster = get_dlpfc_data(sectionid)\n",
    "train(adata, lr=1e-3, radius=150, node2vec_p=4, node2vec_q=.25, louvain_resolution=.4, components_features=30, walk_length=35)\n",
    "\n",
    "label = LabelEncoder().fit_transform(adata.obs['cluster'])\n",
    "pred = LabelEncoder().fit_transform([str(x) for x in Birch(n_clusters=n_cluster).fit(adata.obsm['embedding']).predict(adata.obsm['embedding'])])\n",
    "ari_score = metrics.adjusted_rand_score(label, pred) * 100\n",
    "print('>>> %s: %.4f' % ('Birch', ari_score))\n",
    "result[0][1].append(ari_score)"
   ]
  },
  {
   "cell_type": "code",
   "execution_count": 12,
   "metadata": {},
   "outputs": [
    {
     "name": "stderr",
     "output_type": "stream",
     "text": [
      "/mnt/5280e/twang/.conda/envs/torch+pyg/lib/python3.8/site-packages/anndata/_core/anndata.py:1830: UserWarning: Variable names are not unique. To make them unique, call `.var_names_make_unique`.\n",
      "  utils.warn_names_duplicates(\"var\")\n"
     ]
    },
    {
     "name": "stdout",
     "output_type": "stream",
     "text": [
      ">>> dataset name: dlpfc, slice id: 151510, size: (4634, 33538), cluster: 7.\n",
      ">>> The graph contains 31832 edges, average 6.869227449287872 edges per node.\n",
      ">>> Building spatial graph success!\n",
      ">>> use louvain to modify spatial graph\n",
      "WARNING: You’re trying to run this on 3000 dimensions of `.X`, if you really want this, set `use_rep='X'`.\n",
      "         Falling back to preprocessing with `sc.pp.pca` and default params.\n",
      ">>> finish louvain, begin to prune graph\n",
      ">>> pruned graph contains 22238 edges, average 4.79887785930082 edges per node.\n"
     ]
    },
    {
     "name": "stderr",
     "output_type": "stream",
     "text": [
      ">>> node2vec: 100%|██████████| 200/200 [08:55<00:00,  2.68s/it]\n"
     ]
    },
    {
     "name": "stdout",
     "output_type": "stream",
     "text": [
      ">>> spatial model data(features) size: (4634, 3000)\n"
     ]
    },
    {
     "name": "stderr",
     "output_type": "stream",
     "text": [
      ">>> training spatial model: 100%|██████████| 500/500 [00:08<00:00, 61.03it/s]\n"
     ]
    },
    {
     "name": "stdout",
     "output_type": "stream",
     "text": [
      ">>> Birch: 48.2209\n"
     ]
    }
   ],
   "source": [
    "adata, n_cluster = get_dlpfc_data(sectionid)\n",
    "train(adata, lr=1e-3, radius=150, node2vec_p=4, node2vec_q=.25, louvain_resolution=.6, components_features=30, walk_length=35)\n",
    "\n",
    "label = LabelEncoder().fit_transform(adata.obs['cluster'])\n",
    "pred = LabelEncoder().fit_transform([str(x) for x in Birch(n_clusters=n_cluster).fit(adata.obsm['embedding']).predict(adata.obsm['embedding'])])\n",
    "ari_score = metrics.adjusted_rand_score(label, pred) * 100\n",
    "print('>>> %s: %.4f' % ('Birch', ari_score))\n",
    "result[1][1].append(ari_score)"
   ]
  },
  {
   "cell_type": "code",
   "execution_count": 13,
   "metadata": {},
   "outputs": [
    {
     "name": "stderr",
     "output_type": "stream",
     "text": [
      "/mnt/5280e/twang/.conda/envs/torch+pyg/lib/python3.8/site-packages/anndata/_core/anndata.py:1830: UserWarning: Variable names are not unique. To make them unique, call `.var_names_make_unique`.\n",
      "  utils.warn_names_duplicates(\"var\")\n"
     ]
    },
    {
     "name": "stdout",
     "output_type": "stream",
     "text": [
      ">>> dataset name: dlpfc, slice id: 151510, size: (4634, 33538), cluster: 7.\n",
      ">>> The graph contains 31832 edges, average 6.869227449287872 edges per node.\n",
      ">>> Building spatial graph success!\n",
      ">>> use louvain to modify spatial graph\n",
      "WARNING: You’re trying to run this on 3000 dimensions of `.X`, if you really want this, set `use_rep='X'`.\n",
      "         Falling back to preprocessing with `sc.pp.pca` and default params.\n",
      ">>> finish louvain, begin to prune graph\n",
      ">>> pruned graph contains 22490 edges, average 4.853258523953388 edges per node.\n"
     ]
    },
    {
     "name": "stderr",
     "output_type": "stream",
     "text": [
      ">>> node2vec: 100%|██████████| 200/200 [09:08<00:00,  2.74s/it]\n"
     ]
    },
    {
     "name": "stdout",
     "output_type": "stream",
     "text": [
      ">>> spatial model data(features) size: (4634, 3000)\n"
     ]
    },
    {
     "name": "stderr",
     "output_type": "stream",
     "text": [
      ">>> training spatial model: 100%|██████████| 500/500 [00:07<00:00, 67.55it/s]\n"
     ]
    },
    {
     "name": "stdout",
     "output_type": "stream",
     "text": [
      ">>> Birch: 34.0041\n"
     ]
    }
   ],
   "source": [
    "adata, n_cluster = get_dlpfc_data(sectionid)\n",
    "train(adata, lr=1e-3, radius=150, node2vec_p=4, node2vec_q=.25, louvain_resolution=.8, components_features=30, walk_length=35)\n",
    "\n",
    "label = LabelEncoder().fit_transform(adata.obs['cluster'])\n",
    "pred = LabelEncoder().fit_transform([str(x) for x in Birch(n_clusters=n_cluster).fit(adata.obsm['embedding']).predict(adata.obsm['embedding'])])\n",
    "ari_score = metrics.adjusted_rand_score(label, pred) * 100\n",
    "print('>>> %s: %.4f' % ('Birch', ari_score))\n",
    "result[2][1].append(ari_score)"
   ]
  },
  {
   "cell_type": "code",
   "execution_count": 14,
   "metadata": {},
   "outputs": [
    {
     "name": "stderr",
     "output_type": "stream",
     "text": [
      "/mnt/5280e/twang/.conda/envs/torch+pyg/lib/python3.8/site-packages/anndata/_core/anndata.py:1830: UserWarning: Variable names are not unique. To make them unique, call `.var_names_make_unique`.\n",
      "  utils.warn_names_duplicates(\"var\")\n"
     ]
    },
    {
     "name": "stdout",
     "output_type": "stream",
     "text": [
      ">>> dataset name: dlpfc, slice id: 151510, size: (4634, 33538), cluster: 7.\n",
      ">>> The graph contains 31832 edges, average 6.869227449287872 edges per node.\n",
      ">>> Building spatial graph success!\n",
      ">>> use louvain to modify spatial graph\n",
      "WARNING: You’re trying to run this on 3000 dimensions of `.X`, if you really want this, set `use_rep='X'`.\n",
      "         Falling back to preprocessing with `sc.pp.pca` and default params.\n",
      ">>> finish louvain, begin to prune graph\n",
      ">>> pruned graph contains 29988 edges, average 6.471299093655589 edges per node.\n"
     ]
    },
    {
     "name": "stderr",
     "output_type": "stream",
     "text": [
      ">>> node2vec: 100%|██████████| 200/200 [08:44<00:00,  2.62s/it]\n"
     ]
    },
    {
     "name": "stdout",
     "output_type": "stream",
     "text": [
      ">>> spatial model data(features) size: (4634, 3000)\n"
     ]
    },
    {
     "name": "stderr",
     "output_type": "stream",
     "text": [
      ">>> training spatial model: 100%|██████████| 500/500 [00:07<00:00, 62.64it/s]\n"
     ]
    },
    {
     "name": "stdout",
     "output_type": "stream",
     "text": [
      ">>> Birch: 47.9827\n"
     ]
    }
   ],
   "source": [
    "adata, n_cluster = get_dlpfc_data(sectionid)\n",
    "train(adata, lr=1e-3, radius=150, node2vec_p=1, node2vec_q=1, louvain_resolution=.4, components_features=30, walk_length=35)\n",
    "\n",
    "label = LabelEncoder().fit_transform(adata.obs['cluster'])\n",
    "pred = LabelEncoder().fit_transform([str(x) for x in Birch(n_clusters=n_cluster).fit(adata.obsm['embedding']).predict(adata.obsm['embedding'])])\n",
    "ari_score = metrics.adjusted_rand_score(label, pred) * 100\n",
    "print('>>> %s: %.4f' % ('Birch', ari_score))\n",
    "result[0][1].append(ari_score)"
   ]
  },
  {
   "cell_type": "code",
   "execution_count": 15,
   "metadata": {},
   "outputs": [
    {
     "name": "stderr",
     "output_type": "stream",
     "text": [
      "/mnt/5280e/twang/.conda/envs/torch+pyg/lib/python3.8/site-packages/anndata/_core/anndata.py:1830: UserWarning: Variable names are not unique. To make them unique, call `.var_names_make_unique`.\n",
      "  utils.warn_names_duplicates(\"var\")\n"
     ]
    },
    {
     "name": "stdout",
     "output_type": "stream",
     "text": [
      ">>> dataset name: dlpfc, slice id: 151510, size: (4634, 33538), cluster: 7.\n",
      ">>> The graph contains 31832 edges, average 6.869227449287872 edges per node.\n",
      ">>> Building spatial graph success!\n",
      ">>> use louvain to modify spatial graph\n",
      "WARNING: You’re trying to run this on 3000 dimensions of `.X`, if you really want this, set `use_rep='X'`.\n",
      "         Falling back to preprocessing with `sc.pp.pca` and default params.\n",
      ">>> finish louvain, begin to prune graph\n",
      ">>> pruned graph contains 22404 edges, average 4.834700043159257 edges per node.\n"
     ]
    },
    {
     "name": "stderr",
     "output_type": "stream",
     "text": [
      ">>> node2vec: 100%|██████████| 200/200 [07:23<00:00,  2.22s/it]\n"
     ]
    },
    {
     "name": "stdout",
     "output_type": "stream",
     "text": [
      ">>> spatial model data(features) size: (4634, 3000)\n"
     ]
    },
    {
     "name": "stderr",
     "output_type": "stream",
     "text": [
      ">>> training spatial model: 100%|██████████| 500/500 [00:07<00:00, 64.53it/s]\n"
     ]
    },
    {
     "name": "stdout",
     "output_type": "stream",
     "text": [
      ">>> Birch: 41.8936\n"
     ]
    }
   ],
   "source": [
    "adata, n_cluster = get_dlpfc_data(sectionid)\n",
    "train(adata, lr=1e-3, radius=150, node2vec_p=1, node2vec_q=1, louvain_resolution=.6, components_features=30, walk_length=35)\n",
    "\n",
    "label = LabelEncoder().fit_transform(adata.obs['cluster'])\n",
    "pred = LabelEncoder().fit_transform([str(x) for x in Birch(n_clusters=n_cluster).fit(adata.obsm['embedding']).predict(adata.obsm['embedding'])])\n",
    "ari_score = metrics.adjusted_rand_score(label, pred) * 100\n",
    "print('>>> %s: %.4f' % ('Birch', ari_score))\n",
    "result[1][1].append(ari_score)"
   ]
  },
  {
   "cell_type": "code",
   "execution_count": 16,
   "metadata": {},
   "outputs": [
    {
     "name": "stderr",
     "output_type": "stream",
     "text": [
      "/mnt/5280e/twang/.conda/envs/torch+pyg/lib/python3.8/site-packages/anndata/_core/anndata.py:1830: UserWarning: Variable names are not unique. To make them unique, call `.var_names_make_unique`.\n",
      "  utils.warn_names_duplicates(\"var\")\n"
     ]
    },
    {
     "name": "stdout",
     "output_type": "stream",
     "text": [
      ">>> dataset name: dlpfc, slice id: 151510, size: (4634, 33538), cluster: 7.\n",
      ">>> The graph contains 31832 edges, average 6.869227449287872 edges per node.\n",
      ">>> Building spatial graph success!\n",
      ">>> use louvain to modify spatial graph\n",
      "WARNING: You’re trying to run this on 3000 dimensions of `.X`, if you really want this, set `use_rep='X'`.\n",
      "         Falling back to preprocessing with `sc.pp.pca` and default params.\n",
      ">>> finish louvain, begin to prune graph\n",
      ">>> pruned graph contains 22374 edges, average 4.828226154510142 edges per node.\n"
     ]
    },
    {
     "name": "stderr",
     "output_type": "stream",
     "text": [
      ">>> node2vec: 100%|██████████| 200/200 [07:53<00:00,  2.37s/it]\n"
     ]
    },
    {
     "name": "stdout",
     "output_type": "stream",
     "text": [
      ">>> spatial model data(features) size: (4634, 3000)\n"
     ]
    },
    {
     "name": "stderr",
     "output_type": "stream",
     "text": [
      ">>> training spatial model: 100%|██████████| 500/500 [00:07<00:00, 62.86it/s]\n"
     ]
    },
    {
     "name": "stdout",
     "output_type": "stream",
     "text": [
      ">>> Birch: 42.5773\n"
     ]
    }
   ],
   "source": [
    "adata, n_cluster = get_dlpfc_data(sectionid)\n",
    "train(adata, lr=1e-3, radius=150, node2vec_p=1, node2vec_q=1, louvain_resolution=.8, components_features=30, walk_length=35)\n",
    "\n",
    "label = LabelEncoder().fit_transform(adata.obs['cluster'])\n",
    "pred = LabelEncoder().fit_transform([str(x) for x in Birch(n_clusters=n_cluster).fit(adata.obsm['embedding']).predict(adata.obsm['embedding'])])\n",
    "ari_score = metrics.adjusted_rand_score(label, pred) * 100\n",
    "print('>>> %s: %.4f' % ('Birch', ari_score))\n",
    "result[2][1].append(ari_score)"
   ]
  },
  {
   "cell_type": "code",
   "execution_count": 17,
   "metadata": {},
   "outputs": [
    {
     "name": "stderr",
     "output_type": "stream",
     "text": [
      "/mnt/5280e/twang/.conda/envs/torch+pyg/lib/python3.8/site-packages/anndata/_core/anndata.py:1830: UserWarning: Variable names are not unique. To make them unique, call `.var_names_make_unique`.\n",
      "  utils.warn_names_duplicates(\"var\")\n"
     ]
    },
    {
     "name": "stdout",
     "output_type": "stream",
     "text": [
      ">>> dataset name: dlpfc, slice id: 151510, size: (4634, 33538), cluster: 7.\n",
      ">>> The graph contains 31832 edges, average 6.869227449287872 edges per node.\n",
      ">>> Building spatial graph success!\n",
      ">>> use louvain to modify spatial graph\n",
      "WARNING: You’re trying to run this on 3000 dimensions of `.X`, if you really want this, set `use_rep='X'`.\n",
      "         Falling back to preprocessing with `sc.pp.pca` and default params.\n",
      ">>> finish louvain, begin to prune graph\n",
      ">>> pruned graph contains 29990 edges, average 6.471730686232196 edges per node.\n"
     ]
    },
    {
     "name": "stderr",
     "output_type": "stream",
     "text": [
      ">>> node2vec: 100%|██████████| 200/200 [08:03<00:00,  2.42s/it]\n"
     ]
    },
    {
     "name": "stdout",
     "output_type": "stream",
     "text": [
      ">>> spatial model data(features) size: (4634, 3000)\n"
     ]
    },
    {
     "name": "stderr",
     "output_type": "stream",
     "text": [
      ">>> training spatial model: 100%|██████████| 500/500 [00:10<00:00, 49.74it/s]\n"
     ]
    },
    {
     "name": "stdout",
     "output_type": "stream",
     "text": [
      ">>> Birch: 52.0871\n"
     ]
    }
   ],
   "source": [
    "adata, n_cluster = get_dlpfc_data(sectionid)\n",
    "train(adata, lr=1e-3, radius=150, node2vec_p=.25, node2vec_q=4, louvain_resolution=.4, components_features=30, walk_length=35)\n",
    "\n",
    "label = LabelEncoder().fit_transform(adata.obs['cluster'])\n",
    "pred = LabelEncoder().fit_transform([str(x) for x in Birch(n_clusters=n_cluster).fit(adata.obsm['embedding']).predict(adata.obsm['embedding'])])\n",
    "ari_score = metrics.adjusted_rand_score(label, pred) * 100\n",
    "print('>>> %s: %.4f' % ('Birch', ari_score))\n",
    "result[0][1].append(ari_score)"
   ]
  },
  {
   "cell_type": "code",
   "execution_count": 18,
   "metadata": {},
   "outputs": [
    {
     "name": "stderr",
     "output_type": "stream",
     "text": [
      "/mnt/5280e/twang/.conda/envs/torch+pyg/lib/python3.8/site-packages/anndata/_core/anndata.py:1830: UserWarning: Variable names are not unique. To make them unique, call `.var_names_make_unique`.\n",
      "  utils.warn_names_duplicates(\"var\")\n"
     ]
    },
    {
     "name": "stdout",
     "output_type": "stream",
     "text": [
      ">>> dataset name: dlpfc, slice id: 151510, size: (4634, 33538), cluster: 7.\n",
      ">>> The graph contains 31832 edges, average 6.869227449287872 edges per node.\n",
      ">>> Building spatial graph success!\n",
      ">>> use louvain to modify spatial graph\n",
      "WARNING: You’re trying to run this on 3000 dimensions of `.X`, if you really want this, set `use_rep='X'`.\n",
      "         Falling back to preprocessing with `sc.pp.pca` and default params.\n",
      ">>> finish louvain, begin to prune graph\n",
      ">>> pruned graph contains 22256 edges, average 4.802762192490289 edges per node.\n"
     ]
    },
    {
     "name": "stderr",
     "output_type": "stream",
     "text": [
      ">>> node2vec: 100%|██████████| 200/200 [07:41<00:00,  2.31s/it]\n"
     ]
    },
    {
     "name": "stdout",
     "output_type": "stream",
     "text": [
      ">>> spatial model data(features) size: (4634, 3000)\n"
     ]
    },
    {
     "name": "stderr",
     "output_type": "stream",
     "text": [
      ">>> training spatial model: 100%|██████████| 500/500 [00:07<00:00, 67.89it/s]\n"
     ]
    },
    {
     "name": "stdout",
     "output_type": "stream",
     "text": [
      ">>> Birch: 49.5188\n"
     ]
    }
   ],
   "source": [
    "adata, n_cluster = get_dlpfc_data(sectionid)\n",
    "train(adata, lr=1e-3, radius=150, node2vec_p=.25, node2vec_q=4, louvain_resolution=.6, components_features=30, walk_length=35)\n",
    "\n",
    "label = LabelEncoder().fit_transform(adata.obs['cluster'])\n",
    "pred = LabelEncoder().fit_transform([str(x) for x in Birch(n_clusters=n_cluster).fit(adata.obsm['embedding']).predict(adata.obsm['embedding'])])\n",
    "ari_score = metrics.adjusted_rand_score(label, pred) * 100\n",
    "print('>>> %s: %.4f' % ('Birch', ari_score))\n",
    "result[1][1].append(ari_score)"
   ]
  },
  {
   "cell_type": "code",
   "execution_count": 19,
   "metadata": {},
   "outputs": [
    {
     "name": "stderr",
     "output_type": "stream",
     "text": [
      "/mnt/5280e/twang/.conda/envs/torch+pyg/lib/python3.8/site-packages/anndata/_core/anndata.py:1830: UserWarning: Variable names are not unique. To make them unique, call `.var_names_make_unique`.\n",
      "  utils.warn_names_duplicates(\"var\")\n"
     ]
    },
    {
     "name": "stdout",
     "output_type": "stream",
     "text": [
      ">>> dataset name: dlpfc, slice id: 151510, size: (4634, 33538), cluster: 7.\n",
      ">>> The graph contains 31832 edges, average 6.869227449287872 edges per node.\n",
      ">>> Building spatial graph success!\n",
      ">>> use louvain to modify spatial graph\n",
      "WARNING: You’re trying to run this on 3000 dimensions of `.X`, if you really want this, set `use_rep='X'`.\n",
      "         Falling back to preprocessing with `sc.pp.pca` and default params.\n",
      ">>> finish louvain, begin to prune graph\n",
      ">>> pruned graph contains 22374 edges, average 4.828226154510142 edges per node.\n"
     ]
    },
    {
     "name": "stderr",
     "output_type": "stream",
     "text": [
      ">>> node2vec: 100%|██████████| 200/200 [07:37<00:00,  2.29s/it]\n"
     ]
    },
    {
     "name": "stdout",
     "output_type": "stream",
     "text": [
      ">>> spatial model data(features) size: (4634, 3000)\n"
     ]
    },
    {
     "name": "stderr",
     "output_type": "stream",
     "text": [
      ">>> training spatial model: 100%|██████████| 500/500 [00:06<00:00, 73.37it/s]\n"
     ]
    },
    {
     "name": "stdout",
     "output_type": "stream",
     "text": [
      ">>> Birch: 47.9902\n"
     ]
    }
   ],
   "source": [
    "adata, n_cluster = get_dlpfc_data(sectionid)\n",
    "train(adata, lr=1e-3, radius=150, node2vec_p=.25, node2vec_q=4, louvain_resolution=.8, components_features=30, walk_length=35)\n",
    "\n",
    "label = LabelEncoder().fit_transform(adata.obs['cluster'])\n",
    "pred = LabelEncoder().fit_transform([str(x) for x in Birch(n_clusters=n_cluster).fit(adata.obsm['embedding']).predict(adata.obsm['embedding'])])\n",
    "ari_score = metrics.adjusted_rand_score(label, pred) * 100\n",
    "print('>>> %s: %.4f' % ('Birch', ari_score))\n",
    "result[2][1].append(ari_score)"
   ]
  },
  {
   "cell_type": "code",
   "execution_count": 20,
   "metadata": {},
   "outputs": [
    {
     "name": "stderr",
     "output_type": "stream",
     "text": [
      "/mnt/5280e/twang/.conda/envs/torch+pyg/lib/python3.8/site-packages/anndata/_core/anndata.py:1830: UserWarning: Variable names are not unique. To make them unique, call `.var_names_make_unique`.\n",
      "  utils.warn_names_duplicates(\"var\")\n"
     ]
    },
    {
     "name": "stdout",
     "output_type": "stream",
     "text": [
      ">>> dataset name: dlpfc, slice id: 151510, size: (4634, 33538), cluster: 7.\n",
      ">>> The graph contains 31832 edges, average 6.869227449287872 edges per node.\n",
      ">>> Building spatial graph success!\n",
      ">>> use louvain to modify spatial graph\n",
      "WARNING: You’re trying to run this on 3000 dimensions of `.X`, if you really want this, set `use_rep='X'`.\n",
      "         Falling back to preprocessing with `sc.pp.pca` and default params.\n",
      ">>> finish louvain, begin to prune graph\n",
      ">>> pruned graph contains 29990 edges, average 6.471730686232196 edges per node.\n"
     ]
    },
    {
     "name": "stderr",
     "output_type": "stream",
     "text": [
      ">>> node2vec: 100%|██████████| 200/200 [05:47<00:00,  1.74s/it]\n"
     ]
    },
    {
     "name": "stdout",
     "output_type": "stream",
     "text": [
      ">>> spatial model data(features) size: (4634, 3000)\n"
     ]
    },
    {
     "name": "stderr",
     "output_type": "stream",
     "text": [
      ">>> training spatial model: 100%|██████████| 500/500 [00:06<00:00, 72.42it/s]\n"
     ]
    },
    {
     "name": "stdout",
     "output_type": "stream",
     "text": [
      ">>> Birch: 50.1776\n"
     ]
    }
   ],
   "source": [
    "adata, n_cluster = get_dlpfc_data(sectionid)\n",
    "train(adata, lr=1e-3, radius=150, node2vec_p=4, node2vec_q=.25, louvain_resolution=.4, components_features=30, walk_length=45)\n",
    "\n",
    "label = LabelEncoder().fit_transform(adata.obs['cluster'])\n",
    "pred = LabelEncoder().fit_transform([str(x) for x in Birch(n_clusters=n_cluster).fit(adata.obsm['embedding']).predict(adata.obsm['embedding'])])\n",
    "ari_score = metrics.adjusted_rand_score(label, pred) * 100\n",
    "print('>>> %s: %.4f' % ('Birch', ari_score))\n",
    "result[0][2].append(ari_score)"
   ]
  },
  {
   "cell_type": "code",
   "execution_count": 21,
   "metadata": {},
   "outputs": [
    {
     "name": "stderr",
     "output_type": "stream",
     "text": [
      "/mnt/5280e/twang/.conda/envs/torch+pyg/lib/python3.8/site-packages/anndata/_core/anndata.py:1830: UserWarning: Variable names are not unique. To make them unique, call `.var_names_make_unique`.\n",
      "  utils.warn_names_duplicates(\"var\")\n"
     ]
    },
    {
     "name": "stdout",
     "output_type": "stream",
     "text": [
      ">>> dataset name: dlpfc, slice id: 151510, size: (4634, 33538), cluster: 7.\n",
      ">>> The graph contains 31832 edges, average 6.869227449287872 edges per node.\n",
      ">>> Building spatial graph success!\n",
      ">>> use louvain to modify spatial graph\n",
      "WARNING: You’re trying to run this on 3000 dimensions of `.X`, if you really want this, set `use_rep='X'`.\n",
      "         Falling back to preprocessing with `sc.pp.pca` and default params.\n",
      ">>> finish louvain, begin to prune graph\n",
      ">>> pruned graph contains 22404 edges, average 4.834700043159257 edges per node.\n"
     ]
    },
    {
     "name": "stderr",
     "output_type": "stream",
     "text": [
      ">>> node2vec: 100%|██████████| 200/200 [05:39<00:00,  1.70s/it]\n"
     ]
    },
    {
     "name": "stdout",
     "output_type": "stream",
     "text": [
      ">>> spatial model data(features) size: (4634, 3000)\n"
     ]
    },
    {
     "name": "stderr",
     "output_type": "stream",
     "text": [
      ">>> training spatial model: 100%|██████████| 500/500 [00:07<00:00, 66.71it/s]\n"
     ]
    },
    {
     "name": "stdout",
     "output_type": "stream",
     "text": [
      ">>> Birch: 46.2195\n"
     ]
    }
   ],
   "source": [
    "adata, n_cluster = get_dlpfc_data(sectionid)\n",
    "train(adata, lr=1e-3, radius=150, node2vec_p=4, node2vec_q=.25, louvain_resolution=.6, components_features=30, walk_length=45)\n",
    "\n",
    "label = LabelEncoder().fit_transform(adata.obs['cluster'])\n",
    "pred = LabelEncoder().fit_transform([str(x) for x in Birch(n_clusters=n_cluster).fit(adata.obsm['embedding']).predict(adata.obsm['embedding'])])\n",
    "ari_score = metrics.adjusted_rand_score(label, pred) * 100\n",
    "print('>>> %s: %.4f' % ('Birch', ari_score))\n",
    "result[1][2].append(ari_score)"
   ]
  },
  {
   "cell_type": "code",
   "execution_count": 22,
   "metadata": {},
   "outputs": [
    {
     "name": "stderr",
     "output_type": "stream",
     "text": [
      "/mnt/5280e/twang/.conda/envs/torch+pyg/lib/python3.8/site-packages/anndata/_core/anndata.py:1830: UserWarning: Variable names are not unique. To make them unique, call `.var_names_make_unique`.\n",
      "  utils.warn_names_duplicates(\"var\")\n"
     ]
    },
    {
     "name": "stdout",
     "output_type": "stream",
     "text": [
      ">>> dataset name: dlpfc, slice id: 151510, size: (4634, 33538), cluster: 7.\n",
      ">>> The graph contains 31832 edges, average 6.869227449287872 edges per node.\n",
      ">>> Building spatial graph success!\n",
      ">>> use louvain to modify spatial graph\n",
      "WARNING: You’re trying to run this on 3000 dimensions of `.X`, if you really want this, set `use_rep='X'`.\n",
      "         Falling back to preprocessing with `sc.pp.pca` and default params.\n",
      ">>> finish louvain, begin to prune graph\n",
      ">>> pruned graph contains 22466 edges, average 4.848079413034096 edges per node.\n"
     ]
    },
    {
     "name": "stderr",
     "output_type": "stream",
     "text": [
      ">>> node2vec: 100%|██████████| 200/200 [05:47<00:00,  1.74s/it]\n"
     ]
    },
    {
     "name": "stdout",
     "output_type": "stream",
     "text": [
      ">>> spatial model data(features) size: (4634, 3000)\n"
     ]
    },
    {
     "name": "stderr",
     "output_type": "stream",
     "text": [
      ">>> training spatial model: 100%|██████████| 500/500 [00:07<00:00, 66.94it/s]\n"
     ]
    },
    {
     "name": "stdout",
     "output_type": "stream",
     "text": [
      ">>> Birch: 30.0752\n"
     ]
    }
   ],
   "source": [
    "adata, n_cluster = get_dlpfc_data(sectionid)\n",
    "train(adata, lr=1e-3, radius=150, node2vec_p=4, node2vec_q=.25, louvain_resolution=.8, components_features=30, walk_length=45)\n",
    "\n",
    "label = LabelEncoder().fit_transform(adata.obs['cluster'])\n",
    "pred = LabelEncoder().fit_transform([str(x) for x in Birch(n_clusters=n_cluster).fit(adata.obsm['embedding']).predict(adata.obsm['embedding'])])\n",
    "ari_score = metrics.adjusted_rand_score(label, pred) * 100\n",
    "print('>>> %s: %.4f' % ('Birch', ari_score))\n",
    "result[2][2].append(ari_score)"
   ]
  },
  {
   "cell_type": "code",
   "execution_count": 23,
   "metadata": {},
   "outputs": [
    {
     "name": "stderr",
     "output_type": "stream",
     "text": [
      "/mnt/5280e/twang/.conda/envs/torch+pyg/lib/python3.8/site-packages/anndata/_core/anndata.py:1830: UserWarning: Variable names are not unique. To make them unique, call `.var_names_make_unique`.\n",
      "  utils.warn_names_duplicates(\"var\")\n"
     ]
    },
    {
     "name": "stdout",
     "output_type": "stream",
     "text": [
      ">>> dataset name: dlpfc, slice id: 151510, size: (4634, 33538), cluster: 7.\n",
      ">>> The graph contains 31832 edges, average 6.869227449287872 edges per node.\n",
      ">>> Building spatial graph success!\n",
      ">>> use louvain to modify spatial graph\n",
      "WARNING: You’re trying to run this on 3000 dimensions of `.X`, if you really want this, set `use_rep='X'`.\n",
      "         Falling back to preprocessing with `sc.pp.pca` and default params.\n",
      ">>> finish louvain, begin to prune graph\n",
      ">>> pruned graph contains 29990 edges, average 6.471730686232196 edges per node.\n"
     ]
    },
    {
     "name": "stderr",
     "output_type": "stream",
     "text": [
      ">>> node2vec: 100%|██████████| 200/200 [05:48<00:00,  1.74s/it]\n"
     ]
    },
    {
     "name": "stdout",
     "output_type": "stream",
     "text": [
      ">>> spatial model data(features) size: (4634, 3000)\n"
     ]
    },
    {
     "name": "stderr",
     "output_type": "stream",
     "text": [
      ">>> training spatial model: 100%|██████████| 500/500 [00:07<00:00, 66.07it/s]\n"
     ]
    },
    {
     "name": "stdout",
     "output_type": "stream",
     "text": [
      ">>> Birch: 33.8411\n"
     ]
    }
   ],
   "source": [
    "adata, n_cluster = get_dlpfc_data(sectionid)\n",
    "train(adata, lr=1e-3, radius=150, node2vec_p=1, node2vec_q=1, louvain_resolution=.4, components_features=30, walk_length=45)\n",
    "\n",
    "label = LabelEncoder().fit_transform(adata.obs['cluster'])\n",
    "pred = LabelEncoder().fit_transform([str(x) for x in Birch(n_clusters=n_cluster).fit(adata.obsm['embedding']).predict(adata.obsm['embedding'])])\n",
    "ari_score = metrics.adjusted_rand_score(label, pred) * 100\n",
    "print('>>> %s: %.4f' % ('Birch', ari_score))\n",
    "result[0][2].append(ari_score)"
   ]
  },
  {
   "cell_type": "code",
   "execution_count": 24,
   "metadata": {},
   "outputs": [
    {
     "name": "stderr",
     "output_type": "stream",
     "text": [
      "/mnt/5280e/twang/.conda/envs/torch+pyg/lib/python3.8/site-packages/anndata/_core/anndata.py:1830: UserWarning: Variable names are not unique. To make them unique, call `.var_names_make_unique`.\n",
      "  utils.warn_names_duplicates(\"var\")\n"
     ]
    },
    {
     "name": "stdout",
     "output_type": "stream",
     "text": [
      ">>> dataset name: dlpfc, slice id: 151510, size: (4634, 33538), cluster: 7.\n",
      ">>> The graph contains 31832 edges, average 6.869227449287872 edges per node.\n",
      ">>> Building spatial graph success!\n",
      ">>> use louvain to modify spatial graph\n",
      "WARNING: You’re trying to run this on 3000 dimensions of `.X`, if you really want this, set `use_rep='X'`.\n",
      "         Falling back to preprocessing with `sc.pp.pca` and default params.\n",
      ">>> finish louvain, begin to prune graph\n",
      ">>> pruned graph contains 22256 edges, average 4.802762192490289 edges per node.\n"
     ]
    },
    {
     "name": "stderr",
     "output_type": "stream",
     "text": [
      ">>> node2vec: 100%|██████████| 200/200 [04:53<00:00,  1.47s/it]\n"
     ]
    },
    {
     "name": "stdout",
     "output_type": "stream",
     "text": [
      ">>> spatial model data(features) size: (4634, 3000)\n"
     ]
    },
    {
     "name": "stderr",
     "output_type": "stream",
     "text": [
      ">>> training spatial model: 100%|██████████| 500/500 [00:07<00:00, 71.11it/s]\n"
     ]
    },
    {
     "name": "stdout",
     "output_type": "stream",
     "text": [
      ">>> Birch: 43.4766\n"
     ]
    }
   ],
   "source": [
    "adata, n_cluster = get_dlpfc_data(sectionid)\n",
    "train(adata, lr=1e-3, radius=150, node2vec_p=1, node2vec_q=1, louvain_resolution=.6, components_features=30, walk_length=45)\n",
    "\n",
    "label = LabelEncoder().fit_transform(adata.obs['cluster'])\n",
    "pred = LabelEncoder().fit_transform([str(x) for x in Birch(n_clusters=n_cluster).fit(adata.obsm['embedding']).predict(adata.obsm['embedding'])])\n",
    "ari_score = metrics.adjusted_rand_score(label, pred) * 100\n",
    "print('>>> %s: %.4f' % ('Birch', ari_score))\n",
    "result[1][2].append(ari_score)"
   ]
  },
  {
   "cell_type": "code",
   "execution_count": 25,
   "metadata": {},
   "outputs": [
    {
     "name": "stderr",
     "output_type": "stream",
     "text": [
      "/mnt/5280e/twang/.conda/envs/torch+pyg/lib/python3.8/site-packages/anndata/_core/anndata.py:1830: UserWarning: Variable names are not unique. To make them unique, call `.var_names_make_unique`.\n",
      "  utils.warn_names_duplicates(\"var\")\n"
     ]
    },
    {
     "name": "stdout",
     "output_type": "stream",
     "text": [
      ">>> dataset name: dlpfc, slice id: 151510, size: (4634, 33538), cluster: 7.\n",
      ">>> The graph contains 31832 edges, average 6.869227449287872 edges per node.\n",
      ">>> Building spatial graph success!\n",
      ">>> use louvain to modify spatial graph\n",
      "WARNING: You’re trying to run this on 3000 dimensions of `.X`, if you really want this, set `use_rep='X'`.\n",
      "         Falling back to preprocessing with `sc.pp.pca` and default params.\n",
      ">>> finish louvain, begin to prune graph\n",
      ">>> pruned graph contains 22470 edges, average 4.848942598187311 edges per node.\n"
     ]
    },
    {
     "name": "stderr",
     "output_type": "stream",
     "text": [
      ">>> node2vec: 100%|██████████| 200/200 [03:47<00:00,  1.14s/it]\n"
     ]
    },
    {
     "name": "stdout",
     "output_type": "stream",
     "text": [
      ">>> spatial model data(features) size: (4634, 3000)\n"
     ]
    },
    {
     "name": "stderr",
     "output_type": "stream",
     "text": [
      ">>> training spatial model: 100%|██████████| 500/500 [00:07<00:00, 70.84it/s]\n"
     ]
    },
    {
     "name": "stdout",
     "output_type": "stream",
     "text": [
      ">>> Birch: 38.8545\n"
     ]
    }
   ],
   "source": [
    "adata, n_cluster = get_dlpfc_data(sectionid)\n",
    "train(adata, lr=1e-3, radius=150, node2vec_p=1, node2vec_q=1, louvain_resolution=.8, components_features=30, walk_length=45)\n",
    "\n",
    "label = LabelEncoder().fit_transform(adata.obs['cluster'])\n",
    "pred = LabelEncoder().fit_transform([str(x) for x in Birch(n_clusters=n_cluster).fit(adata.obsm['embedding']).predict(adata.obsm['embedding'])])\n",
    "ari_score = metrics.adjusted_rand_score(label, pred) * 100\n",
    "print('>>> %s: %.4f' % ('Birch', ari_score))\n",
    "result[2][2].append(ari_score)"
   ]
  },
  {
   "cell_type": "code",
   "execution_count": 26,
   "metadata": {},
   "outputs": [
    {
     "name": "stderr",
     "output_type": "stream",
     "text": [
      "/mnt/5280e/twang/.conda/envs/torch+pyg/lib/python3.8/site-packages/anndata/_core/anndata.py:1830: UserWarning: Variable names are not unique. To make them unique, call `.var_names_make_unique`.\n",
      "  utils.warn_names_duplicates(\"var\")\n"
     ]
    },
    {
     "name": "stdout",
     "output_type": "stream",
     "text": [
      ">>> dataset name: dlpfc, slice id: 151510, size: (4634, 33538), cluster: 7.\n",
      ">>> The graph contains 31832 edges, average 6.869227449287872 edges per node.\n",
      ">>> Building spatial graph success!\n",
      ">>> use louvain to modify spatial graph\n",
      "WARNING: You’re trying to run this on 3000 dimensions of `.X`, if you really want this, set `use_rep='X'`.\n",
      "         Falling back to preprocessing with `sc.pp.pca` and default params.\n",
      ">>> finish louvain, begin to prune graph\n",
      ">>> pruned graph contains 29988 edges, average 6.471299093655589 edges per node.\n"
     ]
    },
    {
     "name": "stderr",
     "output_type": "stream",
     "text": [
      ">>> node2vec: 100%|██████████| 200/200 [04:18<00:00,  1.29s/it]\n"
     ]
    },
    {
     "name": "stdout",
     "output_type": "stream",
     "text": [
      ">>> spatial model data(features) size: (4634, 3000)\n"
     ]
    },
    {
     "name": "stderr",
     "output_type": "stream",
     "text": [
      ">>> training spatial model: 100%|██████████| 500/500 [00:07<00:00, 70.82it/s]\n"
     ]
    },
    {
     "name": "stdout",
     "output_type": "stream",
     "text": [
      ">>> Birch: 38.1885\n"
     ]
    }
   ],
   "source": [
    "adata, n_cluster = get_dlpfc_data(sectionid)\n",
    "train(adata, lr=1e-3, radius=150, node2vec_p=.25, node2vec_q=4, louvain_resolution=.4, components_features=30, walk_length=45)\n",
    "\n",
    "label = LabelEncoder().fit_transform(adata.obs['cluster'])\n",
    "pred = LabelEncoder().fit_transform([str(x) for x in Birch(n_clusters=n_cluster).fit(adata.obsm['embedding']).predict(adata.obsm['embedding'])])\n",
    "ari_score = metrics.adjusted_rand_score(label, pred) * 100\n",
    "print('>>> %s: %.4f' % ('Birch', ari_score))\n",
    "result[0][2].append(ari_score)"
   ]
  },
  {
   "cell_type": "code",
   "execution_count": 27,
   "metadata": {},
   "outputs": [
    {
     "name": "stderr",
     "output_type": "stream",
     "text": [
      "/mnt/5280e/twang/.conda/envs/torch+pyg/lib/python3.8/site-packages/anndata/_core/anndata.py:1830: UserWarning: Variable names are not unique. To make them unique, call `.var_names_make_unique`.\n",
      "  utils.warn_names_duplicates(\"var\")\n"
     ]
    },
    {
     "name": "stdout",
     "output_type": "stream",
     "text": [
      ">>> dataset name: dlpfc, slice id: 151510, size: (4634, 33538), cluster: 7.\n",
      ">>> The graph contains 31832 edges, average 6.869227449287872 edges per node.\n",
      ">>> Building spatial graph success!\n",
      ">>> use louvain to modify spatial graph\n",
      "WARNING: You’re trying to run this on 3000 dimensions of `.X`, if you really want this, set `use_rep='X'`.\n",
      "         Falling back to preprocessing with `sc.pp.pca` and default params.\n",
      ">>> finish louvain, begin to prune graph\n",
      ">>> pruned graph contains 22368 edges, average 4.826931376780319 edges per node.\n"
     ]
    },
    {
     "name": "stderr",
     "output_type": "stream",
     "text": [
      ">>> node2vec: 100%|██████████| 200/200 [04:01<00:00,  1.21s/it]\n"
     ]
    },
    {
     "name": "stdout",
     "output_type": "stream",
     "text": [
      ">>> spatial model data(features) size: (4634, 3000)\n"
     ]
    },
    {
     "name": "stderr",
     "output_type": "stream",
     "text": [
      ">>> training spatial model: 100%|██████████| 500/500 [00:06<00:00, 74.31it/s]\n"
     ]
    },
    {
     "name": "stdout",
     "output_type": "stream",
     "text": [
      ">>> Birch: 26.9918\n"
     ]
    }
   ],
   "source": [
    "adata, n_cluster = get_dlpfc_data(sectionid)\n",
    "train(adata, lr=1e-3, radius=150, node2vec_p=.25, node2vec_q=4, louvain_resolution=.6, components_features=30, walk_length=45)\n",
    "\n",
    "label = LabelEncoder().fit_transform(adata.obs['cluster'])\n",
    "pred = LabelEncoder().fit_transform([str(x) for x in Birch(n_clusters=n_cluster).fit(adata.obsm['embedding']).predict(adata.obsm['embedding'])])\n",
    "ari_score = metrics.adjusted_rand_score(label, pred) * 100\n",
    "print('>>> %s: %.4f' % ('Birch', ari_score))\n",
    "result[1][2].append(ari_score)"
   ]
  },
  {
   "cell_type": "code",
   "execution_count": 28,
   "metadata": {},
   "outputs": [
    {
     "name": "stderr",
     "output_type": "stream",
     "text": [
      "/mnt/5280e/twang/.conda/envs/torch+pyg/lib/python3.8/site-packages/anndata/_core/anndata.py:1830: UserWarning: Variable names are not unique. To make them unique, call `.var_names_make_unique`.\n",
      "  utils.warn_names_duplicates(\"var\")\n"
     ]
    },
    {
     "name": "stdout",
     "output_type": "stream",
     "text": [
      ">>> dataset name: dlpfc, slice id: 151510, size: (4634, 33538), cluster: 7.\n",
      ">>> The graph contains 31832 edges, average 6.869227449287872 edges per node.\n",
      ">>> Building spatial graph success!\n",
      ">>> use louvain to modify spatial graph\n",
      "WARNING: You’re trying to run this on 3000 dimensions of `.X`, if you really want this, set `use_rep='X'`.\n",
      "         Falling back to preprocessing with `sc.pp.pca` and default params.\n",
      ">>> finish louvain, begin to prune graph\n",
      ">>> pruned graph contains 22374 edges, average 4.828226154510142 edges per node.\n"
     ]
    },
    {
     "name": "stderr",
     "output_type": "stream",
     "text": [
      ">>> node2vec: 100%|██████████| 200/200 [04:06<00:00,  1.23s/it]\n"
     ]
    },
    {
     "name": "stdout",
     "output_type": "stream",
     "text": [
      ">>> spatial model data(features) size: (4634, 3000)\n"
     ]
    },
    {
     "name": "stderr",
     "output_type": "stream",
     "text": [
      ">>> training spatial model: 100%|██████████| 500/500 [00:06<00:00, 73.79it/s]\n"
     ]
    },
    {
     "name": "stdout",
     "output_type": "stream",
     "text": [
      ">>> Birch: 42.6193\n"
     ]
    }
   ],
   "source": [
    "adata, n_cluster = get_dlpfc_data(sectionid)\n",
    "train(adata, lr=1e-3, radius=150, node2vec_p=.25, node2vec_q=4, louvain_resolution=.8, components_features=30, walk_length=45)\n",
    "\n",
    "label = LabelEncoder().fit_transform(adata.obs['cluster'])\n",
    "pred = LabelEncoder().fit_transform([str(x) for x in Birch(n_clusters=n_cluster).fit(adata.obsm['embedding']).predict(adata.obsm['embedding'])])\n",
    "ari_score = metrics.adjusted_rand_score(label, pred) * 100\n",
    "print('>>> %s: %.4f' % ('Birch', ari_score))\n",
    "result[2][2].append(ari_score)"
   ]
  },
  {
   "cell_type": "code",
   "execution_count": 29,
   "metadata": {},
   "outputs": [
    {
     "name": "stdout",
     "output_type": "stream",
     "text": [
      "[[[39.91907903411804, 37.46177073737356, 45.30146211694621], [47.643511040388994, 47.98269178349299, 52.08709272268646], [50.17762000670246, 33.84106892457356, 38.18845233976392]], [[40.34356973403726, 36.376378923678296, 29.846439901300513], [48.220876902518015, 41.89358274726172, 49.51881132620093], [46.21951306607085, 43.47658530249878, 26.99179927066896]], [[44.30976420050015, 53.06162393038165, 40.067239624559015], [34.004120269717916, 42.57727926765075, 47.99017888847905], [30.07519862951896, 38.85448231463443, 42.61928629046118]]]\n"
     ]
    }
   ],
   "source": [
    "print(result)"
   ]
  }
 ],
 "metadata": {
  "kernelspec": {
   "display_name": "Python 3.8.13 ('torch+pyg')",
   "language": "python",
   "name": "python3"
  },
  "language_info": {
   "codemirror_mode": {
    "name": "ipython",
    "version": 3
   },
   "file_extension": ".py",
   "mimetype": "text/x-python",
   "name": "python",
   "nbconvert_exporter": "python",
   "pygments_lexer": "ipython3",
   "version": "3.8.13"
  },
  "orig_nbformat": 4,
  "vscode": {
   "interpreter": {
    "hash": "a0f855fec34ed1739858563e3b94d8ba36be9c5a95173b69288904bab1233695"
   }
  }
 },
 "nbformat": 4,
 "nbformat_minor": 2
}
