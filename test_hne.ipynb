{
 "cells": [
  {
   "cell_type": "code",
   "execution_count": 1,
   "metadata": {},
   "outputs": [],
   "source": [
    "from model.test import train\n",
    "from dataset import *\n",
    "from tools import evaluate\n",
    "\n",
    "from sklearn import metrics\n",
    "from sklearn.preprocessing import LabelEncoder \n",
    "from sklearn.cluster import KMeans, BisectingKMeans, Birch, SpectralClustering, AgglomerativeClustering, FeatureAgglomeration\n",
    "\n",
    "result = [[[], [], []], [[], [], []], [[], [], []]]"
   ]
  },
  {
   "cell_type": "code",
   "execution_count": 2,
   "metadata": {},
   "outputs": [
    {
     "name": "stderr",
     "output_type": "stream",
     "text": [
      "/mnt/5280e/twang/.conda/envs/torch+pyg/lib/python3.8/site-packages/scanpy/preprocessing/_highly_variable_genes.py:62: UserWarning: `flavor='seurat_v3'` expects raw count data, but non-integers were found.\n",
      "  warnings.warn(\n"
     ]
    },
    {
     "name": "stdout",
     "output_type": "stream",
     "text": [
      ">>> dataset name: visium_hne, size: (2688, 18078), cluster: 15.\n",
      ">>> The graph contains 18268 edges, average 6.7961309523809526 edges per node.\n",
      ">>> Building spatial graph success!\n",
      ">>> use louvain to modify spatial graph\n"
     ]
    },
    {
     "name": "stderr",
     "output_type": "stream",
     "text": [
      "2022-10-19 21:26:15.196661: I tensorflow/core/platform/cpu_feature_guard.cc:193] This TensorFlow binary is optimized with oneAPI Deep Neural Network Library (oneDNN) to use the following CPU instructions in performance-critical operations:  AVX2 AVX512F AVX512_VNNI FMA\n",
      "To enable them in other operations, rebuild TensorFlow with the appropriate compiler flags.\n",
      "2022-10-19 21:26:15.589949: I tensorflow/core/util/util.cc:169] oneDNN custom operations are on. You may see slightly different numerical results due to floating-point round-off errors from different computation orders. To turn them off, set the environment variable `TF_ENABLE_ONEDNN_OPTS=0`.\n"
     ]
    },
    {
     "name": "stdout",
     "output_type": "stream",
     "text": [
      ">>> finish louvain, begin to prune graph\n",
      ">>> pruned graph contains 15888 edges, average 5.910714285714286 edges per node.\n"
     ]
    },
    {
     "name": "stderr",
     "output_type": "stream",
     "text": [
      ">>> node2vec: 100%|██████████| 200/200 [05:09<00:00,  1.55s/it]\n"
     ]
    },
    {
     "name": "stdout",
     "output_type": "stream",
     "text": [
      ">>> spatial model data(features) size: (2688, 3000)\n"
     ]
    },
    {
     "name": "stderr",
     "output_type": "stream",
     "text": [
      ">>> training spatial model: 100%|██████████| 500/500 [00:06<00:00, 76.82it/s] \n"
     ]
    },
    {
     "name": "stdout",
     "output_type": "stream",
     "text": [
      ">>> Birch: 65.7237\n"
     ]
    }
   ],
   "source": [
    "adata, n_cluster = get_visium_hne_data()\n",
    "train(adata, lr=1e-3, radius=150, node2vec_p=4, node2vec_q=.25, louvain_resolution=.4, components_features=30, walk_length=25)\n",
    "\n",
    "label = LabelEncoder().fit_transform(adata.obs['cluster'])\n",
    "pred = LabelEncoder().fit_transform([str(x) for x in Birch(n_clusters=n_cluster).fit(adata.obsm['embedding']).predict(adata.obsm['embedding'])])\n",
    "ari_score = metrics.adjusted_rand_score(label, pred) * 100\n",
    "print('>>> %s: %.4f' % ('Birch', ari_score))\n",
    "result[0][0].append(ari_score)"
   ]
  },
  {
   "cell_type": "code",
   "execution_count": 3,
   "metadata": {},
   "outputs": [
    {
     "name": "stderr",
     "output_type": "stream",
     "text": [
      "/mnt/5280e/twang/.conda/envs/torch+pyg/lib/python3.8/site-packages/scanpy/preprocessing/_highly_variable_genes.py:62: UserWarning: `flavor='seurat_v3'` expects raw count data, but non-integers were found.\n",
      "  warnings.warn(\n"
     ]
    },
    {
     "name": "stdout",
     "output_type": "stream",
     "text": [
      ">>> dataset name: visium_hne, size: (2688, 18078), cluster: 15.\n",
      ">>> The graph contains 18268 edges, average 6.7961309523809526 edges per node.\n",
      ">>> Building spatial graph success!\n",
      ">>> use louvain to modify spatial graph\n",
      ">>> finish louvain, begin to prune graph\n",
      ">>> pruned graph contains 15154 edges, average 5.637648809523809 edges per node.\n"
     ]
    },
    {
     "name": "stderr",
     "output_type": "stream",
     "text": [
      ">>> node2vec: 100%|██████████| 200/200 [05:04<00:00,  1.52s/it]\n"
     ]
    },
    {
     "name": "stdout",
     "output_type": "stream",
     "text": [
      ">>> spatial model data(features) size: (2688, 3000)\n"
     ]
    },
    {
     "name": "stderr",
     "output_type": "stream",
     "text": [
      ">>> training spatial model: 100%|██████████| 500/500 [00:05<00:00, 94.29it/s] \n"
     ]
    },
    {
     "name": "stdout",
     "output_type": "stream",
     "text": [
      ">>> Birch: 65.9938\n"
     ]
    }
   ],
   "source": [
    "adata, n_cluster = get_visium_hne_data()\n",
    "train(adata, lr=1e-3, radius=150, node2vec_p=4, node2vec_q=.25, louvain_resolution=.6, components_features=30, walk_length=25)\n",
    "\n",
    "label = LabelEncoder().fit_transform(adata.obs['cluster'])\n",
    "pred = LabelEncoder().fit_transform([str(x) for x in Birch(n_clusters=n_cluster).fit(adata.obsm['embedding']).predict(adata.obsm['embedding'])])\n",
    "ari_score = metrics.adjusted_rand_score(label, pred) * 100\n",
    "print('>>> %s: %.4f' % ('Birch', ari_score))\n",
    "result[1][0].append(ari_score)"
   ]
  },
  {
   "cell_type": "code",
   "execution_count": 4,
   "metadata": {},
   "outputs": [
    {
     "name": "stderr",
     "output_type": "stream",
     "text": [
      "/mnt/5280e/twang/.conda/envs/torch+pyg/lib/python3.8/site-packages/scanpy/preprocessing/_highly_variable_genes.py:62: UserWarning: `flavor='seurat_v3'` expects raw count data, but non-integers were found.\n",
      "  warnings.warn(\n"
     ]
    },
    {
     "name": "stdout",
     "output_type": "stream",
     "text": [
      ">>> dataset name: visium_hne, size: (2688, 18078), cluster: 15.\n",
      ">>> The graph contains 18268 edges, average 6.7961309523809526 edges per node.\n",
      ">>> Building spatial graph success!\n",
      ">>> use louvain to modify spatial graph\n",
      ">>> finish louvain, begin to prune graph\n",
      ">>> pruned graph contains 14526 edges, average 5.404017857142857 edges per node.\n"
     ]
    },
    {
     "name": "stderr",
     "output_type": "stream",
     "text": [
      ">>> node2vec: 100%|██████████| 200/200 [06:12<00:00,  1.86s/it]\n"
     ]
    },
    {
     "name": "stdout",
     "output_type": "stream",
     "text": [
      ">>> spatial model data(features) size: (2688, 3000)\n"
     ]
    },
    {
     "name": "stderr",
     "output_type": "stream",
     "text": [
      ">>> training spatial model: 100%|██████████| 500/500 [00:07<00:00, 69.99it/s]\n"
     ]
    },
    {
     "name": "stdout",
     "output_type": "stream",
     "text": [
      ">>> Birch: 63.0887\n"
     ]
    }
   ],
   "source": [
    "adata, n_cluster = get_visium_hne_data()\n",
    "train(adata, lr=1e-3, radius=150, node2vec_p=4, node2vec_q=.25, louvain_resolution=.8, components_features=30, walk_length=25)\n",
    "\n",
    "label = LabelEncoder().fit_transform(adata.obs['cluster'])\n",
    "pred = LabelEncoder().fit_transform([str(x) for x in Birch(n_clusters=n_cluster).fit(adata.obsm['embedding']).predict(adata.obsm['embedding'])])\n",
    "ari_score = metrics.adjusted_rand_score(label, pred) * 100\n",
    "print('>>> %s: %.4f' % ('Birch', ari_score))\n",
    "result[2][0].append(ari_score)"
   ]
  },
  {
   "cell_type": "code",
   "execution_count": 5,
   "metadata": {},
   "outputs": [
    {
     "name": "stderr",
     "output_type": "stream",
     "text": [
      "/mnt/5280e/twang/.conda/envs/torch+pyg/lib/python3.8/site-packages/scanpy/preprocessing/_highly_variable_genes.py:62: UserWarning: `flavor='seurat_v3'` expects raw count data, but non-integers were found.\n",
      "  warnings.warn(\n"
     ]
    },
    {
     "name": "stdout",
     "output_type": "stream",
     "text": [
      ">>> dataset name: visium_hne, size: (2688, 18078), cluster: 15.\n",
      ">>> The graph contains 18268 edges, average 6.7961309523809526 edges per node.\n",
      ">>> Building spatial graph success!\n",
      ">>> use louvain to modify spatial graph\n",
      ">>> finish louvain, begin to prune graph\n",
      ">>> pruned graph contains 15888 edges, average 5.910714285714286 edges per node.\n"
     ]
    },
    {
     "name": "stderr",
     "output_type": "stream",
     "text": [
      ">>> node2vec: 100%|██████████| 200/200 [05:02<00:00,  1.51s/it]\n"
     ]
    },
    {
     "name": "stdout",
     "output_type": "stream",
     "text": [
      ">>> spatial model data(features) size: (2688, 3000)\n"
     ]
    },
    {
     "name": "stderr",
     "output_type": "stream",
     "text": [
      ">>> training spatial model: 100%|██████████| 500/500 [00:04<00:00, 104.46it/s]\n"
     ]
    },
    {
     "name": "stdout",
     "output_type": "stream",
     "text": [
      ">>> Birch: 56.7137\n"
     ]
    }
   ],
   "source": [
    "adata, n_cluster = get_visium_hne_data()\n",
    "train(adata, lr=1e-3, radius=150, node2vec_p=1, node2vec_q=1, louvain_resolution=.4, components_features=30, walk_length=25)\n",
    "\n",
    "label = LabelEncoder().fit_transform(adata.obs['cluster'])\n",
    "pred = LabelEncoder().fit_transform([str(x) for x in Birch(n_clusters=n_cluster).fit(adata.obsm['embedding']).predict(adata.obsm['embedding'])])\n",
    "ari_score = metrics.adjusted_rand_score(label, pred) * 100\n",
    "print('>>> %s: %.4f' % ('Birch', ari_score))\n",
    "result[0][0].append(ari_score)"
   ]
  },
  {
   "cell_type": "code",
   "execution_count": 6,
   "metadata": {},
   "outputs": [
    {
     "name": "stderr",
     "output_type": "stream",
     "text": [
      "/mnt/5280e/twang/.conda/envs/torch+pyg/lib/python3.8/site-packages/scanpy/preprocessing/_highly_variable_genes.py:62: UserWarning: `flavor='seurat_v3'` expects raw count data, but non-integers were found.\n",
      "  warnings.warn(\n"
     ]
    },
    {
     "name": "stdout",
     "output_type": "stream",
     "text": [
      ">>> dataset name: visium_hne, size: (2688, 18078), cluster: 15.\n",
      ">>> The graph contains 18268 edges, average 6.7961309523809526 edges per node.\n",
      ">>> Building spatial graph success!\n",
      ">>> use louvain to modify spatial graph\n",
      ">>> finish louvain, begin to prune graph\n",
      ">>> pruned graph contains 15154 edges, average 5.637648809523809 edges per node.\n"
     ]
    },
    {
     "name": "stderr",
     "output_type": "stream",
     "text": [
      ">>> node2vec: 100%|██████████| 200/200 [02:22<00:00,  1.40it/s]\n"
     ]
    },
    {
     "name": "stdout",
     "output_type": "stream",
     "text": [
      ">>> spatial model data(features) size: (2688, 3000)\n"
     ]
    },
    {
     "name": "stderr",
     "output_type": "stream",
     "text": [
      ">>> training spatial model: 100%|██████████| 500/500 [00:04<00:00, 105.19it/s]\n"
     ]
    },
    {
     "name": "stdout",
     "output_type": "stream",
     "text": [
      ">>> Birch: 60.3492\n"
     ]
    }
   ],
   "source": [
    "adata, n_cluster = get_visium_hne_data()\n",
    "train(adata, lr=1e-3, radius=150, node2vec_p=1, node2vec_q=1, louvain_resolution=.6, components_features=30, walk_length=25)\n",
    "\n",
    "label = LabelEncoder().fit_transform(adata.obs['cluster'])\n",
    "pred = LabelEncoder().fit_transform([str(x) for x in Birch(n_clusters=n_cluster).fit(adata.obsm['embedding']).predict(adata.obsm['embedding'])])\n",
    "ari_score = metrics.adjusted_rand_score(label, pred) * 100\n",
    "print('>>> %s: %.4f' % ('Birch', ari_score))\n",
    "result[1][0].append(ari_score)"
   ]
  },
  {
   "cell_type": "code",
   "execution_count": 7,
   "metadata": {},
   "outputs": [
    {
     "name": "stderr",
     "output_type": "stream",
     "text": [
      "/mnt/5280e/twang/.conda/envs/torch+pyg/lib/python3.8/site-packages/scanpy/preprocessing/_highly_variable_genes.py:62: UserWarning: `flavor='seurat_v3'` expects raw count data, but non-integers were found.\n",
      "  warnings.warn(\n"
     ]
    },
    {
     "name": "stdout",
     "output_type": "stream",
     "text": [
      ">>> dataset name: visium_hne, size: (2688, 18078), cluster: 15.\n",
      ">>> The graph contains 18268 edges, average 6.7961309523809526 edges per node.\n",
      ">>> Building spatial graph success!\n",
      ">>> use louvain to modify spatial graph\n",
      ">>> finish louvain, begin to prune graph\n",
      ">>> pruned graph contains 14526 edges, average 5.404017857142857 edges per node.\n"
     ]
    },
    {
     "name": "stderr",
     "output_type": "stream",
     "text": [
      ">>> node2vec: 100%|██████████| 200/200 [03:23<00:00,  1.02s/it]\n"
     ]
    },
    {
     "name": "stdout",
     "output_type": "stream",
     "text": [
      ">>> spatial model data(features) size: (2688, 3000)\n"
     ]
    },
    {
     "name": "stderr",
     "output_type": "stream",
     "text": [
      ">>> training spatial model: 100%|██████████| 500/500 [00:04<00:00, 105.61it/s]\n"
     ]
    },
    {
     "name": "stdout",
     "output_type": "stream",
     "text": [
      ">>> Birch: 66.0242\n"
     ]
    }
   ],
   "source": [
    "adata, n_cluster = get_visium_hne_data()\n",
    "train(adata, lr=1e-3, radius=150, node2vec_p=1, node2vec_q=1, louvain_resolution=.8, components_features=30, walk_length=25)\n",
    "\n",
    "label = LabelEncoder().fit_transform(adata.obs['cluster'])\n",
    "pred = LabelEncoder().fit_transform([str(x) for x in Birch(n_clusters=n_cluster).fit(adata.obsm['embedding']).predict(adata.obsm['embedding'])])\n",
    "ari_score = metrics.adjusted_rand_score(label, pred) * 100\n",
    "print('>>> %s: %.4f' % ('Birch', ari_score))\n",
    "result[2][0].append(ari_score)"
   ]
  },
  {
   "cell_type": "code",
   "execution_count": 8,
   "metadata": {},
   "outputs": [
    {
     "name": "stderr",
     "output_type": "stream",
     "text": [
      "/mnt/5280e/twang/.conda/envs/torch+pyg/lib/python3.8/site-packages/scanpy/preprocessing/_highly_variable_genes.py:62: UserWarning: `flavor='seurat_v3'` expects raw count data, but non-integers were found.\n",
      "  warnings.warn(\n"
     ]
    },
    {
     "name": "stdout",
     "output_type": "stream",
     "text": [
      ">>> dataset name: visium_hne, size: (2688, 18078), cluster: 15.\n",
      ">>> The graph contains 18268 edges, average 6.7961309523809526 edges per node.\n",
      ">>> Building spatial graph success!\n",
      ">>> use louvain to modify spatial graph\n",
      ">>> finish louvain, begin to prune graph\n",
      ">>> pruned graph contains 15888 edges, average 5.910714285714286 edges per node.\n"
     ]
    },
    {
     "name": "stderr",
     "output_type": "stream",
     "text": [
      ">>> node2vec: 100%|██████████| 200/200 [02:51<00:00,  1.17it/s]\n"
     ]
    },
    {
     "name": "stdout",
     "output_type": "stream",
     "text": [
      ">>> spatial model data(features) size: (2688, 3000)\n"
     ]
    },
    {
     "name": "stderr",
     "output_type": "stream",
     "text": [
      ">>> training spatial model: 100%|██████████| 500/500 [00:04<00:00, 100.45it/s]\n"
     ]
    },
    {
     "name": "stdout",
     "output_type": "stream",
     "text": [
      ">>> Birch: 61.7125\n"
     ]
    }
   ],
   "source": [
    "adata, n_cluster = get_visium_hne_data()\n",
    "train(adata, lr=1e-3, radius=150, node2vec_p=.25, node2vec_q=4, louvain_resolution=.4, components_features=30, walk_length=25)\n",
    "\n",
    "label = LabelEncoder().fit_transform(adata.obs['cluster'])\n",
    "pred = LabelEncoder().fit_transform([str(x) for x in Birch(n_clusters=n_cluster).fit(adata.obsm['embedding']).predict(adata.obsm['embedding'])])\n",
    "ari_score = metrics.adjusted_rand_score(label, pred) * 100\n",
    "print('>>> %s: %.4f' % ('Birch', ari_score))\n",
    "result[0][0].append(ari_score)"
   ]
  },
  {
   "cell_type": "code",
   "execution_count": 9,
   "metadata": {},
   "outputs": [
    {
     "name": "stderr",
     "output_type": "stream",
     "text": [
      "/mnt/5280e/twang/.conda/envs/torch+pyg/lib/python3.8/site-packages/scanpy/preprocessing/_highly_variable_genes.py:62: UserWarning: `flavor='seurat_v3'` expects raw count data, but non-integers were found.\n",
      "  warnings.warn(\n"
     ]
    },
    {
     "name": "stdout",
     "output_type": "stream",
     "text": [
      ">>> dataset name: visium_hne, size: (2688, 18078), cluster: 15.\n",
      ">>> The graph contains 18268 edges, average 6.7961309523809526 edges per node.\n",
      ">>> Building spatial graph success!\n",
      ">>> use louvain to modify spatial graph\n",
      ">>> finish louvain, begin to prune graph\n",
      ">>> pruned graph contains 15154 edges, average 5.637648809523809 edges per node.\n"
     ]
    },
    {
     "name": "stderr",
     "output_type": "stream",
     "text": [
      ">>> node2vec: 100%|██████████| 200/200 [03:44<00:00,  1.12s/it]\n"
     ]
    },
    {
     "name": "stdout",
     "output_type": "stream",
     "text": [
      ">>> spatial model data(features) size: (2688, 3000)\n"
     ]
    },
    {
     "name": "stderr",
     "output_type": "stream",
     "text": [
      ">>> training spatial model: 100%|██████████| 500/500 [00:05<00:00, 90.49it/s] \n"
     ]
    },
    {
     "name": "stdout",
     "output_type": "stream",
     "text": [
      ">>> Birch: 65.6933\n"
     ]
    }
   ],
   "source": [
    "adata, n_cluster = get_visium_hne_data()\n",
    "train(adata, lr=1e-3, radius=150, node2vec_p=.25, node2vec_q=4, louvain_resolution=.6, components_features=30, walk_length=25)\n",
    "\n",
    "label = LabelEncoder().fit_transform(adata.obs['cluster'])\n",
    "pred = LabelEncoder().fit_transform([str(x) for x in Birch(n_clusters=n_cluster).fit(adata.obsm['embedding']).predict(adata.obsm['embedding'])])\n",
    "ari_score = metrics.adjusted_rand_score(label, pred) * 100\n",
    "print('>>> %s: %.4f' % ('Birch', ari_score))\n",
    "result[1][0].append(ari_score)"
   ]
  },
  {
   "cell_type": "code",
   "execution_count": 10,
   "metadata": {},
   "outputs": [
    {
     "name": "stderr",
     "output_type": "stream",
     "text": [
      "/mnt/5280e/twang/.conda/envs/torch+pyg/lib/python3.8/site-packages/scanpy/preprocessing/_highly_variable_genes.py:62: UserWarning: `flavor='seurat_v3'` expects raw count data, but non-integers were found.\n",
      "  warnings.warn(\n"
     ]
    },
    {
     "name": "stdout",
     "output_type": "stream",
     "text": [
      ">>> dataset name: visium_hne, size: (2688, 18078), cluster: 15.\n",
      ">>> The graph contains 18268 edges, average 6.7961309523809526 edges per node.\n",
      ">>> Building spatial graph success!\n",
      ">>> use louvain to modify spatial graph\n",
      ">>> finish louvain, begin to prune graph\n",
      ">>> pruned graph contains 14526 edges, average 5.404017857142857 edges per node.\n"
     ]
    },
    {
     "name": "stderr",
     "output_type": "stream",
     "text": [
      ">>> node2vec: 100%|██████████| 200/200 [03:36<00:00,  1.08s/it]\n"
     ]
    },
    {
     "name": "stdout",
     "output_type": "stream",
     "text": [
      ">>> spatial model data(features) size: (2688, 3000)\n"
     ]
    },
    {
     "name": "stderr",
     "output_type": "stream",
     "text": [
      ">>> training spatial model: 100%|██████████| 500/500 [00:05<00:00, 93.80it/s] \n"
     ]
    },
    {
     "name": "stdout",
     "output_type": "stream",
     "text": [
      ">>> Birch: 62.0021\n"
     ]
    }
   ],
   "source": [
    "adata, n_cluster = get_visium_hne_data()\n",
    "train(adata, lr=1e-3, radius=150, node2vec_p=.25, node2vec_q=4, louvain_resolution=.8, components_features=30, walk_length=25)\n",
    "\n",
    "label = LabelEncoder().fit_transform(adata.obs['cluster'])\n",
    "pred = LabelEncoder().fit_transform([str(x) for x in Birch(n_clusters=n_cluster).fit(adata.obsm['embedding']).predict(adata.obsm['embedding'])])\n",
    "ari_score = metrics.adjusted_rand_score(label, pred) * 100\n",
    "print('>>> %s: %.4f' % ('Birch', ari_score))\n",
    "result[2][0].append(ari_score)"
   ]
  },
  {
   "cell_type": "code",
   "execution_count": 11,
   "metadata": {},
   "outputs": [
    {
     "name": "stderr",
     "output_type": "stream",
     "text": [
      "/mnt/5280e/twang/.conda/envs/torch+pyg/lib/python3.8/site-packages/scanpy/preprocessing/_highly_variable_genes.py:62: UserWarning: `flavor='seurat_v3'` expects raw count data, but non-integers were found.\n",
      "  warnings.warn(\n"
     ]
    },
    {
     "name": "stdout",
     "output_type": "stream",
     "text": [
      ">>> dataset name: visium_hne, size: (2688, 18078), cluster: 15.\n",
      ">>> The graph contains 18268 edges, average 6.7961309523809526 edges per node.\n",
      ">>> Building spatial graph success!\n",
      ">>> use louvain to modify spatial graph\n",
      ">>> finish louvain, begin to prune graph\n",
      ">>> pruned graph contains 15888 edges, average 5.910714285714286 edges per node.\n"
     ]
    },
    {
     "name": "stderr",
     "output_type": "stream",
     "text": [
      ">>> node2vec: 100%|██████████| 200/200 [06:12<00:00,  1.86s/it]\n"
     ]
    },
    {
     "name": "stdout",
     "output_type": "stream",
     "text": [
      ">>> spatial model data(features) size: (2688, 3000)\n"
     ]
    },
    {
     "name": "stderr",
     "output_type": "stream",
     "text": [
      ">>> training spatial model: 100%|██████████| 500/500 [00:05<00:00, 92.00it/s] \n"
     ]
    },
    {
     "name": "stdout",
     "output_type": "stream",
     "text": [
      ">>> Birch: 58.7642\n"
     ]
    }
   ],
   "source": [
    "adata, n_cluster = get_visium_hne_data()\n",
    "train(adata, lr=1e-3, radius=150, node2vec_p=4, node2vec_q=.25, louvain_resolution=.4, components_features=30, walk_length=35)\n",
    "\n",
    "label = LabelEncoder().fit_transform(adata.obs['cluster'])\n",
    "pred = LabelEncoder().fit_transform([str(x) for x in Birch(n_clusters=n_cluster).fit(adata.obsm['embedding']).predict(adata.obsm['embedding'])])\n",
    "ari_score = metrics.adjusted_rand_score(label, pred) * 100\n",
    "print('>>> %s: %.4f' % ('Birch', ari_score))\n",
    "result[0][1].append(ari_score)"
   ]
  },
  {
   "cell_type": "code",
   "execution_count": 12,
   "metadata": {},
   "outputs": [
    {
     "name": "stderr",
     "output_type": "stream",
     "text": [
      "/mnt/5280e/twang/.conda/envs/torch+pyg/lib/python3.8/site-packages/scanpy/preprocessing/_highly_variable_genes.py:62: UserWarning: `flavor='seurat_v3'` expects raw count data, but non-integers were found.\n",
      "  warnings.warn(\n"
     ]
    },
    {
     "name": "stdout",
     "output_type": "stream",
     "text": [
      ">>> dataset name: visium_hne, size: (2688, 18078), cluster: 15.\n",
      ">>> The graph contains 18268 edges, average 6.7961309523809526 edges per node.\n",
      ">>> Building spatial graph success!\n",
      ">>> use louvain to modify spatial graph\n",
      ">>> finish louvain, begin to prune graph\n",
      ">>> pruned graph contains 15154 edges, average 5.637648809523809 edges per node.\n"
     ]
    },
    {
     "name": "stderr",
     "output_type": "stream",
     "text": [
      ">>> node2vec: 100%|██████████| 200/200 [05:15<00:00,  1.58s/it]\n"
     ]
    },
    {
     "name": "stdout",
     "output_type": "stream",
     "text": [
      ">>> spatial model data(features) size: (2688, 3000)\n"
     ]
    },
    {
     "name": "stderr",
     "output_type": "stream",
     "text": [
      ">>> training spatial model: 100%|██████████| 500/500 [00:07<00:00, 71.30it/s] \n"
     ]
    },
    {
     "name": "stdout",
     "output_type": "stream",
     "text": [
      ">>> Birch: 62.1040\n"
     ]
    }
   ],
   "source": [
    "adata, n_cluster = get_visium_hne_data()\n",
    "train(adata, lr=1e-3, radius=150, node2vec_p=4, node2vec_q=.25, louvain_resolution=.6, components_features=30, walk_length=35)\n",
    "\n",
    "label = LabelEncoder().fit_transform(adata.obs['cluster'])\n",
    "pred = LabelEncoder().fit_transform([str(x) for x in Birch(n_clusters=n_cluster).fit(adata.obsm['embedding']).predict(adata.obsm['embedding'])])\n",
    "ari_score = metrics.adjusted_rand_score(label, pred) * 100\n",
    "print('>>> %s: %.4f' % ('Birch', ari_score))\n",
    "result[1][1].append(ari_score)"
   ]
  },
  {
   "cell_type": "code",
   "execution_count": 13,
   "metadata": {},
   "outputs": [
    {
     "name": "stderr",
     "output_type": "stream",
     "text": [
      "/mnt/5280e/twang/.conda/envs/torch+pyg/lib/python3.8/site-packages/scanpy/preprocessing/_highly_variable_genes.py:62: UserWarning: `flavor='seurat_v3'` expects raw count data, but non-integers were found.\n",
      "  warnings.warn(\n"
     ]
    },
    {
     "name": "stdout",
     "output_type": "stream",
     "text": [
      ">>> dataset name: visium_hne, size: (2688, 18078), cluster: 15.\n",
      ">>> The graph contains 18268 edges, average 6.7961309523809526 edges per node.\n",
      ">>> Building spatial graph success!\n",
      ">>> use louvain to modify spatial graph\n",
      ">>> finish louvain, begin to prune graph\n",
      ">>> pruned graph contains 14526 edges, average 5.404017857142857 edges per node.\n"
     ]
    },
    {
     "name": "stderr",
     "output_type": "stream",
     "text": [
      ">>> node2vec: 100%|██████████| 200/200 [05:00<00:00,  1.50s/it]\n"
     ]
    },
    {
     "name": "stdout",
     "output_type": "stream",
     "text": [
      ">>> spatial model data(features) size: (2688, 3000)\n"
     ]
    },
    {
     "name": "stderr",
     "output_type": "stream",
     "text": [
      ">>> training spatial model: 100%|██████████| 500/500 [00:05<00:00, 94.46it/s] \n"
     ]
    },
    {
     "name": "stdout",
     "output_type": "stream",
     "text": [
      ">>> Birch: 55.6473\n"
     ]
    }
   ],
   "source": [
    "adata, n_cluster = get_visium_hne_data()\n",
    "train(adata, lr=1e-3, radius=150, node2vec_p=4, node2vec_q=.25, louvain_resolution=.8, components_features=30, walk_length=35)\n",
    "\n",
    "label = LabelEncoder().fit_transform(adata.obs['cluster'])\n",
    "pred = LabelEncoder().fit_transform([str(x) for x in Birch(n_clusters=n_cluster).fit(adata.obsm['embedding']).predict(adata.obsm['embedding'])])\n",
    "ari_score = metrics.adjusted_rand_score(label, pred) * 100\n",
    "print('>>> %s: %.4f' % ('Birch', ari_score))\n",
    "result[2][1].append(ari_score)"
   ]
  },
  {
   "cell_type": "code",
   "execution_count": 14,
   "metadata": {},
   "outputs": [
    {
     "name": "stderr",
     "output_type": "stream",
     "text": [
      "/mnt/5280e/twang/.conda/envs/torch+pyg/lib/python3.8/site-packages/scanpy/preprocessing/_highly_variable_genes.py:62: UserWarning: `flavor='seurat_v3'` expects raw count data, but non-integers were found.\n",
      "  warnings.warn(\n"
     ]
    },
    {
     "name": "stdout",
     "output_type": "stream",
     "text": [
      ">>> dataset name: visium_hne, size: (2688, 18078), cluster: 15.\n",
      ">>> The graph contains 18268 edges, average 6.7961309523809526 edges per node.\n",
      ">>> Building spatial graph success!\n",
      ">>> use louvain to modify spatial graph\n",
      ">>> finish louvain, begin to prune graph\n",
      ">>> pruned graph contains 15888 edges, average 5.910714285714286 edges per node.\n"
     ]
    },
    {
     "name": "stderr",
     "output_type": "stream",
     "text": [
      ">>> node2vec: 100%|██████████| 200/200 [04:48<00:00,  1.44s/it]\n"
     ]
    },
    {
     "name": "stdout",
     "output_type": "stream",
     "text": [
      ">>> spatial model data(features) size: (2688, 3000)\n"
     ]
    },
    {
     "name": "stderr",
     "output_type": "stream",
     "text": [
      ">>> training spatial model: 100%|██████████| 500/500 [00:04<00:00, 101.28it/s]\n"
     ]
    },
    {
     "name": "stdout",
     "output_type": "stream",
     "text": [
      ">>> Birch: 58.6071\n"
     ]
    }
   ],
   "source": [
    "adata, n_cluster = get_visium_hne_data()\n",
    "train(adata, lr=1e-3, radius=150, node2vec_p=1, node2vec_q=1, louvain_resolution=.4, components_features=30, walk_length=35)\n",
    "\n",
    "label = LabelEncoder().fit_transform(adata.obs['cluster'])\n",
    "pred = LabelEncoder().fit_transform([str(x) for x in Birch(n_clusters=n_cluster).fit(adata.obsm['embedding']).predict(adata.obsm['embedding'])])\n",
    "ari_score = metrics.adjusted_rand_score(label, pred) * 100\n",
    "print('>>> %s: %.4f' % ('Birch', ari_score))\n",
    "result[0][1].append(ari_score)"
   ]
  },
  {
   "cell_type": "code",
   "execution_count": 15,
   "metadata": {},
   "outputs": [
    {
     "name": "stderr",
     "output_type": "stream",
     "text": [
      "/mnt/5280e/twang/.conda/envs/torch+pyg/lib/python3.8/site-packages/scanpy/preprocessing/_highly_variable_genes.py:62: UserWarning: `flavor='seurat_v3'` expects raw count data, but non-integers were found.\n",
      "  warnings.warn(\n"
     ]
    },
    {
     "name": "stdout",
     "output_type": "stream",
     "text": [
      ">>> dataset name: visium_hne, size: (2688, 18078), cluster: 15.\n",
      ">>> The graph contains 18268 edges, average 6.7961309523809526 edges per node.\n",
      ">>> Building spatial graph success!\n",
      ">>> use louvain to modify spatial graph\n",
      ">>> finish louvain, begin to prune graph\n",
      ">>> pruned graph contains 15154 edges, average 5.637648809523809 edges per node.\n"
     ]
    },
    {
     "name": "stderr",
     "output_type": "stream",
     "text": [
      ">>> node2vec: 100%|██████████| 200/200 [03:37<00:00,  1.09s/it]\n"
     ]
    },
    {
     "name": "stdout",
     "output_type": "stream",
     "text": [
      ">>> spatial model data(features) size: (2688, 3000)\n"
     ]
    },
    {
     "name": "stderr",
     "output_type": "stream",
     "text": [
      ">>> training spatial model: 100%|██████████| 500/500 [00:04<00:00, 122.01it/s]\n"
     ]
    },
    {
     "name": "stdout",
     "output_type": "stream",
     "text": [
      ">>> Birch: 60.3264\n"
     ]
    }
   ],
   "source": [
    "adata, n_cluster = get_visium_hne_data()\n",
    "train(adata, lr=1e-3, radius=150, node2vec_p=1, node2vec_q=1, louvain_resolution=.6, components_features=30, walk_length=35)\n",
    "\n",
    "label = LabelEncoder().fit_transform(adata.obs['cluster'])\n",
    "pred = LabelEncoder().fit_transform([str(x) for x in Birch(n_clusters=n_cluster).fit(adata.obsm['embedding']).predict(adata.obsm['embedding'])])\n",
    "ari_score = metrics.adjusted_rand_score(label, pred) * 100\n",
    "print('>>> %s: %.4f' % ('Birch', ari_score))\n",
    "result[1][1].append(ari_score)"
   ]
  },
  {
   "cell_type": "code",
   "execution_count": 16,
   "metadata": {},
   "outputs": [
    {
     "name": "stderr",
     "output_type": "stream",
     "text": [
      "/mnt/5280e/twang/.conda/envs/torch+pyg/lib/python3.8/site-packages/scanpy/preprocessing/_highly_variable_genes.py:62: UserWarning: `flavor='seurat_v3'` expects raw count data, but non-integers were found.\n",
      "  warnings.warn(\n"
     ]
    },
    {
     "name": "stdout",
     "output_type": "stream",
     "text": [
      ">>> dataset name: visium_hne, size: (2688, 18078), cluster: 15.\n",
      ">>> The graph contains 18268 edges, average 6.7961309523809526 edges per node.\n",
      ">>> Building spatial graph success!\n",
      ">>> use louvain to modify spatial graph\n",
      ">>> finish louvain, begin to prune graph\n",
      ">>> pruned graph contains 14526 edges, average 5.404017857142857 edges per node.\n"
     ]
    },
    {
     "name": "stderr",
     "output_type": "stream",
     "text": [
      ">>> node2vec: 100%|██████████| 200/200 [04:26<00:00,  1.33s/it]\n"
     ]
    },
    {
     "name": "stdout",
     "output_type": "stream",
     "text": [
      ">>> spatial model data(features) size: (2688, 3000)\n"
     ]
    },
    {
     "name": "stderr",
     "output_type": "stream",
     "text": [
      ">>> training spatial model: 100%|██████████| 500/500 [00:04<00:00, 109.45it/s]\n"
     ]
    },
    {
     "name": "stdout",
     "output_type": "stream",
     "text": [
      ">>> Birch: 61.7599\n"
     ]
    }
   ],
   "source": [
    "adata, n_cluster = get_visium_hne_data()\n",
    "train(adata, lr=1e-3, radius=150, node2vec_p=1, node2vec_q=1, louvain_resolution=.8, components_features=30, walk_length=35)\n",
    "\n",
    "label = LabelEncoder().fit_transform(adata.obs['cluster'])\n",
    "pred = LabelEncoder().fit_transform([str(x) for x in Birch(n_clusters=n_cluster).fit(adata.obsm['embedding']).predict(adata.obsm['embedding'])])\n",
    "ari_score = metrics.adjusted_rand_score(label, pred) * 100\n",
    "print('>>> %s: %.4f' % ('Birch', ari_score))\n",
    "result[2][1].append(ari_score)"
   ]
  },
  {
   "cell_type": "code",
   "execution_count": 17,
   "metadata": {},
   "outputs": [
    {
     "name": "stderr",
     "output_type": "stream",
     "text": [
      "/mnt/5280e/twang/.conda/envs/torch+pyg/lib/python3.8/site-packages/scanpy/preprocessing/_highly_variable_genes.py:62: UserWarning: `flavor='seurat_v3'` expects raw count data, but non-integers were found.\n",
      "  warnings.warn(\n"
     ]
    },
    {
     "name": "stdout",
     "output_type": "stream",
     "text": [
      ">>> dataset name: visium_hne, size: (2688, 18078), cluster: 15.\n",
      ">>> The graph contains 18268 edges, average 6.7961309523809526 edges per node.\n",
      ">>> Building spatial graph success!\n",
      ">>> use louvain to modify spatial graph\n",
      ">>> finish louvain, begin to prune graph\n",
      ">>> pruned graph contains 15888 edges, average 5.910714285714286 edges per node.\n"
     ]
    },
    {
     "name": "stderr",
     "output_type": "stream",
     "text": [
      ">>> node2vec: 100%|██████████| 200/200 [04:31<00:00,  1.36s/it]\n"
     ]
    },
    {
     "name": "stdout",
     "output_type": "stream",
     "text": [
      ">>> spatial model data(features) size: (2688, 3000)\n"
     ]
    },
    {
     "name": "stderr",
     "output_type": "stream",
     "text": [
      ">>> training spatial model: 100%|██████████| 500/500 [00:04<00:00, 111.67it/s]\n"
     ]
    },
    {
     "name": "stdout",
     "output_type": "stream",
     "text": [
      ">>> Birch: 59.9724\n"
     ]
    }
   ],
   "source": [
    "adata, n_cluster = get_visium_hne_data()\n",
    "train(adata, lr=1e-3, radius=150, node2vec_p=.25, node2vec_q=4, louvain_resolution=.4, components_features=30, walk_length=35)\n",
    "\n",
    "label = LabelEncoder().fit_transform(adata.obs['cluster'])\n",
    "pred = LabelEncoder().fit_transform([str(x) for x in Birch(n_clusters=n_cluster).fit(adata.obsm['embedding']).predict(adata.obsm['embedding'])])\n",
    "ari_score = metrics.adjusted_rand_score(label, pred) * 100\n",
    "print('>>> %s: %.4f' % ('Birch', ari_score))\n",
    "result[0][1].append(ari_score)"
   ]
  },
  {
   "cell_type": "code",
   "execution_count": 18,
   "metadata": {},
   "outputs": [
    {
     "name": "stderr",
     "output_type": "stream",
     "text": [
      "/mnt/5280e/twang/.conda/envs/torch+pyg/lib/python3.8/site-packages/scanpy/preprocessing/_highly_variable_genes.py:62: UserWarning: `flavor='seurat_v3'` expects raw count data, but non-integers were found.\n",
      "  warnings.warn(\n"
     ]
    },
    {
     "name": "stdout",
     "output_type": "stream",
     "text": [
      ">>> dataset name: visium_hne, size: (2688, 18078), cluster: 15.\n",
      ">>> The graph contains 18268 edges, average 6.7961309523809526 edges per node.\n",
      ">>> Building spatial graph success!\n",
      ">>> use louvain to modify spatial graph\n",
      ">>> finish louvain, begin to prune graph\n",
      ">>> pruned graph contains 15154 edges, average 5.637648809523809 edges per node.\n"
     ]
    },
    {
     "name": "stderr",
     "output_type": "stream",
     "text": [
      ">>> node2vec: 100%|██████████| 200/200 [04:37<00:00,  1.39s/it]\n"
     ]
    },
    {
     "name": "stdout",
     "output_type": "stream",
     "text": [
      ">>> spatial model data(features) size: (2688, 3000)\n"
     ]
    },
    {
     "name": "stderr",
     "output_type": "stream",
     "text": [
      ">>> training spatial model: 100%|██████████| 500/500 [00:04<00:00, 104.63it/s]\n"
     ]
    },
    {
     "name": "stdout",
     "output_type": "stream",
     "text": [
      ">>> Birch: 59.1236\n"
     ]
    }
   ],
   "source": [
    "adata, n_cluster = get_visium_hne_data()\n",
    "train(adata, lr=1e-3, radius=150, node2vec_p=.25, node2vec_q=4, louvain_resolution=.6, components_features=30, walk_length=35)\n",
    "\n",
    "label = LabelEncoder().fit_transform(adata.obs['cluster'])\n",
    "pred = LabelEncoder().fit_transform([str(x) for x in Birch(n_clusters=n_cluster).fit(adata.obsm['embedding']).predict(adata.obsm['embedding'])])\n",
    "ari_score = metrics.adjusted_rand_score(label, pred) * 100\n",
    "print('>>> %s: %.4f' % ('Birch', ari_score))\n",
    "result[1][1].append(ari_score)"
   ]
  },
  {
   "cell_type": "code",
   "execution_count": 19,
   "metadata": {},
   "outputs": [
    {
     "name": "stderr",
     "output_type": "stream",
     "text": [
      "/mnt/5280e/twang/.conda/envs/torch+pyg/lib/python3.8/site-packages/scanpy/preprocessing/_highly_variable_genes.py:62: UserWarning: `flavor='seurat_v3'` expects raw count data, but non-integers were found.\n",
      "  warnings.warn(\n"
     ]
    },
    {
     "name": "stdout",
     "output_type": "stream",
     "text": [
      ">>> dataset name: visium_hne, size: (2688, 18078), cluster: 15.\n",
      ">>> The graph contains 18268 edges, average 6.7961309523809526 edges per node.\n",
      ">>> Building spatial graph success!\n",
      ">>> use louvain to modify spatial graph\n",
      ">>> finish louvain, begin to prune graph\n",
      ">>> pruned graph contains 14526 edges, average 5.404017857142857 edges per node.\n"
     ]
    },
    {
     "name": "stderr",
     "output_type": "stream",
     "text": [
      ">>> node2vec: 100%|██████████| 200/200 [05:14<00:00,  1.57s/it]\n"
     ]
    },
    {
     "name": "stdout",
     "output_type": "stream",
     "text": [
      ">>> spatial model data(features) size: (2688, 3000)\n"
     ]
    },
    {
     "name": "stderr",
     "output_type": "stream",
     "text": [
      ">>> training spatial model: 100%|██████████| 500/500 [00:04<00:00, 109.65it/s]\n"
     ]
    },
    {
     "name": "stdout",
     "output_type": "stream",
     "text": [
      ">>> Birch: 58.3625\n"
     ]
    }
   ],
   "source": [
    "adata, n_cluster = get_visium_hne_data()\n",
    "train(adata, lr=1e-3, radius=150, node2vec_p=.25, node2vec_q=4, louvain_resolution=.8, components_features=30, walk_length=35)\n",
    "\n",
    "label = LabelEncoder().fit_transform(adata.obs['cluster'])\n",
    "pred = LabelEncoder().fit_transform([str(x) for x in Birch(n_clusters=n_cluster).fit(adata.obsm['embedding']).predict(adata.obsm['embedding'])])\n",
    "ari_score = metrics.adjusted_rand_score(label, pred) * 100\n",
    "print('>>> %s: %.4f' % ('Birch', ari_score))\n",
    "result[2][1].append(ari_score)"
   ]
  },
  {
   "cell_type": "code",
   "execution_count": 20,
   "metadata": {},
   "outputs": [
    {
     "name": "stderr",
     "output_type": "stream",
     "text": [
      "/mnt/5280e/twang/.conda/envs/torch+pyg/lib/python3.8/site-packages/scanpy/preprocessing/_highly_variable_genes.py:62: UserWarning: `flavor='seurat_v3'` expects raw count data, but non-integers were found.\n",
      "  warnings.warn(\n"
     ]
    },
    {
     "name": "stdout",
     "output_type": "stream",
     "text": [
      ">>> dataset name: visium_hne, size: (2688, 18078), cluster: 15.\n",
      ">>> The graph contains 18268 edges, average 6.7961309523809526 edges per node.\n",
      ">>> Building spatial graph success!\n",
      ">>> use louvain to modify spatial graph\n",
      ">>> finish louvain, begin to prune graph\n",
      ">>> pruned graph contains 15888 edges, average 5.910714285714286 edges per node.\n"
     ]
    },
    {
     "name": "stderr",
     "output_type": "stream",
     "text": [
      ">>> node2vec: 100%|██████████| 200/200 [05:49<00:00,  1.75s/it]\n"
     ]
    },
    {
     "name": "stdout",
     "output_type": "stream",
     "text": [
      ">>> spatial model data(features) size: (2688, 3000)\n"
     ]
    },
    {
     "name": "stderr",
     "output_type": "stream",
     "text": [
      ">>> training spatial model: 100%|██████████| 500/500 [00:04<00:00, 108.02it/s]\n"
     ]
    },
    {
     "name": "stdout",
     "output_type": "stream",
     "text": [
      ">>> Birch: 63.2962\n"
     ]
    }
   ],
   "source": [
    "adata, n_cluster = get_visium_hne_data()\n",
    "train(adata, lr=1e-3, radius=150, node2vec_p=4, node2vec_q=.25, louvain_resolution=.4, components_features=30, walk_length=45)\n",
    "\n",
    "label = LabelEncoder().fit_transform(adata.obs['cluster'])\n",
    "pred = LabelEncoder().fit_transform([str(x) for x in Birch(n_clusters=n_cluster).fit(adata.obsm['embedding']).predict(adata.obsm['embedding'])])\n",
    "ari_score = metrics.adjusted_rand_score(label, pred) * 100\n",
    "print('>>> %s: %.4f' % ('Birch', ari_score))\n",
    "result[0][2].append(ari_score)"
   ]
  },
  {
   "cell_type": "code",
   "execution_count": 21,
   "metadata": {},
   "outputs": [
    {
     "name": "stderr",
     "output_type": "stream",
     "text": [
      "/mnt/5280e/twang/.conda/envs/torch+pyg/lib/python3.8/site-packages/scanpy/preprocessing/_highly_variable_genes.py:62: UserWarning: `flavor='seurat_v3'` expects raw count data, but non-integers were found.\n",
      "  warnings.warn(\n"
     ]
    },
    {
     "name": "stdout",
     "output_type": "stream",
     "text": [
      ">>> dataset name: visium_hne, size: (2688, 18078), cluster: 15.\n",
      ">>> The graph contains 18268 edges, average 6.7961309523809526 edges per node.\n",
      ">>> Building spatial graph success!\n",
      ">>> use louvain to modify spatial graph\n",
      ">>> finish louvain, begin to prune graph\n",
      ">>> pruned graph contains 15154 edges, average 5.637648809523809 edges per node.\n"
     ]
    },
    {
     "name": "stderr",
     "output_type": "stream",
     "text": [
      ">>> node2vec: 100%|██████████| 200/200 [05:53<00:00,  1.77s/it]\n"
     ]
    },
    {
     "name": "stdout",
     "output_type": "stream",
     "text": [
      ">>> spatial model data(features) size: (2688, 3000)\n"
     ]
    },
    {
     "name": "stderr",
     "output_type": "stream",
     "text": [
      ">>> training spatial model: 100%|██████████| 500/500 [00:04<00:00, 102.41it/s]\n"
     ]
    },
    {
     "name": "stdout",
     "output_type": "stream",
     "text": [
      ">>> Birch: 60.6299\n"
     ]
    }
   ],
   "source": [
    "adata, n_cluster = get_visium_hne_data()\n",
    "train(adata, lr=1e-3, radius=150, node2vec_p=4, node2vec_q=.25, louvain_resolution=.6, components_features=30, walk_length=45)\n",
    "\n",
    "label = LabelEncoder().fit_transform(adata.obs['cluster'])\n",
    "pred = LabelEncoder().fit_transform([str(x) for x in Birch(n_clusters=n_cluster).fit(adata.obsm['embedding']).predict(adata.obsm['embedding'])])\n",
    "ari_score = metrics.adjusted_rand_score(label, pred) * 100\n",
    "print('>>> %s: %.4f' % ('Birch', ari_score))\n",
    "result[1][2].append(ari_score)"
   ]
  },
  {
   "cell_type": "code",
   "execution_count": 22,
   "metadata": {},
   "outputs": [
    {
     "name": "stderr",
     "output_type": "stream",
     "text": [
      "/mnt/5280e/twang/.conda/envs/torch+pyg/lib/python3.8/site-packages/scanpy/preprocessing/_highly_variable_genes.py:62: UserWarning: `flavor='seurat_v3'` expects raw count data, but non-integers were found.\n",
      "  warnings.warn(\n"
     ]
    },
    {
     "name": "stdout",
     "output_type": "stream",
     "text": [
      ">>> dataset name: visium_hne, size: (2688, 18078), cluster: 15.\n",
      ">>> The graph contains 18268 edges, average 6.7961309523809526 edges per node.\n",
      ">>> Building spatial graph success!\n",
      ">>> use louvain to modify spatial graph\n",
      ">>> finish louvain, begin to prune graph\n",
      ">>> pruned graph contains 14526 edges, average 5.404017857142857 edges per node.\n"
     ]
    },
    {
     "name": "stderr",
     "output_type": "stream",
     "text": [
      ">>> node2vec: 100%|██████████| 200/200 [04:54<00:00,  1.47s/it]\n"
     ]
    },
    {
     "name": "stdout",
     "output_type": "stream",
     "text": [
      ">>> spatial model data(features) size: (2688, 3000)\n"
     ]
    },
    {
     "name": "stderr",
     "output_type": "stream",
     "text": [
      ">>> training spatial model: 100%|██████████| 500/500 [00:04<00:00, 108.33it/s]\n"
     ]
    },
    {
     "name": "stdout",
     "output_type": "stream",
     "text": [
      ">>> Birch: 57.2905\n"
     ]
    }
   ],
   "source": [
    "adata, n_cluster = get_visium_hne_data()\n",
    "train(adata, lr=1e-3, radius=150, node2vec_p=4, node2vec_q=.25, louvain_resolution=.8, components_features=30, walk_length=45)\n",
    "\n",
    "label = LabelEncoder().fit_transform(adata.obs['cluster'])\n",
    "pred = LabelEncoder().fit_transform([str(x) for x in Birch(n_clusters=n_cluster).fit(adata.obsm['embedding']).predict(adata.obsm['embedding'])])\n",
    "ari_score = metrics.adjusted_rand_score(label, pred) * 100\n",
    "print('>>> %s: %.4f' % ('Birch', ari_score))\n",
    "result[2][2].append(ari_score)"
   ]
  },
  {
   "cell_type": "code",
   "execution_count": 23,
   "metadata": {},
   "outputs": [
    {
     "name": "stderr",
     "output_type": "stream",
     "text": [
      "/mnt/5280e/twang/.conda/envs/torch+pyg/lib/python3.8/site-packages/scanpy/preprocessing/_highly_variable_genes.py:62: UserWarning: `flavor='seurat_v3'` expects raw count data, but non-integers were found.\n",
      "  warnings.warn(\n"
     ]
    },
    {
     "name": "stdout",
     "output_type": "stream",
     "text": [
      ">>> dataset name: visium_hne, size: (2688, 18078), cluster: 15.\n",
      ">>> The graph contains 18268 edges, average 6.7961309523809526 edges per node.\n",
      ">>> Building spatial graph success!\n",
      ">>> use louvain to modify spatial graph\n",
      ">>> finish louvain, begin to prune graph\n",
      ">>> pruned graph contains 15888 edges, average 5.910714285714286 edges per node.\n"
     ]
    },
    {
     "name": "stderr",
     "output_type": "stream",
     "text": [
      ">>> node2vec: 100%|██████████| 200/200 [04:29<00:00,  1.35s/it]\n"
     ]
    },
    {
     "name": "stdout",
     "output_type": "stream",
     "text": [
      ">>> spatial model data(features) size: (2688, 3000)\n"
     ]
    },
    {
     "name": "stderr",
     "output_type": "stream",
     "text": [
      ">>> training spatial model: 100%|██████████| 500/500 [00:04<00:00, 106.07it/s]\n"
     ]
    },
    {
     "name": "stdout",
     "output_type": "stream",
     "text": [
      ">>> Birch: 51.4956\n"
     ]
    }
   ],
   "source": [
    "adata, n_cluster = get_visium_hne_data()\n",
    "train(adata, lr=1e-3, radius=150, node2vec_p=1, node2vec_q=1, louvain_resolution=.4, components_features=30, walk_length=45)\n",
    "\n",
    "label = LabelEncoder().fit_transform(adata.obs['cluster'])\n",
    "pred = LabelEncoder().fit_transform([str(x) for x in Birch(n_clusters=n_cluster).fit(adata.obsm['embedding']).predict(adata.obsm['embedding'])])\n",
    "ari_score = metrics.adjusted_rand_score(label, pred) * 100\n",
    "print('>>> %s: %.4f' % ('Birch', ari_score))\n",
    "result[0][2].append(ari_score)"
   ]
  },
  {
   "cell_type": "code",
   "execution_count": 24,
   "metadata": {},
   "outputs": [
    {
     "name": "stderr",
     "output_type": "stream",
     "text": [
      "/mnt/5280e/twang/.conda/envs/torch+pyg/lib/python3.8/site-packages/scanpy/preprocessing/_highly_variable_genes.py:62: UserWarning: `flavor='seurat_v3'` expects raw count data, but non-integers were found.\n",
      "  warnings.warn(\n"
     ]
    },
    {
     "name": "stdout",
     "output_type": "stream",
     "text": [
      ">>> dataset name: visium_hne, size: (2688, 18078), cluster: 15.\n",
      ">>> The graph contains 18268 edges, average 6.7961309523809526 edges per node.\n",
      ">>> Building spatial graph success!\n",
      ">>> use louvain to modify spatial graph\n",
      ">>> finish louvain, begin to prune graph\n",
      ">>> pruned graph contains 15154 edges, average 5.637648809523809 edges per node.\n"
     ]
    },
    {
     "name": "stderr",
     "output_type": "stream",
     "text": [
      ">>> node2vec: 100%|██████████| 200/200 [04:31<00:00,  1.36s/it]\n"
     ]
    },
    {
     "name": "stdout",
     "output_type": "stream",
     "text": [
      ">>> spatial model data(features) size: (2688, 3000)\n"
     ]
    },
    {
     "name": "stderr",
     "output_type": "stream",
     "text": [
      ">>> training spatial model: 100%|██████████| 500/500 [00:04<00:00, 112.66it/s]\n"
     ]
    },
    {
     "name": "stdout",
     "output_type": "stream",
     "text": [
      ">>> Birch: 58.2107\n"
     ]
    }
   ],
   "source": [
    "adata, n_cluster = get_visium_hne_data()\n",
    "train(adata, lr=1e-3, radius=150, node2vec_p=1, node2vec_q=1, louvain_resolution=.6, components_features=30, walk_length=45)\n",
    "\n",
    "label = LabelEncoder().fit_transform(adata.obs['cluster'])\n",
    "pred = LabelEncoder().fit_transform([str(x) for x in Birch(n_clusters=n_cluster).fit(adata.obsm['embedding']).predict(adata.obsm['embedding'])])\n",
    "ari_score = metrics.adjusted_rand_score(label, pred) * 100\n",
    "print('>>> %s: %.4f' % ('Birch', ari_score))\n",
    "result[1][2].append(ari_score)"
   ]
  },
  {
   "cell_type": "code",
   "execution_count": 25,
   "metadata": {},
   "outputs": [
    {
     "name": "stderr",
     "output_type": "stream",
     "text": [
      "/mnt/5280e/twang/.conda/envs/torch+pyg/lib/python3.8/site-packages/scanpy/preprocessing/_highly_variable_genes.py:62: UserWarning: `flavor='seurat_v3'` expects raw count data, but non-integers were found.\n",
      "  warnings.warn(\n"
     ]
    },
    {
     "name": "stdout",
     "output_type": "stream",
     "text": [
      ">>> dataset name: visium_hne, size: (2688, 18078), cluster: 15.\n",
      ">>> The graph contains 18268 edges, average 6.7961309523809526 edges per node.\n",
      ">>> Building spatial graph success!\n",
      ">>> use louvain to modify spatial graph\n",
      ">>> finish louvain, begin to prune graph\n",
      ">>> pruned graph contains 14526 edges, average 5.404017857142857 edges per node.\n"
     ]
    },
    {
     "name": "stderr",
     "output_type": "stream",
     "text": [
      ">>> node2vec: 100%|██████████| 200/200 [04:22<00:00,  1.31s/it]\n"
     ]
    },
    {
     "name": "stdout",
     "output_type": "stream",
     "text": [
      ">>> spatial model data(features) size: (2688, 3000)\n"
     ]
    },
    {
     "name": "stderr",
     "output_type": "stream",
     "text": [
      ">>> training spatial model: 100%|██████████| 500/500 [00:04<00:00, 124.27it/s]\n"
     ]
    },
    {
     "name": "stdout",
     "output_type": "stream",
     "text": [
      ">>> Birch: 53.8440\n"
     ]
    }
   ],
   "source": [
    "adata, n_cluster = get_visium_hne_data()\n",
    "train(adata, lr=1e-3, radius=150, node2vec_p=1, node2vec_q=1, louvain_resolution=.8, components_features=30, walk_length=45)\n",
    "\n",
    "label = LabelEncoder().fit_transform(adata.obs['cluster'])\n",
    "pred = LabelEncoder().fit_transform([str(x) for x in Birch(n_clusters=n_cluster).fit(adata.obsm['embedding']).predict(adata.obsm['embedding'])])\n",
    "ari_score = metrics.adjusted_rand_score(label, pred) * 100\n",
    "print('>>> %s: %.4f' % ('Birch', ari_score))\n",
    "result[2][2].append(ari_score)"
   ]
  },
  {
   "cell_type": "code",
   "execution_count": 26,
   "metadata": {},
   "outputs": [
    {
     "name": "stderr",
     "output_type": "stream",
     "text": [
      "/mnt/5280e/twang/.conda/envs/torch+pyg/lib/python3.8/site-packages/scanpy/preprocessing/_highly_variable_genes.py:62: UserWarning: `flavor='seurat_v3'` expects raw count data, but non-integers were found.\n",
      "  warnings.warn(\n"
     ]
    },
    {
     "name": "stdout",
     "output_type": "stream",
     "text": [
      ">>> dataset name: visium_hne, size: (2688, 18078), cluster: 15.\n",
      ">>> The graph contains 18268 edges, average 6.7961309523809526 edges per node.\n",
      ">>> Building spatial graph success!\n",
      ">>> use louvain to modify spatial graph\n",
      ">>> finish louvain, begin to prune graph\n",
      ">>> pruned graph contains 15888 edges, average 5.910714285714286 edges per node.\n"
     ]
    },
    {
     "name": "stderr",
     "output_type": "stream",
     "text": [
      ">>> node2vec: 100%|██████████| 200/200 [04:21<00:00,  1.31s/it]\n"
     ]
    },
    {
     "name": "stdout",
     "output_type": "stream",
     "text": [
      ">>> spatial model data(features) size: (2688, 3000)\n"
     ]
    },
    {
     "name": "stderr",
     "output_type": "stream",
     "text": [
      ">>> training spatial model: 100%|██████████| 500/500 [00:04<00:00, 114.07it/s]\n"
     ]
    },
    {
     "name": "stdout",
     "output_type": "stream",
     "text": [
      ">>> Birch: 61.2996\n"
     ]
    }
   ],
   "source": [
    "adata, n_cluster = get_visium_hne_data()\n",
    "train(adata, lr=1e-3, radius=150, node2vec_p=.25, node2vec_q=4, louvain_resolution=.4, components_features=30, walk_length=45)\n",
    "\n",
    "label = LabelEncoder().fit_transform(adata.obs['cluster'])\n",
    "pred = LabelEncoder().fit_transform([str(x) for x in Birch(n_clusters=n_cluster).fit(adata.obsm['embedding']).predict(adata.obsm['embedding'])])\n",
    "ari_score = metrics.adjusted_rand_score(label, pred) * 100\n",
    "print('>>> %s: %.4f' % ('Birch', ari_score))\n",
    "result[0][2].append(ari_score)"
   ]
  },
  {
   "cell_type": "code",
   "execution_count": 27,
   "metadata": {},
   "outputs": [
    {
     "name": "stderr",
     "output_type": "stream",
     "text": [
      "/mnt/5280e/twang/.conda/envs/torch+pyg/lib/python3.8/site-packages/scanpy/preprocessing/_highly_variable_genes.py:62: UserWarning: `flavor='seurat_v3'` expects raw count data, but non-integers were found.\n",
      "  warnings.warn(\n"
     ]
    },
    {
     "name": "stdout",
     "output_type": "stream",
     "text": [
      ">>> dataset name: visium_hne, size: (2688, 18078), cluster: 15.\n",
      ">>> The graph contains 18268 edges, average 6.7961309523809526 edges per node.\n",
      ">>> Building spatial graph success!\n",
      ">>> use louvain to modify spatial graph\n",
      ">>> finish louvain, begin to prune graph\n",
      ">>> pruned graph contains 15154 edges, average 5.637648809523809 edges per node.\n"
     ]
    },
    {
     "name": "stderr",
     "output_type": "stream",
     "text": [
      ">>> node2vec: 100%|██████████| 200/200 [03:33<00:00,  1.07s/it]\n"
     ]
    },
    {
     "name": "stdout",
     "output_type": "stream",
     "text": [
      ">>> spatial model data(features) size: (2688, 3000)\n"
     ]
    },
    {
     "name": "stderr",
     "output_type": "stream",
     "text": [
      ">>> training spatial model: 100%|██████████| 500/500 [00:04<00:00, 113.77it/s]\n"
     ]
    },
    {
     "name": "stdout",
     "output_type": "stream",
     "text": [
      ">>> Birch: 60.5521\n"
     ]
    }
   ],
   "source": [
    "adata, n_cluster = get_visium_hne_data()\n",
    "train(adata, lr=1e-3, radius=150, node2vec_p=.25, node2vec_q=4, louvain_resolution=.6, components_features=30, walk_length=45)\n",
    "\n",
    "label = LabelEncoder().fit_transform(adata.obs['cluster'])\n",
    "pred = LabelEncoder().fit_transform([str(x) for x in Birch(n_clusters=n_cluster).fit(adata.obsm['embedding']).predict(adata.obsm['embedding'])])\n",
    "ari_score = metrics.adjusted_rand_score(label, pred) * 100\n",
    "print('>>> %s: %.4f' % ('Birch', ari_score))\n",
    "result[1][2].append(ari_score)"
   ]
  },
  {
   "cell_type": "code",
   "execution_count": 28,
   "metadata": {},
   "outputs": [
    {
     "name": "stderr",
     "output_type": "stream",
     "text": [
      "/mnt/5280e/twang/.conda/envs/torch+pyg/lib/python3.8/site-packages/scanpy/preprocessing/_highly_variable_genes.py:62: UserWarning: `flavor='seurat_v3'` expects raw count data, but non-integers were found.\n",
      "  warnings.warn(\n"
     ]
    },
    {
     "name": "stdout",
     "output_type": "stream",
     "text": [
      ">>> dataset name: visium_hne, size: (2688, 18078), cluster: 15.\n",
      ">>> The graph contains 18268 edges, average 6.7961309523809526 edges per node.\n",
      ">>> Building spatial graph success!\n",
      ">>> use louvain to modify spatial graph\n",
      ">>> finish louvain, begin to prune graph\n",
      ">>> pruned graph contains 14526 edges, average 5.404017857142857 edges per node.\n"
     ]
    },
    {
     "name": "stderr",
     "output_type": "stream",
     "text": [
      ">>> node2vec: 100%|██████████| 200/200 [03:32<00:00,  1.06s/it]\n"
     ]
    },
    {
     "name": "stdout",
     "output_type": "stream",
     "text": [
      ">>> spatial model data(features) size: (2688, 3000)\n"
     ]
    },
    {
     "name": "stderr",
     "output_type": "stream",
     "text": [
      ">>> training spatial model: 100%|██████████| 500/500 [00:04<00:00, 114.41it/s]\n"
     ]
    },
    {
     "name": "stdout",
     "output_type": "stream",
     "text": [
      ">>> Birch: 58.0983\n"
     ]
    }
   ],
   "source": [
    "adata, n_cluster = get_visium_hne_data()\n",
    "train(adata, lr=1e-3, radius=150, node2vec_p=.25, node2vec_q=4, louvain_resolution=.8, components_features=30, walk_length=45)\n",
    "\n",
    "label = LabelEncoder().fit_transform(adata.obs['cluster'])\n",
    "pred = LabelEncoder().fit_transform([str(x) for x in Birch(n_clusters=n_cluster).fit(adata.obsm['embedding']).predict(adata.obsm['embedding'])])\n",
    "ari_score = metrics.adjusted_rand_score(label, pred) * 100\n",
    "print('>>> %s: %.4f' % ('Birch', ari_score))\n",
    "result[2][2].append(ari_score)"
   ]
  },
  {
   "cell_type": "code",
   "execution_count": 29,
   "metadata": {},
   "outputs": [
    {
     "name": "stdout",
     "output_type": "stream",
     "text": [
      "[[[65.72373978 56.71373068 61.71246144]\n",
      "  [58.76415617 58.60713596 59.97238155]\n",
      "  [63.29622519 51.49556571 61.2995882 ]]\n",
      "\n",
      " [[65.99375939 60.34921845 65.6933223 ]\n",
      "  [62.10403665 60.32641097 59.1236427 ]\n",
      "  [60.62993242 58.21068737 60.55209498]]\n",
      "\n",
      " [[63.08868163 66.02419749 62.0021352 ]\n",
      "  [55.64730055 61.75991161 58.36252545]\n",
      "  [57.29052735 53.84396814 58.09825011]]]\n"
     ]
    }
   ],
   "source": [
    "import numpy as np\n",
    "\n",
    "print(np.array(result))"
   ]
  }
 ],
 "metadata": {
  "kernelspec": {
   "display_name": "Python 3.8.13 ('torch+pyg')",
   "language": "python",
   "name": "python3"
  },
  "language_info": {
   "codemirror_mode": {
    "name": "ipython",
    "version": 3
   },
   "file_extension": ".py",
   "mimetype": "text/x-python",
   "name": "python",
   "nbconvert_exporter": "python",
   "pygments_lexer": "ipython3",
   "version": "3.8.13"
  },
  "orig_nbformat": 4,
  "vscode": {
   "interpreter": {
    "hash": "a0f855fec34ed1739858563e3b94d8ba36be9c5a95173b69288904bab1233695"
   }
  }
 },
 "nbformat": 4,
 "nbformat_minor": 2
}
