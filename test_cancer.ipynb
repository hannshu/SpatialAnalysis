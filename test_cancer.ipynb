{
 "cells": [
  {
   "cell_type": "code",
   "execution_count": 1,
   "metadata": {},
   "outputs": [],
   "source": [
    "from model.test import train\n",
    "from dataset import *\n",
    "from tools import evaluate\n",
    "\n",
    "from sklearn import metrics\n",
    "from sklearn.preprocessing import LabelEncoder \n",
    "from sklearn.cluster import KMeans, BisectingKMeans, Birch, SpectralClustering, AgglomerativeClustering, FeatureAgglomeration\n",
    "\n",
    "result = [[[], [], []], [[], [], []], [[], [], []]]"
   ]
  },
  {
   "cell_type": "code",
   "execution_count": 2,
   "metadata": {},
   "outputs": [
    {
     "name": "stderr",
     "output_type": "stream",
     "text": [
      "/mnt/5280e/twang/.conda/envs/torch+pyg/lib/python3.8/site-packages/anndata/_core/anndata.py:1830: UserWarning: Variable names are not unique. To make them unique, call `.var_names_make_unique`.\n",
      "  utils.warn_names_duplicates(\"var\")\n"
     ]
    },
    {
     "name": "stdout",
     "output_type": "stream",
     "text": [
      ">>> dataset name: human_breast_cancer, size: (3798, 36601), cluster: 20.\n",
      ">>> The graph contains 25862 edges, average 6.809373354397051 edges per node.\n",
      ">>> Building spatial graph success!\n",
      ">>> use louvain to modify spatial graph\n",
      "WARNING: You’re trying to run this on 3000 dimensions of `.X`, if you really want this, set `use_rep='X'`.\n",
      "         Falling back to preprocessing with `sc.pp.pca` and default params.\n",
      ">>> finish louvain, begin to prune graph\n",
      ">>> pruned graph contains 23002 edges, average 6.056345444971037 edges per node.\n"
     ]
    },
    {
     "name": "stderr",
     "output_type": "stream",
     "text": [
      ">>> node2vec: 100%|██████████| 200/200 [05:02<00:00,  1.51s/it]\n"
     ]
    },
    {
     "name": "stdout",
     "output_type": "stream",
     "text": [
      ">>> spatial model data(features) size: (3798, 3000)\n"
     ]
    },
    {
     "name": "stderr",
     "output_type": "stream",
     "text": [
      ">>> training spatial model: 100%|██████████| 500/500 [00:06<00:00, 75.10it/s]\n"
     ]
    },
    {
     "name": "stdout",
     "output_type": "stream",
     "text": [
      ">>> Birch: 55.8994\n"
     ]
    }
   ],
   "source": [
    "adata, n_cluster = get_human_breast_cancer_data()\n",
    "train(adata, lr=1e-3, radius=350, node2vec_p=4, node2vec_q=.25, louvain_resolution=.4, components_features=30, walk_length=25)\n",
    "\n",
    "label = LabelEncoder().fit_transform(adata.obs['cluster'])\n",
    "pred = LabelEncoder().fit_transform([str(x) for x in Birch(n_clusters=n_cluster).fit(adata.obsm['embedding']).predict(adata.obsm['embedding'])])\n",
    "ari_score = metrics.adjusted_rand_score(label, pred) * 100\n",
    "print('>>> %s: %.4f' % ('Birch', ari_score))\n",
    "result[0][0].append(ari_score)"
   ]
  },
  {
   "cell_type": "code",
   "execution_count": 3,
   "metadata": {},
   "outputs": [
    {
     "name": "stderr",
     "output_type": "stream",
     "text": [
      "/mnt/5280e/twang/.conda/envs/torch+pyg/lib/python3.8/site-packages/anndata/_core/anndata.py:1830: UserWarning: Variable names are not unique. To make them unique, call `.var_names_make_unique`.\n",
      "  utils.warn_names_duplicates(\"var\")\n"
     ]
    },
    {
     "name": "stdout",
     "output_type": "stream",
     "text": [
      ">>> dataset name: human_breast_cancer, size: (3798, 36601), cluster: 20.\n",
      ">>> The graph contains 25862 edges, average 6.809373354397051 edges per node.\n",
      ">>> Building spatial graph success!\n",
      ">>> use louvain to modify spatial graph\n",
      "WARNING: You’re trying to run this on 3000 dimensions of `.X`, if you really want this, set `use_rep='X'`.\n",
      "         Falling back to preprocessing with `sc.pp.pca` and default params.\n",
      ">>> finish louvain, begin to prune graph\n",
      ">>> pruned graph contains 22990 edges, average 6.05318588730911 edges per node.\n"
     ]
    },
    {
     "name": "stderr",
     "output_type": "stream",
     "text": [
      ">>> node2vec: 100%|██████████| 200/200 [04:17<00:00,  1.29s/it]\n"
     ]
    },
    {
     "name": "stdout",
     "output_type": "stream",
     "text": [
      ">>> spatial model data(features) size: (3798, 3000)\n"
     ]
    },
    {
     "name": "stderr",
     "output_type": "stream",
     "text": [
      ">>> training spatial model: 100%|██████████| 500/500 [00:05<00:00, 88.54it/s]\n"
     ]
    },
    {
     "name": "stdout",
     "output_type": "stream",
     "text": [
      ">>> Birch: 53.3593\n"
     ]
    }
   ],
   "source": [
    "adata, n_cluster = get_human_breast_cancer_data()\n",
    "train(adata, lr=1e-3, radius=350, node2vec_p=4, node2vec_q=.25, louvain_resolution=.6, components_features=30, walk_length=25)\n",
    "\n",
    "label = LabelEncoder().fit_transform(adata.obs['cluster'])\n",
    "pred = LabelEncoder().fit_transform([str(x) for x in Birch(n_clusters=n_cluster).fit(adata.obsm['embedding']).predict(adata.obsm['embedding'])])\n",
    "ari_score = metrics.adjusted_rand_score(label, pred) * 100\n",
    "print('>>> %s: %.4f' % ('Birch', ari_score))\n",
    "result[1][0].append(ari_score)"
   ]
  },
  {
   "cell_type": "code",
   "execution_count": 4,
   "metadata": {},
   "outputs": [
    {
     "name": "stderr",
     "output_type": "stream",
     "text": [
      "/mnt/5280e/twang/.conda/envs/torch+pyg/lib/python3.8/site-packages/anndata/_core/anndata.py:1830: UserWarning: Variable names are not unique. To make them unique, call `.var_names_make_unique`.\n",
      "  utils.warn_names_duplicates(\"var\")\n"
     ]
    },
    {
     "name": "stdout",
     "output_type": "stream",
     "text": [
      ">>> dataset name: human_breast_cancer, size: (3798, 36601), cluster: 20.\n",
      ">>> The graph contains 25862 edges, average 6.809373354397051 edges per node.\n",
      ">>> Building spatial graph success!\n",
      ">>> use louvain to modify spatial graph\n",
      "WARNING: You’re trying to run this on 3000 dimensions of `.X`, if you really want this, set `use_rep='X'`.\n",
      "         Falling back to preprocessing with `sc.pp.pca` and default params.\n",
      ">>> finish louvain, begin to prune graph\n",
      ">>> pruned graph contains 21802 edges, average 5.740389678778304 edges per node.\n"
     ]
    },
    {
     "name": "stderr",
     "output_type": "stream",
     "text": [
      ">>> node2vec: 100%|██████████| 200/200 [03:38<00:00,  1.09s/it]\n"
     ]
    },
    {
     "name": "stdout",
     "output_type": "stream",
     "text": [
      ">>> spatial model data(features) size: (3798, 3000)\n"
     ]
    },
    {
     "name": "stderr",
     "output_type": "stream",
     "text": [
      ">>> training spatial model: 100%|██████████| 500/500 [00:05<00:00, 86.87it/s]\n"
     ]
    },
    {
     "name": "stdout",
     "output_type": "stream",
     "text": [
      ">>> Birch: 57.6835\n"
     ]
    }
   ],
   "source": [
    "adata, n_cluster = get_human_breast_cancer_data()\n",
    "train(adata, lr=1e-3, radius=350, node2vec_p=4, node2vec_q=.25, louvain_resolution=.8, components_features=30, walk_length=25)\n",
    "\n",
    "label = LabelEncoder().fit_transform(adata.obs['cluster'])\n",
    "pred = LabelEncoder().fit_transform([str(x) for x in Birch(n_clusters=n_cluster).fit(adata.obsm['embedding']).predict(adata.obsm['embedding'])])\n",
    "ari_score = metrics.adjusted_rand_score(label, pred) * 100\n",
    "print('>>> %s: %.4f' % ('Birch', ari_score))\n",
    "result[2][0].append(ari_score)"
   ]
  },
  {
   "cell_type": "code",
   "execution_count": 5,
   "metadata": {},
   "outputs": [
    {
     "name": "stderr",
     "output_type": "stream",
     "text": [
      "/mnt/5280e/twang/.conda/envs/torch+pyg/lib/python3.8/site-packages/anndata/_core/anndata.py:1830: UserWarning: Variable names are not unique. To make them unique, call `.var_names_make_unique`.\n",
      "  utils.warn_names_duplicates(\"var\")\n"
     ]
    },
    {
     "name": "stdout",
     "output_type": "stream",
     "text": [
      ">>> dataset name: human_breast_cancer, size: (3798, 36601), cluster: 20.\n",
      ">>> The graph contains 25862 edges, average 6.809373354397051 edges per node.\n",
      ">>> Building spatial graph success!\n",
      ">>> use louvain to modify spatial graph\n",
      "WARNING: You’re trying to run this on 3000 dimensions of `.X`, if you really want this, set `use_rep='X'`.\n",
      "         Falling back to preprocessing with `sc.pp.pca` and default params.\n",
      ">>> finish louvain, begin to prune graph\n",
      ">>> pruned graph contains 23002 edges, average 6.056345444971037 edges per node.\n"
     ]
    },
    {
     "name": "stderr",
     "output_type": "stream",
     "text": [
      ">>> node2vec: 100%|██████████| 200/200 [02:09<00:00,  1.54it/s]\n"
     ]
    },
    {
     "name": "stdout",
     "output_type": "stream",
     "text": [
      ">>> spatial model data(features) size: (3798, 3000)\n"
     ]
    },
    {
     "name": "stderr",
     "output_type": "stream",
     "text": [
      ">>> training spatial model: 100%|██████████| 500/500 [00:05<00:00, 91.03it/s]\n"
     ]
    },
    {
     "name": "stdout",
     "output_type": "stream",
     "text": [
      ">>> Birch: 61.0900\n"
     ]
    }
   ],
   "source": [
    "adata, n_cluster = get_human_breast_cancer_data()\n",
    "train(adata, lr=1e-3, radius=350, node2vec_p=1, node2vec_q=1, louvain_resolution=.4, components_features=30, walk_length=25)\n",
    "\n",
    "label = LabelEncoder().fit_transform(adata.obs['cluster'])\n",
    "pred = LabelEncoder().fit_transform([str(x) for x in Birch(n_clusters=n_cluster).fit(adata.obsm['embedding']).predict(adata.obsm['embedding'])])\n",
    "ari_score = metrics.adjusted_rand_score(label, pred) * 100\n",
    "print('>>> %s: %.4f' % ('Birch', ari_score))\n",
    "result[0][0].append(ari_score)"
   ]
  },
  {
   "cell_type": "code",
   "execution_count": 6,
   "metadata": {},
   "outputs": [
    {
     "name": "stderr",
     "output_type": "stream",
     "text": [
      "/mnt/5280e/twang/.conda/envs/torch+pyg/lib/python3.8/site-packages/anndata/_core/anndata.py:1830: UserWarning: Variable names are not unique. To make them unique, call `.var_names_make_unique`.\n",
      "  utils.warn_names_duplicates(\"var\")\n"
     ]
    },
    {
     "name": "stdout",
     "output_type": "stream",
     "text": [
      ">>> dataset name: human_breast_cancer, size: (3798, 36601), cluster: 20.\n",
      ">>> The graph contains 25862 edges, average 6.809373354397051 edges per node.\n",
      ">>> Building spatial graph success!\n",
      ">>> use louvain to modify spatial graph\n",
      "WARNING: You’re trying to run this on 3000 dimensions of `.X`, if you really want this, set `use_rep='X'`.\n",
      "         Falling back to preprocessing with `sc.pp.pca` and default params.\n",
      ">>> finish louvain, begin to prune graph\n",
      ">>> pruned graph contains 22990 edges, average 6.05318588730911 edges per node.\n"
     ]
    },
    {
     "name": "stderr",
     "output_type": "stream",
     "text": [
      ">>> node2vec: 100%|██████████| 200/200 [04:26<00:00,  1.33s/it]\n"
     ]
    },
    {
     "name": "stdout",
     "output_type": "stream",
     "text": [
      ">>> spatial model data(features) size: (3798, 3000)\n"
     ]
    },
    {
     "name": "stderr",
     "output_type": "stream",
     "text": [
      ">>> training spatial model: 100%|██████████| 500/500 [00:05<00:00, 85.77it/s]\n"
     ]
    },
    {
     "name": "stdout",
     "output_type": "stream",
     "text": [
      ">>> Birch: 54.7457\n"
     ]
    }
   ],
   "source": [
    "adata, n_cluster = get_human_breast_cancer_data()\n",
    "train(adata, lr=1e-3, radius=350, node2vec_p=1, node2vec_q=1, louvain_resolution=.6, components_features=30, walk_length=25)\n",
    "\n",
    "label = LabelEncoder().fit_transform(adata.obs['cluster'])\n",
    "pred = LabelEncoder().fit_transform([str(x) for x in Birch(n_clusters=n_cluster).fit(adata.obsm['embedding']).predict(adata.obsm['embedding'])])\n",
    "ari_score = metrics.adjusted_rand_score(label, pred) * 100\n",
    "print('>>> %s: %.4f' % ('Birch', ari_score))\n",
    "result[1][0].append(ari_score)"
   ]
  },
  {
   "cell_type": "code",
   "execution_count": 7,
   "metadata": {},
   "outputs": [
    {
     "name": "stderr",
     "output_type": "stream",
     "text": [
      "/mnt/5280e/twang/.conda/envs/torch+pyg/lib/python3.8/site-packages/anndata/_core/anndata.py:1830: UserWarning: Variable names are not unique. To make them unique, call `.var_names_make_unique`.\n",
      "  utils.warn_names_duplicates(\"var\")\n"
     ]
    },
    {
     "name": "stdout",
     "output_type": "stream",
     "text": [
      ">>> dataset name: human_breast_cancer, size: (3798, 36601), cluster: 20.\n",
      ">>> The graph contains 25862 edges, average 6.809373354397051 edges per node.\n",
      ">>> Building spatial graph success!\n",
      ">>> use louvain to modify spatial graph\n",
      "WARNING: You’re trying to run this on 3000 dimensions of `.X`, if you really want this, set `use_rep='X'`.\n",
      "         Falling back to preprocessing with `sc.pp.pca` and default params.\n",
      ">>> finish louvain, begin to prune graph\n",
      ">>> pruned graph contains 21802 edges, average 5.740389678778304 edges per node.\n"
     ]
    },
    {
     "name": "stderr",
     "output_type": "stream",
     "text": [
      ">>> node2vec: 100%|██████████| 200/200 [01:40<00:00,  1.98it/s]\n"
     ]
    },
    {
     "name": "stdout",
     "output_type": "stream",
     "text": [
      ">>> spatial model data(features) size: (3798, 3000)\n"
     ]
    },
    {
     "name": "stderr",
     "output_type": "stream",
     "text": [
      ">>> training spatial model: 100%|██████████| 500/500 [00:05<00:00, 90.45it/s]\n"
     ]
    },
    {
     "name": "stdout",
     "output_type": "stream",
     "text": [
      ">>> Birch: 53.1889\n"
     ]
    }
   ],
   "source": [
    "adata, n_cluster = get_human_breast_cancer_data()\n",
    "train(adata, lr=1e-3, radius=350, node2vec_p=1, node2vec_q=1, louvain_resolution=.8, components_features=30, walk_length=25)\n",
    "\n",
    "label = LabelEncoder().fit_transform(adata.obs['cluster'])\n",
    "pred = LabelEncoder().fit_transform([str(x) for x in Birch(n_clusters=n_cluster).fit(adata.obsm['embedding']).predict(adata.obsm['embedding'])])\n",
    "ari_score = metrics.adjusted_rand_score(label, pred) * 100\n",
    "print('>>> %s: %.4f' % ('Birch', ari_score))\n",
    "result[2][0].append(ari_score)"
   ]
  },
  {
   "cell_type": "code",
   "execution_count": 8,
   "metadata": {},
   "outputs": [
    {
     "name": "stderr",
     "output_type": "stream",
     "text": [
      "/mnt/5280e/twang/.conda/envs/torch+pyg/lib/python3.8/site-packages/anndata/_core/anndata.py:1830: UserWarning: Variable names are not unique. To make them unique, call `.var_names_make_unique`.\n",
      "  utils.warn_names_duplicates(\"var\")\n"
     ]
    },
    {
     "name": "stdout",
     "output_type": "stream",
     "text": [
      ">>> dataset name: human_breast_cancer, size: (3798, 36601), cluster: 20.\n",
      ">>> The graph contains 25862 edges, average 6.809373354397051 edges per node.\n",
      ">>> Building spatial graph success!\n",
      ">>> use louvain to modify spatial graph\n",
      "WARNING: You’re trying to run this on 3000 dimensions of `.X`, if you really want this, set `use_rep='X'`.\n",
      "         Falling back to preprocessing with `sc.pp.pca` and default params.\n",
      ">>> finish louvain, begin to prune graph\n",
      ">>> pruned graph contains 23002 edges, average 6.056345444971037 edges per node.\n"
     ]
    },
    {
     "name": "stderr",
     "output_type": "stream",
     "text": [
      ">>> node2vec: 100%|██████████| 200/200 [04:33<00:00,  1.37s/it]\n"
     ]
    },
    {
     "name": "stdout",
     "output_type": "stream",
     "text": [
      ">>> spatial model data(features) size: (3798, 3000)\n"
     ]
    },
    {
     "name": "stderr",
     "output_type": "stream",
     "text": [
      ">>> training spatial model: 100%|██████████| 500/500 [00:05<00:00, 90.47it/s]\n"
     ]
    },
    {
     "name": "stdout",
     "output_type": "stream",
     "text": [
      ">>> Birch: 56.4780\n"
     ]
    }
   ],
   "source": [
    "adata, n_cluster = get_human_breast_cancer_data()\n",
    "train(adata, lr=1e-3, radius=350, node2vec_p=.25, node2vec_q=4, louvain_resolution=.4, components_features=30, walk_length=25)\n",
    "\n",
    "label = LabelEncoder().fit_transform(adata.obs['cluster'])\n",
    "pred = LabelEncoder().fit_transform([str(x) for x in Birch(n_clusters=n_cluster).fit(adata.obsm['embedding']).predict(adata.obsm['embedding'])])\n",
    "ari_score = metrics.adjusted_rand_score(label, pred) * 100\n",
    "print('>>> %s: %.4f' % ('Birch', ari_score))\n",
    "result[0][0].append(ari_score)"
   ]
  },
  {
   "cell_type": "code",
   "execution_count": 9,
   "metadata": {},
   "outputs": [
    {
     "name": "stderr",
     "output_type": "stream",
     "text": [
      "/mnt/5280e/twang/.conda/envs/torch+pyg/lib/python3.8/site-packages/anndata/_core/anndata.py:1830: UserWarning: Variable names are not unique. To make them unique, call `.var_names_make_unique`.\n",
      "  utils.warn_names_duplicates(\"var\")\n"
     ]
    },
    {
     "name": "stdout",
     "output_type": "stream",
     "text": [
      ">>> dataset name: human_breast_cancer, size: (3798, 36601), cluster: 20.\n",
      ">>> The graph contains 25862 edges, average 6.809373354397051 edges per node.\n",
      ">>> Building spatial graph success!\n",
      ">>> use louvain to modify spatial graph\n",
      "WARNING: You’re trying to run this on 3000 dimensions of `.X`, if you really want this, set `use_rep='X'`.\n",
      "         Falling back to preprocessing with `sc.pp.pca` and default params.\n",
      ">>> finish louvain, begin to prune graph\n",
      ">>> pruned graph contains 22990 edges, average 6.05318588730911 edges per node.\n"
     ]
    },
    {
     "name": "stderr",
     "output_type": "stream",
     "text": [
      ">>> node2vec: 100%|██████████| 200/200 [04:45<00:00,  1.43s/it]\n"
     ]
    },
    {
     "name": "stdout",
     "output_type": "stream",
     "text": [
      ">>> spatial model data(features) size: (3798, 3000)\n"
     ]
    },
    {
     "name": "stderr",
     "output_type": "stream",
     "text": [
      ">>> training spatial model: 100%|██████████| 500/500 [00:05<00:00, 90.60it/s]\n"
     ]
    },
    {
     "name": "stdout",
     "output_type": "stream",
     "text": [
      ">>> Birch: 56.1768\n"
     ]
    }
   ],
   "source": [
    "adata, n_cluster = get_human_breast_cancer_data()\n",
    "train(adata, lr=1e-3, radius=350, node2vec_p=.25, node2vec_q=4, louvain_resolution=.6, components_features=30, walk_length=25)\n",
    "\n",
    "label = LabelEncoder().fit_transform(adata.obs['cluster'])\n",
    "pred = LabelEncoder().fit_transform([str(x) for x in Birch(n_clusters=n_cluster).fit(adata.obsm['embedding']).predict(adata.obsm['embedding'])])\n",
    "ari_score = metrics.adjusted_rand_score(label, pred) * 100\n",
    "print('>>> %s: %.4f' % ('Birch', ari_score))\n",
    "result[1][0].append(ari_score)"
   ]
  },
  {
   "cell_type": "code",
   "execution_count": 10,
   "metadata": {},
   "outputs": [
    {
     "name": "stderr",
     "output_type": "stream",
     "text": [
      "/mnt/5280e/twang/.conda/envs/torch+pyg/lib/python3.8/site-packages/anndata/_core/anndata.py:1830: UserWarning: Variable names are not unique. To make them unique, call `.var_names_make_unique`.\n",
      "  utils.warn_names_duplicates(\"var\")\n"
     ]
    },
    {
     "name": "stdout",
     "output_type": "stream",
     "text": [
      ">>> dataset name: human_breast_cancer, size: (3798, 36601), cluster: 20.\n",
      ">>> The graph contains 25862 edges, average 6.809373354397051 edges per node.\n",
      ">>> Building spatial graph success!\n",
      ">>> use louvain to modify spatial graph\n",
      "WARNING: You’re trying to run this on 3000 dimensions of `.X`, if you really want this, set `use_rep='X'`.\n",
      "         Falling back to preprocessing with `sc.pp.pca` and default params.\n",
      ">>> finish louvain, begin to prune graph\n",
      ">>> pruned graph contains 21802 edges, average 5.740389678778304 edges per node.\n"
     ]
    },
    {
     "name": "stderr",
     "output_type": "stream",
     "text": [
      ">>> node2vec: 100%|██████████| 200/200 [04:14<00:00,  1.27s/it]\n"
     ]
    },
    {
     "name": "stdout",
     "output_type": "stream",
     "text": [
      ">>> spatial model data(features) size: (3798, 3000)\n"
     ]
    },
    {
     "name": "stderr",
     "output_type": "stream",
     "text": [
      ">>> training spatial model: 100%|██████████| 500/500 [00:05<00:00, 85.86it/s]\n"
     ]
    },
    {
     "name": "stdout",
     "output_type": "stream",
     "text": [
      ">>> Birch: 53.9296\n"
     ]
    }
   ],
   "source": [
    "adata, n_cluster = get_human_breast_cancer_data()\n",
    "train(adata, lr=1e-3, radius=350, node2vec_p=.25, node2vec_q=4, louvain_resolution=.8, components_features=30, walk_length=25)\n",
    "\n",
    "label = LabelEncoder().fit_transform(adata.obs['cluster'])\n",
    "pred = LabelEncoder().fit_transform([str(x) for x in Birch(n_clusters=n_cluster).fit(adata.obsm['embedding']).predict(adata.obsm['embedding'])])\n",
    "ari_score = metrics.adjusted_rand_score(label, pred) * 100\n",
    "print('>>> %s: %.4f' % ('Birch', ari_score))\n",
    "result[2][0].append(ari_score)"
   ]
  },
  {
   "cell_type": "code",
   "execution_count": 11,
   "metadata": {},
   "outputs": [
    {
     "name": "stderr",
     "output_type": "stream",
     "text": [
      "/mnt/5280e/twang/.conda/envs/torch+pyg/lib/python3.8/site-packages/anndata/_core/anndata.py:1830: UserWarning: Variable names are not unique. To make them unique, call `.var_names_make_unique`.\n",
      "  utils.warn_names_duplicates(\"var\")\n"
     ]
    },
    {
     "name": "stdout",
     "output_type": "stream",
     "text": [
      ">>> dataset name: human_breast_cancer, size: (3798, 36601), cluster: 20.\n",
      ">>> The graph contains 25862 edges, average 6.809373354397051 edges per node.\n",
      ">>> Building spatial graph success!\n",
      ">>> use louvain to modify spatial graph\n",
      "WARNING: You’re trying to run this on 3000 dimensions of `.X`, if you really want this, set `use_rep='X'`.\n",
      "         Falling back to preprocessing with `sc.pp.pca` and default params.\n",
      ">>> finish louvain, begin to prune graph\n",
      ">>> pruned graph contains 23002 edges, average 6.056345444971037 edges per node.\n"
     ]
    },
    {
     "name": "stderr",
     "output_type": "stream",
     "text": [
      ">>> node2vec: 100%|██████████| 200/200 [07:38<00:00,  2.29s/it]\n"
     ]
    },
    {
     "name": "stdout",
     "output_type": "stream",
     "text": [
      ">>> spatial model data(features) size: (3798, 3000)\n"
     ]
    },
    {
     "name": "stderr",
     "output_type": "stream",
     "text": [
      ">>> training spatial model: 100%|██████████| 500/500 [00:06<00:00, 73.51it/s]\n"
     ]
    },
    {
     "name": "stdout",
     "output_type": "stream",
     "text": [
      ">>> Birch: 55.6238\n"
     ]
    }
   ],
   "source": [
    "adata, n_cluster = get_human_breast_cancer_data()\n",
    "train(adata, lr=1e-3, radius=350, node2vec_p=4, node2vec_q=.25, louvain_resolution=.4, components_features=30, walk_length=35)\n",
    "\n",
    "label = LabelEncoder().fit_transform(adata.obs['cluster'])\n",
    "pred = LabelEncoder().fit_transform([str(x) for x in Birch(n_clusters=n_cluster).fit(adata.obsm['embedding']).predict(adata.obsm['embedding'])])\n",
    "ari_score = metrics.adjusted_rand_score(label, pred) * 100\n",
    "print('>>> %s: %.4f' % ('Birch', ari_score))\n",
    "result[0][1].append(ari_score)"
   ]
  },
  {
   "cell_type": "code",
   "execution_count": 12,
   "metadata": {},
   "outputs": [
    {
     "name": "stderr",
     "output_type": "stream",
     "text": [
      "/mnt/5280e/twang/.conda/envs/torch+pyg/lib/python3.8/site-packages/anndata/_core/anndata.py:1830: UserWarning: Variable names are not unique. To make them unique, call `.var_names_make_unique`.\n",
      "  utils.warn_names_duplicates(\"var\")\n"
     ]
    },
    {
     "name": "stdout",
     "output_type": "stream",
     "text": [
      ">>> dataset name: human_breast_cancer, size: (3798, 36601), cluster: 20.\n",
      ">>> The graph contains 25862 edges, average 6.809373354397051 edges per node.\n",
      ">>> Building spatial graph success!\n",
      ">>> use louvain to modify spatial graph\n",
      "WARNING: You’re trying to run this on 3000 dimensions of `.X`, if you really want this, set `use_rep='X'`.\n",
      "         Falling back to preprocessing with `sc.pp.pca` and default params.\n",
      ">>> finish louvain, begin to prune graph\n",
      ">>> pruned graph contains 22990 edges, average 6.05318588730911 edges per node.\n"
     ]
    },
    {
     "name": "stderr",
     "output_type": "stream",
     "text": [
      ">>> node2vec: 100%|██████████| 200/200 [07:02<00:00,  2.11s/it]\n"
     ]
    },
    {
     "name": "stdout",
     "output_type": "stream",
     "text": [
      ">>> spatial model data(features) size: (3798, 3000)\n"
     ]
    },
    {
     "name": "stderr",
     "output_type": "stream",
     "text": [
      ">>> training spatial model: 100%|██████████| 500/500 [00:05<00:00, 85.07it/s]\n"
     ]
    },
    {
     "name": "stdout",
     "output_type": "stream",
     "text": [
      ">>> Birch: 56.7024\n"
     ]
    }
   ],
   "source": [
    "adata, n_cluster = get_human_breast_cancer_data()\n",
    "train(adata, lr=1e-3, radius=350, node2vec_p=4, node2vec_q=.25, louvain_resolution=.6, components_features=30, walk_length=35)\n",
    "\n",
    "label = LabelEncoder().fit_transform(adata.obs['cluster'])\n",
    "pred = LabelEncoder().fit_transform([str(x) for x in Birch(n_clusters=n_cluster).fit(adata.obsm['embedding']).predict(adata.obsm['embedding'])])\n",
    "ari_score = metrics.adjusted_rand_score(label, pred) * 100\n",
    "print('>>> %s: %.4f' % ('Birch', ari_score))\n",
    "result[1][1].append(ari_score)"
   ]
  },
  {
   "cell_type": "code",
   "execution_count": 13,
   "metadata": {},
   "outputs": [
    {
     "name": "stderr",
     "output_type": "stream",
     "text": [
      "/mnt/5280e/twang/.conda/envs/torch+pyg/lib/python3.8/site-packages/anndata/_core/anndata.py:1830: UserWarning: Variable names are not unique. To make them unique, call `.var_names_make_unique`.\n",
      "  utils.warn_names_duplicates(\"var\")\n"
     ]
    },
    {
     "name": "stdout",
     "output_type": "stream",
     "text": [
      ">>> dataset name: human_breast_cancer, size: (3798, 36601), cluster: 20.\n",
      ">>> The graph contains 25862 edges, average 6.809373354397051 edges per node.\n",
      ">>> Building spatial graph success!\n",
      ">>> use louvain to modify spatial graph\n",
      "WARNING: You’re trying to run this on 3000 dimensions of `.X`, if you really want this, set `use_rep='X'`.\n",
      "         Falling back to preprocessing with `sc.pp.pca` and default params.\n",
      ">>> finish louvain, begin to prune graph\n",
      ">>> pruned graph contains 21802 edges, average 5.740389678778304 edges per node.\n"
     ]
    },
    {
     "name": "stderr",
     "output_type": "stream",
     "text": [
      ">>> node2vec: 100%|██████████| 200/200 [07:16<00:00,  2.18s/it]\n"
     ]
    },
    {
     "name": "stdout",
     "output_type": "stream",
     "text": [
      ">>> spatial model data(features) size: (3798, 3000)\n"
     ]
    },
    {
     "name": "stderr",
     "output_type": "stream",
     "text": [
      ">>> training spatial model: 100%|██████████| 500/500 [00:05<00:00, 94.66it/s]\n"
     ]
    },
    {
     "name": "stdout",
     "output_type": "stream",
     "text": [
      ">>> Birch: 51.8677\n"
     ]
    }
   ],
   "source": [
    "adata, n_cluster = get_human_breast_cancer_data()\n",
    "train(adata, lr=1e-3, radius=350, node2vec_p=4, node2vec_q=.25, louvain_resolution=.8, components_features=30, walk_length=35)\n",
    "\n",
    "label = LabelEncoder().fit_transform(adata.obs['cluster'])\n",
    "pred = LabelEncoder().fit_transform([str(x) for x in Birch(n_clusters=n_cluster).fit(adata.obsm['embedding']).predict(adata.obsm['embedding'])])\n",
    "ari_score = metrics.adjusted_rand_score(label, pred) * 100\n",
    "print('>>> %s: %.4f' % ('Birch', ari_score))\n",
    "result[2][1].append(ari_score)"
   ]
  },
  {
   "cell_type": "code",
   "execution_count": 14,
   "metadata": {},
   "outputs": [
    {
     "name": "stderr",
     "output_type": "stream",
     "text": [
      "/mnt/5280e/twang/.conda/envs/torch+pyg/lib/python3.8/site-packages/anndata/_core/anndata.py:1830: UserWarning: Variable names are not unique. To make them unique, call `.var_names_make_unique`.\n",
      "  utils.warn_names_duplicates(\"var\")\n"
     ]
    },
    {
     "name": "stdout",
     "output_type": "stream",
     "text": [
      ">>> dataset name: human_breast_cancer, size: (3798, 36601), cluster: 20.\n",
      ">>> The graph contains 25862 edges, average 6.809373354397051 edges per node.\n",
      ">>> Building spatial graph success!\n",
      ">>> use louvain to modify spatial graph\n",
      "WARNING: You’re trying to run this on 3000 dimensions of `.X`, if you really want this, set `use_rep='X'`.\n",
      "         Falling back to preprocessing with `sc.pp.pca` and default params.\n",
      ">>> finish louvain, begin to prune graph\n",
      ">>> pruned graph contains 23002 edges, average 6.056345444971037 edges per node.\n"
     ]
    },
    {
     "name": "stderr",
     "output_type": "stream",
     "text": [
      ">>> node2vec: 100%|██████████| 200/200 [06:18<00:00,  1.89s/it]\n"
     ]
    },
    {
     "name": "stdout",
     "output_type": "stream",
     "text": [
      ">>> spatial model data(features) size: (3798, 3000)\n"
     ]
    },
    {
     "name": "stderr",
     "output_type": "stream",
     "text": [
      ">>> training spatial model: 100%|██████████| 500/500 [00:05<00:00, 92.70it/s]\n"
     ]
    },
    {
     "name": "stdout",
     "output_type": "stream",
     "text": [
      ">>> Birch: 58.5982\n"
     ]
    }
   ],
   "source": [
    "adata, n_cluster = get_human_breast_cancer_data()\n",
    "train(adata, lr=1e-3, radius=350, node2vec_p=1, node2vec_q=1, louvain_resolution=.4, components_features=30, walk_length=35)\n",
    "\n",
    "label = LabelEncoder().fit_transform(adata.obs['cluster'])\n",
    "pred = LabelEncoder().fit_transform([str(x) for x in Birch(n_clusters=n_cluster).fit(adata.obsm['embedding']).predict(adata.obsm['embedding'])])\n",
    "ari_score = metrics.adjusted_rand_score(label, pred) * 100\n",
    "print('>>> %s: %.4f' % ('Birch', ari_score))\n",
    "result[0][1].append(ari_score)"
   ]
  },
  {
   "cell_type": "code",
   "execution_count": 15,
   "metadata": {},
   "outputs": [
    {
     "name": "stderr",
     "output_type": "stream",
     "text": [
      "/mnt/5280e/twang/.conda/envs/torch+pyg/lib/python3.8/site-packages/anndata/_core/anndata.py:1830: UserWarning: Variable names are not unique. To make them unique, call `.var_names_make_unique`.\n",
      "  utils.warn_names_duplicates(\"var\")\n"
     ]
    },
    {
     "name": "stdout",
     "output_type": "stream",
     "text": [
      ">>> dataset name: human_breast_cancer, size: (3798, 36601), cluster: 20.\n",
      ">>> The graph contains 25862 edges, average 6.809373354397051 edges per node.\n",
      ">>> Building spatial graph success!\n",
      ">>> use louvain to modify spatial graph\n",
      "WARNING: You’re trying to run this on 3000 dimensions of `.X`, if you really want this, set `use_rep='X'`.\n",
      "         Falling back to preprocessing with `sc.pp.pca` and default params.\n",
      ">>> finish louvain, begin to prune graph\n",
      ">>> pruned graph contains 22990 edges, average 6.05318588730911 edges per node.\n"
     ]
    },
    {
     "name": "stderr",
     "output_type": "stream",
     "text": [
      ">>> node2vec: 100%|██████████| 200/200 [11:33<00:00,  3.47s/it]\n"
     ]
    },
    {
     "name": "stdout",
     "output_type": "stream",
     "text": [
      ">>> spatial model data(features) size: (3798, 3000)\n"
     ]
    },
    {
     "name": "stderr",
     "output_type": "stream",
     "text": [
      ">>> training spatial model: 100%|██████████| 500/500 [00:07<00:00, 71.36it/s]\n"
     ]
    },
    {
     "name": "stdout",
     "output_type": "stream",
     "text": [
      ">>> Birch: 55.0471\n"
     ]
    }
   ],
   "source": [
    "adata, n_cluster = get_human_breast_cancer_data()\n",
    "train(adata, lr=1e-3, radius=350, node2vec_p=1, node2vec_q=1, louvain_resolution=.6, components_features=30, walk_length=35)\n",
    "\n",
    "label = LabelEncoder().fit_transform(adata.obs['cluster'])\n",
    "pred = LabelEncoder().fit_transform([str(x) for x in Birch(n_clusters=n_cluster).fit(adata.obsm['embedding']).predict(adata.obsm['embedding'])])\n",
    "ari_score = metrics.adjusted_rand_score(label, pred) * 100\n",
    "print('>>> %s: %.4f' % ('Birch', ari_score))\n",
    "result[1][1].append(ari_score)"
   ]
  },
  {
   "cell_type": "code",
   "execution_count": 16,
   "metadata": {},
   "outputs": [
    {
     "name": "stderr",
     "output_type": "stream",
     "text": [
      "/mnt/5280e/twang/.conda/envs/torch+pyg/lib/python3.8/site-packages/anndata/_core/anndata.py:1830: UserWarning: Variable names are not unique. To make them unique, call `.var_names_make_unique`.\n",
      "  utils.warn_names_duplicates(\"var\")\n"
     ]
    },
    {
     "name": "stdout",
     "output_type": "stream",
     "text": [
      ">>> dataset name: human_breast_cancer, size: (3798, 36601), cluster: 20.\n",
      ">>> The graph contains 25862 edges, average 6.809373354397051 edges per node.\n",
      ">>> Building spatial graph success!\n",
      ">>> use louvain to modify spatial graph\n",
      "WARNING: You’re trying to run this on 3000 dimensions of `.X`, if you really want this, set `use_rep='X'`.\n",
      "         Falling back to preprocessing with `sc.pp.pca` and default params.\n",
      ">>> finish louvain, begin to prune graph\n",
      ">>> pruned graph contains 21802 edges, average 5.740389678778304 edges per node.\n"
     ]
    },
    {
     "name": "stderr",
     "output_type": "stream",
     "text": [
      ">>> node2vec: 100%|██████████| 200/200 [12:28<00:00,  3.74s/it]\n"
     ]
    },
    {
     "name": "stdout",
     "output_type": "stream",
     "text": [
      ">>> spatial model data(features) size: (3798, 3000)\n"
     ]
    },
    {
     "name": "stderr",
     "output_type": "stream",
     "text": [
      ">>> training spatial model: 100%|██████████| 500/500 [00:06<00:00, 74.14it/s]\n"
     ]
    },
    {
     "name": "stdout",
     "output_type": "stream",
     "text": [
      ">>> Birch: 54.2118\n"
     ]
    }
   ],
   "source": [
    "adata, n_cluster = get_human_breast_cancer_data()\n",
    "train(adata, lr=1e-3, radius=350, node2vec_p=1, node2vec_q=1, louvain_resolution=.8, components_features=30, walk_length=35)\n",
    "\n",
    "label = LabelEncoder().fit_transform(adata.obs['cluster'])\n",
    "pred = LabelEncoder().fit_transform([str(x) for x in Birch(n_clusters=n_cluster).fit(adata.obsm['embedding']).predict(adata.obsm['embedding'])])\n",
    "ari_score = metrics.adjusted_rand_score(label, pred) * 100\n",
    "print('>>> %s: %.4f' % ('Birch', ari_score))\n",
    "result[2][1].append(ari_score)"
   ]
  },
  {
   "cell_type": "code",
   "execution_count": 17,
   "metadata": {},
   "outputs": [
    {
     "name": "stderr",
     "output_type": "stream",
     "text": [
      "/mnt/5280e/twang/.conda/envs/torch+pyg/lib/python3.8/site-packages/anndata/_core/anndata.py:1830: UserWarning: Variable names are not unique. To make them unique, call `.var_names_make_unique`.\n",
      "  utils.warn_names_duplicates(\"var\")\n"
     ]
    },
    {
     "name": "stdout",
     "output_type": "stream",
     "text": [
      ">>> dataset name: human_breast_cancer, size: (3798, 36601), cluster: 20.\n",
      ">>> The graph contains 25862 edges, average 6.809373354397051 edges per node.\n",
      ">>> Building spatial graph success!\n",
      ">>> use louvain to modify spatial graph\n",
      "WARNING: You’re trying to run this on 3000 dimensions of `.X`, if you really want this, set `use_rep='X'`.\n",
      "         Falling back to preprocessing with `sc.pp.pca` and default params.\n",
      ">>> finish louvain, begin to prune graph\n",
      ">>> pruned graph contains 23002 edges, average 6.056345444971037 edges per node.\n"
     ]
    },
    {
     "name": "stderr",
     "output_type": "stream",
     "text": [
      ">>> node2vec: 100%|██████████| 200/200 [07:18<00:00,  2.19s/it]\n"
     ]
    },
    {
     "name": "stdout",
     "output_type": "stream",
     "text": [
      ">>> spatial model data(features) size: (3798, 3000)\n"
     ]
    },
    {
     "name": "stderr",
     "output_type": "stream",
     "text": [
      ">>> training spatial model: 100%|██████████| 500/500 [00:07<00:00, 68.80it/s]\n"
     ]
    },
    {
     "name": "stdout",
     "output_type": "stream",
     "text": [
      ">>> Birch: 54.5558\n"
     ]
    }
   ],
   "source": [
    "adata, n_cluster = get_human_breast_cancer_data()\n",
    "train(adata, lr=1e-3, radius=350, node2vec_p=.25, node2vec_q=4, louvain_resolution=.4, components_features=30, walk_length=35)\n",
    "\n",
    "label = LabelEncoder().fit_transform(adata.obs['cluster'])\n",
    "pred = LabelEncoder().fit_transform([str(x) for x in Birch(n_clusters=n_cluster).fit(adata.obsm['embedding']).predict(adata.obsm['embedding'])])\n",
    "ari_score = metrics.adjusted_rand_score(label, pred) * 100\n",
    "print('>>> %s: %.4f' % ('Birch', ari_score))\n",
    "result[0][1].append(ari_score)"
   ]
  },
  {
   "cell_type": "code",
   "execution_count": 18,
   "metadata": {},
   "outputs": [
    {
     "name": "stderr",
     "output_type": "stream",
     "text": [
      "/mnt/5280e/twang/.conda/envs/torch+pyg/lib/python3.8/site-packages/anndata/_core/anndata.py:1830: UserWarning: Variable names are not unique. To make them unique, call `.var_names_make_unique`.\n",
      "  utils.warn_names_duplicates(\"var\")\n"
     ]
    },
    {
     "name": "stdout",
     "output_type": "stream",
     "text": [
      ">>> dataset name: human_breast_cancer, size: (3798, 36601), cluster: 20.\n",
      ">>> The graph contains 25862 edges, average 6.809373354397051 edges per node.\n",
      ">>> Building spatial graph success!\n",
      ">>> use louvain to modify spatial graph\n",
      "WARNING: You’re trying to run this on 3000 dimensions of `.X`, if you really want this, set `use_rep='X'`.\n",
      "         Falling back to preprocessing with `sc.pp.pca` and default params.\n",
      ">>> finish louvain, begin to prune graph\n",
      ">>> pruned graph contains 22990 edges, average 6.05318588730911 edges per node.\n"
     ]
    },
    {
     "name": "stderr",
     "output_type": "stream",
     "text": [
      ">>> node2vec: 100%|██████████| 200/200 [08:28<00:00,  2.54s/it]\n"
     ]
    },
    {
     "name": "stdout",
     "output_type": "stream",
     "text": [
      ">>> spatial model data(features) size: (3798, 3000)\n"
     ]
    },
    {
     "name": "stderr",
     "output_type": "stream",
     "text": [
      ">>> training spatial model: 100%|██████████| 500/500 [00:06<00:00, 74.75it/s]\n"
     ]
    },
    {
     "name": "stdout",
     "output_type": "stream",
     "text": [
      ">>> Birch: 57.3281\n"
     ]
    }
   ],
   "source": [
    "adata, n_cluster = get_human_breast_cancer_data()\n",
    "train(adata, lr=1e-3, radius=350, node2vec_p=.25, node2vec_q=4, louvain_resolution=.6, components_features=30, walk_length=35)\n",
    "\n",
    "label = LabelEncoder().fit_transform(adata.obs['cluster'])\n",
    "pred = LabelEncoder().fit_transform([str(x) for x in Birch(n_clusters=n_cluster).fit(adata.obsm['embedding']).predict(adata.obsm['embedding'])])\n",
    "ari_score = metrics.adjusted_rand_score(label, pred) * 100\n",
    "print('>>> %s: %.4f' % ('Birch', ari_score))\n",
    "result[1][1].append(ari_score)"
   ]
  },
  {
   "cell_type": "code",
   "execution_count": 19,
   "metadata": {},
   "outputs": [
    {
     "name": "stderr",
     "output_type": "stream",
     "text": [
      "/mnt/5280e/twang/.conda/envs/torch+pyg/lib/python3.8/site-packages/anndata/_core/anndata.py:1830: UserWarning: Variable names are not unique. To make them unique, call `.var_names_make_unique`.\n",
      "  utils.warn_names_duplicates(\"var\")\n"
     ]
    },
    {
     "name": "stdout",
     "output_type": "stream",
     "text": [
      ">>> dataset name: human_breast_cancer, size: (3798, 36601), cluster: 20.\n",
      ">>> The graph contains 25862 edges, average 6.809373354397051 edges per node.\n",
      ">>> Building spatial graph success!\n",
      ">>> use louvain to modify spatial graph\n",
      "WARNING: You’re trying to run this on 3000 dimensions of `.X`, if you really want this, set `use_rep='X'`.\n",
      "         Falling back to preprocessing with `sc.pp.pca` and default params.\n",
      ">>> finish louvain, begin to prune graph\n",
      ">>> pruned graph contains 21802 edges, average 5.740389678778304 edges per node.\n"
     ]
    },
    {
     "name": "stderr",
     "output_type": "stream",
     "text": [
      ">>> node2vec: 100%|██████████| 200/200 [07:27<00:00,  2.24s/it]\n"
     ]
    },
    {
     "name": "stdout",
     "output_type": "stream",
     "text": [
      ">>> spatial model data(features) size: (3798, 3000)\n"
     ]
    },
    {
     "name": "stderr",
     "output_type": "stream",
     "text": [
      ">>> training spatial model: 100%|██████████| 500/500 [00:07<00:00, 66.83it/s]\n"
     ]
    },
    {
     "name": "stdout",
     "output_type": "stream",
     "text": [
      ">>> Birch: 56.3823\n"
     ]
    }
   ],
   "source": [
    "adata, n_cluster = get_human_breast_cancer_data()\n",
    "train(adata, lr=1e-3, radius=350, node2vec_p=.25, node2vec_q=4, louvain_resolution=.8, components_features=30, walk_length=35)\n",
    "\n",
    "label = LabelEncoder().fit_transform(adata.obs['cluster'])\n",
    "pred = LabelEncoder().fit_transform([str(x) for x in Birch(n_clusters=n_cluster).fit(adata.obsm['embedding']).predict(adata.obsm['embedding'])])\n",
    "ari_score = metrics.adjusted_rand_score(label, pred) * 100\n",
    "print('>>> %s: %.4f' % ('Birch', ari_score))\n",
    "result[2][1].append(ari_score)"
   ]
  },
  {
   "cell_type": "code",
   "execution_count": 20,
   "metadata": {},
   "outputs": [
    {
     "name": "stderr",
     "output_type": "stream",
     "text": [
      "/mnt/5280e/twang/.conda/envs/torch+pyg/lib/python3.8/site-packages/anndata/_core/anndata.py:1830: UserWarning: Variable names are not unique. To make them unique, call `.var_names_make_unique`.\n",
      "  utils.warn_names_duplicates(\"var\")\n"
     ]
    },
    {
     "name": "stdout",
     "output_type": "stream",
     "text": [
      ">>> dataset name: human_breast_cancer, size: (3798, 36601), cluster: 20.\n",
      ">>> The graph contains 25862 edges, average 6.809373354397051 edges per node.\n",
      ">>> Building spatial graph success!\n",
      ">>> use louvain to modify spatial graph\n",
      "WARNING: You’re trying to run this on 3000 dimensions of `.X`, if you really want this, set `use_rep='X'`.\n",
      "         Falling back to preprocessing with `sc.pp.pca` and default params.\n",
      ">>> finish louvain, begin to prune graph\n",
      ">>> pruned graph contains 23002 edges, average 6.056345444971037 edges per node.\n"
     ]
    },
    {
     "name": "stderr",
     "output_type": "stream",
     "text": [
      ">>> node2vec: 100%|██████████| 200/200 [06:29<00:00,  1.95s/it]\n"
     ]
    },
    {
     "name": "stdout",
     "output_type": "stream",
     "text": [
      ">>> spatial model data(features) size: (3798, 3000)\n"
     ]
    },
    {
     "name": "stderr",
     "output_type": "stream",
     "text": [
      ">>> training spatial model: 100%|██████████| 500/500 [00:07<00:00, 69.52it/s]\n"
     ]
    },
    {
     "name": "stdout",
     "output_type": "stream",
     "text": [
      ">>> Birch: 58.6888\n"
     ]
    }
   ],
   "source": [
    "adata, n_cluster = get_human_breast_cancer_data()\n",
    "train(adata, lr=1e-3, radius=350, node2vec_p=4, node2vec_q=.25, louvain_resolution=.4, components_features=30, walk_length=45)\n",
    "\n",
    "label = LabelEncoder().fit_transform(adata.obs['cluster'])\n",
    "pred = LabelEncoder().fit_transform([str(x) for x in Birch(n_clusters=n_cluster).fit(adata.obsm['embedding']).predict(adata.obsm['embedding'])])\n",
    "ari_score = metrics.adjusted_rand_score(label, pred) * 100\n",
    "print('>>> %s: %.4f' % ('Birch', ari_score))\n",
    "result[0][2].append(ari_score)"
   ]
  },
  {
   "cell_type": "code",
   "execution_count": 21,
   "metadata": {},
   "outputs": [
    {
     "name": "stderr",
     "output_type": "stream",
     "text": [
      "/mnt/5280e/twang/.conda/envs/torch+pyg/lib/python3.8/site-packages/anndata/_core/anndata.py:1830: UserWarning: Variable names are not unique. To make them unique, call `.var_names_make_unique`.\n",
      "  utils.warn_names_duplicates(\"var\")\n"
     ]
    },
    {
     "name": "stdout",
     "output_type": "stream",
     "text": [
      ">>> dataset name: human_breast_cancer, size: (3798, 36601), cluster: 20.\n",
      ">>> The graph contains 25862 edges, average 6.809373354397051 edges per node.\n",
      ">>> Building spatial graph success!\n",
      ">>> use louvain to modify spatial graph\n",
      "WARNING: You’re trying to run this on 3000 dimensions of `.X`, if you really want this, set `use_rep='X'`.\n",
      "         Falling back to preprocessing with `sc.pp.pca` and default params.\n",
      ">>> finish louvain, begin to prune graph\n",
      ">>> pruned graph contains 22990 edges, average 6.05318588730911 edges per node.\n"
     ]
    },
    {
     "name": "stderr",
     "output_type": "stream",
     "text": [
      ">>> node2vec: 100%|██████████| 200/200 [05:51<00:00,  1.76s/it]\n"
     ]
    },
    {
     "name": "stdout",
     "output_type": "stream",
     "text": [
      ">>> spatial model data(features) size: (3798, 3000)\n"
     ]
    },
    {
     "name": "stderr",
     "output_type": "stream",
     "text": [
      ">>> training spatial model: 100%|██████████| 500/500 [00:06<00:00, 80.46it/s]\n"
     ]
    },
    {
     "name": "stdout",
     "output_type": "stream",
     "text": [
      ">>> Birch: 58.9662\n"
     ]
    }
   ],
   "source": [
    "adata, n_cluster = get_human_breast_cancer_data()\n",
    "train(adata, lr=1e-3, radius=350, node2vec_p=4, node2vec_q=.25, louvain_resolution=.6, components_features=30, walk_length=45)\n",
    "\n",
    "label = LabelEncoder().fit_transform(adata.obs['cluster'])\n",
    "pred = LabelEncoder().fit_transform([str(x) for x in Birch(n_clusters=n_cluster).fit(adata.obsm['embedding']).predict(adata.obsm['embedding'])])\n",
    "ari_score = metrics.adjusted_rand_score(label, pred) * 100\n",
    "print('>>> %s: %.4f' % ('Birch', ari_score))\n",
    "result[1][2].append(ari_score)"
   ]
  },
  {
   "cell_type": "code",
   "execution_count": 22,
   "metadata": {},
   "outputs": [
    {
     "name": "stderr",
     "output_type": "stream",
     "text": [
      "/mnt/5280e/twang/.conda/envs/torch+pyg/lib/python3.8/site-packages/anndata/_core/anndata.py:1830: UserWarning: Variable names are not unique. To make them unique, call `.var_names_make_unique`.\n",
      "  utils.warn_names_duplicates(\"var\")\n"
     ]
    },
    {
     "name": "stdout",
     "output_type": "stream",
     "text": [
      ">>> dataset name: human_breast_cancer, size: (3798, 36601), cluster: 20.\n",
      ">>> The graph contains 25862 edges, average 6.809373354397051 edges per node.\n",
      ">>> Building spatial graph success!\n",
      ">>> use louvain to modify spatial graph\n",
      "WARNING: You’re trying to run this on 3000 dimensions of `.X`, if you really want this, set `use_rep='X'`.\n",
      "         Falling back to preprocessing with `sc.pp.pca` and default params.\n",
      ">>> finish louvain, begin to prune graph\n",
      ">>> pruned graph contains 21802 edges, average 5.740389678778304 edges per node.\n"
     ]
    },
    {
     "name": "stderr",
     "output_type": "stream",
     "text": [
      ">>> node2vec: 100%|██████████| 200/200 [06:13<00:00,  1.87s/it]\n"
     ]
    },
    {
     "name": "stdout",
     "output_type": "stream",
     "text": [
      ">>> spatial model data(features) size: (3798, 3000)\n"
     ]
    },
    {
     "name": "stderr",
     "output_type": "stream",
     "text": [
      ">>> training spatial model: 100%|██████████| 500/500 [00:06<00:00, 78.13it/s]\n"
     ]
    },
    {
     "name": "stdout",
     "output_type": "stream",
     "text": [
      ">>> Birch: 56.0607\n"
     ]
    }
   ],
   "source": [
    "adata, n_cluster = get_human_breast_cancer_data()\n",
    "train(adata, lr=1e-3, radius=350, node2vec_p=4, node2vec_q=.25, louvain_resolution=.8, components_features=30, walk_length=45)\n",
    "\n",
    "label = LabelEncoder().fit_transform(adata.obs['cluster'])\n",
    "pred = LabelEncoder().fit_transform([str(x) for x in Birch(n_clusters=n_cluster).fit(adata.obsm['embedding']).predict(adata.obsm['embedding'])])\n",
    "ari_score = metrics.adjusted_rand_score(label, pred) * 100\n",
    "print('>>> %s: %.4f' % ('Birch', ari_score))\n",
    "result[2][2].append(ari_score)"
   ]
  },
  {
   "cell_type": "code",
   "execution_count": 23,
   "metadata": {},
   "outputs": [
    {
     "name": "stderr",
     "output_type": "stream",
     "text": [
      "/mnt/5280e/twang/.conda/envs/torch+pyg/lib/python3.8/site-packages/anndata/_core/anndata.py:1830: UserWarning: Variable names are not unique. To make them unique, call `.var_names_make_unique`.\n",
      "  utils.warn_names_duplicates(\"var\")\n"
     ]
    },
    {
     "name": "stdout",
     "output_type": "stream",
     "text": [
      ">>> dataset name: human_breast_cancer, size: (3798, 36601), cluster: 20.\n",
      ">>> The graph contains 25862 edges, average 6.809373354397051 edges per node.\n",
      ">>> Building spatial graph success!\n",
      ">>> use louvain to modify spatial graph\n",
      "WARNING: You’re trying to run this on 3000 dimensions of `.X`, if you really want this, set `use_rep='X'`.\n",
      "         Falling back to preprocessing with `sc.pp.pca` and default params.\n",
      ">>> finish louvain, begin to prune graph\n",
      ">>> pruned graph contains 23002 edges, average 6.056345444971037 edges per node.\n"
     ]
    },
    {
     "name": "stderr",
     "output_type": "stream",
     "text": [
      ">>> node2vec: 100%|██████████| 200/200 [06:10<00:00,  1.85s/it]\n"
     ]
    },
    {
     "name": "stdout",
     "output_type": "stream",
     "text": [
      ">>> spatial model data(features) size: (3798, 3000)\n"
     ]
    },
    {
     "name": "stderr",
     "output_type": "stream",
     "text": [
      ">>> training spatial model: 100%|██████████| 500/500 [00:06<00:00, 78.01it/s]\n"
     ]
    },
    {
     "name": "stdout",
     "output_type": "stream",
     "text": [
      ">>> Birch: 55.9215\n"
     ]
    }
   ],
   "source": [
    "adata, n_cluster = get_human_breast_cancer_data()\n",
    "train(adata, lr=1e-3, radius=350, node2vec_p=1, node2vec_q=1, louvain_resolution=.4, components_features=30, walk_length=45)\n",
    "\n",
    "label = LabelEncoder().fit_transform(adata.obs['cluster'])\n",
    "pred = LabelEncoder().fit_transform([str(x) for x in Birch(n_clusters=n_cluster).fit(adata.obsm['embedding']).predict(adata.obsm['embedding'])])\n",
    "ari_score = metrics.adjusted_rand_score(label, pred) * 100\n",
    "print('>>> %s: %.4f' % ('Birch', ari_score))\n",
    "result[0][2].append(ari_score)"
   ]
  },
  {
   "cell_type": "code",
   "execution_count": 24,
   "metadata": {},
   "outputs": [
    {
     "name": "stderr",
     "output_type": "stream",
     "text": [
      "/mnt/5280e/twang/.conda/envs/torch+pyg/lib/python3.8/site-packages/anndata/_core/anndata.py:1830: UserWarning: Variable names are not unique. To make them unique, call `.var_names_make_unique`.\n",
      "  utils.warn_names_duplicates(\"var\")\n"
     ]
    },
    {
     "name": "stdout",
     "output_type": "stream",
     "text": [
      ">>> dataset name: human_breast_cancer, size: (3798, 36601), cluster: 20.\n",
      ">>> The graph contains 25862 edges, average 6.809373354397051 edges per node.\n",
      ">>> Building spatial graph success!\n",
      ">>> use louvain to modify spatial graph\n",
      "WARNING: You’re trying to run this on 3000 dimensions of `.X`, if you really want this, set `use_rep='X'`.\n",
      "         Falling back to preprocessing with `sc.pp.pca` and default params.\n",
      ">>> finish louvain, begin to prune graph\n",
      ">>> pruned graph contains 22990 edges, average 6.05318588730911 edges per node.\n"
     ]
    },
    {
     "name": "stderr",
     "output_type": "stream",
     "text": [
      ">>> node2vec: 100%|██████████| 200/200 [07:13<00:00,  2.17s/it]\n"
     ]
    },
    {
     "name": "stdout",
     "output_type": "stream",
     "text": [
      ">>> spatial model data(features) size: (3798, 3000)\n"
     ]
    },
    {
     "name": "stderr",
     "output_type": "stream",
     "text": [
      ">>> training spatial model: 100%|██████████| 500/500 [00:06<00:00, 76.23it/s]\n"
     ]
    },
    {
     "name": "stdout",
     "output_type": "stream",
     "text": [
      ">>> Birch: 60.5149\n"
     ]
    }
   ],
   "source": [
    "adata, n_cluster = get_human_breast_cancer_data()\n",
    "train(adata, lr=1e-3, radius=350, node2vec_p=1, node2vec_q=1, louvain_resolution=.6, components_features=30, walk_length=45)\n",
    "\n",
    "label = LabelEncoder().fit_transform(adata.obs['cluster'])\n",
    "pred = LabelEncoder().fit_transform([str(x) for x in Birch(n_clusters=n_cluster).fit(adata.obsm['embedding']).predict(adata.obsm['embedding'])])\n",
    "ari_score = metrics.adjusted_rand_score(label, pred) * 100\n",
    "print('>>> %s: %.4f' % ('Birch', ari_score))\n",
    "result[1][2].append(ari_score)"
   ]
  },
  {
   "cell_type": "code",
   "execution_count": 25,
   "metadata": {},
   "outputs": [
    {
     "name": "stderr",
     "output_type": "stream",
     "text": [
      "/mnt/5280e/twang/.conda/envs/torch+pyg/lib/python3.8/site-packages/anndata/_core/anndata.py:1830: UserWarning: Variable names are not unique. To make them unique, call `.var_names_make_unique`.\n",
      "  utils.warn_names_duplicates(\"var\")\n"
     ]
    },
    {
     "name": "stdout",
     "output_type": "stream",
     "text": [
      ">>> dataset name: human_breast_cancer, size: (3798, 36601), cluster: 20.\n",
      ">>> The graph contains 25862 edges, average 6.809373354397051 edges per node.\n",
      ">>> Building spatial graph success!\n",
      ">>> use louvain to modify spatial graph\n",
      "WARNING: You’re trying to run this on 3000 dimensions of `.X`, if you really want this, set `use_rep='X'`.\n",
      "         Falling back to preprocessing with `sc.pp.pca` and default params.\n",
      ">>> finish louvain, begin to prune graph\n",
      ">>> pruned graph contains 21802 edges, average 5.740389678778304 edges per node.\n"
     ]
    },
    {
     "name": "stderr",
     "output_type": "stream",
     "text": [
      ">>> node2vec: 100%|██████████| 200/200 [08:21<00:00,  2.51s/it]\n"
     ]
    },
    {
     "name": "stdout",
     "output_type": "stream",
     "text": [
      ">>> spatial model data(features) size: (3798, 3000)\n"
     ]
    },
    {
     "name": "stderr",
     "output_type": "stream",
     "text": [
      ">>> training spatial model: 100%|██████████| 500/500 [00:06<00:00, 79.77it/s]\n"
     ]
    },
    {
     "name": "stdout",
     "output_type": "stream",
     "text": [
      ">>> Birch: 57.9775\n"
     ]
    }
   ],
   "source": [
    "adata, n_cluster = get_human_breast_cancer_data()\n",
    "train(adata, lr=1e-3, radius=350, node2vec_p=1, node2vec_q=1, louvain_resolution=.8, components_features=30, walk_length=45)\n",
    "\n",
    "label = LabelEncoder().fit_transform(adata.obs['cluster'])\n",
    "pred = LabelEncoder().fit_transform([str(x) for x in Birch(n_clusters=n_cluster).fit(adata.obsm['embedding']).predict(adata.obsm['embedding'])])\n",
    "ari_score = metrics.adjusted_rand_score(label, pred) * 100\n",
    "print('>>> %s: %.4f' % ('Birch', ari_score))\n",
    "result[2][2].append(ari_score)"
   ]
  },
  {
   "cell_type": "code",
   "execution_count": 26,
   "metadata": {},
   "outputs": [
    {
     "name": "stderr",
     "output_type": "stream",
     "text": [
      "/mnt/5280e/twang/.conda/envs/torch+pyg/lib/python3.8/site-packages/anndata/_core/anndata.py:1830: UserWarning: Variable names are not unique. To make them unique, call `.var_names_make_unique`.\n",
      "  utils.warn_names_duplicates(\"var\")\n"
     ]
    },
    {
     "name": "stdout",
     "output_type": "stream",
     "text": [
      ">>> dataset name: human_breast_cancer, size: (3798, 36601), cluster: 20.\n",
      ">>> The graph contains 25862 edges, average 6.809373354397051 edges per node.\n",
      ">>> Building spatial graph success!\n",
      ">>> use louvain to modify spatial graph\n",
      "WARNING: You’re trying to run this on 3000 dimensions of `.X`, if you really want this, set `use_rep='X'`.\n",
      "         Falling back to preprocessing with `sc.pp.pca` and default params.\n",
      ">>> finish louvain, begin to prune graph\n",
      ">>> pruned graph contains 23002 edges, average 6.056345444971037 edges per node.\n"
     ]
    },
    {
     "name": "stderr",
     "output_type": "stream",
     "text": [
      ">>> node2vec: 100%|██████████| 200/200 [07:17<00:00,  2.19s/it]\n"
     ]
    },
    {
     "name": "stdout",
     "output_type": "stream",
     "text": [
      ">>> spatial model data(features) size: (3798, 3000)\n"
     ]
    },
    {
     "name": "stderr",
     "output_type": "stream",
     "text": [
      ">>> training spatial model: 100%|██████████| 500/500 [00:06<00:00, 77.23it/s]\n"
     ]
    },
    {
     "name": "stdout",
     "output_type": "stream",
     "text": [
      ">>> Birch: 54.5994\n"
     ]
    }
   ],
   "source": [
    "adata, n_cluster = get_human_breast_cancer_data()\n",
    "train(adata, lr=1e-3, radius=350, node2vec_p=.25, node2vec_q=4, louvain_resolution=.4, components_features=30, walk_length=45)\n",
    "\n",
    "label = LabelEncoder().fit_transform(adata.obs['cluster'])\n",
    "pred = LabelEncoder().fit_transform([str(x) for x in Birch(n_clusters=n_cluster).fit(adata.obsm['embedding']).predict(adata.obsm['embedding'])])\n",
    "ari_score = metrics.adjusted_rand_score(label, pred) * 100\n",
    "print('>>> %s: %.4f' % ('Birch', ari_score))\n",
    "result[0][2].append(ari_score)"
   ]
  },
  {
   "cell_type": "code",
   "execution_count": 27,
   "metadata": {},
   "outputs": [
    {
     "name": "stderr",
     "output_type": "stream",
     "text": [
      "/mnt/5280e/twang/.conda/envs/torch+pyg/lib/python3.8/site-packages/anndata/_core/anndata.py:1830: UserWarning: Variable names are not unique. To make them unique, call `.var_names_make_unique`.\n",
      "  utils.warn_names_duplicates(\"var\")\n"
     ]
    },
    {
     "name": "stdout",
     "output_type": "stream",
     "text": [
      ">>> dataset name: human_breast_cancer, size: (3798, 36601), cluster: 20.\n",
      ">>> The graph contains 25862 edges, average 6.809373354397051 edges per node.\n",
      ">>> Building spatial graph success!\n",
      ">>> use louvain to modify spatial graph\n",
      "WARNING: You’re trying to run this on 3000 dimensions of `.X`, if you really want this, set `use_rep='X'`.\n",
      "         Falling back to preprocessing with `sc.pp.pca` and default params.\n",
      ">>> finish louvain, begin to prune graph\n",
      ">>> pruned graph contains 22990 edges, average 6.05318588730911 edges per node.\n"
     ]
    },
    {
     "name": "stderr",
     "output_type": "stream",
     "text": [
      ">>> node2vec: 100%|██████████| 200/200 [06:48<00:00,  2.04s/it]\n"
     ]
    },
    {
     "name": "stdout",
     "output_type": "stream",
     "text": [
      ">>> spatial model data(features) size: (3798, 3000)\n"
     ]
    },
    {
     "name": "stderr",
     "output_type": "stream",
     "text": [
      ">>> training spatial model: 100%|██████████| 500/500 [00:06<00:00, 78.26it/s]\n"
     ]
    },
    {
     "name": "stdout",
     "output_type": "stream",
     "text": [
      ">>> Birch: 54.3996\n"
     ]
    }
   ],
   "source": [
    "adata, n_cluster = get_human_breast_cancer_data()\n",
    "train(adata, lr=1e-3, radius=350, node2vec_p=.25, node2vec_q=4, louvain_resolution=.6, components_features=30, walk_length=45)\n",
    "\n",
    "label = LabelEncoder().fit_transform(adata.obs['cluster'])\n",
    "pred = LabelEncoder().fit_transform([str(x) for x in Birch(n_clusters=n_cluster).fit(adata.obsm['embedding']).predict(adata.obsm['embedding'])])\n",
    "ari_score = metrics.adjusted_rand_score(label, pred) * 100\n",
    "print('>>> %s: %.4f' % ('Birch', ari_score))\n",
    "result[1][2].append(ari_score)"
   ]
  },
  {
   "cell_type": "code",
   "execution_count": 28,
   "metadata": {},
   "outputs": [
    {
     "name": "stderr",
     "output_type": "stream",
     "text": [
      "/mnt/5280e/twang/.conda/envs/torch+pyg/lib/python3.8/site-packages/anndata/_core/anndata.py:1830: UserWarning: Variable names are not unique. To make them unique, call `.var_names_make_unique`.\n",
      "  utils.warn_names_duplicates(\"var\")\n"
     ]
    },
    {
     "name": "stdout",
     "output_type": "stream",
     "text": [
      ">>> dataset name: human_breast_cancer, size: (3798, 36601), cluster: 20.\n",
      ">>> The graph contains 25862 edges, average 6.809373354397051 edges per node.\n",
      ">>> Building spatial graph success!\n",
      ">>> use louvain to modify spatial graph\n",
      "WARNING: You’re trying to run this on 3000 dimensions of `.X`, if you really want this, set `use_rep='X'`.\n",
      "         Falling back to preprocessing with `sc.pp.pca` and default params.\n",
      ">>> finish louvain, begin to prune graph\n",
      ">>> pruned graph contains 21802 edges, average 5.740389678778304 edges per node.\n"
     ]
    },
    {
     "name": "stderr",
     "output_type": "stream",
     "text": [
      ">>> node2vec: 100%|██████████| 200/200 [06:45<00:00,  2.03s/it]\n"
     ]
    },
    {
     "name": "stdout",
     "output_type": "stream",
     "text": [
      ">>> spatial model data(features) size: (3798, 3000)\n"
     ]
    },
    {
     "name": "stderr",
     "output_type": "stream",
     "text": [
      ">>> training spatial model: 100%|██████████| 500/500 [00:06<00:00, 78.92it/s]\n"
     ]
    },
    {
     "name": "stdout",
     "output_type": "stream",
     "text": [
      ">>> Birch: 58.2200\n"
     ]
    }
   ],
   "source": [
    "adata, n_cluster = get_human_breast_cancer_data()\n",
    "train(adata, lr=1e-3, radius=350, node2vec_p=.25, node2vec_q=4, louvain_resolution=.8, components_features=30, walk_length=45)\n",
    "\n",
    "label = LabelEncoder().fit_transform(adata.obs['cluster'])\n",
    "pred = LabelEncoder().fit_transform([str(x) for x in Birch(n_clusters=n_cluster).fit(adata.obsm['embedding']).predict(adata.obsm['embedding'])])\n",
    "ari_score = metrics.adjusted_rand_score(label, pred) * 100\n",
    "print('>>> %s: %.4f' % ('Birch', ari_score))\n",
    "result[2][2].append(ari_score)"
   ]
  },
  {
   "cell_type": "code",
   "execution_count": 29,
   "metadata": {},
   "outputs": [
    {
     "name": "stdout",
     "output_type": "stream",
     "text": [
      "[[[55.89935398 61.08995278 56.47804805]\n",
      "  [55.62378249 58.59818893 54.55580008]\n",
      "  [58.68876148 55.92151361 54.59940078]]\n",
      "\n",
      " [[53.35931126 54.74565315 56.17681013]\n",
      "  [56.70244274 55.0471376  57.32812206]\n",
      "  [58.96615762 60.5149453  54.39962904]]\n",
      "\n",
      " [[57.68350867 53.18888079 53.92958611]\n",
      "  [51.86765537 54.21181434 56.3822851 ]\n",
      "  [56.06070288 57.97751078 58.21995079]]]\n"
     ]
    }
   ],
   "source": [
    "import numpy as np\n",
    "\n",
    "print(np.array(result))"
   ]
  }
 ],
 "metadata": {
  "kernelspec": {
   "display_name": "Python 3.8.13 ('torch+pyg')",
   "language": "python",
   "name": "python3"
  },
  "language_info": {
   "codemirror_mode": {
    "name": "ipython",
    "version": 3
   },
   "file_extension": ".py",
   "mimetype": "text/x-python",
   "name": "python",
   "nbconvert_exporter": "python",
   "pygments_lexer": "ipython3",
   "version": "3.8.13"
  },
  "orig_nbformat": 4,
  "vscode": {
   "interpreter": {
    "hash": "a0f855fec34ed1739858563e3b94d8ba36be9c5a95173b69288904bab1233695"
   }
  }
 },
 "nbformat": 4,
 "nbformat_minor": 2
}
