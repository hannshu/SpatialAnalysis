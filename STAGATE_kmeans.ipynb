{
 "cells": [
  {
   "cell_type": "code",
   "execution_count": 1,
   "metadata": {},
   "outputs": [
    {
     "name": "stderr",
     "output_type": "stream",
     "text": [
      "/mnt/5280e/twang/.conda/envs/tf-STA/lib/python3.7/site-packages/skimage/io/manage_plugins.py:23: UserWarning: Your installed pillow version is < 8.1.2. Several security issues (CVE-2021-27921, CVE-2021-25290, CVE-2021-25291, CVE-2021-25293, and more) have been fixed in pillow 8.1.2 or higher. We recommend to upgrade this library.\n",
      "  from .collection import imread_collection_wrapper\n"
     ]
    }
   ],
   "source": [
    "from dataset import *\n",
    "from tools import evaluate\n",
    "import STAGATE\n",
    "\n",
    "from sklearn.metrics import adjusted_rand_score\n",
    "from sklearn.cluster import KMeans\n",
    "\n",
    "result = []"
   ]
  },
  {
   "cell_type": "markdown",
   "metadata": {},
   "source": [
    "# human breast cancer"
   ]
  },
  {
   "cell_type": "code",
   "execution_count": 2,
   "metadata": {},
   "outputs": [
    {
     "name": "stderr",
     "output_type": "stream",
     "text": [
      "/mnt/5280e/twang/.conda/envs/tf-STA/lib/python3.7/site-packages/anndata/_core/anndata.py:1830: UserWarning: Variable names are not unique. To make them unique, call `.var_names_make_unique`.\n",
      "  utils.warn_names_duplicates(\"var\")\n"
     ]
    },
    {
     "name": "stdout",
     "output_type": "stream",
     "text": [
      ">>> dataset name: human_breast_cancer, size: (3798, 36601), cluster: 20.\n",
      "------Calculating spatial graph...\n",
      "The graph contains 22064 edges, 3798 cells.\n",
      "5.8094 neighbors per cell on average.\n",
      "Size of Input:  (3798, 3000)\n",
      "WARNING:tensorflow:From /mnt/5280e/twang/.conda/envs/tf-STA/lib/python3.7/site-packages/tensorflow_core/python/ops/math_grad.py:1375: where (from tensorflow.python.ops.array_ops) is deprecated and will be removed in a future version.\n",
      "Instructions for updating:\n",
      "Use tf.where in 2.0, which has the same broadcast rule as np.where\n"
     ]
    },
    {
     "name": "stderr",
     "output_type": "stream",
     "text": [
      "100%|██████████| 500/500 [01:06<00:00,  7.56it/s]\n"
     ]
    },
    {
     "name": "stdout",
     "output_type": "stream",
     "text": [
      "Adjusted rand index = 54.1467\n"
     ]
    }
   ],
   "source": [
    "adata, n_cluster = get_human_breast_cancer_data()\n",
    "STAGATE.Cal_Spatial_Net(adata, rad_cutoff=350)\n",
    "adata = STAGATE.train_STAGATE(adata)\n",
    "# adata = STAGATE.mclust_R(adata, used_obsm='STAGATE', num_cluster=n_cluster)\n",
    "adata.obs['mclust'] = KMeans(n_clusters=n_cluster, random_state=2022).fit_predict(adata.obsm['STAGATE'])\n",
    "obs_df = adata.obs.dropna()\n",
    "ARI = adjusted_rand_score(obs_df['mclust'], obs_df['cluster'])*100\n",
    "print('Adjusted rand index = %.4f' %ARI)\n",
    "result.append(ARI)"
   ]
  },
  {
   "cell_type": "markdown",
   "metadata": {},
   "source": [
    "# DLPFC"
   ]
  },
  {
   "cell_type": "code",
   "execution_count": 3,
   "metadata": {},
   "outputs": [
    {
     "name": "stderr",
     "output_type": "stream",
     "text": [
      "/mnt/5280e/twang/.conda/envs/tf-STA/lib/python3.7/site-packages/anndata/_core/anndata.py:1830: UserWarning: Variable names are not unique. To make them unique, call `.var_names_make_unique`.\n",
      "  utils.warn_names_duplicates(\"var\")\n"
     ]
    },
    {
     "name": "stdout",
     "output_type": "stream",
     "text": [
      ">>> dataset name: dlpfc, slice id: 151507, size: (4226, 33538), cluster: 7.\n",
      "------Calculating spatial graph...\n",
      "The graph contains 24770 edges, 4226 cells.\n",
      "5.8613 neighbors per cell on average.\n",
      "Size of Input:  (4226, 3000)\n"
     ]
    },
    {
     "name": "stderr",
     "output_type": "stream",
     "text": [
      "100%|██████████| 500/500 [02:03<00:00,  4.04it/s]\n"
     ]
    },
    {
     "name": "stdout",
     "output_type": "stream",
     "text": [
      "Adjusted rand index = 29.8916\n"
     ]
    },
    {
     "name": "stderr",
     "output_type": "stream",
     "text": [
      "/mnt/5280e/twang/.conda/envs/tf-STA/lib/python3.7/site-packages/anndata/_core/anndata.py:1830: UserWarning: Variable names are not unique. To make them unique, call `.var_names_make_unique`.\n",
      "  utils.warn_names_duplicates(\"var\")\n"
     ]
    },
    {
     "name": "stdout",
     "output_type": "stream",
     "text": [
      ">>> dataset name: dlpfc, slice id: 151508, size: (4384, 33538), cluster: 7.\n",
      "------Calculating spatial graph...\n",
      "The graph contains 25698 edges, 4384 cells.\n",
      "5.8618 neighbors per cell on average.\n",
      "Size of Input:  (4384, 3000)\n"
     ]
    },
    {
     "name": "stderr",
     "output_type": "stream",
     "text": [
      "100%|██████████| 500/500 [02:05<00:00,  3.97it/s]\n"
     ]
    },
    {
     "name": "stdout",
     "output_type": "stream",
     "text": [
      "Adjusted rand index = 35.8039\n"
     ]
    },
    {
     "name": "stderr",
     "output_type": "stream",
     "text": [
      "/mnt/5280e/twang/.conda/envs/tf-STA/lib/python3.7/site-packages/anndata/_core/anndata.py:1830: UserWarning: Variable names are not unique. To make them unique, call `.var_names_make_unique`.\n",
      "  utils.warn_names_duplicates(\"var\")\n"
     ]
    },
    {
     "name": "stdout",
     "output_type": "stream",
     "text": [
      ">>> dataset name: dlpfc, slice id: 151509, size: (4789, 33538), cluster: 7.\n",
      "------Calculating spatial graph...\n",
      "The graph contains 28172 edges, 4789 cells.\n",
      "5.8826 neighbors per cell on average.\n",
      "Size of Input:  (4789, 3000)\n"
     ]
    },
    {
     "name": "stderr",
     "output_type": "stream",
     "text": [
      "100%|██████████| 500/500 [00:53<00:00,  9.28it/s]\n"
     ]
    },
    {
     "name": "stdout",
     "output_type": "stream",
     "text": [
      "Adjusted rand index = 42.5748\n"
     ]
    },
    {
     "name": "stderr",
     "output_type": "stream",
     "text": [
      "/mnt/5280e/twang/.conda/envs/tf-STA/lib/python3.7/site-packages/anndata/_core/anndata.py:1830: UserWarning: Variable names are not unique. To make them unique, call `.var_names_make_unique`.\n",
      "  utils.warn_names_duplicates(\"var\")\n"
     ]
    },
    {
     "name": "stdout",
     "output_type": "stream",
     "text": [
      ">>> dataset name: dlpfc, slice id: 151510, size: (4634, 33538), cluster: 7.\n",
      "------Calculating spatial graph...\n",
      "The graph contains 27198 edges, 4634 cells.\n",
      "5.8692 neighbors per cell on average.\n",
      "Size of Input:  (4634, 3000)\n"
     ]
    },
    {
     "name": "stderr",
     "output_type": "stream",
     "text": [
      "100%|██████████| 500/500 [02:08<00:00,  3.88it/s]\n"
     ]
    },
    {
     "name": "stdout",
     "output_type": "stream",
     "text": [
      "Adjusted rand index = 38.2714\n"
     ]
    },
    {
     "name": "stderr",
     "output_type": "stream",
     "text": [
      "/mnt/5280e/twang/.conda/envs/tf-STA/lib/python3.7/site-packages/anndata/_core/anndata.py:1830: UserWarning: Variable names are not unique. To make them unique, call `.var_names_make_unique`.\n",
      "  utils.warn_names_duplicates(\"var\")\n"
     ]
    },
    {
     "name": "stdout",
     "output_type": "stream",
     "text": [
      ">>> dataset name: dlpfc, slice id: 151669, size: (3661, 33538), cluster: 5.\n",
      "------Calculating spatial graph...\n",
      "The graph contains 21194 edges, 3661 cells.\n",
      "5.7891 neighbors per cell on average.\n",
      "Size of Input:  (3661, 3000)\n"
     ]
    },
    {
     "name": "stderr",
     "output_type": "stream",
     "text": [
      "100%|██████████| 500/500 [00:53<00:00,  9.27it/s]\n"
     ]
    },
    {
     "name": "stdout",
     "output_type": "stream",
     "text": [
      "Adjusted rand index = 25.4583\n"
     ]
    },
    {
     "name": "stderr",
     "output_type": "stream",
     "text": [
      "/mnt/5280e/twang/.conda/envs/tf-STA/lib/python3.7/site-packages/anndata/_core/anndata.py:1830: UserWarning: Variable names are not unique. To make them unique, call `.var_names_make_unique`.\n",
      "  utils.warn_names_duplicates(\"var\")\n"
     ]
    },
    {
     "name": "stdout",
     "output_type": "stream",
     "text": [
      ">>> dataset name: dlpfc, slice id: 151670, size: (3498, 33538), cluster: 5.\n",
      "------Calculating spatial graph...\n",
      "The graph contains 20370 edges, 3498 cells.\n",
      "5.8233 neighbors per cell on average.\n",
      "Size of Input:  (3498, 3000)\n"
     ]
    },
    {
     "name": "stderr",
     "output_type": "stream",
     "text": [
      "100%|██████████| 500/500 [00:28<00:00, 17.25it/s]\n"
     ]
    },
    {
     "name": "stdout",
     "output_type": "stream",
     "text": [
      "Adjusted rand index = 18.1030\n"
     ]
    },
    {
     "name": "stderr",
     "output_type": "stream",
     "text": [
      "/mnt/5280e/twang/.conda/envs/tf-STA/lib/python3.7/site-packages/anndata/_core/anndata.py:1830: UserWarning: Variable names are not unique. To make them unique, call `.var_names_make_unique`.\n",
      "  utils.warn_names_duplicates(\"var\")\n"
     ]
    },
    {
     "name": "stdout",
     "output_type": "stream",
     "text": [
      ">>> dataset name: dlpfc, slice id: 151671, size: (4110, 33538), cluster: 5.\n",
      "------Calculating spatial graph...\n",
      "The graph contains 24052 edges, 4110 cells.\n",
      "5.8521 neighbors per cell on average.\n",
      "Size of Input:  (4110, 3000)\n"
     ]
    },
    {
     "name": "stderr",
     "output_type": "stream",
     "text": [
      "100%|██████████| 500/500 [00:20<00:00, 24.37it/s]\n"
     ]
    },
    {
     "name": "stdout",
     "output_type": "stream",
     "text": [
      "Adjusted rand index = 33.2436\n"
     ]
    },
    {
     "name": "stderr",
     "output_type": "stream",
     "text": [
      "/mnt/5280e/twang/.conda/envs/tf-STA/lib/python3.7/site-packages/anndata/_core/anndata.py:1830: UserWarning: Variable names are not unique. To make them unique, call `.var_names_make_unique`.\n",
      "  utils.warn_names_duplicates(\"var\")\n"
     ]
    },
    {
     "name": "stdout",
     "output_type": "stream",
     "text": [
      ">>> dataset name: dlpfc, slice id: 151672, size: (4015, 33538), cluster: 5.\n",
      "------Calculating spatial graph...\n",
      "The graph contains 23382 edges, 4015 cells.\n",
      "5.8237 neighbors per cell on average.\n",
      "Size of Input:  (4015, 3000)\n"
     ]
    },
    {
     "name": "stderr",
     "output_type": "stream",
     "text": [
      "100%|██████████| 500/500 [00:46<00:00, 10.82it/s]\n"
     ]
    },
    {
     "name": "stdout",
     "output_type": "stream",
     "text": [
      "Adjusted rand index = 38.6436\n"
     ]
    },
    {
     "name": "stderr",
     "output_type": "stream",
     "text": [
      "/mnt/5280e/twang/.conda/envs/tf-STA/lib/python3.7/site-packages/anndata/_core/anndata.py:1830: UserWarning: Variable names are not unique. To make them unique, call `.var_names_make_unique`.\n",
      "  utils.warn_names_duplicates(\"var\")\n"
     ]
    },
    {
     "name": "stdout",
     "output_type": "stream",
     "text": [
      ">>> dataset name: dlpfc, slice id: 151673, size: (3639, 33538), cluster: 7.\n",
      "------Calculating spatial graph...\n",
      "The graph contains 21124 edges, 3639 cells.\n",
      "5.8049 neighbors per cell on average.\n",
      "Size of Input:  (3639, 3000)\n"
     ]
    },
    {
     "name": "stderr",
     "output_type": "stream",
     "text": [
      "100%|██████████| 500/500 [00:58<00:00,  8.49it/s]\n"
     ]
    },
    {
     "name": "stdout",
     "output_type": "stream",
     "text": [
      "Adjusted rand index = 29.1277\n"
     ]
    },
    {
     "name": "stderr",
     "output_type": "stream",
     "text": [
      "/mnt/5280e/twang/.conda/envs/tf-STA/lib/python3.7/site-packages/anndata/_core/anndata.py:1830: UserWarning: Variable names are not unique. To make them unique, call `.var_names_make_unique`.\n",
      "  utils.warn_names_duplicates(\"var\")\n"
     ]
    },
    {
     "name": "stdout",
     "output_type": "stream",
     "text": [
      ">>> dataset name: dlpfc, slice id: 151674, size: (3673, 33538), cluster: 7.\n",
      "------Calculating spatial graph...\n",
      "The graph contains 21258 edges, 3673 cells.\n",
      "5.7876 neighbors per cell on average.\n",
      "Size of Input:  (3673, 3000)\n"
     ]
    },
    {
     "name": "stderr",
     "output_type": "stream",
     "text": [
      "100%|██████████| 500/500 [01:08<00:00,  7.29it/s]\n"
     ]
    },
    {
     "name": "stdout",
     "output_type": "stream",
     "text": [
      "Adjusted rand index = 31.5386\n"
     ]
    },
    {
     "name": "stderr",
     "output_type": "stream",
     "text": [
      "/mnt/5280e/twang/.conda/envs/tf-STA/lib/python3.7/site-packages/anndata/_core/anndata.py:1830: UserWarning: Variable names are not unique. To make them unique, call `.var_names_make_unique`.\n",
      "  utils.warn_names_duplicates(\"var\")\n"
     ]
    },
    {
     "name": "stdout",
     "output_type": "stream",
     "text": [
      ">>> dataset name: dlpfc, slice id: 151675, size: (3592, 33538), cluster: 7.\n",
      "------Calculating spatial graph...\n",
      "The graph contains 20762 edges, 3592 cells.\n",
      "5.7801 neighbors per cell on average.\n",
      "Size of Input:  (3592, 3000)\n"
     ]
    },
    {
     "name": "stderr",
     "output_type": "stream",
     "text": [
      "100%|██████████| 500/500 [00:32<00:00, 15.55it/s]\n"
     ]
    },
    {
     "name": "stdout",
     "output_type": "stream",
     "text": [
      "Adjusted rand index = 32.8953\n"
     ]
    },
    {
     "name": "stderr",
     "output_type": "stream",
     "text": [
      "/mnt/5280e/twang/.conda/envs/tf-STA/lib/python3.7/site-packages/anndata/_core/anndata.py:1830: UserWarning: Variable names are not unique. To make them unique, call `.var_names_make_unique`.\n",
      "  utils.warn_names_duplicates(\"var\")\n"
     ]
    },
    {
     "name": "stdout",
     "output_type": "stream",
     "text": [
      ">>> dataset name: dlpfc, slice id: 151676, size: (3460, 33538), cluster: 7.\n",
      "------Calculating spatial graph...\n",
      "The graph contains 20052 edges, 3460 cells.\n",
      "5.7954 neighbors per cell on average.\n",
      "Size of Input:  (3460, 3000)\n"
     ]
    },
    {
     "name": "stderr",
     "output_type": "stream",
     "text": [
      "100%|██████████| 500/500 [00:34<00:00, 14.68it/s]\n"
     ]
    },
    {
     "name": "stdout",
     "output_type": "stream",
     "text": [
      "Adjusted rand index = 27.0989\n"
     ]
    }
   ],
   "source": [
    "for i in range(12):\n",
    "    adata, n_cluster = get_dlpfc_data(i)\n",
    "    STAGATE.Cal_Spatial_Net(adata, rad_cutoff=150)\n",
    "    adata = STAGATE.train_STAGATE(adata)\n",
    "    # adata = STAGATE.mclust_R(adata, used_obsm='STAGATE', num_cluster=n_cluster)\n",
    "    adata.obs['mclust'] = KMeans(n_clusters=n_cluster, random_state=2022).fit_predict(adata.obsm['STAGATE'])\n",
    "    obs_df = adata.obs.dropna()\n",
    "    ARI = adjusted_rand_score(obs_df['mclust'], obs_df['cluster'])*100\n",
    "    print('Adjusted rand index = %.4f' %ARI)\n",
    "    result.append(ARI)"
   ]
  },
  {
   "cell_type": "markdown",
   "metadata": {},
   "source": [
    "# 10x Visium H&E"
   ]
  },
  {
   "cell_type": "code",
   "execution_count": 4,
   "metadata": {},
   "outputs": [
    {
     "name": "stderr",
     "output_type": "stream",
     "text": [
      "/mnt/5280e/twang/.conda/envs/tf-STA/lib/python3.7/site-packages/scanpy/preprocessing/_highly_variable_genes.py:64: UserWarning: `flavor='seurat_v3'` expects raw count data, but non-integers were found.\n",
      "  UserWarning,\n"
     ]
    },
    {
     "name": "stdout",
     "output_type": "stream",
     "text": [
      ">>> dataset name: visium_hne, size: (2688, 18078), cluster: 15.\n",
      "------Calculating spatial graph...\n",
      "The graph contains 15580 edges, 2688 cells.\n",
      "5.7961 neighbors per cell on average.\n",
      "Size of Input:  (2688, 3000)\n"
     ]
    },
    {
     "name": "stderr",
     "output_type": "stream",
     "text": [
      "100%|██████████| 500/500 [00:29<00:00, 17.14it/s]\n"
     ]
    },
    {
     "name": "stdout",
     "output_type": "stream",
     "text": [
      "Adjusted rand index = 60.3227\n"
     ]
    }
   ],
   "source": [
    "adata, n_cluster = get_visium_hne_data()\n",
    "STAGATE.Cal_Spatial_Net(adata, rad_cutoff=150)\n",
    "adata = STAGATE.train_STAGATE(adata)\n",
    "# adata = STAGATE.mclust_R(adata, used_obsm='STAGATE', num_cluster=n_cluster)\n",
    "adata.obs['mclust'] = KMeans(n_clusters=n_cluster, random_state=2022).fit_predict(adata.obsm['STAGATE'])\n",
    "obs_df = adata.obs.dropna()\n",
    "ARI = adjusted_rand_score(obs_df['mclust'], obs_df['cluster'])*100\n",
    "print('Adjusted rand index = %.4f' %ARI)\n",
    "result.append(ARI)"
   ]
  },
  {
   "cell_type": "markdown",
   "metadata": {},
   "source": [
    "# 10x Visium fluo"
   ]
  },
  {
   "cell_type": "code",
   "execution_count": 5,
   "metadata": {},
   "outputs": [
    {
     "name": "stderr",
     "output_type": "stream",
     "text": [
      "/mnt/5280e/twang/.conda/envs/tf-STA/lib/python3.7/site-packages/scanpy/preprocessing/_highly_variable_genes.py:64: UserWarning: `flavor='seurat_v3'` expects raw count data, but non-integers were found.\n",
      "  UserWarning,\n"
     ]
    },
    {
     "name": "stdout",
     "output_type": "stream",
     "text": [
      ">>> dataset name: visium_fluo, size: (2800, 16562), cluster: 15.\n",
      "------Calculating spatial graph...\n",
      "The graph contains 16328 edges, 2800 cells.\n",
      "5.8314 neighbors per cell on average.\n",
      "Size of Input:  (2800, 3000)\n"
     ]
    },
    {
     "name": "stderr",
     "output_type": "stream",
     "text": [
      "100%|██████████| 500/500 [00:27<00:00, 18.46it/s]\n"
     ]
    },
    {
     "name": "stdout",
     "output_type": "stream",
     "text": [
      "Adjusted rand index = 56.0097\n"
     ]
    }
   ],
   "source": [
    "adata, n_cluster = get_visium_fluo_data()\n",
    "STAGATE.Cal_Spatial_Net(adata, rad_cutoff=300)\n",
    "adata = STAGATE.train_STAGATE(adata)\n",
    "# adata = STAGATE.mclust_R(adata, used_obsm='STAGATE', num_cluster=n_cluster)\n",
    "adata.obs['mclust'] = KMeans(n_clusters=n_cluster, random_state=2022).fit_predict(adata.obsm['STAGATE'])\n",
    "obs_df = adata.obs.dropna()\n",
    "ARI = adjusted_rand_score(obs_df['mclust'], obs_df['cluster'])*100\n",
    "print('Adjusted rand index = %.4f' %ARI)\n",
    "result.append(ARI)"
   ]
  },
  {
   "cell_type": "code",
   "execution_count": 6,
   "metadata": {},
   "outputs": [
    {
     "name": "stdout",
     "output_type": "stream",
     "text": [
      "[54.14668879 29.89155526 35.80386802 42.57484611 38.27139177 25.45832316\n",
      " 18.10295224 33.24360354 38.64356011 29.12767813 31.53855032 32.89529243\n",
      " 27.09892906 60.32272951 56.00972179]\n"
     ]
    }
   ],
   "source": [
    "import numpy as np\n",
    "\n",
    "print(np.array(result))"
   ]
  }
 ],
 "metadata": {
  "kernelspec": {
   "display_name": "Python 3.7.9 ('tf-STA')",
   "language": "python",
   "name": "python3"
  },
  "language_info": {
   "codemirror_mode": {
    "name": "ipython",
    "version": 3
   },
   "file_extension": ".py",
   "mimetype": "text/x-python",
   "name": "python",
   "nbconvert_exporter": "python",
   "pygments_lexer": "ipython3",
   "version": "3.7.9"
  },
  "orig_nbformat": 4,
  "vscode": {
   "interpreter": {
    "hash": "b794e2623a946bc43c0aab928dd2674afa7b2468f79a08ee63698ba6581678f3"
   }
  }
 },
 "nbformat": 4,
 "nbformat_minor": 2
}
