{
 "cells": [
  {
   "cell_type": "code",
   "execution_count": 1,
   "metadata": {},
   "outputs": [
    {
     "name": "stderr",
     "output_type": "stream",
     "text": [
      "2022-10-20 15:24:47.398193: I tensorflow/core/platform/cpu_feature_guard.cc:193] This TensorFlow binary is optimized with oneAPI Deep Neural Network Library (oneDNN) to use the following CPU instructions in performance-critical operations:  AVX2 AVX512F AVX512_VNNI FMA\n",
      "To enable them in other operations, rebuild TensorFlow with the appropriate compiler flags.\n",
      "2022-10-20 15:24:47.547162: I tensorflow/core/util/util.cc:169] oneDNN custom operations are on. You may see slightly different numerical results due to floating-point round-off errors from different computation orders. To turn them off, set the environment variable `TF_ENABLE_ONEDNN_OPTS=0`.\n"
     ]
    }
   ],
   "source": [
    "from model.test import train\n",
    "from dataset import *\n",
    "from tools import evaluate\n",
    "\n",
    "from sklearn import metrics\n",
    "from sklearn.preprocessing import LabelEncoder \n",
    "from sklearn.cluster import KMeans, BisectingKMeans, Birch, SpectralClustering, AgglomerativeClustering, FeatureAgglomeration\n",
    "\n",
    "import STAGATE\n",
    "\n",
    "result = [[[], [], []], [[], [], []], [[], [], []]]\n",
    "sectionid = '151676'"
   ]
  },
  {
   "cell_type": "code",
   "execution_count": 2,
   "metadata": {},
   "outputs": [
    {
     "name": "stderr",
     "output_type": "stream",
     "text": [
      "/mnt/5280e/twang/.conda/envs/torch+pyg/lib/python3.8/site-packages/anndata/_core/anndata.py:1830: UserWarning: Variable names are not unique. To make them unique, call `.var_names_make_unique`.\n",
      "  utils.warn_names_duplicates(\"var\")\n"
     ]
    },
    {
     "name": "stdout",
     "output_type": "stream",
     "text": [
      ">>> dataset name: dlpfc, slice id: 151676, size: (3460, 33538), cluster: 7.\n",
      ">>> The graph contains 23512 edges, average 6.795375722543352 edges per node.\n",
      ">>> Building spatial graph success!\n",
      ">>> use louvain to modify spatial graph\n",
      "WARNING: You’re trying to run this on 3000 dimensions of `.X`, if you really want this, set `use_rep='X'`.\n",
      "         Falling back to preprocessing with `sc.pp.pca` and default params.\n",
      ">>> finish louvain, begin to prune graph\n",
      ">>> pruned graph contains 18936 edges, average 5.472832369942196 edges per node.\n"
     ]
    },
    {
     "name": "stderr",
     "output_type": "stream",
     "text": [
      ">>> node2vec: 100%|██████████| 200/200 [02:11<00:00,  1.52it/s]\n"
     ]
    },
    {
     "name": "stdout",
     "output_type": "stream",
     "text": [
      ">>> spatial model data(features) size: (3460, 3000)\n"
     ]
    },
    {
     "name": "stderr",
     "output_type": "stream",
     "text": [
      ">>> training spatial model: 100%|██████████| 500/500 [00:06<00:00, 72.54it/s]\n"
     ]
    },
    {
     "name": "stdout",
     "output_type": "stream",
     "text": [
      ">>> Birch: 34.9440\n"
     ]
    }
   ],
   "source": [
    "adata, n_cluster = get_dlpfc_data(sectionid)\n",
    "train(adata, lr=1e-3, radius=150, node2vec_p=4, node2vec_q=.25, louvain_resolution=.4, components_features=30, walk_length=25)\n",
    "\n",
    "label = LabelEncoder().fit_transform(adata.obs['cluster'])\n",
    "pred = LabelEncoder().fit_transform([str(x) for x in Birch(n_clusters=n_cluster).fit(adata.obsm['embedding']).predict(adata.obsm['embedding'])])\n",
    "ari_score = metrics.adjusted_rand_score(label, pred) * 100\n",
    "print('>>> %s: %.4f' % ('Birch', ari_score))\n",
    "result[0][0].append(ari_score)"
   ]
  },
  {
   "cell_type": "code",
   "execution_count": 3,
   "metadata": {},
   "outputs": [
    {
     "name": "stderr",
     "output_type": "stream",
     "text": [
      "/mnt/5280e/twang/.conda/envs/torch+pyg/lib/python3.8/site-packages/anndata/_core/anndata.py:1830: UserWarning: Variable names are not unique. To make them unique, call `.var_names_make_unique`.\n",
      "  utils.warn_names_duplicates(\"var\")\n"
     ]
    },
    {
     "name": "stdout",
     "output_type": "stream",
     "text": [
      ">>> dataset name: dlpfc, slice id: 151676, size: (3460, 33538), cluster: 7.\n",
      ">>> The graph contains 23512 edges, average 6.795375722543352 edges per node.\n",
      ">>> Building spatial graph success!\n",
      ">>> use louvain to modify spatial graph\n",
      "WARNING: You’re trying to run this on 3000 dimensions of `.X`, if you really want this, set `use_rep='X'`.\n",
      "         Falling back to preprocessing with `sc.pp.pca` and default params.\n",
      ">>> finish louvain, begin to prune graph\n",
      ">>> pruned graph contains 17438 edges, average 5.039884393063584 edges per node.\n"
     ]
    },
    {
     "name": "stderr",
     "output_type": "stream",
     "text": [
      ">>> node2vec: 100%|██████████| 200/200 [02:17<00:00,  1.46it/s]\n"
     ]
    },
    {
     "name": "stdout",
     "output_type": "stream",
     "text": [
      ">>> spatial model data(features) size: (3460, 3000)\n"
     ]
    },
    {
     "name": "stderr",
     "output_type": "stream",
     "text": [
      ">>> training spatial model: 100%|██████████| 500/500 [00:05<00:00, 86.86it/s]\n"
     ]
    },
    {
     "name": "stdout",
     "output_type": "stream",
     "text": [
      ">>> Birch: 28.8016\n"
     ]
    }
   ],
   "source": [
    "adata, n_cluster = get_dlpfc_data(sectionid)\n",
    "train(adata, lr=1e-3, radius=150, node2vec_p=4, node2vec_q=.25, louvain_resolution=.6, components_features=30, walk_length=25)\n",
    "\n",
    "label = LabelEncoder().fit_transform(adata.obs['cluster'])\n",
    "pred = LabelEncoder().fit_transform([str(x) for x in Birch(n_clusters=n_cluster).fit(adata.obsm['embedding']).predict(adata.obsm['embedding'])])\n",
    "ari_score = metrics.adjusted_rand_score(label, pred) * 100\n",
    "print('>>> %s: %.4f' % ('Birch', ari_score))\n",
    "result[1][0].append(ari_score)"
   ]
  },
  {
   "cell_type": "code",
   "execution_count": 4,
   "metadata": {},
   "outputs": [
    {
     "name": "stderr",
     "output_type": "stream",
     "text": [
      "/mnt/5280e/twang/.conda/envs/torch+pyg/lib/python3.8/site-packages/anndata/_core/anndata.py:1830: UserWarning: Variable names are not unique. To make them unique, call `.var_names_make_unique`.\n",
      "  utils.warn_names_duplicates(\"var\")\n"
     ]
    },
    {
     "name": "stdout",
     "output_type": "stream",
     "text": [
      ">>> dataset name: dlpfc, slice id: 151676, size: (3460, 33538), cluster: 7.\n",
      ">>> The graph contains 23512 edges, average 6.795375722543352 edges per node.\n",
      ">>> Building spatial graph success!\n",
      ">>> use louvain to modify spatial graph\n",
      "WARNING: You’re trying to run this on 3000 dimensions of `.X`, if you really want this, set `use_rep='X'`.\n",
      "         Falling back to preprocessing with `sc.pp.pca` and default params.\n",
      ">>> finish louvain, begin to prune graph\n",
      ">>> pruned graph contains 16420 edges, average 4.745664739884393 edges per node.\n"
     ]
    },
    {
     "name": "stderr",
     "output_type": "stream",
     "text": [
      ">>> node2vec: 100%|██████████| 200/200 [02:19<00:00,  1.44it/s]\n"
     ]
    },
    {
     "name": "stdout",
     "output_type": "stream",
     "text": [
      ">>> spatial model data(features) size: (3460, 3000)\n"
     ]
    },
    {
     "name": "stderr",
     "output_type": "stream",
     "text": [
      ">>> training spatial model: 100%|██████████| 500/500 [00:05<00:00, 86.85it/s]\n"
     ]
    },
    {
     "name": "stdout",
     "output_type": "stream",
     "text": [
      ">>> Birch: 27.2493\n"
     ]
    }
   ],
   "source": [
    "adata, n_cluster = get_dlpfc_data(sectionid)\n",
    "train(adata, lr=1e-3, radius=150, node2vec_p=4, node2vec_q=.25, louvain_resolution=.8, components_features=30, walk_length=25)\n",
    "\n",
    "label = LabelEncoder().fit_transform(adata.obs['cluster'])\n",
    "pred = LabelEncoder().fit_transform([str(x) for x in Birch(n_clusters=n_cluster).fit(adata.obsm['embedding']).predict(adata.obsm['embedding'])])\n",
    "ari_score = metrics.adjusted_rand_score(label, pred) * 100\n",
    "print('>>> %s: %.4f' % ('Birch', ari_score))\n",
    "result[2][0].append(ari_score)"
   ]
  },
  {
   "cell_type": "code",
   "execution_count": 5,
   "metadata": {},
   "outputs": [
    {
     "name": "stderr",
     "output_type": "stream",
     "text": [
      "/mnt/5280e/twang/.conda/envs/torch+pyg/lib/python3.8/site-packages/anndata/_core/anndata.py:1830: UserWarning: Variable names are not unique. To make them unique, call `.var_names_make_unique`.\n",
      "  utils.warn_names_duplicates(\"var\")\n"
     ]
    },
    {
     "name": "stdout",
     "output_type": "stream",
     "text": [
      ">>> dataset name: dlpfc, slice id: 151676, size: (3460, 33538), cluster: 7.\n",
      ">>> The graph contains 23512 edges, average 6.795375722543352 edges per node.\n",
      ">>> Building spatial graph success!\n",
      ">>> use louvain to modify spatial graph\n",
      "WARNING: You’re trying to run this on 3000 dimensions of `.X`, if you really want this, set `use_rep='X'`.\n",
      "         Falling back to preprocessing with `sc.pp.pca` and default params.\n",
      ">>> finish louvain, begin to prune graph\n",
      ">>> pruned graph contains 18936 edges, average 5.472832369942196 edges per node.\n"
     ]
    },
    {
     "name": "stderr",
     "output_type": "stream",
     "text": [
      ">>> node2vec: 100%|██████████| 200/200 [02:17<00:00,  1.45it/s]\n"
     ]
    },
    {
     "name": "stdout",
     "output_type": "stream",
     "text": [
      ">>> spatial model data(features) size: (3460, 3000)\n"
     ]
    },
    {
     "name": "stderr",
     "output_type": "stream",
     "text": [
      ">>> training spatial model: 100%|██████████| 500/500 [00:05<00:00, 86.86it/s]\n"
     ]
    },
    {
     "name": "stdout",
     "output_type": "stream",
     "text": [
      ">>> Birch: 27.1290\n"
     ]
    }
   ],
   "source": [
    "adata, n_cluster = get_dlpfc_data(sectionid)\n",
    "train(adata, lr=1e-3, radius=150, node2vec_p=1, node2vec_q=1, louvain_resolution=.4, components_features=30, walk_length=25)\n",
    "\n",
    "label = LabelEncoder().fit_transform(adata.obs['cluster'])\n",
    "pred = LabelEncoder().fit_transform([str(x) for x in Birch(n_clusters=n_cluster).fit(adata.obsm['embedding']).predict(adata.obsm['embedding'])])\n",
    "ari_score = metrics.adjusted_rand_score(label, pred) * 100\n",
    "print('>>> %s: %.4f' % ('Birch', ari_score))\n",
    "result[0][0].append(ari_score)"
   ]
  },
  {
   "cell_type": "code",
   "execution_count": 6,
   "metadata": {},
   "outputs": [
    {
     "name": "stderr",
     "output_type": "stream",
     "text": [
      "/mnt/5280e/twang/.conda/envs/torch+pyg/lib/python3.8/site-packages/anndata/_core/anndata.py:1830: UserWarning: Variable names are not unique. To make them unique, call `.var_names_make_unique`.\n",
      "  utils.warn_names_duplicates(\"var\")\n"
     ]
    },
    {
     "name": "stdout",
     "output_type": "stream",
     "text": [
      ">>> dataset name: dlpfc, slice id: 151676, size: (3460, 33538), cluster: 7.\n",
      ">>> The graph contains 23512 edges, average 6.795375722543352 edges per node.\n",
      ">>> Building spatial graph success!\n",
      ">>> use louvain to modify spatial graph\n",
      "WARNING: You’re trying to run this on 3000 dimensions of `.X`, if you really want this, set `use_rep='X'`.\n",
      "         Falling back to preprocessing with `sc.pp.pca` and default params.\n",
      ">>> finish louvain, begin to prune graph\n",
      ">>> pruned graph contains 17438 edges, average 5.039884393063584 edges per node.\n"
     ]
    },
    {
     "name": "stderr",
     "output_type": "stream",
     "text": [
      ">>> node2vec: 100%|██████████| 200/200 [02:19<00:00,  1.44it/s]\n"
     ]
    },
    {
     "name": "stdout",
     "output_type": "stream",
     "text": [
      ">>> spatial model data(features) size: (3460, 3000)\n"
     ]
    },
    {
     "name": "stderr",
     "output_type": "stream",
     "text": [
      ">>> training spatial model: 100%|██████████| 500/500 [00:05<00:00, 86.03it/s]\n"
     ]
    },
    {
     "name": "stdout",
     "output_type": "stream",
     "text": [
      ">>> Birch: 29.9821\n"
     ]
    }
   ],
   "source": [
    "adata, n_cluster = get_dlpfc_data(sectionid)\n",
    "train(adata, lr=1e-3, radius=150, node2vec_p=1, node2vec_q=1, louvain_resolution=.6, components_features=30, walk_length=25)\n",
    "\n",
    "label = LabelEncoder().fit_transform(adata.obs['cluster'])\n",
    "pred = LabelEncoder().fit_transform([str(x) for x in Birch(n_clusters=n_cluster).fit(adata.obsm['embedding']).predict(adata.obsm['embedding'])])\n",
    "ari_score = metrics.adjusted_rand_score(label, pred) * 100\n",
    "print('>>> %s: %.4f' % ('Birch', ari_score))\n",
    "result[1][0].append(ari_score)"
   ]
  },
  {
   "cell_type": "code",
   "execution_count": 7,
   "metadata": {},
   "outputs": [
    {
     "name": "stderr",
     "output_type": "stream",
     "text": [
      "/mnt/5280e/twang/.conda/envs/torch+pyg/lib/python3.8/site-packages/anndata/_core/anndata.py:1830: UserWarning: Variable names are not unique. To make them unique, call `.var_names_make_unique`.\n",
      "  utils.warn_names_duplicates(\"var\")\n"
     ]
    },
    {
     "name": "stdout",
     "output_type": "stream",
     "text": [
      ">>> dataset name: dlpfc, slice id: 151676, size: (3460, 33538), cluster: 7.\n",
      ">>> The graph contains 23512 edges, average 6.795375722543352 edges per node.\n",
      ">>> Building spatial graph success!\n",
      ">>> use louvain to modify spatial graph\n",
      "WARNING: You’re trying to run this on 3000 dimensions of `.X`, if you really want this, set `use_rep='X'`.\n",
      "         Falling back to preprocessing with `sc.pp.pca` and default params.\n",
      ">>> finish louvain, begin to prune graph\n",
      ">>> pruned graph contains 16420 edges, average 4.745664739884393 edges per node.\n"
     ]
    },
    {
     "name": "stderr",
     "output_type": "stream",
     "text": [
      ">>> node2vec: 100%|██████████| 200/200 [02:18<00:00,  1.45it/s]\n"
     ]
    },
    {
     "name": "stdout",
     "output_type": "stream",
     "text": [
      ">>> spatial model data(features) size: (3460, 3000)\n"
     ]
    },
    {
     "name": "stderr",
     "output_type": "stream",
     "text": [
      ">>> training spatial model: 100%|██████████| 500/500 [00:05<00:00, 86.36it/s]\n"
     ]
    },
    {
     "name": "stdout",
     "output_type": "stream",
     "text": [
      ">>> Birch: 29.0708\n"
     ]
    }
   ],
   "source": [
    "adata, n_cluster = get_dlpfc_data(sectionid)\n",
    "train(adata, lr=1e-3, radius=150, node2vec_p=1, node2vec_q=1, louvain_resolution=.8, components_features=30, walk_length=25)\n",
    "\n",
    "label = LabelEncoder().fit_transform(adata.obs['cluster'])\n",
    "pred = LabelEncoder().fit_transform([str(x) for x in Birch(n_clusters=n_cluster).fit(adata.obsm['embedding']).predict(adata.obsm['embedding'])])\n",
    "ari_score = metrics.adjusted_rand_score(label, pred) * 100\n",
    "print('>>> %s: %.4f' % ('Birch', ari_score))\n",
    "result[2][0].append(ari_score)"
   ]
  },
  {
   "cell_type": "code",
   "execution_count": 8,
   "metadata": {},
   "outputs": [
    {
     "name": "stderr",
     "output_type": "stream",
     "text": [
      "/mnt/5280e/twang/.conda/envs/torch+pyg/lib/python3.8/site-packages/anndata/_core/anndata.py:1830: UserWarning: Variable names are not unique. To make them unique, call `.var_names_make_unique`.\n",
      "  utils.warn_names_duplicates(\"var\")\n"
     ]
    },
    {
     "name": "stdout",
     "output_type": "stream",
     "text": [
      ">>> dataset name: dlpfc, slice id: 151676, size: (3460, 33538), cluster: 7.\n",
      ">>> The graph contains 23512 edges, average 6.795375722543352 edges per node.\n",
      ">>> Building spatial graph success!\n",
      ">>> use louvain to modify spatial graph\n",
      "WARNING: You’re trying to run this on 3000 dimensions of `.X`, if you really want this, set `use_rep='X'`.\n",
      "         Falling back to preprocessing with `sc.pp.pca` and default params.\n",
      ">>> finish louvain, begin to prune graph\n",
      ">>> pruned graph contains 18936 edges, average 5.472832369942196 edges per node.\n"
     ]
    },
    {
     "name": "stderr",
     "output_type": "stream",
     "text": [
      ">>> node2vec: 100%|██████████| 200/200 [02:06<00:00,  1.58it/s]\n"
     ]
    },
    {
     "name": "stdout",
     "output_type": "stream",
     "text": [
      ">>> spatial model data(features) size: (3460, 3000)\n"
     ]
    },
    {
     "name": "stderr",
     "output_type": "stream",
     "text": [
      ">>> training spatial model: 100%|██████████| 500/500 [00:05<00:00, 88.44it/s]\n"
     ]
    },
    {
     "name": "stdout",
     "output_type": "stream",
     "text": [
      ">>> Birch: 25.3462\n"
     ]
    }
   ],
   "source": [
    "adata, n_cluster = get_dlpfc_data(sectionid)\n",
    "train(adata, lr=1e-3, radius=150, node2vec_p=.25, node2vec_q=4, louvain_resolution=.4, components_features=30, walk_length=25)\n",
    "\n",
    "label = LabelEncoder().fit_transform(adata.obs['cluster'])\n",
    "pred = LabelEncoder().fit_transform([str(x) for x in Birch(n_clusters=n_cluster).fit(adata.obsm['embedding']).predict(adata.obsm['embedding'])])\n",
    "ari_score = metrics.adjusted_rand_score(label, pred) * 100\n",
    "print('>>> %s: %.4f' % ('Birch', ari_score))\n",
    "result[0][0].append(ari_score)"
   ]
  },
  {
   "cell_type": "code",
   "execution_count": 9,
   "metadata": {},
   "outputs": [
    {
     "name": "stderr",
     "output_type": "stream",
     "text": [
      "/mnt/5280e/twang/.conda/envs/torch+pyg/lib/python3.8/site-packages/anndata/_core/anndata.py:1830: UserWarning: Variable names are not unique. To make them unique, call `.var_names_make_unique`.\n",
      "  utils.warn_names_duplicates(\"var\")\n"
     ]
    },
    {
     "name": "stdout",
     "output_type": "stream",
     "text": [
      ">>> dataset name: dlpfc, slice id: 151676, size: (3460, 33538), cluster: 7.\n",
      ">>> The graph contains 23512 edges, average 6.795375722543352 edges per node.\n",
      ">>> Building spatial graph success!\n",
      ">>> use louvain to modify spatial graph\n",
      "WARNING: You’re trying to run this on 3000 dimensions of `.X`, if you really want this, set `use_rep='X'`.\n",
      "         Falling back to preprocessing with `sc.pp.pca` and default params.\n",
      ">>> finish louvain, begin to prune graph\n",
      ">>> pruned graph contains 17438 edges, average 5.039884393063584 edges per node.\n"
     ]
    },
    {
     "name": "stderr",
     "output_type": "stream",
     "text": [
      ">>> node2vec: 100%|██████████| 200/200 [02:28<00:00,  1.35it/s]\n"
     ]
    },
    {
     "name": "stdout",
     "output_type": "stream",
     "text": [
      ">>> spatial model data(features) size: (3460, 3000)\n"
     ]
    },
    {
     "name": "stderr",
     "output_type": "stream",
     "text": [
      ">>> training spatial model: 100%|██████████| 500/500 [00:05<00:00, 88.21it/s]\n"
     ]
    },
    {
     "name": "stdout",
     "output_type": "stream",
     "text": [
      ">>> Birch: 29.4249\n"
     ]
    }
   ],
   "source": [
    "adata, n_cluster = get_dlpfc_data(sectionid)\n",
    "train(adata, lr=1e-3, radius=150, node2vec_p=.25, node2vec_q=4, louvain_resolution=.6, components_features=30, walk_length=25)\n",
    "\n",
    "label = LabelEncoder().fit_transform(adata.obs['cluster'])\n",
    "pred = LabelEncoder().fit_transform([str(x) for x in Birch(n_clusters=n_cluster).fit(adata.obsm['embedding']).predict(adata.obsm['embedding'])])\n",
    "ari_score = metrics.adjusted_rand_score(label, pred) * 100\n",
    "print('>>> %s: %.4f' % ('Birch', ari_score))\n",
    "result[1][0].append(ari_score)"
   ]
  },
  {
   "cell_type": "code",
   "execution_count": 10,
   "metadata": {},
   "outputs": [
    {
     "name": "stderr",
     "output_type": "stream",
     "text": [
      "/mnt/5280e/twang/.conda/envs/torch+pyg/lib/python3.8/site-packages/anndata/_core/anndata.py:1830: UserWarning: Variable names are not unique. To make them unique, call `.var_names_make_unique`.\n",
      "  utils.warn_names_duplicates(\"var\")\n"
     ]
    },
    {
     "name": "stdout",
     "output_type": "stream",
     "text": [
      ">>> dataset name: dlpfc, slice id: 151676, size: (3460, 33538), cluster: 7.\n",
      ">>> The graph contains 23512 edges, average 6.795375722543352 edges per node.\n",
      ">>> Building spatial graph success!\n",
      ">>> use louvain to modify spatial graph\n",
      "WARNING: You’re trying to run this on 3000 dimensions of `.X`, if you really want this, set `use_rep='X'`.\n",
      "         Falling back to preprocessing with `sc.pp.pca` and default params.\n",
      ">>> finish louvain, begin to prune graph\n",
      ">>> pruned graph contains 16420 edges, average 4.745664739884393 edges per node.\n"
     ]
    },
    {
     "name": "stderr",
     "output_type": "stream",
     "text": [
      ">>> node2vec: 100%|██████████| 200/200 [02:27<00:00,  1.36it/s]\n"
     ]
    },
    {
     "name": "stdout",
     "output_type": "stream",
     "text": [
      ">>> spatial model data(features) size: (3460, 3000)\n"
     ]
    },
    {
     "name": "stderr",
     "output_type": "stream",
     "text": [
      ">>> training spatial model: 100%|██████████| 500/500 [00:05<00:00, 88.58it/s]\n"
     ]
    },
    {
     "name": "stdout",
     "output_type": "stream",
     "text": [
      ">>> Birch: 38.7073\n"
     ]
    }
   ],
   "source": [
    "adata, n_cluster = get_dlpfc_data(sectionid)\n",
    "train(adata, lr=1e-3, radius=150, node2vec_p=.25, node2vec_q=4, louvain_resolution=.8, components_features=30, walk_length=25)\n",
    "\n",
    "label = LabelEncoder().fit_transform(adata.obs['cluster'])\n",
    "pred = LabelEncoder().fit_transform([str(x) for x in Birch(n_clusters=n_cluster).fit(adata.obsm['embedding']).predict(adata.obsm['embedding'])])\n",
    "ari_score = metrics.adjusted_rand_score(label, pred) * 100\n",
    "print('>>> %s: %.4f' % ('Birch', ari_score))\n",
    "result[2][0].append(ari_score)"
   ]
  },
  {
   "cell_type": "code",
   "execution_count": 11,
   "metadata": {},
   "outputs": [
    {
     "name": "stderr",
     "output_type": "stream",
     "text": [
      "/mnt/5280e/twang/.conda/envs/torch+pyg/lib/python3.8/site-packages/anndata/_core/anndata.py:1830: UserWarning: Variable names are not unique. To make them unique, call `.var_names_make_unique`.\n",
      "  utils.warn_names_duplicates(\"var\")\n"
     ]
    },
    {
     "name": "stdout",
     "output_type": "stream",
     "text": [
      ">>> dataset name: dlpfc, slice id: 151676, size: (3460, 33538), cluster: 7.\n",
      ">>> The graph contains 23512 edges, average 6.795375722543352 edges per node.\n",
      ">>> Building spatial graph success!\n",
      ">>> use louvain to modify spatial graph\n",
      "WARNING: You’re trying to run this on 3000 dimensions of `.X`, if you really want this, set `use_rep='X'`.\n",
      "         Falling back to preprocessing with `sc.pp.pca` and default params.\n",
      ">>> finish louvain, begin to prune graph\n",
      ">>> pruned graph contains 18936 edges, average 5.472832369942196 edges per node.\n"
     ]
    },
    {
     "name": "stderr",
     "output_type": "stream",
     "text": [
      ">>> node2vec: 100%|██████████| 200/200 [04:18<00:00,  1.29s/it]\n"
     ]
    },
    {
     "name": "stdout",
     "output_type": "stream",
     "text": [
      ">>> spatial model data(features) size: (3460, 3000)\n"
     ]
    },
    {
     "name": "stderr",
     "output_type": "stream",
     "text": [
      ">>> training spatial model: 100%|██████████| 500/500 [00:05<00:00, 89.83it/s]\n"
     ]
    },
    {
     "name": "stdout",
     "output_type": "stream",
     "text": [
      ">>> Birch: 35.9401\n"
     ]
    }
   ],
   "source": [
    "adata, n_cluster = get_dlpfc_data(sectionid)\n",
    "train(adata, lr=1e-3, radius=150, node2vec_p=4, node2vec_q=.25, louvain_resolution=.4, components_features=30, walk_length=35)\n",
    "\n",
    "label = LabelEncoder().fit_transform(adata.obs['cluster'])\n",
    "pred = LabelEncoder().fit_transform([str(x) for x in Birch(n_clusters=n_cluster).fit(adata.obsm['embedding']).predict(adata.obsm['embedding'])])\n",
    "ari_score = metrics.adjusted_rand_score(label, pred) * 100\n",
    "print('>>> %s: %.4f' % ('Birch', ari_score))\n",
    "result[0][1].append(ari_score)"
   ]
  },
  {
   "cell_type": "code",
   "execution_count": 12,
   "metadata": {},
   "outputs": [
    {
     "name": "stderr",
     "output_type": "stream",
     "text": [
      "/mnt/5280e/twang/.conda/envs/torch+pyg/lib/python3.8/site-packages/anndata/_core/anndata.py:1830: UserWarning: Variable names are not unique. To make them unique, call `.var_names_make_unique`.\n",
      "  utils.warn_names_duplicates(\"var\")\n"
     ]
    },
    {
     "name": "stdout",
     "output_type": "stream",
     "text": [
      ">>> dataset name: dlpfc, slice id: 151676, size: (3460, 33538), cluster: 7.\n",
      ">>> The graph contains 23512 edges, average 6.795375722543352 edges per node.\n",
      ">>> Building spatial graph success!\n",
      ">>> use louvain to modify spatial graph\n",
      "WARNING: You’re trying to run this on 3000 dimensions of `.X`, if you really want this, set `use_rep='X'`.\n",
      "         Falling back to preprocessing with `sc.pp.pca` and default params.\n",
      ">>> finish louvain, begin to prune graph\n",
      ">>> pruned graph contains 17438 edges, average 5.039884393063584 edges per node.\n"
     ]
    },
    {
     "name": "stderr",
     "output_type": "stream",
     "text": [
      ">>> node2vec: 100%|██████████| 200/200 [04:23<00:00,  1.32s/it]\n"
     ]
    },
    {
     "name": "stdout",
     "output_type": "stream",
     "text": [
      ">>> spatial model data(features) size: (3460, 3000)\n"
     ]
    },
    {
     "name": "stderr",
     "output_type": "stream",
     "text": [
      ">>> training spatial model: 100%|██████████| 500/500 [00:05<00:00, 89.96it/s]\n"
     ]
    },
    {
     "name": "stdout",
     "output_type": "stream",
     "text": [
      ">>> Birch: 23.4315\n"
     ]
    }
   ],
   "source": [
    "adata, n_cluster = get_dlpfc_data(sectionid)\n",
    "train(adata, lr=1e-3, radius=150, node2vec_p=4, node2vec_q=.25, louvain_resolution=.6, components_features=30, walk_length=35)\n",
    "\n",
    "label = LabelEncoder().fit_transform(adata.obs['cluster'])\n",
    "pred = LabelEncoder().fit_transform([str(x) for x in Birch(n_clusters=n_cluster).fit(adata.obsm['embedding']).predict(adata.obsm['embedding'])])\n",
    "ari_score = metrics.adjusted_rand_score(label, pred) * 100\n",
    "print('>>> %s: %.4f' % ('Birch', ari_score))\n",
    "result[1][1].append(ari_score)"
   ]
  },
  {
   "cell_type": "code",
   "execution_count": 13,
   "metadata": {},
   "outputs": [
    {
     "name": "stderr",
     "output_type": "stream",
     "text": [
      "/mnt/5280e/twang/.conda/envs/torch+pyg/lib/python3.8/site-packages/anndata/_core/anndata.py:1830: UserWarning: Variable names are not unique. To make them unique, call `.var_names_make_unique`.\n",
      "  utils.warn_names_duplicates(\"var\")\n"
     ]
    },
    {
     "name": "stdout",
     "output_type": "stream",
     "text": [
      ">>> dataset name: dlpfc, slice id: 151676, size: (3460, 33538), cluster: 7.\n",
      ">>> The graph contains 23512 edges, average 6.795375722543352 edges per node.\n",
      ">>> Building spatial graph success!\n",
      ">>> use louvain to modify spatial graph\n",
      "WARNING: You’re trying to run this on 3000 dimensions of `.X`, if you really want this, set `use_rep='X'`.\n",
      "         Falling back to preprocessing with `sc.pp.pca` and default params.\n",
      ">>> finish louvain, begin to prune graph\n",
      ">>> pruned graph contains 16420 edges, average 4.745664739884393 edges per node.\n"
     ]
    },
    {
     "name": "stderr",
     "output_type": "stream",
     "text": [
      ">>> node2vec: 100%|██████████| 200/200 [02:21<00:00,  1.42it/s]\n"
     ]
    },
    {
     "name": "stdout",
     "output_type": "stream",
     "text": [
      ">>> spatial model data(features) size: (3460, 3000)\n"
     ]
    },
    {
     "name": "stderr",
     "output_type": "stream",
     "text": [
      ">>> training spatial model: 100%|██████████| 500/500 [00:04<00:00, 110.46it/s]\n"
     ]
    },
    {
     "name": "stdout",
     "output_type": "stream",
     "text": [
      ">>> Birch: 25.8756\n"
     ]
    }
   ],
   "source": [
    "adata, n_cluster = get_dlpfc_data(sectionid)\n",
    "train(adata, lr=1e-3, radius=150, node2vec_p=4, node2vec_q=.25, louvain_resolution=.8, components_features=30, walk_length=35)\n",
    "\n",
    "label = LabelEncoder().fit_transform(adata.obs['cluster'])\n",
    "pred = LabelEncoder().fit_transform([str(x) for x in Birch(n_clusters=n_cluster).fit(adata.obsm['embedding']).predict(adata.obsm['embedding'])])\n",
    "ari_score = metrics.adjusted_rand_score(label, pred) * 100\n",
    "print('>>> %s: %.4f' % ('Birch', ari_score))\n",
    "result[2][1].append(ari_score)"
   ]
  },
  {
   "cell_type": "code",
   "execution_count": 14,
   "metadata": {},
   "outputs": [
    {
     "name": "stderr",
     "output_type": "stream",
     "text": [
      "/mnt/5280e/twang/.conda/envs/torch+pyg/lib/python3.8/site-packages/anndata/_core/anndata.py:1830: UserWarning: Variable names are not unique. To make them unique, call `.var_names_make_unique`.\n",
      "  utils.warn_names_duplicates(\"var\")\n"
     ]
    },
    {
     "name": "stdout",
     "output_type": "stream",
     "text": [
      ">>> dataset name: dlpfc, slice id: 151676, size: (3460, 33538), cluster: 7.\n",
      ">>> The graph contains 23512 edges, average 6.795375722543352 edges per node.\n",
      ">>> Building spatial graph success!\n",
      ">>> use louvain to modify spatial graph\n",
      "WARNING: You’re trying to run this on 3000 dimensions of `.X`, if you really want this, set `use_rep='X'`.\n",
      "         Falling back to preprocessing with `sc.pp.pca` and default params.\n",
      ">>> finish louvain, begin to prune graph\n",
      ">>> pruned graph contains 18936 edges, average 5.472832369942196 edges per node.\n"
     ]
    },
    {
     "name": "stderr",
     "output_type": "stream",
     "text": [
      ">>> node2vec: 100%|██████████| 200/200 [03:57<00:00,  1.19s/it]\n"
     ]
    },
    {
     "name": "stdout",
     "output_type": "stream",
     "text": [
      ">>> spatial model data(features) size: (3460, 3000)\n"
     ]
    },
    {
     "name": "stderr",
     "output_type": "stream",
     "text": [
      ">>> training spatial model: 100%|██████████| 500/500 [00:05<00:00, 96.26it/s]\n"
     ]
    },
    {
     "name": "stdout",
     "output_type": "stream",
     "text": [
      ">>> Birch: 29.1422\n"
     ]
    }
   ],
   "source": [
    "adata, n_cluster = get_dlpfc_data(sectionid)\n",
    "train(adata, lr=1e-3, radius=150, node2vec_p=1, node2vec_q=1, louvain_resolution=.4, components_features=30, walk_length=35)\n",
    "\n",
    "label = LabelEncoder().fit_transform(adata.obs['cluster'])\n",
    "pred = LabelEncoder().fit_transform([str(x) for x in Birch(n_clusters=n_cluster).fit(adata.obsm['embedding']).predict(adata.obsm['embedding'])])\n",
    "ari_score = metrics.adjusted_rand_score(label, pred) * 100\n",
    "print('>>> %s: %.4f' % ('Birch', ari_score))\n",
    "result[0][1].append(ari_score)"
   ]
  },
  {
   "cell_type": "code",
   "execution_count": 15,
   "metadata": {},
   "outputs": [
    {
     "name": "stderr",
     "output_type": "stream",
     "text": [
      "/mnt/5280e/twang/.conda/envs/torch+pyg/lib/python3.8/site-packages/anndata/_core/anndata.py:1830: UserWarning: Variable names are not unique. To make them unique, call `.var_names_make_unique`.\n",
      "  utils.warn_names_duplicates(\"var\")\n"
     ]
    },
    {
     "name": "stdout",
     "output_type": "stream",
     "text": [
      ">>> dataset name: dlpfc, slice id: 151676, size: (3460, 33538), cluster: 7.\n",
      ">>> The graph contains 23512 edges, average 6.795375722543352 edges per node.\n",
      ">>> Building spatial graph success!\n",
      ">>> use louvain to modify spatial graph\n",
      "WARNING: You’re trying to run this on 3000 dimensions of `.X`, if you really want this, set `use_rep='X'`.\n",
      "         Falling back to preprocessing with `sc.pp.pca` and default params.\n",
      ">>> finish louvain, begin to prune graph\n",
      ">>> pruned graph contains 17438 edges, average 5.039884393063584 edges per node.\n"
     ]
    },
    {
     "name": "stderr",
     "output_type": "stream",
     "text": [
      ">>> node2vec: 100%|██████████| 200/200 [04:19<00:00,  1.30s/it]\n"
     ]
    },
    {
     "name": "stdout",
     "output_type": "stream",
     "text": [
      ">>> spatial model data(features) size: (3460, 3000)\n"
     ]
    },
    {
     "name": "stderr",
     "output_type": "stream",
     "text": [
      ">>> training spatial model: 100%|██████████| 500/500 [00:05<00:00, 90.00it/s]\n"
     ]
    },
    {
     "name": "stdout",
     "output_type": "stream",
     "text": [
      ">>> Birch: 18.2757\n"
     ]
    }
   ],
   "source": [
    "adata, n_cluster = get_dlpfc_data(sectionid)\n",
    "train(adata, lr=1e-3, radius=150, node2vec_p=1, node2vec_q=1, louvain_resolution=.6, components_features=30, walk_length=35)\n",
    "\n",
    "label = LabelEncoder().fit_transform(adata.obs['cluster'])\n",
    "pred = LabelEncoder().fit_transform([str(x) for x in Birch(n_clusters=n_cluster).fit(adata.obsm['embedding']).predict(adata.obsm['embedding'])])\n",
    "ari_score = metrics.adjusted_rand_score(label, pred) * 100\n",
    "print('>>> %s: %.4f' % ('Birch', ari_score))\n",
    "result[1][1].append(ari_score)"
   ]
  },
  {
   "cell_type": "code",
   "execution_count": 16,
   "metadata": {},
   "outputs": [
    {
     "name": "stderr",
     "output_type": "stream",
     "text": [
      "/mnt/5280e/twang/.conda/envs/torch+pyg/lib/python3.8/site-packages/anndata/_core/anndata.py:1830: UserWarning: Variable names are not unique. To make them unique, call `.var_names_make_unique`.\n",
      "  utils.warn_names_duplicates(\"var\")\n"
     ]
    },
    {
     "name": "stdout",
     "output_type": "stream",
     "text": [
      ">>> dataset name: dlpfc, slice id: 151676, size: (3460, 33538), cluster: 7.\n",
      ">>> The graph contains 23512 edges, average 6.795375722543352 edges per node.\n",
      ">>> Building spatial graph success!\n",
      ">>> use louvain to modify spatial graph\n",
      "WARNING: You’re trying to run this on 3000 dimensions of `.X`, if you really want this, set `use_rep='X'`.\n",
      "         Falling back to preprocessing with `sc.pp.pca` and default params.\n",
      ">>> finish louvain, begin to prune graph\n",
      ">>> pruned graph contains 16420 edges, average 4.745664739884393 edges per node.\n"
     ]
    },
    {
     "name": "stderr",
     "output_type": "stream",
     "text": [
      ">>> node2vec: 100%|██████████| 200/200 [03:49<00:00,  1.15s/it]\n"
     ]
    },
    {
     "name": "stdout",
     "output_type": "stream",
     "text": [
      ">>> spatial model data(features) size: (3460, 3000)\n"
     ]
    },
    {
     "name": "stderr",
     "output_type": "stream",
     "text": [
      ">>> training spatial model: 100%|██████████| 500/500 [00:05<00:00, 90.56it/s]\n"
     ]
    },
    {
     "name": "stdout",
     "output_type": "stream",
     "text": [
      ">>> Birch: 24.3090\n"
     ]
    }
   ],
   "source": [
    "adata, n_cluster = get_dlpfc_data(sectionid)\n",
    "train(adata, lr=1e-3, radius=150, node2vec_p=1, node2vec_q=1, louvain_resolution=.8, components_features=30, walk_length=35)\n",
    "\n",
    "label = LabelEncoder().fit_transform(adata.obs['cluster'])\n",
    "pred = LabelEncoder().fit_transform([str(x) for x in Birch(n_clusters=n_cluster).fit(adata.obsm['embedding']).predict(adata.obsm['embedding'])])\n",
    "ari_score = metrics.adjusted_rand_score(label, pred) * 100\n",
    "print('>>> %s: %.4f' % ('Birch', ari_score))\n",
    "result[2][1].append(ari_score)"
   ]
  },
  {
   "cell_type": "code",
   "execution_count": 17,
   "metadata": {},
   "outputs": [
    {
     "name": "stderr",
     "output_type": "stream",
     "text": [
      "/mnt/5280e/twang/.conda/envs/torch+pyg/lib/python3.8/site-packages/anndata/_core/anndata.py:1830: UserWarning: Variable names are not unique. To make them unique, call `.var_names_make_unique`.\n",
      "  utils.warn_names_duplicates(\"var\")\n"
     ]
    },
    {
     "name": "stdout",
     "output_type": "stream",
     "text": [
      ">>> dataset name: dlpfc, slice id: 151676, size: (3460, 33538), cluster: 7.\n",
      ">>> The graph contains 23512 edges, average 6.795375722543352 edges per node.\n",
      ">>> Building spatial graph success!\n",
      ">>> use louvain to modify spatial graph\n",
      "WARNING: You’re trying to run this on 3000 dimensions of `.X`, if you really want this, set `use_rep='X'`.\n",
      "         Falling back to preprocessing with `sc.pp.pca` and default params.\n",
      ">>> finish louvain, begin to prune graph\n",
      ">>> pruned graph contains 18936 edges, average 5.472832369942196 edges per node.\n"
     ]
    },
    {
     "name": "stderr",
     "output_type": "stream",
     "text": [
      ">>> node2vec: 100%|██████████| 200/200 [03:58<00:00,  1.19s/it]\n"
     ]
    },
    {
     "name": "stdout",
     "output_type": "stream",
     "text": [
      ">>> spatial model data(features) size: (3460, 3000)\n"
     ]
    },
    {
     "name": "stderr",
     "output_type": "stream",
     "text": [
      ">>> training spatial model: 100%|██████████| 500/500 [00:05<00:00, 91.25it/s]\n"
     ]
    },
    {
     "name": "stdout",
     "output_type": "stream",
     "text": [
      ">>> Birch: 17.8147\n"
     ]
    }
   ],
   "source": [
    "adata, n_cluster = get_dlpfc_data(sectionid)\n",
    "train(adata, lr=1e-3, radius=150, node2vec_p=.25, node2vec_q=4, louvain_resolution=.4, components_features=30, walk_length=35)\n",
    "\n",
    "label = LabelEncoder().fit_transform(adata.obs['cluster'])\n",
    "pred = LabelEncoder().fit_transform([str(x) for x in Birch(n_clusters=n_cluster).fit(adata.obsm['embedding']).predict(adata.obsm['embedding'])])\n",
    "ari_score = metrics.adjusted_rand_score(label, pred) * 100\n",
    "print('>>> %s: %.4f' % ('Birch', ari_score))\n",
    "result[0][1].append(ari_score)"
   ]
  },
  {
   "cell_type": "code",
   "execution_count": 18,
   "metadata": {},
   "outputs": [
    {
     "name": "stderr",
     "output_type": "stream",
     "text": [
      "/mnt/5280e/twang/.conda/envs/torch+pyg/lib/python3.8/site-packages/anndata/_core/anndata.py:1830: UserWarning: Variable names are not unique. To make them unique, call `.var_names_make_unique`.\n",
      "  utils.warn_names_duplicates(\"var\")\n"
     ]
    },
    {
     "name": "stdout",
     "output_type": "stream",
     "text": [
      ">>> dataset name: dlpfc, slice id: 151676, size: (3460, 33538), cluster: 7.\n",
      ">>> The graph contains 23512 edges, average 6.795375722543352 edges per node.\n",
      ">>> Building spatial graph success!\n",
      ">>> use louvain to modify spatial graph\n",
      "WARNING: You’re trying to run this on 3000 dimensions of `.X`, if you really want this, set `use_rep='X'`.\n",
      "         Falling back to preprocessing with `sc.pp.pca` and default params.\n",
      ">>> finish louvain, begin to prune graph\n",
      ">>> pruned graph contains 17438 edges, average 5.039884393063584 edges per node.\n"
     ]
    },
    {
     "name": "stderr",
     "output_type": "stream",
     "text": [
      ">>> node2vec: 100%|██████████| 200/200 [04:02<00:00,  1.21s/it]\n"
     ]
    },
    {
     "name": "stdout",
     "output_type": "stream",
     "text": [
      ">>> spatial model data(features) size: (3460, 3000)\n"
     ]
    },
    {
     "name": "stderr",
     "output_type": "stream",
     "text": [
      ">>> training spatial model: 100%|██████████| 500/500 [00:05<00:00, 91.68it/s]\n"
     ]
    },
    {
     "name": "stdout",
     "output_type": "stream",
     "text": [
      ">>> Birch: 21.7363\n"
     ]
    }
   ],
   "source": [
    "adata, n_cluster = get_dlpfc_data(sectionid)\n",
    "train(adata, lr=1e-3, radius=150, node2vec_p=.25, node2vec_q=4, louvain_resolution=.6, components_features=30, walk_length=35)\n",
    "\n",
    "label = LabelEncoder().fit_transform(adata.obs['cluster'])\n",
    "pred = LabelEncoder().fit_transform([str(x) for x in Birch(n_clusters=n_cluster).fit(adata.obsm['embedding']).predict(adata.obsm['embedding'])])\n",
    "ari_score = metrics.adjusted_rand_score(label, pred) * 100\n",
    "print('>>> %s: %.4f' % ('Birch', ari_score))\n",
    "result[1][1].append(ari_score)"
   ]
  },
  {
   "cell_type": "code",
   "execution_count": 19,
   "metadata": {},
   "outputs": [
    {
     "name": "stderr",
     "output_type": "stream",
     "text": [
      "/mnt/5280e/twang/.conda/envs/torch+pyg/lib/python3.8/site-packages/anndata/_core/anndata.py:1830: UserWarning: Variable names are not unique. To make them unique, call `.var_names_make_unique`.\n",
      "  utils.warn_names_duplicates(\"var\")\n"
     ]
    },
    {
     "name": "stdout",
     "output_type": "stream",
     "text": [
      ">>> dataset name: dlpfc, slice id: 151676, size: (3460, 33538), cluster: 7.\n",
      ">>> The graph contains 23512 edges, average 6.795375722543352 edges per node.\n",
      ">>> Building spatial graph success!\n",
      ">>> use louvain to modify spatial graph\n",
      "WARNING: You’re trying to run this on 3000 dimensions of `.X`, if you really want this, set `use_rep='X'`.\n",
      "         Falling back to preprocessing with `sc.pp.pca` and default params.\n",
      ">>> finish louvain, begin to prune graph\n",
      ">>> pruned graph contains 16420 edges, average 4.745664739884393 edges per node.\n"
     ]
    },
    {
     "name": "stderr",
     "output_type": "stream",
     "text": [
      ">>> node2vec: 100%|██████████| 200/200 [03:21<00:00,  1.01s/it]\n"
     ]
    },
    {
     "name": "stdout",
     "output_type": "stream",
     "text": [
      ">>> spatial model data(features) size: (3460, 3000)\n"
     ]
    },
    {
     "name": "stderr",
     "output_type": "stream",
     "text": [
      ">>> training spatial model: 100%|██████████| 500/500 [00:05<00:00, 91.69it/s]\n"
     ]
    },
    {
     "name": "stdout",
     "output_type": "stream",
     "text": [
      ">>> Birch: 19.2419\n"
     ]
    }
   ],
   "source": [
    "adata, n_cluster = get_dlpfc_data(sectionid)\n",
    "train(adata, lr=1e-3, radius=150, node2vec_p=.25, node2vec_q=4, louvain_resolution=.8, components_features=30, walk_length=35)\n",
    "\n",
    "label = LabelEncoder().fit_transform(adata.obs['cluster'])\n",
    "pred = LabelEncoder().fit_transform([str(x) for x in Birch(n_clusters=n_cluster).fit(adata.obsm['embedding']).predict(adata.obsm['embedding'])])\n",
    "ari_score = metrics.adjusted_rand_score(label, pred) * 100\n",
    "print('>>> %s: %.4f' % ('Birch', ari_score))\n",
    "result[2][1].append(ari_score)"
   ]
  },
  {
   "cell_type": "code",
   "execution_count": 20,
   "metadata": {},
   "outputs": [
    {
     "name": "stderr",
     "output_type": "stream",
     "text": [
      "/mnt/5280e/twang/.conda/envs/torch+pyg/lib/python3.8/site-packages/anndata/_core/anndata.py:1830: UserWarning: Variable names are not unique. To make them unique, call `.var_names_make_unique`.\n",
      "  utils.warn_names_duplicates(\"var\")\n"
     ]
    },
    {
     "name": "stdout",
     "output_type": "stream",
     "text": [
      ">>> dataset name: dlpfc, slice id: 151676, size: (3460, 33538), cluster: 7.\n",
      ">>> The graph contains 23512 edges, average 6.795375722543352 edges per node.\n",
      ">>> Building spatial graph success!\n",
      ">>> use louvain to modify spatial graph\n",
      "WARNING: You’re trying to run this on 3000 dimensions of `.X`, if you really want this, set `use_rep='X'`.\n",
      "         Falling back to preprocessing with `sc.pp.pca` and default params.\n",
      ">>> finish louvain, begin to prune graph\n",
      ">>> pruned graph contains 18936 edges, average 5.472832369942196 edges per node.\n"
     ]
    },
    {
     "name": "stderr",
     "output_type": "stream",
     "text": [
      ">>> node2vec: 100%|██████████| 200/200 [04:19<00:00,  1.30s/it]\n"
     ]
    },
    {
     "name": "stdout",
     "output_type": "stream",
     "text": [
      ">>> spatial model data(features) size: (3460, 3000)\n"
     ]
    },
    {
     "name": "stderr",
     "output_type": "stream",
     "text": [
      ">>> training spatial model: 100%|██████████| 500/500 [00:05<00:00, 90.44it/s]\n"
     ]
    },
    {
     "name": "stdout",
     "output_type": "stream",
     "text": [
      ">>> Birch: 27.0749\n"
     ]
    }
   ],
   "source": [
    "adata, n_cluster = get_dlpfc_data(sectionid)\n",
    "train(adata, lr=1e-3, radius=150, node2vec_p=4, node2vec_q=.25, louvain_resolution=.4, components_features=30, walk_length=45)\n",
    "\n",
    "label = LabelEncoder().fit_transform(adata.obs['cluster'])\n",
    "pred = LabelEncoder().fit_transform([str(x) for x in Birch(n_clusters=n_cluster).fit(adata.obsm['embedding']).predict(adata.obsm['embedding'])])\n",
    "ari_score = metrics.adjusted_rand_score(label, pred) * 100\n",
    "print('>>> %s: %.4f' % ('Birch', ari_score))\n",
    "result[0][2].append(ari_score)"
   ]
  },
  {
   "cell_type": "code",
   "execution_count": 21,
   "metadata": {},
   "outputs": [
    {
     "name": "stderr",
     "output_type": "stream",
     "text": [
      "/mnt/5280e/twang/.conda/envs/torch+pyg/lib/python3.8/site-packages/anndata/_core/anndata.py:1830: UserWarning: Variable names are not unique. To make them unique, call `.var_names_make_unique`.\n",
      "  utils.warn_names_duplicates(\"var\")\n"
     ]
    },
    {
     "name": "stdout",
     "output_type": "stream",
     "text": [
      ">>> dataset name: dlpfc, slice id: 151676, size: (3460, 33538), cluster: 7.\n",
      ">>> The graph contains 23512 edges, average 6.795375722543352 edges per node.\n",
      ">>> Building spatial graph success!\n",
      ">>> use louvain to modify spatial graph\n",
      "WARNING: You’re trying to run this on 3000 dimensions of `.X`, if you really want this, set `use_rep='X'`.\n",
      "         Falling back to preprocessing with `sc.pp.pca` and default params.\n",
      ">>> finish louvain, begin to prune graph\n",
      ">>> pruned graph contains 17438 edges, average 5.039884393063584 edges per node.\n"
     ]
    },
    {
     "name": "stderr",
     "output_type": "stream",
     "text": [
      ">>> node2vec: 100%|██████████| 200/200 [04:26<00:00,  1.33s/it]\n"
     ]
    },
    {
     "name": "stdout",
     "output_type": "stream",
     "text": [
      ">>> spatial model data(features) size: (3460, 3000)\n"
     ]
    },
    {
     "name": "stderr",
     "output_type": "stream",
     "text": [
      ">>> training spatial model: 100%|██████████| 500/500 [00:05<00:00, 88.77it/s]\n"
     ]
    },
    {
     "name": "stdout",
     "output_type": "stream",
     "text": [
      ">>> Birch: 29.8328\n"
     ]
    }
   ],
   "source": [
    "adata, n_cluster = get_dlpfc_data(sectionid)\n",
    "train(adata, lr=1e-3, radius=150, node2vec_p=4, node2vec_q=.25, louvain_resolution=.6, components_features=30, walk_length=45)\n",
    "\n",
    "label = LabelEncoder().fit_transform(adata.obs['cluster'])\n",
    "pred = LabelEncoder().fit_transform([str(x) for x in Birch(n_clusters=n_cluster).fit(adata.obsm['embedding']).predict(adata.obsm['embedding'])])\n",
    "ari_score = metrics.adjusted_rand_score(label, pred) * 100\n",
    "print('>>> %s: %.4f' % ('Birch', ari_score))\n",
    "result[1][2].append(ari_score)"
   ]
  },
  {
   "cell_type": "code",
   "execution_count": 22,
   "metadata": {},
   "outputs": [
    {
     "name": "stderr",
     "output_type": "stream",
     "text": [
      "/mnt/5280e/twang/.conda/envs/torch+pyg/lib/python3.8/site-packages/anndata/_core/anndata.py:1830: UserWarning: Variable names are not unique. To make them unique, call `.var_names_make_unique`.\n",
      "  utils.warn_names_duplicates(\"var\")\n"
     ]
    },
    {
     "name": "stdout",
     "output_type": "stream",
     "text": [
      ">>> dataset name: dlpfc, slice id: 151676, size: (3460, 33538), cluster: 7.\n",
      ">>> The graph contains 23512 edges, average 6.795375722543352 edges per node.\n",
      ">>> Building spatial graph success!\n",
      ">>> use louvain to modify spatial graph\n",
      "WARNING: You’re trying to run this on 3000 dimensions of `.X`, if you really want this, set `use_rep='X'`.\n",
      "         Falling back to preprocessing with `sc.pp.pca` and default params.\n",
      ">>> finish louvain, begin to prune graph\n",
      ">>> pruned graph contains 16420 edges, average 4.745664739884393 edges per node.\n"
     ]
    },
    {
     "name": "stderr",
     "output_type": "stream",
     "text": [
      ">>> node2vec: 100%|██████████| 200/200 [03:21<00:00,  1.01s/it]\n"
     ]
    },
    {
     "name": "stdout",
     "output_type": "stream",
     "text": [
      ">>> spatial model data(features) size: (3460, 3000)\n"
     ]
    },
    {
     "name": "stderr",
     "output_type": "stream",
     "text": [
      ">>> training spatial model: 100%|██████████| 500/500 [00:05<00:00, 89.19it/s]\n"
     ]
    },
    {
     "name": "stdout",
     "output_type": "stream",
     "text": [
      ">>> Birch: 21.1571\n"
     ]
    }
   ],
   "source": [
    "adata, n_cluster = get_dlpfc_data(sectionid)\n",
    "train(adata, lr=1e-3, radius=150, node2vec_p=4, node2vec_q=.25, louvain_resolution=.8, components_features=30, walk_length=45)\n",
    "\n",
    "label = LabelEncoder().fit_transform(adata.obs['cluster'])\n",
    "pred = LabelEncoder().fit_transform([str(x) for x in Birch(n_clusters=n_cluster).fit(adata.obsm['embedding']).predict(adata.obsm['embedding'])])\n",
    "ari_score = metrics.adjusted_rand_score(label, pred) * 100\n",
    "print('>>> %s: %.4f' % ('Birch', ari_score))\n",
    "result[2][2].append(ari_score)"
   ]
  },
  {
   "cell_type": "code",
   "execution_count": 23,
   "metadata": {},
   "outputs": [
    {
     "name": "stderr",
     "output_type": "stream",
     "text": [
      "/mnt/5280e/twang/.conda/envs/torch+pyg/lib/python3.8/site-packages/anndata/_core/anndata.py:1830: UserWarning: Variable names are not unique. To make them unique, call `.var_names_make_unique`.\n",
      "  utils.warn_names_duplicates(\"var\")\n"
     ]
    },
    {
     "name": "stdout",
     "output_type": "stream",
     "text": [
      ">>> dataset name: dlpfc, slice id: 151676, size: (3460, 33538), cluster: 7.\n",
      ">>> The graph contains 23512 edges, average 6.795375722543352 edges per node.\n",
      ">>> Building spatial graph success!\n",
      ">>> use louvain to modify spatial graph\n",
      "WARNING: You’re trying to run this on 3000 dimensions of `.X`, if you really want this, set `use_rep='X'`.\n",
      "         Falling back to preprocessing with `sc.pp.pca` and default params.\n",
      ">>> finish louvain, begin to prune graph\n",
      ">>> pruned graph contains 18936 edges, average 5.472832369942196 edges per node.\n"
     ]
    },
    {
     "name": "stderr",
     "output_type": "stream",
     "text": [
      ">>> node2vec: 100%|██████████| 200/200 [03:45<00:00,  1.13s/it]\n"
     ]
    },
    {
     "name": "stdout",
     "output_type": "stream",
     "text": [
      ">>> spatial model data(features) size: (3460, 3000)\n"
     ]
    },
    {
     "name": "stderr",
     "output_type": "stream",
     "text": [
      ">>> training spatial model: 100%|██████████| 500/500 [00:05<00:00, 89.80it/s]\n"
     ]
    },
    {
     "name": "stdout",
     "output_type": "stream",
     "text": [
      ">>> Birch: 28.3420\n"
     ]
    }
   ],
   "source": [
    "adata, n_cluster = get_dlpfc_data(sectionid)\n",
    "train(adata, lr=1e-3, radius=150, node2vec_p=1, node2vec_q=1, louvain_resolution=.4, components_features=30, walk_length=45)\n",
    "\n",
    "label = LabelEncoder().fit_transform(adata.obs['cluster'])\n",
    "pred = LabelEncoder().fit_transform([str(x) for x in Birch(n_clusters=n_cluster).fit(adata.obsm['embedding']).predict(adata.obsm['embedding'])])\n",
    "ari_score = metrics.adjusted_rand_score(label, pred) * 100\n",
    "print('>>> %s: %.4f' % ('Birch', ari_score))\n",
    "result[0][2].append(ari_score)"
   ]
  },
  {
   "cell_type": "code",
   "execution_count": 24,
   "metadata": {},
   "outputs": [
    {
     "name": "stderr",
     "output_type": "stream",
     "text": [
      "/mnt/5280e/twang/.conda/envs/torch+pyg/lib/python3.8/site-packages/anndata/_core/anndata.py:1830: UserWarning: Variable names are not unique. To make them unique, call `.var_names_make_unique`.\n",
      "  utils.warn_names_duplicates(\"var\")\n"
     ]
    },
    {
     "name": "stdout",
     "output_type": "stream",
     "text": [
      ">>> dataset name: dlpfc, slice id: 151676, size: (3460, 33538), cluster: 7.\n",
      ">>> The graph contains 23512 edges, average 6.795375722543352 edges per node.\n",
      ">>> Building spatial graph success!\n",
      ">>> use louvain to modify spatial graph\n",
      "WARNING: You’re trying to run this on 3000 dimensions of `.X`, if you really want this, set `use_rep='X'`.\n",
      "         Falling back to preprocessing with `sc.pp.pca` and default params.\n",
      ">>> finish louvain, begin to prune graph\n",
      ">>> pruned graph contains 17438 edges, average 5.039884393063584 edges per node.\n"
     ]
    },
    {
     "name": "stderr",
     "output_type": "stream",
     "text": [
      ">>> node2vec: 100%|██████████| 200/200 [03:34<00:00,  1.07s/it]\n"
     ]
    },
    {
     "name": "stdout",
     "output_type": "stream",
     "text": [
      ">>> spatial model data(features) size: (3460, 3000)\n"
     ]
    },
    {
     "name": "stderr",
     "output_type": "stream",
     "text": [
      ">>> training spatial model: 100%|██████████| 500/500 [00:05<00:00, 97.62it/s]\n"
     ]
    },
    {
     "name": "stdout",
     "output_type": "stream",
     "text": [
      ">>> Birch: 29.8435\n"
     ]
    }
   ],
   "source": [
    "adata, n_cluster = get_dlpfc_data(sectionid)\n",
    "train(adata, lr=1e-3, radius=150, node2vec_p=1, node2vec_q=1, louvain_resolution=.6, components_features=30, walk_length=45)\n",
    "\n",
    "label = LabelEncoder().fit_transform(adata.obs['cluster'])\n",
    "pred = LabelEncoder().fit_transform([str(x) for x in Birch(n_clusters=n_cluster).fit(adata.obsm['embedding']).predict(adata.obsm['embedding'])])\n",
    "ari_score = metrics.adjusted_rand_score(label, pred) * 100\n",
    "print('>>> %s: %.4f' % ('Birch', ari_score))\n",
    "result[1][2].append(ari_score)"
   ]
  },
  {
   "cell_type": "code",
   "execution_count": 25,
   "metadata": {},
   "outputs": [
    {
     "name": "stderr",
     "output_type": "stream",
     "text": [
      "/mnt/5280e/twang/.conda/envs/torch+pyg/lib/python3.8/site-packages/anndata/_core/anndata.py:1830: UserWarning: Variable names are not unique. To make them unique, call `.var_names_make_unique`.\n",
      "  utils.warn_names_duplicates(\"var\")\n"
     ]
    },
    {
     "name": "stdout",
     "output_type": "stream",
     "text": [
      ">>> dataset name: dlpfc, slice id: 151676, size: (3460, 33538), cluster: 7.\n",
      ">>> The graph contains 23512 edges, average 6.795375722543352 edges per node.\n",
      ">>> Building spatial graph success!\n",
      ">>> use louvain to modify spatial graph\n",
      "WARNING: You’re trying to run this on 3000 dimensions of `.X`, if you really want this, set `use_rep='X'`.\n",
      "         Falling back to preprocessing with `sc.pp.pca` and default params.\n",
      ">>> finish louvain, begin to prune graph\n",
      ">>> pruned graph contains 16420 edges, average 4.745664739884393 edges per node.\n"
     ]
    },
    {
     "name": "stderr",
     "output_type": "stream",
     "text": [
      ">>> node2vec: 100%|██████████| 200/200 [04:01<00:00,  1.21s/it]\n"
     ]
    },
    {
     "name": "stdout",
     "output_type": "stream",
     "text": [
      ">>> spatial model data(features) size: (3460, 3000)\n"
     ]
    },
    {
     "name": "stderr",
     "output_type": "stream",
     "text": [
      ">>> training spatial model: 100%|██████████| 500/500 [00:05<00:00, 90.97it/s]\n"
     ]
    },
    {
     "name": "stdout",
     "output_type": "stream",
     "text": [
      ">>> Birch: 24.2683\n"
     ]
    }
   ],
   "source": [
    "adata, n_cluster = get_dlpfc_data(sectionid)\n",
    "train(adata, lr=1e-3, radius=150, node2vec_p=1, node2vec_q=1, louvain_resolution=.8, components_features=30, walk_length=45)\n",
    "\n",
    "label = LabelEncoder().fit_transform(adata.obs['cluster'])\n",
    "pred = LabelEncoder().fit_transform([str(x) for x in Birch(n_clusters=n_cluster).fit(adata.obsm['embedding']).predict(adata.obsm['embedding'])])\n",
    "ari_score = metrics.adjusted_rand_score(label, pred) * 100\n",
    "print('>>> %s: %.4f' % ('Birch', ari_score))\n",
    "result[2][2].append(ari_score)"
   ]
  },
  {
   "cell_type": "code",
   "execution_count": 26,
   "metadata": {},
   "outputs": [
    {
     "name": "stderr",
     "output_type": "stream",
     "text": [
      "/mnt/5280e/twang/.conda/envs/torch+pyg/lib/python3.8/site-packages/anndata/_core/anndata.py:1830: UserWarning: Variable names are not unique. To make them unique, call `.var_names_make_unique`.\n",
      "  utils.warn_names_duplicates(\"var\")\n"
     ]
    },
    {
     "name": "stdout",
     "output_type": "stream",
     "text": [
      ">>> dataset name: dlpfc, slice id: 151676, size: (3460, 33538), cluster: 7.\n",
      ">>> The graph contains 23512 edges, average 6.795375722543352 edges per node.\n",
      ">>> Building spatial graph success!\n",
      ">>> use louvain to modify spatial graph\n",
      "WARNING: You’re trying to run this on 3000 dimensions of `.X`, if you really want this, set `use_rep='X'`.\n",
      "         Falling back to preprocessing with `sc.pp.pca` and default params.\n",
      ">>> finish louvain, begin to prune graph\n",
      ">>> pruned graph contains 18936 edges, average 5.472832369942196 edges per node.\n"
     ]
    },
    {
     "name": "stderr",
     "output_type": "stream",
     "text": [
      ">>> node2vec: 100%|██████████| 200/200 [03:59<00:00,  1.20s/it]\n"
     ]
    },
    {
     "name": "stdout",
     "output_type": "stream",
     "text": [
      ">>> spatial model data(features) size: (3460, 3000)\n"
     ]
    },
    {
     "name": "stderr",
     "output_type": "stream",
     "text": [
      ">>> training spatial model: 100%|██████████| 500/500 [00:05<00:00, 99.89it/s] \n"
     ]
    },
    {
     "name": "stdout",
     "output_type": "stream",
     "text": [
      ">>> Birch: 27.2340\n"
     ]
    }
   ],
   "source": [
    "adata, n_cluster = get_dlpfc_data(sectionid)\n",
    "train(adata, lr=1e-3, radius=150, node2vec_p=.25, node2vec_q=4, louvain_resolution=.4, components_features=30, walk_length=45)\n",
    "\n",
    "label = LabelEncoder().fit_transform(adata.obs['cluster'])\n",
    "pred = LabelEncoder().fit_transform([str(x) for x in Birch(n_clusters=n_cluster).fit(adata.obsm['embedding']).predict(adata.obsm['embedding'])])\n",
    "ari_score = metrics.adjusted_rand_score(label, pred) * 100\n",
    "print('>>> %s: %.4f' % ('Birch', ari_score))\n",
    "result[0][2].append(ari_score)"
   ]
  },
  {
   "cell_type": "code",
   "execution_count": 27,
   "metadata": {},
   "outputs": [
    {
     "name": "stderr",
     "output_type": "stream",
     "text": [
      "/mnt/5280e/twang/.conda/envs/torch+pyg/lib/python3.8/site-packages/anndata/_core/anndata.py:1830: UserWarning: Variable names are not unique. To make them unique, call `.var_names_make_unique`.\n",
      "  utils.warn_names_duplicates(\"var\")\n"
     ]
    },
    {
     "name": "stdout",
     "output_type": "stream",
     "text": [
      ">>> dataset name: dlpfc, slice id: 151676, size: (3460, 33538), cluster: 7.\n",
      ">>> The graph contains 23512 edges, average 6.795375722543352 edges per node.\n",
      ">>> Building spatial graph success!\n",
      ">>> use louvain to modify spatial graph\n",
      "WARNING: You’re trying to run this on 3000 dimensions of `.X`, if you really want this, set `use_rep='X'`.\n",
      "         Falling back to preprocessing with `sc.pp.pca` and default params.\n",
      ">>> finish louvain, begin to prune graph\n",
      ">>> pruned graph contains 17438 edges, average 5.039884393063584 edges per node.\n"
     ]
    },
    {
     "name": "stderr",
     "output_type": "stream",
     "text": [
      ">>> node2vec: 100%|██████████| 200/200 [04:59<00:00,  1.50s/it]\n"
     ]
    },
    {
     "name": "stdout",
     "output_type": "stream",
     "text": [
      ">>> spatial model data(features) size: (3460, 3000)\n"
     ]
    },
    {
     "name": "stderr",
     "output_type": "stream",
     "text": [
      ">>> training spatial model: 100%|██████████| 500/500 [00:05<00:00, 93.64it/s]\n"
     ]
    },
    {
     "name": "stdout",
     "output_type": "stream",
     "text": [
      ">>> Birch: 19.0088\n"
     ]
    }
   ],
   "source": [
    "adata, n_cluster = get_dlpfc_data(sectionid)\n",
    "train(adata, lr=1e-3, radius=150, node2vec_p=.25, node2vec_q=4, louvain_resolution=.6, components_features=30, walk_length=45)\n",
    "\n",
    "label = LabelEncoder().fit_transform(adata.obs['cluster'])\n",
    "pred = LabelEncoder().fit_transform([str(x) for x in Birch(n_clusters=n_cluster).fit(adata.obsm['embedding']).predict(adata.obsm['embedding'])])\n",
    "ari_score = metrics.adjusted_rand_score(label, pred) * 100\n",
    "print('>>> %s: %.4f' % ('Birch', ari_score))\n",
    "result[1][2].append(ari_score)"
   ]
  },
  {
   "cell_type": "code",
   "execution_count": 28,
   "metadata": {},
   "outputs": [
    {
     "name": "stderr",
     "output_type": "stream",
     "text": [
      "/mnt/5280e/twang/.conda/envs/torch+pyg/lib/python3.8/site-packages/anndata/_core/anndata.py:1830: UserWarning: Variable names are not unique. To make them unique, call `.var_names_make_unique`.\n",
      "  utils.warn_names_duplicates(\"var\")\n"
     ]
    },
    {
     "name": "stdout",
     "output_type": "stream",
     "text": [
      ">>> dataset name: dlpfc, slice id: 151676, size: (3460, 33538), cluster: 7.\n",
      ">>> The graph contains 23512 edges, average 6.795375722543352 edges per node.\n",
      ">>> Building spatial graph success!\n",
      ">>> use louvain to modify spatial graph\n",
      "WARNING: You’re trying to run this on 3000 dimensions of `.X`, if you really want this, set `use_rep='X'`.\n",
      "         Falling back to preprocessing with `sc.pp.pca` and default params.\n",
      ">>> finish louvain, begin to prune graph\n",
      ">>> pruned graph contains 16420 edges, average 4.745664739884393 edges per node.\n"
     ]
    },
    {
     "name": "stderr",
     "output_type": "stream",
     "text": [
      ">>> node2vec: 100%|██████████| 200/200 [04:32<00:00,  1.36s/it]\n"
     ]
    },
    {
     "name": "stdout",
     "output_type": "stream",
     "text": [
      ">>> spatial model data(features) size: (3460, 3000)\n"
     ]
    },
    {
     "name": "stderr",
     "output_type": "stream",
     "text": [
      ">>> training spatial model: 100%|██████████| 500/500 [00:05<00:00, 90.27it/s]\n"
     ]
    },
    {
     "name": "stdout",
     "output_type": "stream",
     "text": [
      ">>> Birch: 30.4965\n"
     ]
    }
   ],
   "source": [
    "adata, n_cluster = get_dlpfc_data(sectionid)\n",
    "train(adata, lr=1e-3, radius=150, node2vec_p=.25, node2vec_q=4, louvain_resolution=.8, components_features=30, walk_length=45)\n",
    "\n",
    "label = LabelEncoder().fit_transform(adata.obs['cluster'])\n",
    "pred = LabelEncoder().fit_transform([str(x) for x in Birch(n_clusters=n_cluster).fit(adata.obsm['embedding']).predict(adata.obsm['embedding'])])\n",
    "ari_score = metrics.adjusted_rand_score(label, pred) * 100\n",
    "print('>>> %s: %.4f' % ('Birch', ari_score))\n",
    "result[2][2].append(ari_score)"
   ]
  },
  {
   "cell_type": "code",
   "execution_count": 29,
   "metadata": {},
   "outputs": [
    {
     "name": "stdout",
     "output_type": "stream",
     "text": [
      "[[[34.943988609099854, 27.129020346268984, 25.346180039216836], [35.94006833134903, 29.142248203940646, 17.814656269610538], [27.07488976022212, 28.341987496469955, 27.23395603231052]], [[28.801561696984546, 29.98214597826466, 29.42492888074979], [23.431515023913164, 18.27571185085122, 21.736323479221763], [29.832818199571342, 29.843530149877147, 19.008793405183425]], [[27.24926949736274, 29.070806850148283, 38.70729167083659], [25.875555073578372, 24.30895411374007, 19.241864989187413], [21.15708950677876, 24.2682966755301, 30.496492335482284]]]\n"
     ]
    }
   ],
   "source": [
    "print(result)"
   ]
  }
 ],
 "metadata": {
  "kernelspec": {
   "display_name": "Python 3.8.13 ('torch+pyg')",
   "language": "python",
   "name": "python3"
  },
  "language_info": {
   "codemirror_mode": {
    "name": "ipython",
    "version": 3
   },
   "file_extension": ".py",
   "mimetype": "text/x-python",
   "name": "python",
   "nbconvert_exporter": "python",
   "pygments_lexer": "ipython3",
   "version": "3.8.13"
  },
  "orig_nbformat": 4,
  "vscode": {
   "interpreter": {
    "hash": "a0f855fec34ed1739858563e3b94d8ba36be9c5a95173b69288904bab1233695"
   }
  }
 },
 "nbformat": 4,
 "nbformat_minor": 2
}
